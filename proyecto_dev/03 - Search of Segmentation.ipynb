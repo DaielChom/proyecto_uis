{
 "cells": [
  {
   "cell_type": "markdown",
   "metadata": {},
   "source": [
    "# Segmentacion\n",
    "Hablando con raul, me aconsejo mejor irme por la rama de la segmentacion e lo que se trata de la parte de machine learning mas que en la clasfificacion o prediccion, y he aqui lo que es segmentacion. primero que todo la segmentacion es mas un campo de la vision por computador, mas que del machine learning, en el fondo usan machine learning pero a lo que voy es para facilitar la busqeuda de documentacion. primero busque en internet algo como `segmentation image` y ya sale buena documentacion, [wiki](https://en.wikipedia.org/wiki/Image_segmentation), ahi mas o menos hay informacion teorica, que creo que me servira a la hora de hacer el libro y eso, pues en la docuemtnacion hablaba de redes neuronales convolucionales pero no hablaba nada de segmentacion pero esto a qu tanto raul como yo veiamos el problema como algo de clasificacion y no como segmentacion, a lo que me lleva a recordar que debo arreglar el mapa. pero bueno eso sera algo que dejare para despues, en la noche sobre todo. bueno como sea tambien, hay un par de libros sobre teoria de segmentacion uno me lo paso el ceo y los otros al rato libardo quedo de pasarmelos, por ahora buscare como hacer lo de la segmentacion y luego le echo un ojo despues a la teoria. pero dejo pro escrito que un libro queda, mejor no lo subo pro cuestiones de copyrigth.\n",
    "\n",
    "## Tutos Segmetacion\n",
    "Como consejo del profe raul, me dijo que buscara algun tutorial o algo sobre segmentacion y que eso hciera a ver como me iba y pues eso hare, buscare alguna red de segmentacion o algo asi y una guia y la hare. hice una busqueda, asi como mis busquedas todas raras y largaaaas y lo que me salen, cosas que creo me podrian servir es o son."
   ]
  },
  {
   "cell_type": "markdown",
   "metadata": {
    "collapsed": true
   },
   "source": [
    "Antes de continuar con la clasificacion de todos estos enlaces para buscar el tuto idela leere un poco del libro que me paso el CEO y me paso jeffer y de los que me paso libardiño pues en los libros, que estan buenos, encontre fue teoria sobre redes neurnales como tal, mas no ssobre `semantic-segmentation` se que esa teoria me servira despues pero ahorita quiero hacer la cajita de churros como dijo raul y para eso debe saber es implementarla, la teoria ya como tal la estoy entendiendo pero me serviria super entenderla si yo fuera a hacer mi propia red, y tampoco, lo que hare sera usar una, o esperar a ver no. Por ahora buscar una a usar.\n",
    "\n",
    "CNNs:\n",
    "* AlexNet\n",
    "* GoogleNet\n",
    "* ResNet\n",
    "* UNet\n",
    "* SegNet\n",
    "\n",
    "\n",
    "¿Cual es la mejor red para hacer `semantic-segmentation`?"
   ]
  },
  {
   "cell_type": "markdown",
   "metadata": {},
   "source": [
    "### Clasificacion de las Consultas\n",
    "\n",
    "Hablando con dos expertos, Fabio Martinez (@famarcar) y Raul Ramos Pollan (@rramosp) me recomendaron usar Tensorflow, en primera medida por su actualidad, hoy en dia es uno de los frameworks mas usados y preferidos por la comunidad, segundo detras de TF hay una gran empresa y comunidad que le brinda soporte. Entonces se filtraran las consultas que usen TF.\n",
    "\n",
    "#### TEORICOS:\n",
    "**Nota:** Creo que las traducire pa leer a verque mas puedo sacar de ahi.\n",
    "* **✓[1° Consulta](https://meetshah1995.github.io/semantic-segmentation/deep-learning/pytorch/visdom/2017/06/01/semantic-segmentation-over-the-years.html)** - Información tecnica y un poco teorica de varias redes neuronales convolucionesles, optimas para segmentacion semantica.\n",
    "* **✓[2° Consulta](https://wiki.tum.de/display/lfdv/Image+Semantic+Segmentation)** - Conceptos sobre segemtacion semantica y metodos qus sirven para su elaboracion, como las redes neuronales.\n",
    "* **✓[4° Consulta](https://www.azavea.com/blog/2017/05/30/deep-learning-on-aerial-imagery/)** - Flujo de trabajo, para un trabajo de segmentacion con imagenes satelitales, pero explican que hicieron mas no como y las concideraciones que tiveron y eso, pero nada de codigo, explican que usaron unet y resnet para la segmentacion pero de ahi al codigo, nada.\n",
    "* **✓[7° Consulta](https://ai.intel.com/biomedical-image-segmentation-u-net/)** - Flujo de trabajo de una segemntacion usando uNet, pero esta vez con imagenes medicas, buscando tumeores en el cerebro.\n",
    "* **✓[8° Consulta](http://cv-tricks.com/image-segmentation/transpose-convolution-in-tensorflow/)** - Un poco de teoria sobre segmentacion de imagnes y convolucion.\n",
    "* **✓[9° Consulta](https://leonardoaraujosantos.gitbooks.io/artificial-inteligence/content/image_segmentation.html)** - Muy buena teoria sobre semantic segmentation. como funciona de fondo FCN y otro tipo de arquitecturas.\n",
    "* **✓[10° Consulta](http://www.diva-portal.org/smash/get/diva2:1013270/FULLTEXT01.pdf)** - Articulo sobre `Semantic Segmentation of Satellite Images using Deep Learning` poco codigo pero bastante teoria. un buen ejemplo de como podria ser el libro o articulo a hacer.\n",
    "* **✓[11° Consulta](http://blog.qure.ai/notes/semantic-segmentation-deep-learning-review)** - Buena explicacion de que es segmentacion de imagnes y po ue usar ciertas redes.\n",
    "* **✓[14° Consulta](https://research.googleblog.com/2018/03/semantic-image-segmentation-with.html)** - Anuncio de que DeepLab3+ ya esta disponible\n",
    "* **✓[15° Consulta](https://nicolovaligi.com/deep-learning-models-semantic-segmentation.html)** - Comparacion entre varias redes y decantacion por DilatedNet.\n",
    "* **✓[17° Consulta](http://graphics.cs.cmu.edu/courses/16-824/2016_spring/slides/caffe_tutorial.pdf)** - Diapositivsa sobre el uso de Caffe\n",
    "* **✓[18° Consulta](https://labs.beeva.com/inference-series-i-how-to-use-caffe-with-aws-deep-learning-ami-for-semantic-segmentation-d05545d2f954)** - Una buena explicacion sobre segmentacion\n",
    "* **✓[19° Consulta](https://people.eecs.berkeley.edu/%7Ejonlong/long_shelhamer_fcn.pdf)** - Articulo sobre Segmentacion\n",
    "* **✓[20° Consulta](https://arxiv.org/pdf/1511.00561.pdf)** - Articulo sobre SegNet"
   ]
  },
  {
   "cell_type": "markdown",
   "metadata": {},
   "source": [
    "Notas:\n",
    "* **PYTHON2:** repositorio hecho en python2 mientras que estoy trabajando en python3\n",
    "* **GPU:** repos que usan la GPU, no tengo muchos conocimientos aun sobre GPU y preferiria empezar con algo mas basico que no implique que pueda dañar mi pc. al parecer tensorflow usa la gpu en el fondo. Tensorflow tiene dos versiones una que usa GPU y otra que no usa la GPU, creo y ellos tambien lo recomiendan \"if you have an NVIDIA GPU, we recommend installing this version first\". asi que descartare por ahora aquellos que tienen uso de la GPU\n",
    "* **LINUX** si indican que estan sobre linux\n",
    "* **DEEPLAB** usa la red deeplab, que segun le entendi a raul es mejor or ahora buscar algo rela como la segnet"
   ]
  },
  {
   "cell_type": "markdown",
   "metadata": {},
   "source": [
    "* STS: hay un archivo para probar el propio dataset, incluido lo de cambiar las clases"
   ]
  },
  {
   "cell_type": "markdown",
   "metadata": {
    "collapsed": true
   },
   "source": [
    "#### Repositorios Segmentacion Semantica\n",
    "\n",
    "1. **GPU** ~~[Repo](https://github.com/mathildor/TF-SegNet) - AirNet - W/L - CSTS - TF_GPU~~\n",
    "* **CNN** ~~[Repo](https://github.com/DrSleep/tensorflow-deeplab-lfov) - DeepLab -~~\n",
    "* **CNN**~~[Repo](https://github.com/tensorflow/models/blob/master/research/deeplab/deeplab_demo.ipynb) - DeepLab - - -~~\n",
    "* **GPU** ~~[Repo](https://github.com/NanqingD/DeepLabV3-Tensorflow) - DeepLab - - CSTS - GPU~~\n",
    "* [Repo](https://github.com/ljanyst/image-segmentation-fcn) - Fully - W/L - CSTS -~~ \n",
    "*  **GPU** ~~[Repo](https://github.com/sagieppel/Fully-convolutional-neural-network-FCN-for-semantic-segmentation-Tensorflow-implementation) - Fully - LINUX - STS~~\n",
    "* **LINUX** ~~[Repo](https://github.com/MarvinTeichmann/tensorflow-fcn) - FCN - LINUX - CSTS -~~\n",
    "* [Repo](https://github.com/upul/Semantic_Segmentation) - FCNN - - STS -\n",
    "* **LINUX** ~~[Repo](https://github.com/GeorgeSeif/Semantic-Segmentation-Suite) - Framework - LINUX - STS~~\n",
    "* **CNN** ~~[Repo](https://github.com/DeepSegment/FCN-GoogLeNet) - GoogleNet -~~\n",
    "* ~~[Repo](https://github.com/hellochick/ICNet-tensorflow) - ICNet - W/L - STS~~ **`Windows`** **`pip`** problemas con el uso de otro dataset a la hora de existir un numero diferente de clases, en parte dado que se usan modelos preentrenados de diferentes clases. esto al probar con OVERLAECOBO. Hay una posible solucion en el [issue 50](https://github.com/hellochick/ICNet-tensorflow/issues/50), pero pa ponerme a hacerlo funcionar cachareando cuando puede que otro repo me sirva, probare otro repo, si no tal vez me adentre a este.\n",
    "* [Repo](https://github.com/tkuanlun350/Tensorflow-SegNet) - Segnet - W/L - CSTS\n",
    "* [Repo](https://github.com/Sciguymjm/SegNet) - SegNet - W/L - CSTS - \n",
    "* **GPU** ~~[Repo](https://github.com/toimcio/SegNet-tensorflow) - SegNet - W/L - CSTS - TF-GPU~~\n",
    "* **GPU** ~~[Repo](https://github.com/mshunshin/SegNetCMR) - SegNet - W/L - CSTS - TF-GPU~~\n",
    "* [Repo](https://github.com/andreaazzini/segnet.tf) - SegNet - W/L - CSTS - \n",
    "* [Repo](https://github.com/arahusky/Tensorflow-Segmentation) - SegNet - W/L - CSTS -\n",
    "* [Repo](https://modeldepot.io/hellochick/pspnet/overview) - PSPNet - W/L - STS -\n",
    "* [Repo](https://github.com/zsdonghao/u-net-brain-tumor) - UNet - W/L - CSTS\n",
    "* [Repo](https://github.com/HMS-IDAC/UNet) - UNet - W/L - CSTS\n",
    "* **LINUX** ~~[Repo](https://github.com/jakeret/tf_unet) - UNet - LINUX - DOC -~~\n",
    "* **LINUX** ~~[Repo](https://github.com/warmspringwinds/tensorflow_notes) - - LINUX -~~"
   ]
  },
  {
   "cell_type": "markdown",
   "metadata": {},
   "source": [
    "#### TUTORIAL DE TENSORFLOW\n",
    "* **✓[47° Consulta](http://cv-tricks.com/tensorflow-tutorial/training-convolutional-neural-network-for-image-classification/)** - Usar una red Neuronal basica con TensorFlow.\n",
    "* **[2° Consulta](https://github.com/aymericdamien/TensorFlow-Examples)**"
   ]
  },
  {
   "cell_type": "markdown",
   "metadata": {},
   "source": [
    "**Notas de pie:**\n",
    "* PASCAL VOC es dataset \n",
    "* [BATCH, EPOCH](https://keras.io/getting-started/faq/#what-does-sample-batch-epoch-mean)"
   ]
  },
  {
   "cell_type": "markdown",
   "metadata": {},
   "source": [
    "### Frameworks battle\n",
    "* [tensorflow keras pytorch](http://codeinpython.com/tutorials/deep-learning-tensorflow-keras-pytorch/)\n",
    "* [Frameworks battle](https://towardsdatascience.com/battle-of-the-deep-learning-frameworks-part-i-cff0e3841750)"
   ]
  },
  {
   "cell_type": "code",
   "execution_count": null,
   "metadata": {},
   "outputs": [],
   "source": []
  }
 ],
 "metadata": {
  "kernelspec": {
   "display_name": "Python 3",
   "language": "python",
   "name": "python3"
  },
  "language_info": {
   "codemirror_mode": {
    "name": "ipython",
    "version": 3
   },
   "file_extension": ".py",
   "mimetype": "text/x-python",
   "name": "python",
   "nbconvert_exporter": "python",
   "pygments_lexer": "ipython3",
   "version": "3.6.5"
  }
 },
 "nbformat": 4,
 "nbformat_minor": 2
}
