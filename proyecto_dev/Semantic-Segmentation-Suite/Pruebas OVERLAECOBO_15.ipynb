{
 "cells": [
  {
   "cell_type": "markdown",
   "metadata": {},
   "source": [
    "<center>\n",
    "<h1 style=\"color:#5C6BC0\"> PRUEBAS OVERLAECOBO 15 </h1>\n",
    "</center>\n",
    "\n",
    "Pruebas realizadas con cada una de las redes neuronales presentes por el Framework, modificando los parametros de num_epoch y batch_size"
   ]
  },
  {
   "cell_type": "code",
   "execution_count": 3,
   "metadata": {},
   "outputs": [],
   "source": [
    "import os"
   ]
  },
  {
   "cell_type": "markdown",
   "metadata": {},
   "source": [
    "<h3 style=\"color:#5C6BC0\"> FC-DenseNet56 </h3>"
   ]
  },
  {
   "cell_type": "code",
   "execution_count": 3,
   "metadata": {},
   "outputs": [
    {
     "name": "stdout",
     "output_type": "stream",
     "text": [
      "TRAIN \n",
      "python main.py --mode train --dataset OVERLAECOBO_15 --crop_height 256 --crop_width 256 --num_epochs 50 --batch_size 1 --model FC-DenseNet56  > train.text\n",
      "\n",
      "TEST \n",
      "python main.py --mode test --dataset OVERLAECOBO_15 --crop_height 256 --crop_width 256 --num_epochs 50 --batch_size 1 --model FC-DenseNet56  > test.text\n"
     ]
    }
   ],
   "source": [
    "NUMPRU = 45\n",
    "DATASET_PATH = \"OVERLAECOBO_15\"\n",
    "CROP_SIZE = 256\n",
    "NUM_EPOCH = 50\n",
    "BATCH_SIZE = 1 # Hay pocas imagenes por ende se prueba con un batch pequeño y al usar 2 sale un error que no se que sera pero creo que es algo con la GPU\n",
    "MODEL = \"FC-DenseNet56\"\n",
    "print(\"TRAIN \\npython main.py --mode train --dataset\",DATASET_PATH, \"--crop_height\",CROP_SIZE,\"--crop_width\",CROP_SIZE,\"--num_epochs\",NUM_EPOCH,\"--batch_size\",BATCH_SIZE,\"--model\",MODEL,\" > train.text\")\n",
    "print(\"\")\n",
    "print(\"TEST \\npython main.py --mode test --dataset\",DATASET_PATH, \"--crop_height\",CROP_SIZE,\"--crop_width\",CROP_SIZE,\"--num_epochs\",NUM_EPOCH,\"--batch_size\",BATCH_SIZE,\"--model\",MODEL,\" > test.text\")"
   ]
  },
  {
   "cell_type": "code",
   "execution_count": 4,
   "metadata": {},
   "outputs": [
    {
     "name": "stdout",
     "output_type": "stream",
     "text": [
      "PRUEBA N° 45 REALIZADA\n"
     ]
    }
   ],
   "source": [
    "os.makedirs(\"Pruebas/prueba_\"+str(NUMPRU))\n",
    "os.rename(\"accuracy_vs_epochs.png\",\"Pruebas/prueba_\"+str(NUMPRU)+\"/accuracy_vs_epochs.png\")\n",
    "os.rename(\"loss_vs_epochs.png\", \"Pruebas/prueba_\"+str(NUMPRU)+\"/loss_vs_epochs.png\")\n",
    "os.rename(\"train.text\", \"Pruebas/prueba_\"+str(NUMPRU)+\"/train.text\")\n",
    "os.rename(\"test.text\", \"Pruebas/prueba_\"+str(NUMPRU)+\"/test.text\")\n",
    "os.rename(\"Val\", \"Pruebas/prueba_\"+str(NUMPRU)+\"/Val\")   \n",
    "print(\"PRUEBA N°\",NUMPRU,\"REALIZADA\")"
   ]
  },
  {
   "cell_type": "code",
   "execution_count": 5,
   "metadata": {},
   "outputs": [
    {
     "name": "stdout",
     "output_type": "stream",
     "text": [
      "TRAIN \n",
      "python main.py --mode train --dataset OVERLAECOBO_15 --crop_height 256 --crop_width 256 --num_epochs 70 --batch_size 1 --model FC-DenseNet56  > train.text\n",
      "\n",
      "TEST \n",
      "python main.py --mode test --dataset OVERLAECOBO_15 --crop_height 256 --crop_width 256 --num_epochs 70 --batch_size 1 --model FC-DenseNet56  > test.text\n"
     ]
    }
   ],
   "source": [
    "NUMPRU = 46\n",
    "DATASET_PATH = \"OVERLAECOBO_15\"\n",
    "CROP_SIZE = 256\n",
    "NUM_EPOCH = 70\n",
    "BATCH_SIZE = 1 # Hay pocas imagenes por ende se prueba con un batch pequeño y al usar 2 sale un error que no se que sera pero creo que es algo con la GPU\n",
    "MODEL = \"FC-DenseNet56\"\n",
    "print(\"TRAIN \\npython main.py --mode train --dataset\",DATASET_PATH, \"--crop_height\",CROP_SIZE,\"--crop_width\",CROP_SIZE,\"--num_epochs\",NUM_EPOCH,\"--batch_size\",BATCH_SIZE,\"--model\",MODEL,\" > train.text\")\n",
    "print(\"\")\n",
    "print(\"TEST \\npython main.py --mode test --dataset\",DATASET_PATH, \"--crop_height\",CROP_SIZE,\"--crop_width\",CROP_SIZE,\"--num_epochs\",NUM_EPOCH,\"--batch_size\",BATCH_SIZE,\"--model\",MODEL,\" > test.text\")"
   ]
  },
  {
   "cell_type": "code",
   "execution_count": 6,
   "metadata": {},
   "outputs": [
    {
     "name": "stdout",
     "output_type": "stream",
     "text": [
      "PRUEBA N° 46 REALIZADA\n"
     ]
    }
   ],
   "source": [
    "os.makedirs(\"Pruebas/prueba_\"+str(NUMPRU))\n",
    "os.rename(\"accuracy_vs_epochs.png\",\"Pruebas/prueba_\"+str(NUMPRU)+\"/accuracy_vs_epochs.png\")\n",
    "os.rename(\"loss_vs_epochs.png\", \"Pruebas/prueba_\"+str(NUMPRU)+\"/loss_vs_epochs.png\")\n",
    "os.rename(\"train.text\", \"Pruebas/prueba_\"+str(NUMPRU)+\"/train.text\")\n",
    "os.rename(\"test.text\", \"Pruebas/prueba_\"+str(NUMPRU)+\"/test.text\")\n",
    "os.rename(\"Val\", \"Pruebas/prueba_\"+str(NUMPRU)+\"/Val\")   \n",
    "print(\"PRUEBA N°\",NUMPRU,\"REALIZADA\")"
   ]
  },
  {
   "cell_type": "markdown",
   "metadata": {},
   "source": [
    "<h3 style=\"color:#5C6BC0\"> Encoder-Decoder </h3>   "
   ]
  },
  {
   "cell_type": "code",
   "execution_count": 7,
   "metadata": {},
   "outputs": [
    {
     "name": "stdout",
     "output_type": "stream",
     "text": [
      "TRAIN \n",
      "python main.py --mode train --dataset OVERLAECOBO_15 --crop_height 256 --crop_width 256 --num_epochs 70 --batch_size 1 --model Encoder-Decoder  > train.text\n",
      "\n",
      "TEST \n",
      "python main.py --mode test --dataset OVERLAECOBO_15 --crop_height 256 --crop_width 256 --num_epochs 70 --batch_size 1 --model Encoder-Decoder  > test.text\n"
     ]
    }
   ],
   "source": [
    "NUMPRU = 47\n",
    "DATASET_PATH = \"OVERLAECOBO_15\"\n",
    "CROP_SIZE = 256\n",
    "NUM_EPOCH = 70\n",
    "BATCH_SIZE = 1 # Hay pocas imagenes por ende se prueba con un batch pequeño y al usar 2 sale un error que no se que sera pero creo que es algo con la GPU\n",
    "MODEL = \"Encoder-Decoder\"\n",
    "print(\"TRAIN \\npython main.py --mode train --dataset\",DATASET_PATH, \"--crop_height\",CROP_SIZE,\"--crop_width\",CROP_SIZE,\"--num_epochs\",NUM_EPOCH,\"--batch_size\",BATCH_SIZE,\"--model\",MODEL,\" > train.text\")\n",
    "print(\"\")\n",
    "print(\"TEST \\npython main.py --mode test --dataset\",DATASET_PATH, \"--crop_height\",CROP_SIZE,\"--crop_width\",CROP_SIZE,\"--num_epochs\",NUM_EPOCH,\"--batch_size\",BATCH_SIZE,\"--model\",MODEL,\" > test.text\")"
   ]
  },
  {
   "cell_type": "code",
   "execution_count": 8,
   "metadata": {},
   "outputs": [
    {
     "name": "stdout",
     "output_type": "stream",
     "text": [
      "PRUEBA N° 47 REALIZADA\n"
     ]
    }
   ],
   "source": [
    "os.makedirs(\"Pruebas/prueba_\"+str(NUMPRU))\n",
    "os.rename(\"accuracy_vs_epochs.png\",\"Pruebas/prueba_\"+str(NUMPRU)+\"/accuracy_vs_epochs.png\")\n",
    "os.rename(\"loss_vs_epochs.png\", \"Pruebas/prueba_\"+str(NUMPRU)+\"/loss_vs_epochs.png\")\n",
    "os.rename(\"train.text\", \"Pruebas/prueba_\"+str(NUMPRU)+\"/train.text\")\n",
    "os.rename(\"test.text\", \"Pruebas/prueba_\"+str(NUMPRU)+\"/test.text\")\n",
    "os.rename(\"Val\", \"Pruebas/prueba_\"+str(NUMPRU)+\"/Val\")   \n",
    "print(\"PRUEBA N°\",NUMPRU,\"REALIZADA\")"
   ]
  },
  {
   "cell_type": "code",
   "execution_count": 9,
   "metadata": {},
   "outputs": [
    {
     "name": "stdout",
     "output_type": "stream",
     "text": [
      "TRAIN \n",
      "python main.py --mode train --dataset OVERLAECOBO_15 --crop_height 256 --crop_width 256 --num_epochs 70 --batch_size 2 --model Encoder-Decoder  > train.text\n",
      "\n",
      "TEST \n",
      "python main.py --mode test --dataset OVERLAECOBO_15 --crop_height 256 --crop_width 256 --num_epochs 70 --batch_size 2 --model Encoder-Decoder  > test.text\n"
     ]
    }
   ],
   "source": [
    "NUMPRU = 48\n",
    "DATASET_PATH = \"OVERLAECOBO_15\"\n",
    "CROP_SIZE = 256\n",
    "NUM_EPOCH = 70\n",
    "BATCH_SIZE = 2 # Hay pocas imagenes por ende se prueba con un batch pequeño y al usar 2 sale un error que no se que sera pero creo que es algo con la GPU\n",
    "MODEL = \"Encoder-Decoder\"\n",
    "print(\"TRAIN \\npython main.py --mode train --dataset\",DATASET_PATH, \"--crop_height\",CROP_SIZE,\"--crop_width\",CROP_SIZE,\"--num_epochs\",NUM_EPOCH,\"--batch_size\",BATCH_SIZE,\"--model\",MODEL,\" > train.text\")\n",
    "print(\"\")\n",
    "print(\"TEST \\npython main.py --mode test --dataset\",DATASET_PATH, \"--crop_height\",CROP_SIZE,\"--crop_width\",CROP_SIZE,\"--num_epochs\",NUM_EPOCH,\"--batch_size\",BATCH_SIZE,\"--model\",MODEL,\" > test.text\")"
   ]
  },
  {
   "cell_type": "code",
   "execution_count": 10,
   "metadata": {},
   "outputs": [
    {
     "name": "stdout",
     "output_type": "stream",
     "text": [
      "PRUEBA N° 48 REALIZADA\n"
     ]
    }
   ],
   "source": [
    "os.makedirs(\"Pruebas/prueba_\"+str(NUMPRU))\n",
    "os.rename(\"accuracy_vs_epochs.png\",\"Pruebas/prueba_\"+str(NUMPRU)+\"/accuracy_vs_epochs.png\")\n",
    "os.rename(\"loss_vs_epochs.png\", \"Pruebas/prueba_\"+str(NUMPRU)+\"/loss_vs_epochs.png\")\n",
    "os.rename(\"train.text\", \"Pruebas/prueba_\"+str(NUMPRU)+\"/train.text\")\n",
    "os.rename(\"test.text\", \"Pruebas/prueba_\"+str(NUMPRU)+\"/test.text\")\n",
    "os.rename(\"Val\", \"Pruebas/prueba_\"+str(NUMPRU)+\"/Val\")   \n",
    "print(\"PRUEBA N°\",NUMPRU,\"REALIZADA\")"
   ]
  },
  {
   "cell_type": "markdown",
   "metadata": {},
   "source": [
    "<h3 style=\"color:#5C6BC0\"> Encoder-Decoder-Skip </h3>\n"
   ]
  },
  {
   "cell_type": "code",
   "execution_count": 11,
   "metadata": {},
   "outputs": [
    {
     "name": "stdout",
     "output_type": "stream",
     "text": [
      "TRAIN \n",
      "python main.py --mode train --dataset OVERLAECOBO_15 --crop_height 256 --crop_width 256 --num_epochs 70 --batch_size 1 --model Encoder-Decoder-Skip  > train.text\n",
      "\n",
      "TEST \n",
      "python main.py --mode test --dataset OVERLAECOBO_15 --crop_height 256 --crop_width 256 --num_epochs 70 --batch_size 1 --model Encoder-Decoder-Skip  > test.text\n"
     ]
    }
   ],
   "source": [
    "NUMPRU = 49\n",
    "DATASET_PATH = \"OVERLAECOBO_15\"\n",
    "CROP_SIZE = 256\n",
    "NUM_EPOCH = 70\n",
    "BATCH_SIZE = 1 # Hay pocas imagenes por ende se prueba con un batch pequeño y al usar 2 sale un error que no se que sera pero creo que es algo con la GPU\n",
    "MODEL = \"Encoder-Decoder-Skip\" \n",
    "print(\"TRAIN \\npython main.py --mode train --dataset\",DATASET_PATH, \"--crop_height\",CROP_SIZE,\"--crop_width\",CROP_SIZE,\"--num_epochs\",NUM_EPOCH,\"--batch_size\",BATCH_SIZE,\"--model\",MODEL,\" > train.text\")\n",
    "print(\"\")\n",
    "print(\"TEST \\npython main.py --mode test --dataset\",DATASET_PATH, \"--crop_height\",CROP_SIZE,\"--crop_width\",CROP_SIZE,\"--num_epochs\",NUM_EPOCH,\"--batch_size\",BATCH_SIZE,\"--model\",MODEL,\" > test.text\")"
   ]
  },
  {
   "cell_type": "code",
   "execution_count": 12,
   "metadata": {},
   "outputs": [
    {
     "name": "stdout",
     "output_type": "stream",
     "text": [
      "PRUEBA N° 49 REALIZADA\n"
     ]
    }
   ],
   "source": [
    "os.makedirs(\"Pruebas/prueba_\"+str(NUMPRU))\n",
    "os.rename(\"accuracy_vs_epochs.png\",\"Pruebas/prueba_\"+str(NUMPRU)+\"/accuracy_vs_epochs.png\")\n",
    "os.rename(\"loss_vs_epochs.png\", \"Pruebas/prueba_\"+str(NUMPRU)+\"/loss_vs_epochs.png\")\n",
    "os.rename(\"train.text\", \"Pruebas/prueba_\"+str(NUMPRU)+\"/train.text\")\n",
    "os.rename(\"test.text\", \"Pruebas/prueba_\"+str(NUMPRU)+\"/test.text\")\n",
    "os.rename(\"Val\", \"Pruebas/prueba_\"+str(NUMPRU)+\"/Val\")   \n",
    "print(\"PRUEBA N°\",NUMPRU,\"REALIZADA\")"
   ]
  },
  {
   "cell_type": "code",
   "execution_count": 13,
   "metadata": {},
   "outputs": [
    {
     "name": "stdout",
     "output_type": "stream",
     "text": [
      "TRAIN \n",
      "python main.py --mode train --dataset OVERLAECOBO_15 --crop_height 256 --crop_width 256 --num_epochs 70 --batch_size 2 --model Encoder-Decoder-Skip  > train.text\n",
      "\n",
      "TEST \n",
      "python main.py --mode test --dataset OVERLAECOBO_15 --crop_height 256 --crop_width 256 --num_epochs 70 --batch_size 2 --model Encoder-Decoder-Skip  > test.text\n"
     ]
    }
   ],
   "source": [
    "NUMPRU = 50\n",
    "DATASET_PATH = \"OVERLAECOBO_15\"\n",
    "CROP_SIZE = 256\n",
    "NUM_EPOCH = 70\n",
    "BATCH_SIZE = 2 # Hay pocas imagenes por ende se prueba con un batch pequeño y al usar 2 sale un error que no se que sera pero creo que es algo con la GPU\n",
    "MODEL = \"Encoder-Decoder-Skip\" \n",
    "print(\"TRAIN \\npython main.py --mode train --dataset\",DATASET_PATH, \"--crop_height\",CROP_SIZE,\"--crop_width\",CROP_SIZE,\"--num_epochs\",NUM_EPOCH,\"--batch_size\",BATCH_SIZE,\"--model\",MODEL,\" > train.text\")\n",
    "print(\"\")\n",
    "print(\"TEST \\npython main.py --mode test --dataset\",DATASET_PATH, \"--crop_height\",CROP_SIZE,\"--crop_width\",CROP_SIZE,\"--num_epochs\",NUM_EPOCH,\"--batch_size\",BATCH_SIZE,\"--model\",MODEL,\" > test.text\")"
   ]
  },
  {
   "cell_type": "code",
   "execution_count": 14,
   "metadata": {},
   "outputs": [
    {
     "name": "stdout",
     "output_type": "stream",
     "text": [
      "PRUEBA N° 50 REALIZADA\n"
     ]
    }
   ],
   "source": [
    "os.makedirs(\"Pruebas/prueba_\"+str(NUMPRU))\n",
    "os.rename(\"accuracy_vs_epochs.png\",\"Pruebas/prueba_\"+str(NUMPRU)+\"/accuracy_vs_epochs.png\")\n",
    "os.rename(\"loss_vs_epochs.png\", \"Pruebas/prueba_\"+str(NUMPRU)+\"/loss_vs_epochs.png\")\n",
    "os.rename(\"train.text\", \"Pruebas/prueba_\"+str(NUMPRU)+\"/train.text\")\n",
    "os.rename(\"test.text\", \"Pruebas/prueba_\"+str(NUMPRU)+\"/test.text\")\n",
    "os.rename(\"Val\", \"Pruebas/prueba_\"+str(NUMPRU)+\"/Val\")   \n",
    "print(\"PRUEBA N°\",NUMPRU,\"REALIZADA\")"
   ]
  },
  {
   "cell_type": "markdown",
   "metadata": {},
   "source": [
    "<h3 style=\"color:#5C6BC0\"> FRRN-A </h3>\n"
   ]
  },
  {
   "cell_type": "code",
   "execution_count": 15,
   "metadata": {},
   "outputs": [
    {
     "name": "stdout",
     "output_type": "stream",
     "text": [
      "TRAIN \n",
      "python main.py --mode train --dataset OVERLAECOBO_15 --crop_height 256 --crop_width 256 --num_epochs 70 --batch_size 1 --model FRRN-A   > train.text\n",
      "\n",
      "TEST \n",
      "python main.py --mode test --dataset OVERLAECOBO_15 --crop_height 256 --crop_width 256 --num_epochs 70 --batch_size 1 --model FRRN-A   > test.text\n"
     ]
    }
   ],
   "source": [
    "NUMPRU = 51\n",
    "DATASET_PATH = \"OVERLAECOBO_15\"\n",
    "CROP_SIZE = 256\n",
    "NUM_EPOCH = 70\n",
    "BATCH_SIZE = 1 # Hay pocas imagenes por ende se prueba con un batch pequeño y al usar 2 sale un error que no se que sera pero creo que es algo con la GPU\n",
    "MODEL = \"FRRN-A \"\n",
    "print(\"TRAIN \\npython main.py --mode train --dataset\",DATASET_PATH, \"--crop_height\",CROP_SIZE,\"--crop_width\",CROP_SIZE,\"--num_epochs\",NUM_EPOCH,\"--batch_size\",BATCH_SIZE,\"--model\",MODEL,\" > train.text\")\n",
    "print(\"\")\n",
    "print(\"TEST \\npython main.py --mode test --dataset\",DATASET_PATH, \"--crop_height\",CROP_SIZE,\"--crop_width\",CROP_SIZE,\"--num_epochs\",NUM_EPOCH,\"--batch_size\",BATCH_SIZE,\"--model\",MODEL,\" > test.text\")"
   ]
  },
  {
   "cell_type": "code",
   "execution_count": 16,
   "metadata": {},
   "outputs": [
    {
     "name": "stdout",
     "output_type": "stream",
     "text": [
      "PRUEBA N° 51 REALIZADA\n"
     ]
    }
   ],
   "source": [
    "os.makedirs(\"Pruebas/prueba_\"+str(NUMPRU))\n",
    "os.rename(\"accuracy_vs_epochs.png\",\"Pruebas/prueba_\"+str(NUMPRU)+\"/accuracy_vs_epochs.png\")\n",
    "os.rename(\"loss_vs_epochs.png\", \"Pruebas/prueba_\"+str(NUMPRU)+\"/loss_vs_epochs.png\")\n",
    "os.rename(\"train.text\", \"Pruebas/prueba_\"+str(NUMPRU)+\"/train.text\")\n",
    "os.rename(\"test.text\", \"Pruebas/prueba_\"+str(NUMPRU)+\"/test.text\")\n",
    "os.rename(\"Val\", \"Pruebas/prueba_\"+str(NUMPRU)+\"/Val\")   \n",
    "print(\"PRUEBA N°\",NUMPRU,\"REALIZADA\")"
   ]
  },
  {
   "cell_type": "markdown",
   "metadata": {},
   "source": [
    "<h3 style=\"color:#5C6BC0\"> MobileUNet </h3>\n"
   ]
  },
  {
   "cell_type": "code",
   "execution_count": 17,
   "metadata": {},
   "outputs": [
    {
     "name": "stdout",
     "output_type": "stream",
     "text": [
      "TRAIN \n",
      "python main.py --mode train --dataset OVERLAECOBO_15 --crop_height 256 --crop_width 256 --num_epochs 70 --batch_size 1 --model MobileUNet   > train.text\n",
      "\n",
      "TEST \n",
      "python main.py --mode test --dataset OVERLAECOBO_15 --crop_height 256 --crop_width 256 --num_epochs 70 --batch_size 1 --model MobileUNet   > test.text\n"
     ]
    }
   ],
   "source": [
    "NUMPRU = 52\n",
    "DATASET_PATH = \"OVERLAECOBO_15\"\n",
    "CROP_SIZE = 256\n",
    "NUM_EPOCH = 70\n",
    "BATCH_SIZE = 1 # Hay pocas imagenes por ende se prueba con un batch pequeño y al usar 2 sale un error que no se que sera pero creo que es algo con la GPU\n",
    "MODEL = \"MobileUNet \"\n",
    "print(\"TRAIN \\npython main.py --mode train --dataset\",DATASET_PATH, \"--crop_height\",CROP_SIZE,\"--crop_width\",CROP_SIZE,\"--num_epochs\",NUM_EPOCH,\"--batch_size\",BATCH_SIZE,\"--model\",MODEL,\" > train.text\")\n",
    "print(\"\")\n",
    "print(\"TEST \\npython main.py --mode test --dataset\",DATASET_PATH, \"--crop_height\",CROP_SIZE,\"--crop_width\",CROP_SIZE,\"--num_epochs\",NUM_EPOCH,\"--batch_size\",BATCH_SIZE,\"--model\",MODEL,\" > test.text\")"
   ]
  },
  {
   "cell_type": "code",
   "execution_count": 18,
   "metadata": {},
   "outputs": [
    {
     "name": "stdout",
     "output_type": "stream",
     "text": [
      "PRUEBA N° 52 REALIZADA\n"
     ]
    }
   ],
   "source": [
    "os.makedirs(\"Pruebas/prueba_\"+str(NUMPRU))\n",
    "os.rename(\"accuracy_vs_epochs.png\",\"Pruebas/prueba_\"+str(NUMPRU)+\"/accuracy_vs_epochs.png\")\n",
    "os.rename(\"loss_vs_epochs.png\", \"Pruebas/prueba_\"+str(NUMPRU)+\"/loss_vs_epochs.png\")\n",
    "os.rename(\"train.text\", \"Pruebas/prueba_\"+str(NUMPRU)+\"/train.text\")\n",
    "os.rename(\"test.text\", \"Pruebas/prueba_\"+str(NUMPRU)+\"/test.text\")\n",
    "os.rename(\"Val\", \"Pruebas/prueba_\"+str(NUMPRU)+\"/Val\")   \n",
    "print(\"PRUEBA N°\",NUMPRU,\"REALIZADA\")"
   ]
  },
  {
   "cell_type": "code",
   "execution_count": 1,
   "metadata": {},
   "outputs": [
    {
     "name": "stdout",
     "output_type": "stream",
     "text": [
      "TRAIN \n",
      "python main.py --mode train --dataset OVERLAECOBO_15 --crop_height 256 --crop_width 256 --num_epochs 70 --batch_size 2 --model MobileUNet   > train.text\n",
      "\n",
      "TEST \n",
      "python main.py --mode test --dataset OVERLAECOBO_15 --crop_height 256 --crop_width 256 --num_epochs 70 --batch_size 2 --model MobileUNet   > test.text\n"
     ]
    }
   ],
   "source": [
    "NUMPRU = 53\n",
    "DATASET_PATH = \"OVERLAECOBO_15\"\n",
    "CROP_SIZE = 256\n",
    "NUM_EPOCH = 70\n",
    "BATCH_SIZE = 2 # Hay pocas imagenes por ende se prueba con un batch pequeño y al usar 2 sale un error que no se que sera pero creo que es algo con la GPU\n",
    "MODEL = \"MobileUNet \"\n",
    "print(\"TRAIN \\npython main.py --mode train --dataset\",DATASET_PATH, \"--crop_height\",CROP_SIZE,\"--crop_width\",CROP_SIZE,\"--num_epochs\",NUM_EPOCH,\"--batch_size\",BATCH_SIZE,\"--model\",MODEL,\" > train.text\")\n",
    "print(\"\")\n",
    "print(\"TEST \\npython main.py --mode test --dataset\",DATASET_PATH, \"--crop_height\",CROP_SIZE,\"--crop_width\",CROP_SIZE,\"--num_epochs\",NUM_EPOCH,\"--batch_size\",BATCH_SIZE,\"--model\",MODEL,\" > test.text\")"
   ]
  },
  {
   "cell_type": "code",
   "execution_count": 4,
   "metadata": {},
   "outputs": [
    {
     "name": "stdout",
     "output_type": "stream",
     "text": [
      "PRUEBA N° 53 REALIZADA\n"
     ]
    }
   ],
   "source": [
    "os.makedirs(\"Pruebas/prueba_\"+str(NUMPRU))\n",
    "os.rename(\"accuracy_vs_epochs.png\",\"Pruebas/prueba_\"+str(NUMPRU)+\"/accuracy_vs_epochs.png\")\n",
    "os.rename(\"loss_vs_epochs.png\", \"Pruebas/prueba_\"+str(NUMPRU)+\"/loss_vs_epochs.png\")\n",
    "os.rename(\"train.text\", \"Pruebas/prueba_\"+str(NUMPRU)+\"/train.text\")\n",
    "os.rename(\"test.text\", \"Pruebas/prueba_\"+str(NUMPRU)+\"/test.text\")\n",
    "os.rename(\"Val\", \"Pruebas/prueba_\"+str(NUMPRU)+\"/Val\")   \n",
    "print(\"PRUEBA N°\",NUMPRU,\"REALIZADA\")"
   ]
  },
  {
   "cell_type": "markdown",
   "metadata": {},
   "source": [
    "<h3 style=\"color:#5C6BC0\"> MobileUNet-Skip </h3>\n"
   ]
  },
  {
   "cell_type": "code",
   "execution_count": 5,
   "metadata": {},
   "outputs": [
    {
     "name": "stdout",
     "output_type": "stream",
     "text": [
      "TRAIN \n",
      "python main.py --mode train --dataset OVERLAECOBO_15 --crop_height 256 --crop_width 256 --num_epochs 70 --batch_size 1 --model MobileUNet-Skip  > train.text\n",
      "\n",
      "TEST \n",
      "python main.py --mode test --dataset OVERLAECOBO_15 --crop_height 256 --crop_width 256 --num_epochs 70 --batch_size 1 --model MobileUNet-Skip  > test.text\n"
     ]
    }
   ],
   "source": [
    "NUMPRU = 54\n",
    "DATASET_PATH = \"OVERLAECOBO_15\"\n",
    "CROP_SIZE = 256\n",
    "NUM_EPOCH = 70\n",
    "BATCH_SIZE = 1 # Hay pocas imagenes por ende se prueba con un batch pequeño y al usar 2 sale un error que no se que sera pero creo que es algo con la GPU\n",
    "MODEL = \"MobileUNet-Skip\"\n",
    "print(\"TRAIN \\npython main.py --mode train --dataset\",DATASET_PATH, \"--crop_height\",CROP_SIZE,\"--crop_width\",CROP_SIZE,\"--num_epochs\",NUM_EPOCH,\"--batch_size\",BATCH_SIZE,\"--model\",MODEL,\" > train.text\")\n",
    "print(\"\")\n",
    "print(\"TEST \\npython main.py --mode test --dataset\",DATASET_PATH, \"--crop_height\",CROP_SIZE,\"--crop_width\",CROP_SIZE,\"--num_epochs\",NUM_EPOCH,\"--batch_size\",BATCH_SIZE,\"--model\",MODEL,\" > test.text\")"
   ]
  },
  {
   "cell_type": "code",
   "execution_count": 6,
   "metadata": {},
   "outputs": [
    {
     "name": "stdout",
     "output_type": "stream",
     "text": [
      "PRUEBA N° 54 REALIZADA\n"
     ]
    }
   ],
   "source": [
    "os.makedirs(\"Pruebas/prueba_\"+str(NUMPRU))\n",
    "os.rename(\"accuracy_vs_epochs.png\",\"Pruebas/prueba_\"+str(NUMPRU)+\"/accuracy_vs_epochs.png\")\n",
    "os.rename(\"loss_vs_epochs.png\", \"Pruebas/prueba_\"+str(NUMPRU)+\"/loss_vs_epochs.png\")\n",
    "os.rename(\"train.text\", \"Pruebas/prueba_\"+str(NUMPRU)+\"/train.text\")\n",
    "os.rename(\"test.text\", \"Pruebas/prueba_\"+str(NUMPRU)+\"/test.text\")\n",
    "os.rename(\"Val\", \"Pruebas/prueba_\"+str(NUMPRU)+\"/Val\")   \n",
    "print(\"PRUEBA N°\",NUMPRU,\"REALIZADA\")"
   ]
  },
  {
   "cell_type": "code",
   "execution_count": 7,
   "metadata": {},
   "outputs": [
    {
     "name": "stdout",
     "output_type": "stream",
     "text": [
      "TRAIN \n",
      "python main.py --mode train --dataset OVERLAECOBO_15 --crop_height 256 --crop_width 256 --num_epochs 70 --batch_size 2 --model MobileUNet-Skip  > train.text\n",
      "\n",
      "TEST \n",
      "python main.py --mode test --dataset OVERLAECOBO_15 --crop_height 256 --crop_width 256 --num_epochs 70 --batch_size 2 --model MobileUNet-Skip  > test.text\n"
     ]
    }
   ],
   "source": [
    "NUMPRU = 55\n",
    "DATASET_PATH = \"OVERLAECOBO_15\"\n",
    "CROP_SIZE = 256\n",
    "NUM_EPOCH = 70\n",
    "BATCH_SIZE = 2 # Hay pocas imagenes por ende se prueba con un batch pequeño y al usar 2 sale un error que no se que sera pero creo que es algo con la GPU\n",
    "MODEL = \"MobileUNet-Skip\"\n",
    "print(\"TRAIN \\npython main.py --mode train --dataset\",DATASET_PATH, \"--crop_height\",CROP_SIZE,\"--crop_width\",CROP_SIZE,\"--num_epochs\",NUM_EPOCH,\"--batch_size\",BATCH_SIZE,\"--model\",MODEL,\" > train.text\")\n",
    "print(\"\")\n",
    "print(\"TEST \\npython main.py --mode test --dataset\",DATASET_PATH, \"--crop_height\",CROP_SIZE,\"--crop_width\",CROP_SIZE,\"--num_epochs\",NUM_EPOCH,\"--batch_size\",BATCH_SIZE,\"--model\",MODEL,\" > test.text\")"
   ]
  },
  {
   "cell_type": "code",
   "execution_count": 8,
   "metadata": {},
   "outputs": [
    {
     "name": "stdout",
     "output_type": "stream",
     "text": [
      "PRUEBA N° 55 REALIZADA\n"
     ]
    }
   ],
   "source": [
    "os.makedirs(\"Pruebas/prueba_\"+str(NUMPRU))\n",
    "os.rename(\"accuracy_vs_epochs.png\",\"Pruebas/prueba_\"+str(NUMPRU)+\"/accuracy_vs_epochs.png\")\n",
    "os.rename(\"loss_vs_epochs.png\", \"Pruebas/prueba_\"+str(NUMPRU)+\"/loss_vs_epochs.png\")\n",
    "os.rename(\"train.text\", \"Pruebas/prueba_\"+str(NUMPRU)+\"/train.text\")\n",
    "os.rename(\"test.text\", \"Pruebas/prueba_\"+str(NUMPRU)+\"/test.text\")\n",
    "os.rename(\"Val\", \"Pruebas/prueba_\"+str(NUMPRU)+\"/Val\")   \n",
    "print(\"PRUEBA N°\",NUMPRU,\"REALIZADA\")"
   ]
  },
  {
   "cell_type": "code",
   "execution_count": null,
   "metadata": {},
   "outputs": [],
   "source": []
  }
 ],
 "metadata": {
  "kernelspec": {
   "display_name": "Python 3",
   "language": "python",
   "name": "python3"
  },
  "language_info": {
   "codemirror_mode": {
    "name": "ipython",
    "version": 3
   },
   "file_extension": ".py",
   "mimetype": "text/x-python",
   "name": "python",
   "nbconvert_exporter": "python",
   "pygments_lexer": "ipython3",
   "version": "3.6.5"
  }
 },
 "nbformat": 4,
 "nbformat_minor": 2
}
