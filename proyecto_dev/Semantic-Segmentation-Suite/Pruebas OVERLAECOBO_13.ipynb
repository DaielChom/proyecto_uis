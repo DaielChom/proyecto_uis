{
 "cells": [
  {
   "cell_type": "markdown",
   "metadata": {},
   "source": [
    "<center>\n",
    "<h1 style=\"color:#5C6BC0\"> PRUEBAS OVERLAECOBO 13 </h1>\n",
    "</center>\n",
    "\n",
    "Pruebas realizadas con cada una de las redes neuronales presentes por el Framework, modificando los parametros de num_epoch y batch_size"
   ]
  },
  {
   "cell_type": "code",
   "execution_count": 10,
   "metadata": {},
   "outputs": [],
   "source": [
    "import os"
   ]
  },
  {
   "cell_type": "markdown",
   "metadata": {},
   "source": [
    "<h3 style=\"color:#5C6BC0\"> FC-DenseNet56 </h3>"
   ]
  },
  {
   "cell_type": "code",
   "execution_count": 3,
   "metadata": {},
   "outputs": [
    {
     "name": "stdout",
     "output_type": "stream",
     "text": [
      "TRAIN \n",
      "python main.py --mode train --dataset OVERLAECOBO_13 --crop_height 256 --crop_width 256 --num_epochs 50 --batch_size 1 --model FC-DenseNet56  > train.text\n",
      "\n",
      "TEST \n",
      "python main.py --mode test --dataset OVERLAECOBO_13 --crop_height 256 --crop_width 256 --num_epochs 50 --batch_size 1 --model FC-DenseNet56  > test.text\n"
     ]
    }
   ],
   "source": [
    "NUMPRU = 1\n",
    "DATASET_PATH = \"OVERLAECOBO_13\"\n",
    "CROP_SIZE = 256\n",
    "NUM_EPOCH = 50\n",
    "BATCH_SIZE = 1 # Hay pocas imagenes por ende se prueba con un batch pequeño y al usar 2 sale un error que no se que sera pero creo que es algo con la GPU\n",
    "MODEL = \"FC-DenseNet56\"\n",
    "print(\"TRAIN \\npython main.py --mode train --dataset\",DATASET_PATH, \"--crop_height\",CROP_SIZE,\"--crop_width\",CROP_SIZE,\"--num_epochs\",NUM_EPOCH,\"--batch_size\",BATCH_SIZE,\"--model\",MODEL,\" > train.text\")\n",
    "print(\"\")\n",
    "print(\"TEST \\npython main.py --mode test --dataset\",DATASET_PATH, \"--crop_height\",CROP_SIZE,\"--crop_width\",CROP_SIZE,\"--num_epochs\",NUM_EPOCH,\"--batch_size\",BATCH_SIZE,\"--model\",MODEL,\" > test.text\")"
   ]
  },
  {
   "cell_type": "code",
   "execution_count": 9,
   "metadata": {},
   "outputs": [
    {
     "name": "stdout",
     "output_type": "stream",
     "text": [
      "PRUEBA N° 1 REALIZADA\n"
     ]
    }
   ],
   "source": [
    "os.makedirs(\"Pruebas/prueba_\"+str(NUMPRU))\n",
    "os.rename(\"accuracy_vs_epochs.png\",\"Pruebas/prueba_\"+str(NUMPRU)+\"/accuracy_vs_epochs.png\")\n",
    "os.rename(\"loss_vs_epochs.png\", \"Pruebas/prueba_\"+str(NUMPRU)+\"/loss_vs_epochs.png\")\n",
    "os.rename(\"train.text\", \"Pruebas/prueba_\"+str(NUMPRU)+\"/train.text\")\n",
    "os.rename(\"test.text\", \"Pruebas/prueba_\"+str(NUMPRU)+\"/test.text\")\n",
    "os.rename(\"Val\", \"Pruebas/prueba_\"+str(NUMPRU)+\"/Val\")   \n",
    "print(\"PRUEBA N°\",NUMPRU,\"REALIZADA\")"
   ]
  },
  {
   "cell_type": "code",
   "execution_count": 2,
   "metadata": {},
   "outputs": [
    {
     "name": "stdout",
     "output_type": "stream",
     "text": [
      "TRAIN \n",
      "python main.py --mode train --dataset OVERLAECOBO_13 --crop_height 256 --crop_width 256 --num_epochs 70 --batch_size 1 --model FC-DenseNet56  > train.text\n",
      "\n",
      "TEST \n",
      "python main.py --mode test --dataset OVERLAECOBO_13 --crop_height 256 --crop_width 256 --num_epochs 70 --batch_size 1 --model FC-DenseNet56  > test.text\n"
     ]
    }
   ],
   "source": [
    "NUMPRU = 2\n",
    "DATASET_PATH = \"OVERLAECOBO_13\"\n",
    "CROP_SIZE = 256\n",
    "NUM_EPOCH = 70\n",
    "BATCH_SIZE = 1 # Hay pocas imagenes por ende se prueba con un batch pequeño y al usar 2 sale un error que no se que sera pero creo que es algo con la GPU\n",
    "MODEL = \"FC-DenseNet56\"\n",
    "print(\"TRAIN \\npython main.py --mode train --dataset\",DATASET_PATH, \"--crop_height\",CROP_SIZE,\"--crop_width\",CROP_SIZE,\"--num_epochs\",NUM_EPOCH,\"--batch_size\",BATCH_SIZE,\"--model\",MODEL,\" > train.text\")\n",
    "print(\"\")\n",
    "print(\"TEST \\npython main.py --mode test --dataset\",DATASET_PATH, \"--crop_height\",CROP_SIZE,\"--crop_width\",CROP_SIZE,\"--num_epochs\",NUM_EPOCH,\"--batch_size\",BATCH_SIZE,\"--model\",MODEL,\" > test.text\")"
   ]
  },
  {
   "cell_type": "code",
   "execution_count": 5,
   "metadata": {},
   "outputs": [
    {
     "name": "stdout",
     "output_type": "stream",
     "text": [
      "PRUEBA N° 2 REALIZADA\n"
     ]
    }
   ],
   "source": [
    "os.makedirs(\"Pruebas/prueba_\"+str(NUMPRU))\n",
    "os.rename(\"accuracy_vs_epochs.png\",\"Pruebas/prueba_\"+str(NUMPRU)+\"/accuracy_vs_epochs.png\")\n",
    "os.rename(\"loss_vs_epochs.png\", \"Pruebas/prueba_\"+str(NUMPRU)+\"/loss_vs_epochs.png\")\n",
    "os.rename(\"train.text\", \"Pruebas/prueba_\"+str(NUMPRU)+\"/train.text\")\n",
    "os.rename(\"test.text\", \"Pruebas/prueba_\"+str(NUMPRU)+\"/test.text\")\n",
    "os.rename(\"Val\", \"Pruebas/prueba_\"+str(NUMPRU)+\"/Val\")   \n",
    "print(\"PRUEBA N°\",NUMPRU,\"REALIZADA\")"
   ]
  },
  {
   "cell_type": "markdown",
   "metadata": {},
   "source": [
    "<h3 style=\"color:#5C6BC0\"> Encoder-Decoder </h3>   "
   ]
  },
  {
   "cell_type": "code",
   "execution_count": 16,
   "metadata": {},
   "outputs": [
    {
     "name": "stdout",
     "output_type": "stream",
     "text": [
      "TRAIN \n",
      "python main.py --mode train --dataset OVERLAECOBO_13 --crop_height 256 --crop_width 256 --num_epochs 70 --batch_size 1 --model Encoder-Decoder  > train.text\n",
      "\n",
      "TEST \n",
      "python main.py --mode test --dataset OVERLAECOBO_13 --crop_height 256 --crop_width 256 --num_epochs 70 --batch_size 1 --model Encoder-Decoder  > test.text\n"
     ]
    }
   ],
   "source": [
    "NUMPRU = 3\n",
    "DATASET_PATH = \"OVERLAECOBO_13\"\n",
    "CROP_SIZE = 256\n",
    "NUM_EPOCH = 70\n",
    "BATCH_SIZE = 1 # Hay pocas imagenes por ende se prueba con un batch pequeño y al usar 2 sale un error que no se que sera pero creo que es algo con la GPU\n",
    "MODEL = \"Encoder-Decoder\"\n",
    "print(\"TRAIN \\npython main.py --mode train --dataset\",DATASET_PATH, \"--crop_height\",CROP_SIZE,\"--crop_width\",CROP_SIZE,\"--num_epochs\",NUM_EPOCH,\"--batch_size\",BATCH_SIZE,\"--model\",MODEL,\" > train.text\")\n",
    "print(\"\")\n",
    "print(\"TEST \\npython main.py --mode test --dataset\",DATASET_PATH, \"--crop_height\",CROP_SIZE,\"--crop_width\",CROP_SIZE,\"--num_epochs\",NUM_EPOCH,\"--batch_size\",BATCH_SIZE,\"--model\",MODEL,\" > test.text\")"
   ]
  },
  {
   "cell_type": "code",
   "execution_count": 17,
   "metadata": {},
   "outputs": [
    {
     "name": "stdout",
     "output_type": "stream",
     "text": [
      "PRUEBA N° 3 REALIZADA\n"
     ]
    }
   ],
   "source": [
    "os.makedirs(\"Pruebas/prueba_\"+str(NUMPRU))\n",
    "os.rename(\"accuracy_vs_epochs.png\",\"Pruebas/prueba_\"+str(NUMPRU)+\"/accuracy_vs_epochs.png\")\n",
    "os.rename(\"loss_vs_epochs.png\", \"Pruebas/prueba_\"+str(NUMPRU)+\"/loss_vs_epochs.png\")\n",
    "os.rename(\"train.text\", \"Pruebas/prueba_\"+str(NUMPRU)+\"/train.text\")\n",
    "os.rename(\"test.text\", \"Pruebas/prueba_\"+str(NUMPRU)+\"/test.text\")\n",
    "os.rename(\"Val\", \"Pruebas/prueba_\"+str(NUMPRU)+\"/Val\")   \n",
    "print(\"PRUEBA N°\",NUMPRU,\"REALIZADA\")"
   ]
  },
  {
   "cell_type": "code",
   "execution_count": 19,
   "metadata": {},
   "outputs": [
    {
     "name": "stdout",
     "output_type": "stream",
     "text": [
      "TRAIN \n",
      "python main.py --mode train --dataset OVERLAECOBO_13 --crop_height 256 --crop_width 256 --num_epochs 70 --batch_size 2 --model Encoder-Decoder  > train.text\n",
      "\n",
      "TEST \n",
      "python main.py --mode test --dataset OVERLAECOBO_13 --crop_height 256 --crop_width 256 --num_epochs 70 --batch_size 2 --model Encoder-Decoder  > test.text\n"
     ]
    }
   ],
   "source": [
    "NUMPRU = 4\n",
    "DATASET_PATH = \"OVERLAECOBO_13\"\n",
    "CROP_SIZE = 256\n",
    "NUM_EPOCH = 70\n",
    "BATCH_SIZE = 2 # Hay pocas imagenes por ende se prueba con un batch pequeño y al usar 2 sale un error que no se que sera pero creo que es algo con la GPU\n",
    "MODEL = \"Encoder-Decoder\"\n",
    "print(\"TRAIN \\npython main.py --mode train --dataset\",DATASET_PATH, \"--crop_height\",CROP_SIZE,\"--crop_width\",CROP_SIZE,\"--num_epochs\",NUM_EPOCH,\"--batch_size\",BATCH_SIZE,\"--model\",MODEL,\" > train.text\")\n",
    "print(\"\")\n",
    "print(\"TEST \\npython main.py --mode test --dataset\",DATASET_PATH, \"--crop_height\",CROP_SIZE,\"--crop_width\",CROP_SIZE,\"--num_epochs\",NUM_EPOCH,\"--batch_size\",BATCH_SIZE,\"--model\",MODEL,\" > test.text\")"
   ]
  },
  {
   "cell_type": "code",
   "execution_count": 20,
   "metadata": {},
   "outputs": [
    {
     "name": "stdout",
     "output_type": "stream",
     "text": [
      "PRUEBA N° 4 REALIZADA\n"
     ]
    }
   ],
   "source": [
    "os.makedirs(\"Pruebas/prueba_\"+str(NUMPRU))\n",
    "os.rename(\"accuracy_vs_epochs.png\",\"Pruebas/prueba_\"+str(NUMPRU)+\"/accuracy_vs_epochs.png\")\n",
    "os.rename(\"loss_vs_epochs.png\", \"Pruebas/prueba_\"+str(NUMPRU)+\"/loss_vs_epochs.png\")\n",
    "os.rename(\"train.text\", \"Pruebas/prueba_\"+str(NUMPRU)+\"/train.text\")\n",
    "os.rename(\"test.text\", \"Pruebas/prueba_\"+str(NUMPRU)+\"/test.text\")\n",
    "os.rename(\"Val\", \"Pruebas/prueba_\"+str(NUMPRU)+\"/Val\")   \n",
    "print(\"PRUEBA N°\",NUMPRU,\"REALIZADA\")"
   ]
  },
  {
   "cell_type": "markdown",
   "metadata": {},
   "source": [
    "<h3 style=\"color:#5C6BC0\"> Encoder-Decoder-Skip </h3>\n"
   ]
  },
  {
   "cell_type": "code",
   "execution_count": 26,
   "metadata": {},
   "outputs": [
    {
     "name": "stdout",
     "output_type": "stream",
     "text": [
      "TRAIN \n",
      "python main.py --mode train --dataset OVERLAECOBO_13 --crop_height 256 --crop_width 256 --num_epochs 70 --batch_size 1 --model Encoder-Decoder-Skip  > train.text\n",
      "\n",
      "TEST \n",
      "python main.py --mode test --dataset OVERLAECOBO_13 --crop_height 256 --crop_width 256 --num_epochs 70 --batch_size 1 --model Encoder-Decoder-Skip  > test.text\n"
     ]
    }
   ],
   "source": [
    "NUMPRU = 5\n",
    "DATASET_PATH = \"OVERLAECOBO_13\"\n",
    "CROP_SIZE = 256\n",
    "NUM_EPOCH = 70\n",
    "BATCH_SIZE = 1 # Hay pocas imagenes por ende se prueba con un batch pequeño y al usar 2 sale un error que no se que sera pero creo que es algo con la GPU\n",
    "MODEL = \"Encoder-Decoder-Skip\" \n",
    "print(\"TRAIN \\npython main.py --mode train --dataset\",DATASET_PATH, \"--crop_height\",CROP_SIZE,\"--crop_width\",CROP_SIZE,\"--num_epochs\",NUM_EPOCH,\"--batch_size\",BATCH_SIZE,\"--model\",MODEL,\" > train.text\")\n",
    "print(\"\")\n",
    "print(\"TEST \\npython main.py --mode test --dataset\",DATASET_PATH, \"--crop_height\",CROP_SIZE,\"--crop_width\",CROP_SIZE,\"--num_epochs\",NUM_EPOCH,\"--batch_size\",BATCH_SIZE,\"--model\",MODEL,\" > test.text\")"
   ]
  },
  {
   "cell_type": "code",
   "execution_count": 27,
   "metadata": {},
   "outputs": [
    {
     "name": "stdout",
     "output_type": "stream",
     "text": [
      "PRUEBA N° 5 REALIZADA\n"
     ]
    }
   ],
   "source": [
    "os.makedirs(\"Pruebas/prueba_\"+str(NUMPRU))\n",
    "os.rename(\"accuracy_vs_epochs.png\",\"Pruebas/prueba_\"+str(NUMPRU)+\"/accuracy_vs_epochs.png\")\n",
    "os.rename(\"loss_vs_epochs.png\", \"Pruebas/prueba_\"+str(NUMPRU)+\"/loss_vs_epochs.png\")\n",
    "os.rename(\"train.text\", \"Pruebas/prueba_\"+str(NUMPRU)+\"/train.text\")\n",
    "os.rename(\"test.text\", \"Pruebas/prueba_\"+str(NUMPRU)+\"/test.text\")\n",
    "os.rename(\"Val\", \"Pruebas/prueba_\"+str(NUMPRU)+\"/Val\")   \n",
    "print(\"PRUEBA N°\",NUMPRU,\"REALIZADA\")"
   ]
  },
  {
   "cell_type": "code",
   "execution_count": 31,
   "metadata": {},
   "outputs": [
    {
     "name": "stdout",
     "output_type": "stream",
     "text": [
      "TRAIN \n",
      "python main.py --mode train --dataset OVERLAECOBO_13 --crop_height 256 --crop_width 256 --num_epochs 70 --batch_size 2 --model Encoder-Decoder-Skip  > train.text\n",
      "\n",
      "TEST \n",
      "python main.py --mode test --dataset OVERLAECOBO_13 --crop_height 256 --crop_width 256 --num_epochs 70 --batch_size 2 --model Encoder-Decoder-Skip  > test.text\n"
     ]
    }
   ],
   "source": [
    "NUMPRU = 6\n",
    "DATASET_PATH = \"OVERLAECOBO_13\"\n",
    "CROP_SIZE = 256\n",
    "NUM_EPOCH = 70\n",
    "BATCH_SIZE = 2 # Hay pocas imagenes por ende se prueba con un batch pequeño y al usar 2 sale un error que no se que sera pero creo que es algo con la GPU\n",
    "MODEL = \"Encoder-Decoder-Skip\" \n",
    "print(\"TRAIN \\npython main.py --mode train --dataset\",DATASET_PATH, \"--crop_height\",CROP_SIZE,\"--crop_width\",CROP_SIZE,\"--num_epochs\",NUM_EPOCH,\"--batch_size\",BATCH_SIZE,\"--model\",MODEL,\" > train.text\")\n",
    "print(\"\")\n",
    "print(\"TEST \\npython main.py --mode test --dataset\",DATASET_PATH, \"--crop_height\",CROP_SIZE,\"--crop_width\",CROP_SIZE,\"--num_epochs\",NUM_EPOCH,\"--batch_size\",BATCH_SIZE,\"--model\",MODEL,\" > test.text\")"
   ]
  },
  {
   "cell_type": "code",
   "execution_count": 32,
   "metadata": {},
   "outputs": [
    {
     "name": "stdout",
     "output_type": "stream",
     "text": [
      "PRUEBA N° 6 REALIZADA\n"
     ]
    }
   ],
   "source": [
    "os.makedirs(\"Pruebas/prueba_\"+str(NUMPRU))\n",
    "os.rename(\"accuracy_vs_epochs.png\",\"Pruebas/prueba_\"+str(NUMPRU)+\"/accuracy_vs_epochs.png\")\n",
    "os.rename(\"loss_vs_epochs.png\", \"Pruebas/prueba_\"+str(NUMPRU)+\"/loss_vs_epochs.png\")\n",
    "os.rename(\"train.text\", \"Pruebas/prueba_\"+str(NUMPRU)+\"/train.text\")\n",
    "os.rename(\"test.text\", \"Pruebas/prueba_\"+str(NUMPRU)+\"/test.text\")\n",
    "os.rename(\"Val\", \"Pruebas/prueba_\"+str(NUMPRU)+\"/Val\")   \n",
    "print(\"PRUEBA N°\",NUMPRU,\"REALIZADA\")"
   ]
  },
  {
   "cell_type": "markdown",
   "metadata": {},
   "source": [
    "<h3 style=\"color:#5C6BC0\"> FRRN-A </h3>\n"
   ]
  },
  {
   "cell_type": "code",
   "execution_count": 36,
   "metadata": {},
   "outputs": [
    {
     "name": "stdout",
     "output_type": "stream",
     "text": [
      "TRAIN \n",
      "python main.py --mode train --dataset OVERLAECOBO_13 --crop_height 256 --crop_width 256 --num_epochs 70 --batch_size 1 --model FRRN-A   > train.text\n",
      "\n",
      "TEST \n",
      "python main.py --mode test --dataset OVERLAECOBO_13 --crop_height 256 --crop_width 256 --num_epochs 70 --batch_size 1 --model FRRN-A   > test.text\n"
     ]
    }
   ],
   "source": [
    "NUMPRU = 7\n",
    "DATASET_PATH = \"OVERLAECOBO_13\"\n",
    "CROP_SIZE = 256\n",
    "NUM_EPOCH = 70\n",
    "BATCH_SIZE = 1 # Hay pocas imagenes por ende se prueba con un batch pequeño y al usar 2 sale un error que no se que sera pero creo que es algo con la GPU\n",
    "MODEL = \"FRRN-A \"\n",
    "print(\"TRAIN \\npython main.py --mode train --dataset\",DATASET_PATH, \"--crop_height\",CROP_SIZE,\"--crop_width\",CROP_SIZE,\"--num_epochs\",NUM_EPOCH,\"--batch_size\",BATCH_SIZE,\"--model\",MODEL,\" > train.text\")\n",
    "print(\"\")\n",
    "print(\"TEST \\npython main.py --mode test --dataset\",DATASET_PATH, \"--crop_height\",CROP_SIZE,\"--crop_width\",CROP_SIZE,\"--num_epochs\",NUM_EPOCH,\"--batch_size\",BATCH_SIZE,\"--model\",MODEL,\" > test.text\")"
   ]
  },
  {
   "cell_type": "code",
   "execution_count": 37,
   "metadata": {},
   "outputs": [
    {
     "name": "stdout",
     "output_type": "stream",
     "text": [
      "PRUEBA N° 7 REALIZADA\n"
     ]
    }
   ],
   "source": [
    "os.makedirs(\"Pruebas/prueba_\"+str(NUMPRU))\n",
    "os.rename(\"accuracy_vs_epochs.png\",\"Pruebas/prueba_\"+str(NUMPRU)+\"/accuracy_vs_epochs.png\")\n",
    "os.rename(\"loss_vs_epochs.png\", \"Pruebas/prueba_\"+str(NUMPRU)+\"/loss_vs_epochs.png\")\n",
    "os.rename(\"train.text\", \"Pruebas/prueba_\"+str(NUMPRU)+\"/train.text\")\n",
    "os.rename(\"test.text\", \"Pruebas/prueba_\"+str(NUMPRU)+\"/test.text\")\n",
    "os.rename(\"Val\", \"Pruebas/prueba_\"+str(NUMPRU)+\"/Val\")   \n",
    "print(\"PRUEBA N°\",NUMPRU,\"REALIZADA\")"
   ]
  },
  {
   "cell_type": "markdown",
   "metadata": {},
   "source": [
    "<h3 style=\"color:#5C6BC0\"> MobileUNet </h3>\n"
   ]
  },
  {
   "cell_type": "code",
   "execution_count": 40,
   "metadata": {},
   "outputs": [
    {
     "name": "stdout",
     "output_type": "stream",
     "text": [
      "TRAIN \n",
      "python main.py --mode train --dataset OVERLAECOBO_13 --crop_height 256 --crop_width 256 --num_epochs 70 --batch_size 1 --model MobileUNet   > train.text\n",
      "\n",
      "TEST \n",
      "python main.py --mode test --dataset OVERLAECOBO_13 --crop_height 256 --crop_width 256 --num_epochs 70 --batch_size 1 --model MobileUNet   > test.text\n"
     ]
    }
   ],
   "source": [
    "NUMPRU = 8\n",
    "DATASET_PATH = \"OVERLAECOBO_13\"\n",
    "CROP_SIZE = 256\n",
    "NUM_EPOCH = 70\n",
    "BATCH_SIZE = 1 # Hay pocas imagenes por ende se prueba con un batch pequeño y al usar 2 sale un error que no se que sera pero creo que es algo con la GPU\n",
    "MODEL = \"MobileUNet \"\n",
    "print(\"TRAIN \\npython main.py --mode train --dataset\",DATASET_PATH, \"--crop_height\",CROP_SIZE,\"--crop_width\",CROP_SIZE,\"--num_epochs\",NUM_EPOCH,\"--batch_size\",BATCH_SIZE,\"--model\",MODEL,\" > train.text\")\n",
    "print(\"\")\n",
    "print(\"TEST \\npython main.py --mode test --dataset\",DATASET_PATH, \"--crop_height\",CROP_SIZE,\"--crop_width\",CROP_SIZE,\"--num_epochs\",NUM_EPOCH,\"--batch_size\",BATCH_SIZE,\"--model\",MODEL,\" > test.text\")"
   ]
  },
  {
   "cell_type": "code",
   "execution_count": 41,
   "metadata": {},
   "outputs": [
    {
     "name": "stdout",
     "output_type": "stream",
     "text": [
      "PRUEBA N° 8 REALIZADA\n"
     ]
    }
   ],
   "source": [
    "os.makedirs(\"Pruebas/prueba_\"+str(NUMPRU))\n",
    "os.rename(\"accuracy_vs_epochs.png\",\"Pruebas/prueba_\"+str(NUMPRU)+\"/accuracy_vs_epochs.png\")\n",
    "os.rename(\"loss_vs_epochs.png\", \"Pruebas/prueba_\"+str(NUMPRU)+\"/loss_vs_epochs.png\")\n",
    "os.rename(\"train.text\", \"Pruebas/prueba_\"+str(NUMPRU)+\"/train.text\")\n",
    "os.rename(\"test.text\", \"Pruebas/prueba_\"+str(NUMPRU)+\"/test.text\")\n",
    "os.rename(\"Val\", \"Pruebas/prueba_\"+str(NUMPRU)+\"/Val\")   \n",
    "print(\"PRUEBA N°\",NUMPRU,\"REALIZADA\")"
   ]
  },
  {
   "cell_type": "code",
   "execution_count": 42,
   "metadata": {},
   "outputs": [
    {
     "name": "stdout",
     "output_type": "stream",
     "text": [
      "TRAIN \n",
      "python main.py --mode train --dataset OVERLAECOBO_13 --crop_height 256 --crop_width 256 --num_epochs 70 --batch_size 2 --model MobileUNet   > train.text\n",
      "\n",
      "TEST \n",
      "python main.py --mode test --dataset OVERLAECOBO_13 --crop_height 256 --crop_width 256 --num_epochs 70 --batch_size 2 --model MobileUNet   > test.text\n"
     ]
    }
   ],
   "source": [
    "NUMPRU = 9\n",
    "DATASET_PATH = \"OVERLAECOBO_13\"\n",
    "CROP_SIZE = 256\n",
    "NUM_EPOCH = 70\n",
    "BATCH_SIZE = 2 # Hay pocas imagenes por ende se prueba con un batch pequeño y al usar 2 sale un error que no se que sera pero creo que es algo con la GPU\n",
    "MODEL = \"MobileUNet \"\n",
    "print(\"TRAIN \\npython main.py --mode train --dataset\",DATASET_PATH, \"--crop_height\",CROP_SIZE,\"--crop_width\",CROP_SIZE,\"--num_epochs\",NUM_EPOCH,\"--batch_size\",BATCH_SIZE,\"--model\",MODEL,\" > train.text\")\n",
    "print(\"\")\n",
    "print(\"TEST \\npython main.py --mode test --dataset\",DATASET_PATH, \"--crop_height\",CROP_SIZE,\"--crop_width\",CROP_SIZE,\"--num_epochs\",NUM_EPOCH,\"--batch_size\",BATCH_SIZE,\"--model\",MODEL,\" > test.text\")"
   ]
  },
  {
   "cell_type": "code",
   "execution_count": 43,
   "metadata": {},
   "outputs": [
    {
     "name": "stdout",
     "output_type": "stream",
     "text": [
      "PRUEBA N° 9 REALIZADA\n"
     ]
    }
   ],
   "source": [
    "os.makedirs(\"Pruebas/prueba_\"+str(NUMPRU))\n",
    "os.rename(\"accuracy_vs_epochs.png\",\"Pruebas/prueba_\"+str(NUMPRU)+\"/accuracy_vs_epochs.png\")\n",
    "os.rename(\"loss_vs_epochs.png\", \"Pruebas/prueba_\"+str(NUMPRU)+\"/loss_vs_epochs.png\")\n",
    "os.rename(\"train.text\", \"Pruebas/prueba_\"+str(NUMPRU)+\"/train.text\")\n",
    "os.rename(\"test.text\", \"Pruebas/prueba_\"+str(NUMPRU)+\"/test.text\")\n",
    "os.rename(\"Val\", \"Pruebas/prueba_\"+str(NUMPRU)+\"/Val\")   \n",
    "print(\"PRUEBA N°\",NUMPRU,\"REALIZADA\")"
   ]
  },
  {
   "cell_type": "markdown",
   "metadata": {},
   "source": [
    "<h3 style=\"color:#5C6BC0\"> MobileUNet-Skip </h3>\n"
   ]
  },
  {
   "cell_type": "code",
   "execution_count": 45,
   "metadata": {},
   "outputs": [
    {
     "name": "stdout",
     "output_type": "stream",
     "text": [
      "TRAIN \n",
      "python main.py --mode train --dataset OVERLAECOBO_13 --crop_height 256 --crop_width 256 --num_epochs 70 --batch_size 1 --model MobileUNet-Skip  > train.text\n",
      "\n",
      "TEST \n",
      "python main.py --mode test --dataset OVERLAECOBO_13 --crop_height 256 --crop_width 256 --num_epochs 70 --batch_size 1 --model MobileUNet-Skip  > test.text\n"
     ]
    }
   ],
   "source": [
    "NUMPRU = 10\n",
    "DATASET_PATH = \"OVERLAECOBO_13\"\n",
    "CROP_SIZE = 256\n",
    "NUM_EPOCH = 70\n",
    "BATCH_SIZE = 1 # Hay pocas imagenes por ende se prueba con un batch pequeño y al usar 2 sale un error que no se que sera pero creo que es algo con la GPU\n",
    "MODEL = \"MobileUNet-Skip\"\n",
    "print(\"TRAIN \\npython main.py --mode train --dataset\",DATASET_PATH, \"--crop_height\",CROP_SIZE,\"--crop_width\",CROP_SIZE,\"--num_epochs\",NUM_EPOCH,\"--batch_size\",BATCH_SIZE,\"--model\",MODEL,\" > train.text\")\n",
    "print(\"\")\n",
    "print(\"TEST \\npython main.py --mode test --dataset\",DATASET_PATH, \"--crop_height\",CROP_SIZE,\"--crop_width\",CROP_SIZE,\"--num_epochs\",NUM_EPOCH,\"--batch_size\",BATCH_SIZE,\"--model\",MODEL,\" > test.text\")"
   ]
  },
  {
   "cell_type": "code",
   "execution_count": 46,
   "metadata": {},
   "outputs": [
    {
     "name": "stdout",
     "output_type": "stream",
     "text": [
      "PRUEBA N° 10 REALIZADA\n"
     ]
    }
   ],
   "source": [
    "os.makedirs(\"Pruebas/prueba_\"+str(NUMPRU))\n",
    "os.rename(\"accuracy_vs_epochs.png\",\"Pruebas/prueba_\"+str(NUMPRU)+\"/accuracy_vs_epochs.png\")\n",
    "os.rename(\"loss_vs_epochs.png\", \"Pruebas/prueba_\"+str(NUMPRU)+\"/loss_vs_epochs.png\")\n",
    "os.rename(\"train.text\", \"Pruebas/prueba_\"+str(NUMPRU)+\"/train.text\")\n",
    "os.rename(\"test.text\", \"Pruebas/prueba_\"+str(NUMPRU)+\"/test.text\")\n",
    "os.rename(\"Val\", \"Pruebas/prueba_\"+str(NUMPRU)+\"/Val\")   \n",
    "print(\"PRUEBA N°\",NUMPRU,\"REALIZADA\")"
   ]
  },
  {
   "cell_type": "code",
   "execution_count": 47,
   "metadata": {},
   "outputs": [
    {
     "name": "stdout",
     "output_type": "stream",
     "text": [
      "TRAIN \n",
      "python main.py --mode train --dataset OVERLAECOBO_13 --crop_height 256 --crop_width 256 --num_epochs 70 --batch_size 2 --model MobileUNet-Skip  > train.text\n",
      "\n",
      "TEST \n",
      "python main.py --mode test --dataset OVERLAECOBO_13 --crop_height 256 --crop_width 256 --num_epochs 70 --batch_size 2 --model MobileUNet-Skip  > test.text\n"
     ]
    }
   ],
   "source": [
    "NUMPRU = 11\n",
    "DATASET_PATH = \"OVERLAECOBO_13\"\n",
    "CROP_SIZE = 256\n",
    "NUM_EPOCH = 70\n",
    "BATCH_SIZE = 2 # Hay pocas imagenes por ende se prueba con un batch pequeño y al usar 2 sale un error que no se que sera pero creo que es algo con la GPU\n",
    "MODEL = \"MobileUNet-Skip\"\n",
    "print(\"TRAIN \\npython main.py --mode train --dataset\",DATASET_PATH, \"--crop_height\",CROP_SIZE,\"--crop_width\",CROP_SIZE,\"--num_epochs\",NUM_EPOCH,\"--batch_size\",BATCH_SIZE,\"--model\",MODEL,\" > train.text\")\n",
    "print(\"\")\n",
    "print(\"TEST \\npython main.py --mode test --dataset\",DATASET_PATH, \"--crop_height\",CROP_SIZE,\"--crop_width\",CROP_SIZE,\"--num_epochs\",NUM_EPOCH,\"--batch_size\",BATCH_SIZE,\"--model\",MODEL,\" > test.text\")"
   ]
  },
  {
   "cell_type": "code",
   "execution_count": 48,
   "metadata": {},
   "outputs": [
    {
     "name": "stdout",
     "output_type": "stream",
     "text": [
      "PRUEBA N° 11 REALIZADA\n"
     ]
    }
   ],
   "source": [
    "os.makedirs(\"Pruebas/prueba_\"+str(NUMPRU))\n",
    "os.rename(\"accuracy_vs_epochs.png\",\"Pruebas/prueba_\"+str(NUMPRU)+\"/accuracy_vs_epochs.png\")\n",
    "os.rename(\"loss_vs_epochs.png\", \"Pruebas/prueba_\"+str(NUMPRU)+\"/loss_vs_epochs.png\")\n",
    "os.rename(\"train.text\", \"Pruebas/prueba_\"+str(NUMPRU)+\"/train.text\")\n",
    "os.rename(\"test.text\", \"Pruebas/prueba_\"+str(NUMPRU)+\"/test.text\")\n",
    "os.rename(\"Val\", \"Pruebas/prueba_\"+str(NUMPRU)+\"/Val\")   \n",
    "print(\"PRUEBA N°\",NUMPRU,\"REALIZADA\")"
   ]
  }
 ],
 "metadata": {
  "kernelspec": {
   "display_name": "Python 3",
   "language": "python",
   "name": "python3"
  },
  "language_info": {
   "codemirror_mode": {
    "name": "ipython",
    "version": 3
   },
   "file_extension": ".py",
   "mimetype": "text/x-python",
   "name": "python",
   "nbconvert_exporter": "python",
   "pygments_lexer": "ipython3",
   "version": "3.6.5"
  }
 },
 "nbformat": 4,
 "nbformat_minor": 2
}
