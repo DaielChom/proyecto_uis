{
 "cells": [
  {
   "cell_type": "code",
   "execution_count": 12,
   "metadata": {},
   "outputs": [],
   "source": [
    "import pandas as pd"
   ]
  },
  {
   "cell_type": "markdown",
   "metadata": {},
   "source": [
    "# Training OVERLAECOBO\n",
    "En este notebook se llevaran acabo las pruebas con OVERLAECOBO, se probaran los distintos ZOOMS y la informacion extra para asi escoger la mejor configuracion de dataset y de red neuronal. Como primer paso sera obtener el repositorio donde estan las redes entrenadas y preparalo para su funcionamiento con OVERLAECOBO"
   ]
  },
  {
   "cell_type": "code",
   "execution_count": null,
   "metadata": {},
   "outputs": [],
   "source": [
    "!git clone https://github.com/GeorgeSeif/Semantic-Segmentation-Suite.git"
   ]
  },
  {
   "cell_type": "markdown",
   "metadata": {},
   "source": [
    "¿Que pruebas se van a realizar?\n",
    "* Un entrenamiento con cada uno de los zooms sin informacion aumentada\n",
    "* Un entrenamiento con cada uno de los zooms con informacion aumentada\n",
    "\n",
    "Las pruebas tendran la etiqueta del lugar donde fueron realizadas, esto debido a que hoy (24 - 05 -18) aun no tengo una cuenta e guane, sin olvidar que cuando la tenga debo hacer configuraciones e instalar tensorflow lo que conllevara bastante tiempo, tiempo en el que podria hacer pruebas en mi pc. Tambien se documentará los parametros a usar, epoch, batch_size, etc."
   ]
  },
  {
   "cell_type": "markdown",
   "metadata": {},
   "source": [
    "## 1. Preparar el dataset para usar la Suite\n",
    "Dado que la suite tiene su propia estructura para el dataset, se hace necesario cambiar los directorios a dicha estructura, y aqui se presenta un inconveniente y es que segun un [issue](https://github.com/GeorgeSeif/Semantic-Segmentation-Suite/issues/65) que encontre hoy (24 - 05 - 18 7:18 am) y segun eso de hace una hora, en el framework no usan las imagenes de test, entonces:\n",
    "1.  mi test se vuelve el nuevo valid y no existitian imagenes para test y siguo usando el framework\n",
    "2. cambio todo lo interno del repo para que use test y duro otra semana sacando mi dataset con la nueva division de 3 partes y no solo dos como lo hice\n",
    "3. busco otro repositorio\n",
    "\n",
    "Me quedaré con la segunda opcion, la tercera no me cuadra ya con este esta sirviendo, podria atacar el problema con otras cuestiones, primero el issue es muy reciente y podria estar pendiente de cuando haga los arreglos y pues solo seria volver a copiar el repo y si no dan solucion tan solo crear un metodo para sacar un score, para predecir se predice con una imagen, le paso for a la carpeta test, que predicga y luego trato de sacar algun score haciedno comparaciones alfin y alcabo la cuestion es de que entrene"
   ]
  },
  {
   "cell_type": "markdown",
   "metadata": {},
   "source": [
    "### 1.1 Restructurando dataset\n",
    "La suite pide una estrucutra de dataset de la siguiente manera.\n",
    "\n",
    "           - dataset\n",
    "               - train\n",
    "               - train_labels\n",
    "               - valid\n",
    "               - valid_labels\n",
    "               - class_dict.scv\n",
    "\n",
    "cabe aclarar que esta vendria siendo la estructura para un unico zoom asi que dentro de la carpeta actual de OVERLAECOBO creare nuevas carpetas con cada zoom y luego dentro dividir en train y valid."
   ]
  },
  {
   "cell_type": "code",
   "execution_count": 7,
   "metadata": {},
   "outputs": [],
   "source": [
    "import os"
   ]
  },
  {
   "cell_type": "code",
   "execution_count": 5,
   "metadata": {},
   "outputs": [],
   "source": [
    "for i in range(8):\n",
    "    os.mkdir(\"./data/dataset/OVERLAECOBO/OVERLAECOBO_\"+str(i+13))"
   ]
  },
  {
   "cell_type": "code",
   "execution_count": 8,
   "metadata": {},
   "outputs": [],
   "source": [
    "for i in range(8):\n",
    "    os.rename(\"./data/dataset/OVERLAECOBO/train/satellite/\"+str(i+13), \"./data/dataset/OVERLAECOBO/OVERLAECOBO_\"+str(i+13)+\"/train\")\n",
    "    os.rename(\"./data/dataset/OVERLAECOBO/train/economic_layer/\"+str(i+13), \"./data/dataset/OVERLAECOBO/OVERLAECOBO_\"+str(i+13)+\"/train_labels\")\n",
    "    os.rename(\"./data/dataset/OVERLAECOBO/test/satellite/\"+str(i+13), \"./data/dataset/OVERLAECOBO/OVERLAECOBO_\"+str(i+13)+\"/val\") \n",
    "    os.rename(\"./data/dataset/OVERLAECOBO/test/economic_layer/\"+str(i+13), \"./data/dataset/OVERLAECOBO/OVERLAECOBO_\"+str(i+13)+\"/val_labels\")    "
   ]
  },
  {
   "cell_type": "markdown",
   "metadata": {},
   "source": [
    "Queria copiar con codigo los archivos class_dict pero al parece la libreia os no tiene un `cp` y con shutil habia como 4 metodos para copiar, aisque lo hice manual"
   ]
  },
  {
   "cell_type": "markdown",
   "metadata": {},
   "source": [
    "### 1.2 Switch Train Test\n",
    "Dado que al parecer las carpetas valid tienes mas datos de las de train hare un switch entoncs valid pasara a ser train y train valid"
   ]
  },
  {
   "cell_type": "code",
   "execution_count": 11,
   "metadata": {},
   "outputs": [],
   "source": [
    "for i in range(7):\n",
    "    os.rename(\"./OVERLAECOBO_\"+str(i+14)+\"/train\",\"./OVERLAECOBO_\"+str(i+14)+\"/pibote\")\n",
    "    os.rename(\"./OVERLAECOBO_\"+str(i+14)+\"/train_labels\",\"./OVERLAECOBO_\"+str(i+14)+\"/pibote_labels\")\n",
    "    os.rename(\"./OVERLAECOBO_\"+str(i+14)+\"/valid\",\"./OVERLAECOBO_\"+str(i+14)+\"/train\")\n",
    "    os.rename(\"./OVERLAECOBO_\"+str(i+14)+\"/valid_labels\",\"./OVERLAECOBO_\"+str(i+14)+\"/train_labels\")\n",
    "    os.rename(\"./OVERLAECOBO_\"+str(i+14)+\"/pibote\",\"./OVERLAECOBO_\"+str(i+14)+\"/val\")\n",
    "    os.rename(\"./OVERLAECOBO_\"+str(i+14)+\"/pibote_labels\",\"./OVERLAECOBO_\"+str(i+14)+\"/val_labels\")   "
   ]
  },
  {
   "cell_type": "markdown",
   "metadata": {},
   "source": [
    "## 2. Metricas\n",
    "Al parecer el framework usa varias metricas provenientes de sklearn, y lo se dado a que en uno de sus archivos `.py` se encuentra el siguiente import\n",
    "\n",
    "      from sklearn.metrics import precision_score, recall_score, confusion_matrix, classification_report, accuracy_score, f1_score\n",
    "   \n",
    "y mirando en la documentacion de sklearn, dichas metricas significan [precision_score](http://scikit-learn.org/stable/modules/generated/sklearn.metrics.precision_score.html#sklearn.metrics.precision_score), [recall_score](http://scikit-learn.org/stable/modules/generated/sklearn.metrics.recall_score.html#sklearn.metrics.recall_score), [f1_score](http://scikit-learn.org/stable/modules/generated/sklearn.metrics.f1_score.html#sklearn.metrics.f1_score)\n",
    "\n",
    "## 3. Pruebas\n",
    "Y por ahora (24 - May - 2018) que aun no tengo la cuenta de guane iniciare las pruebas e mi GPU y con los ZOOMs mas grandes puesto que hay menos imagenes. una de las cosas es que podria probar varios modelos, entre los que permite la suite\n",
    "\n",
    "* DenseNet56\n",
    "* FC-DenseNet67\n",
    "* FC-DenseNet103 \n",
    "* Encoder-Decoder\n",
    "* Encoder-Decoder-Skip\n",
    "* RefineNet-Res50\n",
    "* RefineNet-Res101 \n",
    "* RefineNet-Res152\n",
    "* FRRN-A\n",
    "* FRRN-B\n",
    "* MobileUNet\n",
    "* MobileUNet-Skip\n",
    "* PSPNet-Res50 \n",
    "* PSPNet-Res101\n",
    "* PSPNet-Res152\n",
    "* GCN-Res50 \n",
    "* GCN-Res101\n",
    "* GCN-Res152\n",
    "\n",
    "Para cada prueba se realizara un train, un test y un predcit. el predict será de una imagen cualquiera del directorio valid\n",
    "\n",
    "### 3.1 Sin Información extra\n",
    "\n",
    "Las pruebas a realizar a continuacion son pruebas echas meramente con los 3 canales de una imagen RGB, para las pruebas con informacion extra se agregaran uno o mas canales, dependiendo de la informacion obtenida y la capacidad del framework\n",
    "\n",
    "<h4 style=\"color:#c62828\"> Prueba # 1 </h4>"
   ]
  },
  {
   "cell_type": "markdown",
   "metadata": {},
   "source": [
    "Prueba realizada con los siguientes parametros"
   ]
  },
  {
   "cell_type": "code",
   "execution_count": 2,
   "metadata": {},
   "outputs": [],
   "source": [
    "DATASET_PATH = \"OVERLAECOBO_13\"\n",
    "CROP_SIZE = 256\n",
    "NUM_EPOCH = 20\n",
    "BATCH_SIZE = 1 # Hay pocas imagenes por ende se prueba con un batch pequeño\n",
    "MODEL = \"FC-DenseNet56\""
   ]
  },
  {
   "cell_type": "code",
   "execution_count": null,
   "metadata": {},
   "outputs": [],
   "source": [
    "%%time\n",
    "!python main.py --mode train --dataset {DATASET_PATH} --crop_height {CROP_SIZE} --crop_width {CROP_SIZE} --num_epochs {NUM_EPOCH} --batch_size {BATCH_SIZE} --model {MODEL}"
   ]
  },
  {
   "cell_type": "markdown",
   "metadata": {},
   "source": [
    "#### Resultados:\n",
    "##### Train results\n",
    "<center>\n",
    "<div style=\"width:60%\">\n",
    "    \n",
    "![accuracy_vs_epochs](./pruebas/prueba 1/accuracy_vs_epochs.png)\n",
    "</div>\n",
    "</center>\n",
    "\n",
    "<center>\n",
    "<div style=\"width:60%\">\n",
    "    \n",
    "![loss_vs_epochs](./pruebas/prueba 1/loss_vs_epochs.png)\n",
    "</div>\n",
    "</center>\n",
    "\n",
    "##### Test Result"
   ]
  },
  {
   "cell_type": "code",
   "execution_count": 13,
   "metadata": {
    "scrolled": true
   },
   "outputs": [
    {
     "data": {
      "text/html": [
       "<div>\n",
       "<style scoped>\n",
       "    .dataframe tbody tr th:only-of-type {\n",
       "        vertical-align: middle;\n",
       "    }\n",
       "\n",
       "    .dataframe tbody tr th {\n",
       "        vertical-align: top;\n",
       "    }\n",
       "\n",
       "    .dataframe thead th {\n",
       "        text-align: right;\n",
       "    }\n",
       "</style>\n",
       "<table border=\"1\" class=\"dataframe\">\n",
       "  <thead>\n",
       "    <tr style=\"text-align: right;\">\n",
       "      <th></th>\n",
       "      <th>val_name</th>\n",
       "      <th>avg_accuracy</th>\n",
       "      <th>precision</th>\n",
       "      <th>recall</th>\n",
       "      <th>f1 score</th>\n",
       "      <th>mean iou Estrato_1</th>\n",
       "      <th>Estrato_2</th>\n",
       "      <th>Estrato_3</th>\n",
       "      <th>Estrato_4</th>\n",
       "      <th>Estrato_5</th>\n",
       "      <th>Estrato_6</th>\n",
       "      <th>No_Definido</th>\n",
       "    </tr>\n",
       "  </thead>\n",
       "  <tbody>\n",
       "    <tr>\n",
       "      <th>0</th>\n",
       "      <td>0.077682</td>\n",
       "      <td>0.567242</td>\n",
       "      <td>0.077682</td>\n",
       "      <td>0.070037</td>\n",
       "      <td>0.025534</td>\n",
       "      <td>0.047451</td>\n",
       "      <td>0.038488</td>\n",
       "      <td>0.031355</td>\n",
       "      <td>0.018237</td>\n",
       "      <td>1.0</td>\n",
       "      <td>1.0</td>\n",
       "      <td>0.748466</td>\n",
       "    </tr>\n",
       "    <tr>\n",
       "      <th>1</th>\n",
       "      <td>0.304291</td>\n",
       "      <td>0.564342</td>\n",
       "      <td>0.304291</td>\n",
       "      <td>0.363517</td>\n",
       "      <td>0.105886</td>\n",
       "      <td>0.066800</td>\n",
       "      <td>0.043206</td>\n",
       "      <td>0.042991</td>\n",
       "      <td>1.000000</td>\n",
       "      <td>1.0</td>\n",
       "      <td>1.0</td>\n",
       "      <td>0.789856</td>\n",
       "    </tr>\n",
       "  </tbody>\n",
       "</table>\n",
       "</div>"
      ],
      "text/plain": [
       "   val_name   avg_accuracy   precision    recall   f1 score  \\\n",
       "0  0.077682       0.567242    0.077682  0.070037   0.025534   \n",
       "1  0.304291       0.564342    0.304291  0.363517   0.105886   \n",
       "\n",
       "    mean iou Estrato_1   Estrato_2   Estrato_3   Estrato_4   Estrato_5  \\\n",
       "0             0.047451    0.038488    0.031355    0.018237         1.0   \n",
       "1             0.066800    0.043206    0.042991    1.000000         1.0   \n",
       "\n",
       "    Estrato_6   No_Definido  \n",
       "0         1.0      0.748466  \n",
       "1         1.0      0.789856  "
      ]
     },
     "execution_count": 13,
     "metadata": {},
     "output_type": "execute_result"
    }
   ],
   "source": [
    "test_csv = pd.read_csv(\"./pruebas/prueba 1/val_scores.csv\")\n",
    "test_csv"
   ]
  },
  {
   "cell_type": "markdown",
   "metadata": {},
   "source": [
    "<h4 style=\"color:#c62828\"> Prueba # 2</h4>"
   ]
  },
  {
   "cell_type": "code",
   "execution_count": null,
   "metadata": {},
   "outputs": [],
   "source": [
    "DATASET_PATH = \"OVERLAECOBO_13\"\n",
    "CROP_SIZE = 256\n",
    "NUM_EPOCH = 30\n",
    "BATCH_SIZE = 1 # Hay pocas imagenes por ende se prueba con un batch pequeño y al usar 2 sale un error que no se que sera pero creo que es algo con la GPU\n",
    "MODEL = \"FC-DenseNet56\""
   ]
  },
  {
   "cell_type": "markdown",
   "metadata": {},
   "source": [
    "#### Resultados:\n",
    "##### Train results\n",
    "<center>\n",
    "<div style=\"width:60%\">\n",
    "    \n",
    "![accuracy_vs_epochs](./pruebas/prueba 2/accuracy_vs_epochs.png)\n",
    "</div>\n",
    "</center>\n",
    "\n",
    "<center>\n",
    "<div style=\"width:60%\">\n",
    "    \n",
    "![loss_vs_epochs](./pruebas/prueba 2/loss_vs_epochs.png)\n",
    "</div>\n",
    "</center>\n",
    "\n",
    "##### Test Result"
   ]
  },
  {
   "cell_type": "code",
   "execution_count": 16,
   "metadata": {},
   "outputs": [
    {
     "data": {
      "text/html": [
       "<div>\n",
       "<style scoped>\n",
       "    .dataframe tbody tr th:only-of-type {\n",
       "        vertical-align: middle;\n",
       "    }\n",
       "\n",
       "    .dataframe tbody tr th {\n",
       "        vertical-align: top;\n",
       "    }\n",
       "\n",
       "    .dataframe thead th {\n",
       "        text-align: right;\n",
       "    }\n",
       "</style>\n",
       "<table border=\"1\" class=\"dataframe\">\n",
       "  <thead>\n",
       "    <tr style=\"text-align: right;\">\n",
       "      <th></th>\n",
       "      <th>val_name</th>\n",
       "      <th>avg_accuracy</th>\n",
       "      <th>precision</th>\n",
       "      <th>recall</th>\n",
       "      <th>f1 score</th>\n",
       "      <th>mean iou Estrato_1</th>\n",
       "      <th>Estrato_2</th>\n",
       "      <th>Estrato_3</th>\n",
       "      <th>Estrato_4</th>\n",
       "      <th>Estrato_5</th>\n",
       "      <th>Estrato_6</th>\n",
       "      <th>No_Definido</th>\n",
       "    </tr>\n",
       "  </thead>\n",
       "  <tbody>\n",
       "    <tr>\n",
       "      <th>0</th>\n",
       "      <td>0.071991</td>\n",
       "      <td>0.507403</td>\n",
       "      <td>0.071991</td>\n",
       "      <td>0.066388</td>\n",
       "      <td>0.024978</td>\n",
       "      <td>0.042428</td>\n",
       "      <td>0.046735</td>\n",
       "      <td>0.045053</td>\n",
       "      <td>0.018237</td>\n",
       "      <td>1.0</td>\n",
       "      <td>1.0</td>\n",
       "      <td>0.700409</td>\n",
       "    </tr>\n",
       "    <tr>\n",
       "      <th>1</th>\n",
       "      <td>0.295135</td>\n",
       "      <td>0.556844</td>\n",
       "      <td>0.295135</td>\n",
       "      <td>0.359648</td>\n",
       "      <td>0.103411</td>\n",
       "      <td>0.052387</td>\n",
       "      <td>0.060627</td>\n",
       "      <td>0.039252</td>\n",
       "      <td>1.000000</td>\n",
       "      <td>1.0</td>\n",
       "      <td>1.0</td>\n",
       "      <td>0.789023</td>\n",
       "    </tr>\n",
       "  </tbody>\n",
       "</table>\n",
       "</div>"
      ],
      "text/plain": [
       "   val_name   avg_accuracy   precision    recall   f1 score  \\\n",
       "0  0.071991       0.507403    0.071991  0.066388   0.024978   \n",
       "1  0.295135       0.556844    0.295135  0.359648   0.103411   \n",
       "\n",
       "    mean iou Estrato_1   Estrato_2   Estrato_3   Estrato_4   Estrato_5  \\\n",
       "0             0.042428    0.046735    0.045053    0.018237         1.0   \n",
       "1             0.052387    0.060627    0.039252    1.000000         1.0   \n",
       "\n",
       "    Estrato_6   No_Definido  \n",
       "0         1.0      0.700409  \n",
       "1         1.0      0.789023  "
      ]
     },
     "execution_count": 16,
     "metadata": {},
     "output_type": "execute_result"
    }
   ],
   "source": [
    "test_csv = pd.read_csv(\"./pruebas/prueba 2/val_scores.csv\")\n",
    "test_csv"
   ]
  },
  {
   "cell_type": "markdown",
   "metadata": {},
   "source": [
    "<h4 style=\"color:#c62828\"> Prueba # 3 </h4>"
   ]
  },
  {
   "cell_type": "code",
   "execution_count": null,
   "metadata": {},
   "outputs": [],
   "source": [
    "DATASET_PATH = \"OVERLAECOBO_13\"\n",
    "CROP_SIZE = 256\n",
    "NUM_EPOCH = 50\n",
    "BATCH_SIZE = 1 # Hay pocas imagenes por ende se prueba con un batch pequeño y al usar 2 sale un error que no se que sera pero creo que es algo con la GPU\n",
    "MODEL = \"FC-DenseNet56\""
   ]
  },
  {
   "cell_type": "markdown",
   "metadata": {},
   "source": [
    "#### Resultados:\n",
    "##### Train results\n",
    "<center>\n",
    "<div style=\"width:60%\">\n",
    "    \n",
    "![accuracy_vs_epochs](./pruebas/prueba 3/accuracy_vs_epochs.png)\n",
    "</div>\n",
    "</center>\n",
    "\n",
    "<center>\n",
    "<div style=\"width:60%\">\n",
    "    \n",
    "![loss_vs_epochs](./pruebas/prueba 3/loss_vs_epochs.png)\n",
    "</div>\n",
    "</center>\n",
    "\n",
    "##### Test Result"
   ]
  },
  {
   "cell_type": "code",
   "execution_count": 19,
   "metadata": {},
   "outputs": [
    {
     "data": {
      "text/html": [
       "<div>\n",
       "<style scoped>\n",
       "    .dataframe tbody tr th:only-of-type {\n",
       "        vertical-align: middle;\n",
       "    }\n",
       "\n",
       "    .dataframe tbody tr th {\n",
       "        vertical-align: top;\n",
       "    }\n",
       "\n",
       "    .dataframe thead th {\n",
       "        text-align: right;\n",
       "    }\n",
       "</style>\n",
       "<table border=\"1\" class=\"dataframe\">\n",
       "  <thead>\n",
       "    <tr style=\"text-align: right;\">\n",
       "      <th></th>\n",
       "      <th>val_name</th>\n",
       "      <th>avg_accuracy</th>\n",
       "      <th>precision</th>\n",
       "      <th>recall</th>\n",
       "      <th>f1 score</th>\n",
       "      <th>mean iou Estrato_1</th>\n",
       "      <th>Estrato_2</th>\n",
       "      <th>Estrato_3</th>\n",
       "      <th>Estrato_4</th>\n",
       "      <th>Estrato_5</th>\n",
       "      <th>Estrato_6</th>\n",
       "      <th>No_Definido</th>\n",
       "    </tr>\n",
       "  </thead>\n",
       "  <tbody>\n",
       "    <tr>\n",
       "      <th>0</th>\n",
       "      <td>0.120483</td>\n",
       "      <td>0.521630</td>\n",
       "      <td>0.120483</td>\n",
       "      <td>0.086283</td>\n",
       "      <td>0.038158</td>\n",
       "      <td>0.092034</td>\n",
       "      <td>0.043299</td>\n",
       "      <td>0.093455</td>\n",
       "      <td>0.021277</td>\n",
       "      <td>1.0</td>\n",
       "      <td>1.0</td>\n",
       "      <td>0.758010</td>\n",
       "    </tr>\n",
       "    <tr>\n",
       "      <th>1</th>\n",
       "      <td>0.333466</td>\n",
       "      <td>0.567112</td>\n",
       "      <td>0.333466</td>\n",
       "      <td>0.376041</td>\n",
       "      <td>0.120136</td>\n",
       "      <td>0.101820</td>\n",
       "      <td>0.041812</td>\n",
       "      <td>0.104673</td>\n",
       "      <td>1.000000</td>\n",
       "      <td>1.0</td>\n",
       "      <td>1.0</td>\n",
       "      <td>0.808893</td>\n",
       "    </tr>\n",
       "  </tbody>\n",
       "</table>\n",
       "</div>"
      ],
      "text/plain": [
       "   val_name   avg_accuracy   precision    recall   f1 score  \\\n",
       "0  0.120483       0.521630    0.120483  0.086283   0.038158   \n",
       "1  0.333466       0.567112    0.333466  0.376041   0.120136   \n",
       "\n",
       "    mean iou Estrato_1   Estrato_2   Estrato_3   Estrato_4   Estrato_5  \\\n",
       "0             0.092034    0.043299    0.093455    0.021277         1.0   \n",
       "1             0.101820    0.041812    0.104673    1.000000         1.0   \n",
       "\n",
       "    Estrato_6   No_Definido  \n",
       "0         1.0      0.758010  \n",
       "1         1.0      0.808893  "
      ]
     },
     "execution_count": 19,
     "metadata": {},
     "output_type": "execute_result"
    }
   ],
   "source": [
    "test_csv = pd.read_csv(\"./pruebas/prueba 3/val_scores.csv\")\n",
    "test_csv"
   ]
  },
  {
   "cell_type": "markdown",
   "metadata": {},
   "source": [
    "<h4 style=\"color:#c62828\"> Prueba # 4 </h4>"
   ]
  },
  {
   "cell_type": "code",
   "execution_count": null,
   "metadata": {},
   "outputs": [],
   "source": [
    "DATASET_PATH = \"OVERLAECOBO_13\"\n",
    "CROP_SIZE = 256\n",
    "NUM_EPOCH = 50\n",
    "BATCH_SIZE = 1 # Hay pocas imagenes por ende se prueba con un batch pequeño y al usar 2 sale un error que no se que sera pero creo que es algo con la GPU\n",
    "MODEL = \"FC-DenseNet56\""
   ]
  },
  {
   "cell_type": "markdown",
   "metadata": {},
   "source": [
    "#### Resultados:\n",
    "##### Train results\n",
    "<center>\n",
    "<div style=\"width:60%\">\n",
    "    \n",
    "![accuracy_vs_epochs](./pruebas/prueba 4/accuracy_vs_epochs.png)\n",
    "</div>\n",
    "</center>\n",
    "\n",
    "<center>\n",
    "<div style=\"width:60%\">\n",
    "    \n",
    "![loss_vs_epochs](./pruebas/prueba 4/loss_vs_epochs.png)\n",
    "</div>\n",
    "</center>\n",
    "\n",
    "##### Test Result"
   ]
  },
  {
   "cell_type": "code",
   "execution_count": 22,
   "metadata": {},
   "outputs": [
    {
     "data": {
      "text/html": [
       "<div>\n",
       "<style scoped>\n",
       "    .dataframe tbody tr th:only-of-type {\n",
       "        vertical-align: middle;\n",
       "    }\n",
       "\n",
       "    .dataframe tbody tr th {\n",
       "        vertical-align: top;\n",
       "    }\n",
       "\n",
       "    .dataframe thead th {\n",
       "        text-align: right;\n",
       "    }\n",
       "</style>\n",
       "<table border=\"1\" class=\"dataframe\">\n",
       "  <thead>\n",
       "    <tr style=\"text-align: right;\">\n",
       "      <th></th>\n",
       "      <th>val_name</th>\n",
       "      <th>avg_accuracy</th>\n",
       "      <th>precision</th>\n",
       "      <th>recall</th>\n",
       "      <th>f1 score</th>\n",
       "      <th>mean iou Estrato_1</th>\n",
       "      <th>Estrato_2</th>\n",
       "      <th>Estrato_3</th>\n",
       "      <th>Estrato_4</th>\n",
       "      <th>Estrato_5</th>\n",
       "      <th>Estrato_6</th>\n",
       "      <th>No_Definido</th>\n",
       "    </tr>\n",
       "  </thead>\n",
       "  <tbody>\n",
       "    <tr>\n",
       "      <th>0</th>\n",
       "      <td>0.065903</td>\n",
       "      <td>0.526904</td>\n",
       "      <td>0.065903</td>\n",
       "      <td>0.075991</td>\n",
       "      <td>0.029102</td>\n",
       "      <td>0.027462</td>\n",
       "      <td>0.118213</td>\n",
       "      <td>0.123592</td>\n",
       "      <td>0.033435</td>\n",
       "      <td>1.0</td>\n",
       "      <td>1.0</td>\n",
       "      <td>0.732788</td>\n",
       "    </tr>\n",
       "    <tr>\n",
       "      <th>1</th>\n",
       "      <td>0.281158</td>\n",
       "      <td>0.576085</td>\n",
       "      <td>0.281158</td>\n",
       "      <td>0.358391</td>\n",
       "      <td>0.100384</td>\n",
       "      <td>0.031137</td>\n",
       "      <td>0.098955</td>\n",
       "      <td>0.209346</td>\n",
       "      <td>1.000000</td>\n",
       "      <td>1.0</td>\n",
       "      <td>1.0</td>\n",
       "      <td>0.781149</td>\n",
       "    </tr>\n",
       "  </tbody>\n",
       "</table>\n",
       "</div>"
      ],
      "text/plain": [
       "   val_name   avg_accuracy   precision    recall   f1 score  \\\n",
       "0  0.065903       0.526904    0.065903  0.075991   0.029102   \n",
       "1  0.281158       0.576085    0.281158  0.358391   0.100384   \n",
       "\n",
       "    mean iou Estrato_1   Estrato_2   Estrato_3   Estrato_4   Estrato_5  \\\n",
       "0             0.027462    0.118213    0.123592    0.033435         1.0   \n",
       "1             0.031137    0.098955    0.209346    1.000000         1.0   \n",
       "\n",
       "    Estrato_6   No_Definido  \n",
       "0         1.0      0.732788  \n",
       "1         1.0      0.781149  "
      ]
     },
     "execution_count": 22,
     "metadata": {},
     "output_type": "execute_result"
    }
   ],
   "source": [
    "test_csv = pd.read_csv(\"./pruebas/prueba 4/val_scores.csv\")\n",
    "test_csv"
   ]
  },
  {
   "cell_type": "markdown",
   "metadata": {},
   "source": [
    "<h4 style=\"color:#c62828\"> Prueba # 5 </h4>"
   ]
  },
  {
   "cell_type": "code",
   "execution_count": null,
   "metadata": {},
   "outputs": [],
   "source": [
    "DATASET_PATH = \"OVERLAECOBO_13\"\n",
    "CROP_SIZE = 256\n",
    "NUM_EPOCH = 50\n",
    "BATCH_SIZE = 1 # Hay pocas imagenes por ende se prueba con un batch pequeño y al usar 2 sale un error que no se que sera pero creo que es algo con la GPU\n",
    "MODEL = \"Encoder-Decoder\""
   ]
  },
  {
   "cell_type": "markdown",
   "metadata": {},
   "source": [
    "#### Resultados:\n",
    "##### Train results\n",
    "<center>\n",
    "<div style=\"width:60%\">\n",
    "    \n",
    "![accuracy_vs_epochs](./pruebas/prueba 5/accuracy_vs_epochs.png)\n",
    "</div>\n",
    "</center>\n",
    "\n",
    "<center>\n",
    "<div style=\"width:60%\">\n",
    "    \n",
    "![loss_vs_epochs](./pruebas/prueba 5/loss_vs_epochs.png)\n",
    "</div>\n",
    "</center>\n",
    "\n",
    "##### Test Result"
   ]
  },
  {
   "cell_type": "code",
   "execution_count": 26,
   "metadata": {},
   "outputs": [
    {
     "ename": "FileNotFoundError",
     "evalue": "File b'./pruebas/prueba 5/val_scores.csv' does not exist",
     "output_type": "error",
     "traceback": [
      "\u001b[1;31m---------------------------------------------------------------------------\u001b[0m",
      "\u001b[1;31mFileNotFoundError\u001b[0m                         Traceback (most recent call last)",
      "\u001b[1;32m<ipython-input-26-15d92a53cf7f>\u001b[0m in \u001b[0;36m<module>\u001b[1;34m()\u001b[0m\n\u001b[1;32m----> 1\u001b[1;33m \u001b[0mtest_csv\u001b[0m \u001b[1;33m=\u001b[0m \u001b[0mpd\u001b[0m\u001b[1;33m.\u001b[0m\u001b[0mread_csv\u001b[0m\u001b[1;33m(\u001b[0m\u001b[1;34m\"./pruebas/prueba 5/val_scores.csv\"\u001b[0m\u001b[1;33m)\u001b[0m\u001b[1;33m\u001b[0m\u001b[0m\n\u001b[0m\u001b[0;32m      2\u001b[0m \u001b[0mtest_csv\u001b[0m\u001b[1;33m\u001b[0m\u001b[0m\n",
      "\u001b[1;32mc:\\users\\daielchom\\appdata\\local\\programs\\python\\python36\\lib\\site-packages\\pandas\\io\\parsers.py\u001b[0m in \u001b[0;36mparser_f\u001b[1;34m(filepath_or_buffer, sep, delimiter, header, names, index_col, usecols, squeeze, prefix, mangle_dupe_cols, dtype, engine, converters, true_values, false_values, skipinitialspace, skiprows, nrows, na_values, keep_default_na, na_filter, verbose, skip_blank_lines, parse_dates, infer_datetime_format, keep_date_col, date_parser, dayfirst, iterator, chunksize, compression, thousands, decimal, lineterminator, quotechar, quoting, escapechar, comment, encoding, dialect, tupleize_cols, error_bad_lines, warn_bad_lines, skipfooter, doublequote, delim_whitespace, low_memory, memory_map, float_precision)\u001b[0m\n\u001b[0;32m    676\u001b[0m                     skip_blank_lines=skip_blank_lines)\n\u001b[0;32m    677\u001b[0m \u001b[1;33m\u001b[0m\u001b[0m\n\u001b[1;32m--> 678\u001b[1;33m         \u001b[1;32mreturn\u001b[0m \u001b[0m_read\u001b[0m\u001b[1;33m(\u001b[0m\u001b[0mfilepath_or_buffer\u001b[0m\u001b[1;33m,\u001b[0m \u001b[0mkwds\u001b[0m\u001b[1;33m)\u001b[0m\u001b[1;33m\u001b[0m\u001b[0m\n\u001b[0m\u001b[0;32m    679\u001b[0m \u001b[1;33m\u001b[0m\u001b[0m\n\u001b[0;32m    680\u001b[0m     \u001b[0mparser_f\u001b[0m\u001b[1;33m.\u001b[0m\u001b[0m__name__\u001b[0m \u001b[1;33m=\u001b[0m \u001b[0mname\u001b[0m\u001b[1;33m\u001b[0m\u001b[0m\n",
      "\u001b[1;32mc:\\users\\daielchom\\appdata\\local\\programs\\python\\python36\\lib\\site-packages\\pandas\\io\\parsers.py\u001b[0m in \u001b[0;36m_read\u001b[1;34m(filepath_or_buffer, kwds)\u001b[0m\n\u001b[0;32m    438\u001b[0m \u001b[1;33m\u001b[0m\u001b[0m\n\u001b[0;32m    439\u001b[0m     \u001b[1;31m# Create the parser.\u001b[0m\u001b[1;33m\u001b[0m\u001b[1;33m\u001b[0m\u001b[0m\n\u001b[1;32m--> 440\u001b[1;33m     \u001b[0mparser\u001b[0m \u001b[1;33m=\u001b[0m \u001b[0mTextFileReader\u001b[0m\u001b[1;33m(\u001b[0m\u001b[0mfilepath_or_buffer\u001b[0m\u001b[1;33m,\u001b[0m \u001b[1;33m**\u001b[0m\u001b[0mkwds\u001b[0m\u001b[1;33m)\u001b[0m\u001b[1;33m\u001b[0m\u001b[0m\n\u001b[0m\u001b[0;32m    441\u001b[0m \u001b[1;33m\u001b[0m\u001b[0m\n\u001b[0;32m    442\u001b[0m     \u001b[1;32mif\u001b[0m \u001b[0mchunksize\u001b[0m \u001b[1;32mor\u001b[0m \u001b[0miterator\u001b[0m\u001b[1;33m:\u001b[0m\u001b[1;33m\u001b[0m\u001b[0m\n",
      "\u001b[1;32mc:\\users\\daielchom\\appdata\\local\\programs\\python\\python36\\lib\\site-packages\\pandas\\io\\parsers.py\u001b[0m in \u001b[0;36m__init__\u001b[1;34m(self, f, engine, **kwds)\u001b[0m\n\u001b[0;32m    785\u001b[0m             \u001b[0mself\u001b[0m\u001b[1;33m.\u001b[0m\u001b[0moptions\u001b[0m\u001b[1;33m[\u001b[0m\u001b[1;34m'has_index_names'\u001b[0m\u001b[1;33m]\u001b[0m \u001b[1;33m=\u001b[0m \u001b[0mkwds\u001b[0m\u001b[1;33m[\u001b[0m\u001b[1;34m'has_index_names'\u001b[0m\u001b[1;33m]\u001b[0m\u001b[1;33m\u001b[0m\u001b[0m\n\u001b[0;32m    786\u001b[0m \u001b[1;33m\u001b[0m\u001b[0m\n\u001b[1;32m--> 787\u001b[1;33m         \u001b[0mself\u001b[0m\u001b[1;33m.\u001b[0m\u001b[0m_make_engine\u001b[0m\u001b[1;33m(\u001b[0m\u001b[0mself\u001b[0m\u001b[1;33m.\u001b[0m\u001b[0mengine\u001b[0m\u001b[1;33m)\u001b[0m\u001b[1;33m\u001b[0m\u001b[0m\n\u001b[0m\u001b[0;32m    788\u001b[0m \u001b[1;33m\u001b[0m\u001b[0m\n\u001b[0;32m    789\u001b[0m     \u001b[1;32mdef\u001b[0m \u001b[0mclose\u001b[0m\u001b[1;33m(\u001b[0m\u001b[0mself\u001b[0m\u001b[1;33m)\u001b[0m\u001b[1;33m:\u001b[0m\u001b[1;33m\u001b[0m\u001b[0m\n",
      "\u001b[1;32mc:\\users\\daielchom\\appdata\\local\\programs\\python\\python36\\lib\\site-packages\\pandas\\io\\parsers.py\u001b[0m in \u001b[0;36m_make_engine\u001b[1;34m(self, engine)\u001b[0m\n\u001b[0;32m   1012\u001b[0m     \u001b[1;32mdef\u001b[0m \u001b[0m_make_engine\u001b[0m\u001b[1;33m(\u001b[0m\u001b[0mself\u001b[0m\u001b[1;33m,\u001b[0m \u001b[0mengine\u001b[0m\u001b[1;33m=\u001b[0m\u001b[1;34m'c'\u001b[0m\u001b[1;33m)\u001b[0m\u001b[1;33m:\u001b[0m\u001b[1;33m\u001b[0m\u001b[0m\n\u001b[0;32m   1013\u001b[0m         \u001b[1;32mif\u001b[0m \u001b[0mengine\u001b[0m \u001b[1;33m==\u001b[0m \u001b[1;34m'c'\u001b[0m\u001b[1;33m:\u001b[0m\u001b[1;33m\u001b[0m\u001b[0m\n\u001b[1;32m-> 1014\u001b[1;33m             \u001b[0mself\u001b[0m\u001b[1;33m.\u001b[0m\u001b[0m_engine\u001b[0m \u001b[1;33m=\u001b[0m \u001b[0mCParserWrapper\u001b[0m\u001b[1;33m(\u001b[0m\u001b[0mself\u001b[0m\u001b[1;33m.\u001b[0m\u001b[0mf\u001b[0m\u001b[1;33m,\u001b[0m \u001b[1;33m**\u001b[0m\u001b[0mself\u001b[0m\u001b[1;33m.\u001b[0m\u001b[0moptions\u001b[0m\u001b[1;33m)\u001b[0m\u001b[1;33m\u001b[0m\u001b[0m\n\u001b[0m\u001b[0;32m   1015\u001b[0m         \u001b[1;32melse\u001b[0m\u001b[1;33m:\u001b[0m\u001b[1;33m\u001b[0m\u001b[0m\n\u001b[0;32m   1016\u001b[0m             \u001b[1;32mif\u001b[0m \u001b[0mengine\u001b[0m \u001b[1;33m==\u001b[0m \u001b[1;34m'python'\u001b[0m\u001b[1;33m:\u001b[0m\u001b[1;33m\u001b[0m\u001b[0m\n",
      "\u001b[1;32mc:\\users\\daielchom\\appdata\\local\\programs\\python\\python36\\lib\\site-packages\\pandas\\io\\parsers.py\u001b[0m in \u001b[0;36m__init__\u001b[1;34m(self, src, **kwds)\u001b[0m\n\u001b[0;32m   1706\u001b[0m         \u001b[0mkwds\u001b[0m\u001b[1;33m[\u001b[0m\u001b[1;34m'usecols'\u001b[0m\u001b[1;33m]\u001b[0m \u001b[1;33m=\u001b[0m \u001b[0mself\u001b[0m\u001b[1;33m.\u001b[0m\u001b[0musecols\u001b[0m\u001b[1;33m\u001b[0m\u001b[0m\n\u001b[0;32m   1707\u001b[0m \u001b[1;33m\u001b[0m\u001b[0m\n\u001b[1;32m-> 1708\u001b[1;33m         \u001b[0mself\u001b[0m\u001b[1;33m.\u001b[0m\u001b[0m_reader\u001b[0m \u001b[1;33m=\u001b[0m \u001b[0mparsers\u001b[0m\u001b[1;33m.\u001b[0m\u001b[0mTextReader\u001b[0m\u001b[1;33m(\u001b[0m\u001b[0msrc\u001b[0m\u001b[1;33m,\u001b[0m \u001b[1;33m**\u001b[0m\u001b[0mkwds\u001b[0m\u001b[1;33m)\u001b[0m\u001b[1;33m\u001b[0m\u001b[0m\n\u001b[0m\u001b[0;32m   1709\u001b[0m \u001b[1;33m\u001b[0m\u001b[0m\n\u001b[0;32m   1710\u001b[0m         \u001b[0mpassed_names\u001b[0m \u001b[1;33m=\u001b[0m \u001b[0mself\u001b[0m\u001b[1;33m.\u001b[0m\u001b[0mnames\u001b[0m \u001b[1;32mis\u001b[0m \u001b[1;32mNone\u001b[0m\u001b[1;33m\u001b[0m\u001b[0m\n",
      "\u001b[1;32mpandas\\_libs\\parsers.pyx\u001b[0m in \u001b[0;36mpandas._libs.parsers.TextReader.__cinit__\u001b[1;34m()\u001b[0m\n",
      "\u001b[1;32mpandas\\_libs\\parsers.pyx\u001b[0m in \u001b[0;36mpandas._libs.parsers.TextReader._setup_parser_source\u001b[1;34m()\u001b[0m\n",
      "\u001b[1;31mFileNotFoundError\u001b[0m: File b'./pruebas/prueba 5/val_scores.csv' does not exist"
     ]
    }
   ],
   "source": [
    "test_csv = pd.read_csv(\"./pruebas/prueba 5/val_scores.csv\")\n",
    "test_csv"
   ]
  },
  {
   "cell_type": "markdown",
   "metadata": {},
   "source": [
    "<h4 style=\"color:#c62828\"> Prueba # 6 </h4>"
   ]
  },
  {
   "cell_type": "code",
   "execution_count": null,
   "metadata": {},
   "outputs": [],
   "source": [
    "DATASET_PATH = \"OVERLAECOBO_13\"\n",
    "CROP_SIZE = 256\n",
    "NUM_EPOCH = 50\n",
    "BATCH_SIZE = 2 # Hay pocas imagenes por ende se prueba con un batch pequeño y al usar 2 sale un error que no se que sera pero creo que es algo con la GPU\n",
    "MODEL = \"Encoder-Decoder\""
   ]
  },
  {
   "cell_type": "markdown",
   "metadata": {},
   "source": [
    "#### Resultados:\n",
    "##### Train results\n",
    "<center>\n",
    "<div style=\"width:60%\">\n",
    "    \n",
    "![accuracy_vs_epochs](./pruebas/prueba 5/accuracy_vs_epochs.png)\n",
    "</div>\n",
    "</center>\n",
    "\n",
    "<center>\n",
    "<div style=\"width:60%\">\n",
    "    \n",
    "![loss_vs_epochs](./pruebas/prueba 5/loss_vs_epochs.png)\n",
    "</div>\n",
    "</center>\n",
    "\n",
    "##### Test Result"
   ]
  },
  {
   "cell_type": "code",
   "execution_count": 28,
   "metadata": {},
   "outputs": [
    {
     "data": {
      "text/html": [
       "<div>\n",
       "<style scoped>\n",
       "    .dataframe tbody tr th:only-of-type {\n",
       "        vertical-align: middle;\n",
       "    }\n",
       "\n",
       "    .dataframe tbody tr th {\n",
       "        vertical-align: top;\n",
       "    }\n",
       "\n",
       "    .dataframe thead th {\n",
       "        text-align: right;\n",
       "    }\n",
       "</style>\n",
       "<table border=\"1\" class=\"dataframe\">\n",
       "  <thead>\n",
       "    <tr style=\"text-align: right;\">\n",
       "      <th></th>\n",
       "      <th>val_name</th>\n",
       "      <th>avg_accuracy</th>\n",
       "      <th>precision</th>\n",
       "      <th>recall</th>\n",
       "      <th>f1 score</th>\n",
       "      <th>mean iou Estrato_1</th>\n",
       "      <th>Estrato_2</th>\n",
       "      <th>Estrato_3</th>\n",
       "      <th>Estrato_4</th>\n",
       "      <th>Estrato_5</th>\n",
       "      <th>Estrato_6</th>\n",
       "      <th>No_Definido</th>\n",
       "    </tr>\n",
       "  </thead>\n",
       "  <tbody>\n",
       "    <tr>\n",
       "      <th>0</th>\n",
       "      <td>0.070969</td>\n",
       "      <td>0.684431</td>\n",
       "      <td>0.070969</td>\n",
       "      <td>0.090032</td>\n",
       "      <td>0.024175</td>\n",
       "      <td>0.026889</td>\n",
       "      <td>0.617182</td>\n",
       "      <td>0.0</td>\n",
       "      <td>0.0</td>\n",
       "      <td>1.0</td>\n",
       "      <td>1.0</td>\n",
       "      <td>0.751875</td>\n",
       "    </tr>\n",
       "    <tr>\n",
       "      <th>1</th>\n",
       "      <td>0.317337</td>\n",
       "      <td>0.767017</td>\n",
       "      <td>0.317337</td>\n",
       "      <td>0.395334</td>\n",
       "      <td>0.122857</td>\n",
       "      <td>0.038451</td>\n",
       "      <td>0.719861</td>\n",
       "      <td>0.0</td>\n",
       "      <td>1.0</td>\n",
       "      <td>1.0</td>\n",
       "      <td>1.0</td>\n",
       "      <td>0.840667</td>\n",
       "    </tr>\n",
       "  </tbody>\n",
       "</table>\n",
       "</div>"
      ],
      "text/plain": [
       "   val_name   avg_accuracy   precision    recall   f1 score  \\\n",
       "0  0.070969       0.684431    0.070969  0.090032   0.024175   \n",
       "1  0.317337       0.767017    0.317337  0.395334   0.122857   \n",
       "\n",
       "    mean iou Estrato_1   Estrato_2   Estrato_3   Estrato_4   Estrato_5  \\\n",
       "0             0.026889    0.617182         0.0         0.0         1.0   \n",
       "1             0.038451    0.719861         0.0         1.0         1.0   \n",
       "\n",
       "    Estrato_6   No_Definido  \n",
       "0         1.0      0.751875  \n",
       "1         1.0      0.840667  "
      ]
     },
     "execution_count": 28,
     "metadata": {},
     "output_type": "execute_result"
    }
   ],
   "source": [
    "test_csv = pd.read_csv(\"./pruebas/prueba 6/val_scores.csv\")\n",
    "test_csv"
   ]
  },
  {
   "cell_type": "markdown",
   "metadata": {},
   "source": [
    "## Prueba multi capa"
   ]
  },
  {
   "cell_type": "code",
   "execution_count": 2,
   "metadata": {},
   "outputs": [],
   "source": [
    "import os\n",
    "from skimage import io\n",
    "import numpy as np\n",
    "import pandas as pd\n",
    "import matplotlib.pyplot as plt\n",
    "from PIL import Image\n",
    "%matplotlib inline"
   ]
  },
  {
   "cell_type": "code",
   "execution_count": 9,
   "metadata": {},
   "outputs": [],
   "source": [
    "for i in range(7):\n",
    "    img = io.imread(\"./OVERLAECOBO_13_multi/train/\"+str(i)+\".png\")\n",
    "    d = img.flatten()\n",
    "    f = list(d) + list(d)\n",
    "    g = np.array(f).reshape((256,256,6))[:,:,:4]\n",
    "    io.imsave(\"./OVERLAECOBO_13_multi/train/\"+str(i)+\".png\",g)"
   ]
  },
  {
   "cell_type": "markdown",
   "metadata": {},
   "source": [
    "PDTA: Funciona!!!!!!!!"
   ]
  },
  {
   "cell_type": "markdown",
   "metadata": {},
   "source": [
    "<h4 style=\"color:#c62828\"> Prueba # 7 </h4>"
   ]
  },
  {
   "cell_type": "code",
   "execution_count": null,
   "metadata": {},
   "outputs": [],
   "source": [
    "DATASET_PATH = \"OVERLAECOBO_13\"\n",
    "CROP_SIZE = 256\n",
    "NUM_EPOCH = 50\n",
    "BATCH_SIZE = 1 # Hay pocas imagenes por ende se prueba con un batch pequeño y al usar 2 sale un error que no se que sera pero creo que es algo con la GPU\n",
    "MODEL = \"Encoder-Decoder-Skip\""
   ]
  },
  {
   "cell_type": "markdown",
   "metadata": {},
   "source": [
    "#### Resultados:\n",
    "##### Train results\n",
    "<center>\n",
    "<div style=\"width:60%\">\n",
    "    \n",
    "![accuracy_vs_epochs](./pruebas/prueba 7/accuracy_vs_epochs.png)\n",
    "</div>\n",
    "</center>\n",
    "\n",
    "<center>\n",
    "<div style=\"width:60%\">\n",
    "    \n",
    "![loss_vs_epochs](./pruebas/prueba 7/loss_vs_epochs.png)\n",
    "</div>\n",
    "</center>\n",
    "\n",
    "##### Test Result"
   ]
  },
  {
   "cell_type": "code",
   "execution_count": 30,
   "metadata": {},
   "outputs": [
    {
     "data": {
      "text/html": [
       "<div>\n",
       "<style scoped>\n",
       "    .dataframe tbody tr th:only-of-type {\n",
       "        vertical-align: middle;\n",
       "    }\n",
       "\n",
       "    .dataframe tbody tr th {\n",
       "        vertical-align: top;\n",
       "    }\n",
       "\n",
       "    .dataframe thead th {\n",
       "        text-align: right;\n",
       "    }\n",
       "</style>\n",
       "<table border=\"1\" class=\"dataframe\">\n",
       "  <thead>\n",
       "    <tr style=\"text-align: right;\">\n",
       "      <th></th>\n",
       "      <th>val_name</th>\n",
       "      <th>avg_accuracy</th>\n",
       "      <th>precision</th>\n",
       "      <th>recall</th>\n",
       "      <th>f1 score</th>\n",
       "      <th>mean iou Estrato_1</th>\n",
       "      <th>Estrato_2</th>\n",
       "      <th>Estrato_3</th>\n",
       "      <th>Estrato_4</th>\n",
       "      <th>Estrato_5</th>\n",
       "      <th>Estrato_6</th>\n",
       "      <th>No_Definido</th>\n",
       "    </tr>\n",
       "  </thead>\n",
       "  <tbody>\n",
       "    <tr>\n",
       "      <th>0</th>\n",
       "      <td>0.051758</td>\n",
       "      <td>0.663817</td>\n",
       "      <td>0.051758</td>\n",
       "      <td>0.088217</td>\n",
       "      <td>0.024394</td>\n",
       "      <td>0.004415</td>\n",
       "      <td>0.358763</td>\n",
       "      <td>0.008828</td>\n",
       "      <td>0.243161</td>\n",
       "      <td>1.0</td>\n",
       "      <td>1.0</td>\n",
       "      <td>0.854465</td>\n",
       "    </tr>\n",
       "    <tr>\n",
       "      <th>1</th>\n",
       "      <td>0.294052</td>\n",
       "      <td>0.612204</td>\n",
       "      <td>0.294052</td>\n",
       "      <td>0.383504</td>\n",
       "      <td>0.119764</td>\n",
       "      <td>0.002382</td>\n",
       "      <td>0.411150</td>\n",
       "      <td>0.003738</td>\n",
       "      <td>1.000000</td>\n",
       "      <td>1.0</td>\n",
       "      <td>1.0</td>\n",
       "      <td>0.860537</td>\n",
       "    </tr>\n",
       "  </tbody>\n",
       "</table>\n",
       "</div>"
      ],
      "text/plain": [
       "   val_name   avg_accuracy   precision    recall   f1 score  \\\n",
       "0  0.051758       0.663817    0.051758  0.088217   0.024394   \n",
       "1  0.294052       0.612204    0.294052  0.383504   0.119764   \n",
       "\n",
       "    mean iou Estrato_1   Estrato_2   Estrato_3   Estrato_4   Estrato_5  \\\n",
       "0             0.004415    0.358763    0.008828    0.243161         1.0   \n",
       "1             0.002382    0.411150    0.003738    1.000000         1.0   \n",
       "\n",
       "    Estrato_6   No_Definido  \n",
       "0         1.0      0.854465  \n",
       "1         1.0      0.860537  "
      ]
     },
     "execution_count": 30,
     "metadata": {},
     "output_type": "execute_result"
    }
   ],
   "source": [
    "test_csv = pd.read_csv(\"./pruebas/prueba 7/val_scores.csv\")\n",
    "test_csv"
   ]
  },
  {
   "cell_type": "code",
   "execution_count": null,
   "metadata": {},
   "outputs": [],
   "source": []
  }
 ],
 "metadata": {
  "kernelspec": {
   "display_name": "Python 3",
   "language": "python",
   "name": "python3"
  },
  "language_info": {
   "codemirror_mode": {
    "name": "ipython",
    "version": 3
   },
   "file_extension": ".py",
   "mimetype": "text/x-python",
   "name": "python",
   "nbconvert_exporter": "python",
   "pygments_lexer": "ipython3",
   "version": "3.6.5"
  }
 },
 "nbformat": 4,
 "nbformat_minor": 2
}
