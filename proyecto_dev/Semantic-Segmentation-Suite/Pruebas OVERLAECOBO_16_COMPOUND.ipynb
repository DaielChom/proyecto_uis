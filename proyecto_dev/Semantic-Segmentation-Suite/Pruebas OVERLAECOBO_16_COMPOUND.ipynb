{
 "cells": [
  {
   "cell_type": "markdown",
   "metadata": {},
   "source": [
    "<center>\n",
    "<h1 style=\"color:#5C6BC0\"> PRUEBAS OVERLAECOBO 16 COMPOUND</h1>\n",
    "</center>\n",
    "\n",
    "Pruebas realizadas con cada una de las redes neuronales presentes por el Framework, modificando los parametros de num_epoch y batch_size"
   ]
  },
  {
   "cell_type": "code",
   "execution_count": 3,
   "metadata": {
    "scrolled": true
   },
   "outputs": [],
   "source": [
    "import os\n",
    "import shutil"
   ]
  },
  {
   "cell_type": "markdown",
   "metadata": {},
   "source": [
    "<h3 style=\"color:#5C6BC0\"> MobileUNet-Skip </h3>\n"
   ]
  },
  {
   "cell_type": "code",
   "execution_count": 2,
   "metadata": {
    "scrolled": true
   },
   "outputs": [
    {
     "name": "stdout",
     "output_type": "stream",
     "text": [
      "TRAIN \n",
      "python main.py --mode train --dataset OVERLAECOBO_16_COMPOUND --crop_height 256 --crop_width 256 --num_epochs 70 --batch_size 1 --model MobileUNet-Skip  > train.text\n",
      "\n",
      "TEST \n",
      "python main.py --mode test --dataset OVERLAECOBO_16_COMPOUND --crop_height 256 --crop_width 256 --num_epochs 70 --batch_size 1 --model MobileUNet-Skip  > test.text\n"
     ]
    }
   ],
   "source": [
    "NUMPRU = 60\n",
    "DATASET_PATH = \"OVERLAECOBO_16_COMPOUND\"\n",
    "CROP_SIZE = 256\n",
    "NUM_EPOCH = 70\n",
    "BATCH_SIZE = 1 # Hay pocas imagenes por ende se prueba con un batch pequeño y al usar 2 sale un error que no se que sera pero creo que es algo con la GPU\n",
    "MODEL = \"MobileUNet-Skip\"\n",
    "print(\"TRAIN \\npython main.py --mode train --dataset\",DATASET_PATH, \"--crop_height\",CROP_SIZE,\"--crop_width\",CROP_SIZE,\"--num_epochs\",NUM_EPOCH,\"--batch_size\",BATCH_SIZE,\"--model\",MODEL,\" > train.text\")\n",
    "print(\"\")\n",
    "print(\"TEST \\npython main.py --mode test --dataset\",DATASET_PATH, \"--crop_height\",CROP_SIZE,\"--crop_width\",CROP_SIZE,\"--num_epochs\",NUM_EPOCH,\"--batch_size\",BATCH_SIZE,\"--model\",MODEL,\" > test.text\")"
   ]
  },
  {
   "cell_type": "code",
   "execution_count": 3,
   "metadata": {
    "scrolled": true
   },
   "outputs": [
    {
     "name": "stdout",
     "output_type": "stream",
     "text": [
      "PRUEBA N° 60 REALIZADA\n"
     ]
    }
   ],
   "source": [
    "os.makedirs(\"Pruebas/prueba_\"+str(NUMPRU))\n",
    "os.rename(\"accuracy_vs_epochs.png\",\"Pruebas/prueba_\"+str(NUMPRU)+\"/accuracy_vs_epochs.png\")\n",
    "os.rename(\"loss_vs_epochs.png\", \"Pruebas/prueba_\"+str(NUMPRU)+\"/loss_vs_epochs.png\")\n",
    "os.rename(\"train.text\", \"Pruebas/prueba_\"+str(NUMPRU)+\"/train.txt\")\n",
    "os.rename(\"test.text\", \"Pruebas/prueba_\"+str(NUMPRU)+\"/test.txt\")\n",
    "os.rename(\"Val\", \"Pruebas/prueba_\"+str(NUMPRU)+\"/Val\")\n",
    "shutil.copyfile(\"./Pruebas/.gitignore\", \"Pruebas/prueba_\"+str(NUMPRU)+\"/Val/.gitignore\")\n",
    "print(\"PRUEBA N°\",NUMPRU,\"REALIZADA\")"
   ]
  },
  {
   "cell_type": "code",
   "execution_count": 1,
   "metadata": {
    "scrolled": true
   },
   "outputs": [
    {
     "name": "stdout",
     "output_type": "stream",
     "text": [
      "TRAIN \n",
      "python main.py --mode train --dataset OVERLAECOBO_16_COMPOUND --crop_height 256 --crop_width 256 --num_epochs 70 --batch_size 2 --model MobileUNet-Skip  > train.text\n",
      "\n",
      "TEST \n",
      "python main.py --mode test --dataset OVERLAECOBO_16_COMPOUND --crop_height 256 --crop_width 256 --num_epochs 70 --batch_size 2 --model MobileUNet-Skip  > test.text\n"
     ]
    }
   ],
   "source": [
    "NUMPRU = 61\n",
    "DATASET_PATH = \"OVERLAECOBO_16_COMPOUND\"\n",
    "CROP_SIZE = 256\n",
    "NUM_EPOCH = 70\n",
    "BATCH_SIZE = 2 # Hay pocas imagenes por ende se prueba con un batch pequeño y al usar 2 sale un error que no se que sera pero creo que es algo con la GPU\n",
    "MODEL = \"MobileUNet-Skip\"\n",
    "print(\"TRAIN \\npython main.py --mode train --dataset\",DATASET_PATH, \"--crop_height\",CROP_SIZE,\"--crop_width\",CROP_SIZE,\"--num_epochs\",NUM_EPOCH,\"--batch_size\",BATCH_SIZE,\"--model\",MODEL,\" > train.text\")\n",
    "print(\"\")\n",
    "print(\"TEST \\npython main.py --mode test --dataset\",DATASET_PATH, \"--crop_height\",CROP_SIZE,\"--crop_width\",CROP_SIZE,\"--num_epochs\",NUM_EPOCH,\"--batch_size\",BATCH_SIZE,\"--model\",MODEL,\" > test.text\")"
   ]
  },
  {
   "cell_type": "code",
   "execution_count": 4,
   "metadata": {
    "scrolled": true
   },
   "outputs": [
    {
     "name": "stdout",
     "output_type": "stream",
     "text": [
      "PRUEBA N° 61 REALIZADA\n"
     ]
    }
   ],
   "source": [
    "os.makedirs(\"Pruebas/prueba_\"+str(NUMPRU))\n",
    "#os.rename(\"accuracy_vs_epochs.png\",\"Pruebas/prueba_\"+str(NUMPRU)+\"/accuracy_vs_epochs.png\")\n",
    "#os.rename(\"loss_vs_epochs.png\", \"Pruebas/prueba_\"+str(NUMPRU)+\"/loss_vs_epochs.png\")\n",
    "#os.rename(\"train.text\", \"Pruebas/prueba_\"+str(NUMPRU)+\"/train.txt\")\n",
    "os.rename(\"test.text\", \"Pruebas/prueba_\"+str(NUMPRU)+\"/test.txt\")\n",
    "os.rename(\"Val\", \"Pruebas/prueba_\"+str(NUMPRU)+\"/Val\")\n",
    "#shutil.copyfile(\"./Pruebas/.gitignore\", \"Pruebas/prueba_\"+str(NUMPRU)+\"/Val/.gitignore\")\n",
    "print(\"PRUEBA N°\",NUMPRU,\"REALIZADA\")"
   ]
  },
  {
   "cell_type": "code",
   "execution_count": null,
   "metadata": {
    "scrolled": true
   },
   "outputs": [],
   "source": []
  }
 ],
 "metadata": {
  "kernelspec": {
   "display_name": "Python 3",
   "language": "python",
   "name": "python3"
  },
  "language_info": {
   "codemirror_mode": {
    "name": "ipython",
    "version": 3
   },
   "file_extension": ".py",
   "mimetype": "text/x-python",
   "name": "python",
   "nbconvert_exporter": "python",
   "pygments_lexer": "ipython3",
   "version": "3.6.5"
  }
 },
 "nbformat": 4,
 "nbformat_minor": 2
}
