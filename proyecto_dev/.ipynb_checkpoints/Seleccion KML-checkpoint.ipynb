{
 "cells": [
  {
   "cell_type": "markdown",
   "metadata": {},
   "source": [
    "# Seleccion KML\n",
    "La puta madre perdi lo que habia escito y no recurdo que decia. Pero bueno la cuestion aca es primero tratar de convertit el JSON de los estratos en un KML y luego dar busqueda a las kml que me podrian servir a ver que.\n",
    "\n",
    "## 1. JSON to KML:\n",
    "La idea es convertir el [archivo](./kml_files/estratos_bogota.json) en un kml para ver si asi puedo seguir con mi proyecto sin necesidad de cambiar el titulo, por que eso si me daria algo de pena, tanto tiempo pensando en hacer eso y cambiarlo sin luchar bien tampcoo quiero, luego si no soy capas ahi si me pongo a preseleccionar de que paginas puedo sacar kmls y ahi si."
   ]
  },
  {
   "cell_type": "markdown",
   "metadata": {},
   "source": [
    "#### NOTA DE DEPENDENCIAS:\n",
    "Para que el hp codigo de abajo funcione toca instalar gdal, tanto en ubuntu y luego en python, es algo raro, la vez pasada pude con python3 y ahora me surgio un inconveniente y solo me funciona con python2, algo raro pero pues bueno es facil hacer el cambio probare por ahora a ver que"
   ]
  },
  {
   "cell_type": "code",
   "execution_count": 3,
   "metadata": {},
   "outputs": [
    {
     "data": {
      "text/plain": [
       "{'rings': [[[-8246601, 500775],\n",
       "   [-8246597, 500723],\n",
       "   [-8246649, 500727],\n",
       "   [-8246649, 500763],\n",
       "   [-8246601, 500775]]],\n",
       " 'spatialReference': {'wkid': 102100}}"
      ]
     },
     "execution_count": 3,
     "metadata": {},
     "output_type": "execute_result"
    }
   ],
   "source": [
    "import json\n",
    "\n",
    "archivo = open('./kml_files/estratos_bogota.json')\n",
    "data_dict = json.load(archivo)\n",
    "archivo.close()\n",
    "data_dict.get('layers')[0].get('featureSet').get('features')[0].get('geometry')"
   ]
  },
  {
   "cell_type": "code",
   "execution_count": 11,
   "metadata": {},
   "outputs": [
    {
     "name": "stdout",
     "output_type": "stream",
     "text": [
      "Overwriting ./test.py\n"
     ]
    }
   ],
   "source": [
    "%%writefile ./test.py\n",
    "from osgeo import ogr\n",
    "\n",
    "# Create ring\n",
    "ring = ogr.Geometry(ogr.wkbLinearRing)\n",
    "ring.AddPoint(-8246601, 500775)\n",
    "ring.AddPoint(-8246597, 500723)\n",
    "ring.AddPoint(-8246649, 500727)\n",
    "ring.AddPoint(-8246649, 500763)\n",
    "ring.AddPoint(-8246601, 500775)\n",
    "geom_poly = ogr.Geometry(ogr.wkbPolygon)\n",
    "geom_poly.AddGeometry(ring)\n",
    "\n",
    "kml = geom_poly.ExportToKML()\n",
    "print kml"
   ]
  },
  {
   "cell_type": "code",
   "execution_count": 12,
   "metadata": {},
   "outputs": [
    {
     "name": "stdout",
     "output_type": "stream",
     "text": [
      "ERROR 1: Latitude 500775.000000 is invalid. Valid range is [-90,90]. This warning will not be issued any more\r\n",
      "Warning 1: Longitude -8246601.000000 has been modified to fit into range [-180,180]. This warning will not be issued any more\r\n",
      "<Polygon><outerBoundaryIs><LinearRing><coordinates>-81,500775,0 -77,500723,0 -129,500727,0 -129,500763,0 -81,500775,0</coordinates></LinearRing></outerBoundaryIs></Polygon>\r\n"
     ]
    }
   ],
   "source": [
    "!python2 test.py"
   ]
  },
  {
   "cell_type": "markdown",
   "metadata": {},
   "source": [
    "#### SUPER NOTOTA: \n",
    "va la madre ese espacio de referencias `'spatialReference': {'wkid': 102100}}` es de esri, y no ecnontre forma de transformarlo a la long/lat y depronto se podria con la libreria `arcpy` pero esa es la libreria para python de arcGIS, y no la puedo instalar si no la compro o alguna mierda asi, en resumeno no Software libre, asi que paila ya con eso ni modo no se puede hacer en definitiva con ese archivo, ya doy por vencido la opcion de detectar el nivel socio economico, asi que esta tarde me dedicare a buscar KMLs."
   ]
  },
  {
   "cell_type": "markdown",
   "metadata": {},
   "source": [
    "## 2. Seleccion de KMLs:\n",
    "primero hare una pequeña preseleccion de las paginas donde si puedo descargar kmls y de las que no y luego si empieo a ver y descartar kmls."
   ]
  },
  {
   "cell_type": "markdown",
   "metadata": {
    "collapsed": true
   },
   "source": [
    "##### Posibles Bancos de KMLs\n",
    "Implican que es posible descargar los kmls sin tanto embroyo como el que me estaba complicando con lo de mapas bogota\n",
    "* ~~[Banco](https://www.ideca.gov.co/es/servicios/mapa-de-referencia/tabla-mapa-referencia?tid_1=All&title=&submit-b=Filtrar)~~ Nada interesante\n",
    "* ~~[Banco](http://siata.gov.co/kml/)~~ Informacion rara\n",
    "* [Banco](http://www.upra.gov.co/documents/10184/13821/Shape+Aptitul+plantaciones+forestales+comerciales/0d084152-c34c-450a-81ef-e901fa0932d8) \n",
    "    * Podria servir, es un Shape de la aptitud de los suelos para ciertos tipos de plantaciones, es como una clasificacion de la tierra en el marco legal. Lo que no le veo o no se es pues ya esta el mapa de toda colombia no le veo como que jmmmmm.\n",
    "* [Banco](http://datos.igac.gov.co/datasets?t=Cartografia%20base)\n",
    "    * Hay varias dataset pero asi rescatables hay uno de lagos, osea de detectar lagunas, o jagueys o morichales o cosas asi abria que ver uno que tenga bastantes datos pues hay unos que tienen muy poquitos datos\n",
    "* ~~[Banco](http://datos.igac.gov.co/pages/catastro)~~\n",
    "* ~~[Banco](http://sigotn.igac.gov.co/sigotn/default.aspx)~~\n",
    "* ~~[Banco](http://mapas.parquesnacionales.gov.co/)~~\n",
    "* ~~[Banco](http://siatac.co/web/guest/descarga-informacion-georreferenciada)~~\n",
    "* [Banco](http://datosabiertos.esri.co/)\n",
    " * [Opcion 1](http://datosabiertos.esri.co/datasets?group_ids=ddc59db83e394425b7ccea24dfc8154a)\n",
    " * [Opcion 2](http://datosabiertos.esri.co/datasets?group_ids=5a54d5700e1e4cfd8eb4b7c4429fd5b9)\n",
    "* ~~[Banco](https://www.medellin.gov.co/geonetwork/srv/spa/catalog.search#/home)~~\n",
    "* [Banco](https://geomedellin-m-medellin.opendata.arcgis.com/)\n",
    "    * No hay nada de estratos, lo mas factible es uno de accidentabilidad o algo asi, es como que el que mas me llama la antencion, pero no se.\n",
    "* ~~[Banco](https://sites.google.com/site/seriescol/kml---kmz)~~\n",
    "* ~~[Banco](https://www2.sgc.gov.co/ProgramasDeInvestigacion/Geociencias/Paginas/MapaGeologico.aspx)~~\n",
    "* ~~[Banco](https://geonode.umaic.org/layers/?limit=100&offset=0)~~\n",
    "* [Banco](http://capacitacion.siac.ideam.gov.co/SIAC/home/Catalogo_mapas.html)\n",
    "    * Imagenes a nivel nacional, aguauz, suelo, biodiversidad.\n",
    "* [Banco](http://www.siac.gov.co/catalogo-de-mapas)\n",
    "    * Ambientales\n",
    "* ~~[Banco](http://upra.gov.co/SIPRA/)~~\n",
    "* ~~[Banco](https://www.datos.gov.co/dataset/Curva-Nivel-Escala-1-500-000-Cartografia-Base-IGAC/vsnr-x2wa/data)~~\n",
    "* ~~[Banco](http://181.225.72.78/Portal-SIAC-web/faces/Dashboard/catalogoMapa/catalogoMapaSIAC.xhtml)~~\n",
    "* [Banco](http://sigserv02.anla.gov.co:6080/arcgis/rest/services/Informacion_SIAC/MapServer/generateKml)\n",
    "* [Banco](https://www.google.com/url?sa=t&rct=j&q=&esrc=s&source=web&cd=18&cad=rja&uact=8&ved=0ahUKEwiO7PfCwIXZAhWIh1QKHZ89AuM4ChAWCE8wBw&url=https%3A%2F%2Fwww.datos.gov.co%2Fapi%2Fgeospatial%2F5847-wgf8%3Fmethod%3Dexport%26format%3DKML&usg=AOvVaw1tukH07P5KOuoHx_LEi0IG)\n",
    "* [Banco](https://www.google.com/url?sa=t&rct=j&q=&esrc=s&source=web&cd=20&cad=rja&uact=8&ved=0ahUKEwiO7PfCwIXZAhWIh1QKHZ89AuM4ChAWCFcwCQ&url=http%3A%2F%2Fwww.wikiexplora.com%2Fimages%2F8%2F8c%2FNevados-cocuy.kmz&usg=AOvVaw1pBCUP_tNYayZzQWGJbLhT)\n",
    "* [Banco](http://garza.uis.edu.co/ArcGIS/rest/services/SIGAC/Mapa_Tematico_Territorial/MapServer/generatekml)\n",
    "* [Banco](https://www.google.com/url?sa=t&rct=j&q=&esrc=s&source=web&cd=24&cad=rja&uact=8&ved=0ahUKEwie6vHOwIXZAhVDj1QKHY9WDeI4FBAWCDYwAw&url=http%3A%2F%2Fwww.colombia-startup.com.co%2Fwp-content%2Fplugins%2Fleaflet-maps-marker%2Fleaflet-kml.php%3Fmarker%3D1%26name%3Dshow&usg=AOvVaw1kI-Na3i-WpRJJyKRaWHtn)\n",
    "* [Banco](https://www.google.com/url?sa=t&rct=j&q=&esrc=s&source=web&cd=30&cad=rja&uact=8&ved=0ahUKEwie6vHOwIXZAhVDj1QKHY9WDeI4FBAWCFkwCQ&url=http%3A%2F%2Fgeoapps.ideam.gov.co%3A8080%2Fgeoserver%2Festado_ecosistemas%2Fwms%3Frequest%3Dgetcapabilities%26service%3Dwms%26version%3D1.1.0&usg=AOvVaw0qMBppP91WaGP_6l0E7FKu)\n",
    "* [Banco](https://www2.sgc.gov.co/ProgramasDeInvestigacion/Geociencias/Paginas/MapaGeologico.aspx)\n",
    "\n"
   ]
  },
  {
   "cell_type": "markdown",
   "metadata": {
    "collapsed": true
   },
   "source": [
    "## SUPER NOTOTA:\n",
    "Al final me decante por hacer el KML y pues a la fecha ya lo hice solo queda pasarlo a SASPlanet"
   ]
  }
 ],
 "metadata": {
  "kernelspec": {
   "display_name": "Python 3",
   "language": "python",
   "name": "python3"
  },
  "language_info": {
   "codemirror_mode": {
    "name": "ipython",
    "version": 3
   },
   "file_extension": ".py",
   "mimetype": "text/x-python",
   "name": "python",
   "nbconvert_exporter": "python",
   "pygments_lexer": "ipython3",
   "version": "3.6.3"
  }
 },
 "nbformat": 4,
 "nbformat_minor": 2
}
