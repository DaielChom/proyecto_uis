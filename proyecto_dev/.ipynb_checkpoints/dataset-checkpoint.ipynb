{
 "cells": [
  {
   "cell_type": "markdown",
   "metadata": {},
   "source": [
    "# DATASET\n",
    "\n",
    "## 1. Descripción\n",
    "El Daset se creo usando:\n",
    "* Un archivo [KML](https://drive.google.com/open?id=14ZBlH8OsG00LDFhQVrZSE1ajkX9-IzQU) de los estratos de bogota \n",
    "* El programa libre [SASplanet](https://bitbucket.org/sas_team/sas.planet.bin/downloads/) para descargar las imagenes. \n",
    "\n",
    "Un pequeño tutotial de [SASplanet](https://www.youtube.com/watch?v=g05X5M8ucTI)\n",
    "\n",
    "\n",
    "<table style=\"border:0px\">\n",
    "<tbody>\n",
    "<tr>\n",
    "<td style=\"border:0px\">\n",
    "<img style=\"width:50%\" src=\"./data/dataset/train/satellite/13/zoom_13.jpg\"/>\n",
    "</td>\n",
    "<td style=\"border:0px\">\n",
    "<img  style=\"width:50%\" style=\"border:none\" src=\"./data/dataset/train/layer_economic/13/zoom_layer_13.jpg\"/>\n",
    "</td>\n",
    "</tr>\n",
    "<tr>\n",
    "<td>\n",
    "<center>\n",
    "Satelital\n",
    "</td>\n",
    "<td>\n",
    "    <center>\n",
    "Estrato\n",
    "</td>\n",
    "</tr>\n",
    "</tbody>\n",
    "</table>\n"
   ]
  },
  {
   "cell_type": "markdown",
   "metadata": {},
   "source": [
    "Se sacaron dos tipos de imagenes, en distintos niveles de zoom, imagenes satelitales y su contraparte en KML. las distintas iamgenes con los distintos niveles de zoom se pueden encontrar en el directorio `./data/dataset`."
   ]
  },
  {
   "cell_type": "code",
   "execution_count": 2,
   "metadata": {},
   "outputs": [],
   "source": [
    "PATH_DATASET = \"./data/dataset\"\n",
    "PATH_DATASET_TRAIN = \"./data/dataset/train\"\n",
    "PATH_DATASET_TEST = \"./data/dataset/test\""
   ]
  },
  {
   "cell_type": "markdown",
   "metadata": {},
   "source": [
    "## 2. TRAIN & TEST\n",
    "\n",
    "El conjunto de imagenes de todo bogota se dividio en dos partes `./data/dataset/train` y `./data/dataset/test`, ambas con una cantidad considerable de los distintos niveles socioeconomicos para no hacer un mal entrenamiento, la division se llevo acabo de forma geografica como lo muestra la siguiente imagen.\n",
    "\n",
    "<center>\n",
    "<div style=\"width:40%\">\n",
    "                       \n",
    "![test_train](./img/train_test_map.svg)\n",
    "</div>\n",
    "\n",
    "</center>\n",
    "## 2. Exploración\n",
    "Acontinuacion una pequeña exploracion del dataset\n",
    "\n",
    "\n",
    "### 2.1 Contenido\n"
   ]
  },
  {
   "cell_type": "code",
   "execution_count": 2,
   "metadata": {
    "scrolled": true
   },
   "outputs": [
    {
     "name": "stdout",
     "output_type": "stream",
     "text": [
      "./data/dataset/train/layer_economic:\r\n",
      "13  14\t15  16\t17  18\t19  20\t21\r\n",
      "\r\n",
      "./data/dataset/train/layer_economic/13:\r\n",
      "zoom_layer_13.jpg\r\n",
      "\r\n",
      "./data/dataset/train/layer_economic/14:\r\n",
      "zoom_layer_14.jpg\r\n",
      "\r\n",
      "./data/dataset/train/layer_economic/15:\r\n",
      "zoom_layer_15.jpg\r\n",
      "\r\n",
      "./data/dataset/train/layer_economic/16:\r\n",
      "zoom_layer_16_1-1.jpg  zoom_layer_16_2-1.jpg\r\n",
      "zoom_layer_16_1-2.jpg  zoom_layer_16_2-2.jpg\r\n",
      "\r\n",
      "./data/dataset/train/layer_economic/17:\r\n",
      "zoom_layer_17_1-2.jpg  zoom_layer_17_2-2.jpg  zoom_layer_17_3-2.jpg\r\n",
      "zoom_layer_17_1-3.jpg  zoom_layer_17_2-3.jpg\r\n",
      "zoom_layer_17_2-1.jpg  zoom_layer_17_3-1.jpg\r\n",
      "\r\n",
      "./data/dataset/train/layer_economic/18:\r\n",
      "zoom_layer_18_1-3.jpg  zoom_layer_18_3-2.jpg  zoom_layer_18_4-3.jpg\r\n",
      "zoom_layer_18_1-4.jpg  zoom_layer_18_3-3.jpg  zoom_layer_18_4-4.jpg\r\n",
      "zoom_layer_18_1-5.jpg  zoom_layer_18_3-4.jpg  zoom_layer_18_5-1.jpg\r\n",
      "zoom_layer_18_2-3.jpg  zoom_layer_18_3-5.jpg  zoom_layer_18_5-2.jpg\r\n",
      "zoom_layer_18_2-4.jpg  zoom_layer_18_4-1.jpg\r\n",
      "zoom_layer_18_2-5.jpg  zoom_layer_18_4-2.jpg\r\n",
      "\r\n",
      "./data/dataset/train/layer_economic/19:\r\n",
      "zoom_layer_19_10-1.jpg\tzoom_layer_19_4-5.jpg\tzoom_layer_19_6-8.jpg\r\n",
      "zoom_layer_19_10-2.jpg\tzoom_layer_19_4-6.jpg\tzoom_layer_19_6-9.jpg\r\n",
      "zoom_layer_19_10-3.jpg\tzoom_layer_19_4-7.jpg\tzoom_layer_19_7-2.jpg\r\n",
      "zoom_layer_19_10-4.jpg\tzoom_layer_19_4-8.jpg\tzoom_layer_19_7-3.jpg\r\n",
      "zoom_layer_19_1-6.jpg\tzoom_layer_19_4-9.jpg\tzoom_layer_19_7-4.jpg\r\n",
      "zoom_layer_19_1-7.jpg\tzoom_layer_19_5-10.jpg\tzoom_layer_19_7-5.jpg\r\n",
      "zoom_layer_19_1-8.jpg\tzoom_layer_19_5-4.jpg\tzoom_layer_19_7-6.jpg\r\n",
      "zoom_layer_19_2-6.jpg\tzoom_layer_19_5-5.jpg\tzoom_layer_19_7-7.jpg\r\n",
      "zoom_layer_19_2-7.jpg\tzoom_layer_19_5-6.jpg\tzoom_layer_19_8-1.jpg\r\n",
      "zoom_layer_19_2-8.jpg\tzoom_layer_19_5-7.jpg\tzoom_layer_19_8-2.jpg\r\n",
      "zoom_layer_19_2-9.jpg\tzoom_layer_19_5-8.jpg\tzoom_layer_19_8-3.jpg\r\n",
      "zoom_layer_19_3-10.jpg\tzoom_layer_19_5-9.jpg\tzoom_layer_19_8-4.jpg\r\n",
      "zoom_layer_19_3-5.jpg\tzoom_layer_19_6-10.jpg\tzoom_layer_19_8-5.jpg\r\n",
      "zoom_layer_19_3-6.jpg\tzoom_layer_19_6-4.jpg\tzoom_layer_19_9-1.jpg\r\n",
      "zoom_layer_19_3-7.jpg\tzoom_layer_19_6-5.jpg\tzoom_layer_19_9-2.jpg\r\n",
      "zoom_layer_19_3-8.jpg\tzoom_layer_19_6-6.jpg\tzoom_layer_19_9-3.jpg\r\n",
      "zoom_layer_19_4-10.jpg\tzoom_layer_19_6-7.jpg\tzoom_layer_19_9-4.jpg\r\n",
      "\r\n",
      "./data/dataset/train/layer_economic/20:\r\n",
      "zoom_layer_20_10-10.jpg  zoom_layer_20_14-2.jpg  zoom_layer_20_6-11.jpg\r\n",
      "zoom_layer_20_10-11.jpg  zoom_layer_20_14-3.jpg  zoom_layer_20_6-12.jpg\r\n",
      "zoom_layer_20_10-12.jpg  zoom_layer_20_14-4.jpg  zoom_layer_20_6-13.jpg\r\n",
      "zoom_layer_20_10-13.jpg  zoom_layer_20_14-5.jpg  zoom_layer_20_6-14.jpg\r\n",
      "zoom_layer_20_10-15.jpg  zoom_layer_20_14-6.jpg  zoom_layer_20_6-15.jpg\r\n",
      "zoom_layer_20_10-16.jpg  zoom_layer_20_14-7.jpg  zoom_layer_20_6-16.jpg\r\n",
      "zoom_layer_20_10-5.jpg\t zoom_layer_20_15-1.jpg  zoom_layer_20_6-7.jpg\r\n",
      "zoom_layer_20_10-6.jpg\t zoom_layer_20_15-2.jpg  zoom_layer_20_6-8.jpg\r\n",
      "zoom_layer_20_10-7.jpg\t zoom_layer_20_15-3.jpg  zoom_layer_20_6-9.jpg\r\n",
      "zoom_layer_20_10-8.jpg\t zoom_layer_20_15-4.jpg  zoom_layer_20_7-10.jpg\r\n",
      "zoom_layer_20_10-9.jpg\t zoom_layer_20_15-5.jpg  zoom_layer_20_7-11.jpg\r\n",
      "zoom_layer_20_1-10.jpg\t zoom_layer_20_15-6.jpg  zoom_layer_20_7-12.jpg\r\n",
      "zoom_layer_20_11-10.jpg  zoom_layer_20_16-2.jpg  zoom_layer_20_7-13.jpg\r\n",
      "zoom_layer_20_11-11.jpg  zoom_layer_20_16-3.jpg  zoom_layer_20_7-14.jpg\r\n",
      "zoom_layer_20_11-12.jpg  zoom_layer_20_16-6.jpg  zoom_layer_20_7-15.jpg\r\n",
      "zoom_layer_20_1-12.jpg\t zoom_layer_20_2-10.jpg  zoom_layer_20_7-7.jpg\r\n",
      "zoom_layer_20_1-13.jpg\t zoom_layer_20_2-11.jpg  zoom_layer_20_7-8.jpg\r\n",
      "zoom_layer_20_11-4.jpg\t zoom_layer_20_2-12.jpg  zoom_layer_20_7-9.jpg\r\n",
      "zoom_layer_20_11-5.jpg\t zoom_layer_20_2-13.jpg  zoom_layer_20_8-10.jpg\r\n",
      "zoom_layer_20_11-6.jpg\t zoom_layer_20_3-10.jpg  zoom_layer_20_8-11.jpg\r\n",
      "zoom_layer_20_11-7.jpg\t zoom_layer_20_3-11.jpg  zoom_layer_20_8-12.jpg\r\n",
      "zoom_layer_20_11-8.jpg\t zoom_layer_20_3-12.jpg  zoom_layer_20_8-13.jpg\r\n",
      "zoom_layer_20_11-9.jpg\t zoom_layer_20_3-13.jpg  zoom_layer_20_8-14.jpg\r\n",
      "zoom_layer_20_12-2.jpg\t zoom_layer_20_3-14.jpg  zoom_layer_20_8-15.jpg\r\n",
      "zoom_layer_20_12-3.jpg\t zoom_layer_20_3-9.jpg\t zoom_layer_20_8-7.jpg\r\n",
      "zoom_layer_20_12-4.jpg\t zoom_layer_20_4-10.jpg  zoom_layer_20_8-8.jpg\r\n",
      "zoom_layer_20_12-5.jpg\t zoom_layer_20_4-11.jpg  zoom_layer_20_8-9.jpg\r\n",
      "zoom_layer_20_12-6.jpg\t zoom_layer_20_4-12.jpg  zoom_layer_20_9-10.jpg\r\n",
      "zoom_layer_20_12-7.jpg\t zoom_layer_20_4-13.jpg  zoom_layer_20_9-11.jpg\r\n",
      "zoom_layer_20_12-8.jpg\t zoom_layer_20_4-9.jpg\t zoom_layer_20_9-12.jpg\r\n",
      "zoom_layer_20_13-1.jpg\t zoom_layer_20_5-10.jpg  zoom_layer_20_9-13.jpg\r\n",
      "zoom_layer_20_13-2.jpg\t zoom_layer_20_5-11.jpg  zoom_layer_20_9-14.jpg\r\n",
      "zoom_layer_20_13-3.jpg\t zoom_layer_20_5-12.jpg  zoom_layer_20_9-15.jpg\r\n",
      "zoom_layer_20_13-4.jpg\t zoom_layer_20_5-14.jpg  zoom_layer_20_9-16.jpg\r\n",
      "zoom_layer_20_13-5.jpg\t zoom_layer_20_5-16.jpg  zoom_layer_20_9-6.jpg\r\n",
      "zoom_layer_20_13-6.jpg\t zoom_layer_20_5-8.jpg\t zoom_layer_20_9-7.jpg\r\n",
      "zoom_layer_20_13-7.jpg\t zoom_layer_20_5-9.jpg\t zoom_layer_20_9-8.jpg\r\n",
      "zoom_layer_20_14-1.jpg\t zoom_layer_20_6-10.jpg  zoom_layer_20_9-9.jpg\r\n",
      "\r\n",
      "./data/dataset/train/layer_economic/21:\r\n",
      "zoom_layer_21_10-11.jpg  zoom_layer_21_15-20.jpg  zoom_layer_21_23-3.jpg\r\n",
      "zoom_layer_21_10-12.jpg  zoom_layer_21_15-22.jpg  zoom_layer_21_23-4.jpg\r\n",
      "zoom_layer_21_10-13.jpg  zoom_layer_21_15-23.jpg  zoom_layer_21_23-5.jpg\r\n",
      "zoom_layer_21_10-14.jpg  zoom_layer_21_15-25.jpg  zoom_layer_21_23-6.jpg\r\n",
      "zoom_layer_21_10-15.jpg  zoom_layer_21_15-8.jpg   zoom_layer_21_23-7.jpg\r\n",
      "zoom_layer_21_10-16.jpg  zoom_layer_21_15-9.jpg   zoom_layer_21_23-8.jpg\r\n",
      "zoom_layer_21_10-17.jpg  zoom_layer_21_16-10.jpg  zoom_layer_21_23-9.jpg\r\n",
      "zoom_layer_21_10-18.jpg  zoom_layer_21_16-11.jpg  zoom_layer_21_24-1.jpg\r\n",
      "zoom_layer_21_10-19.jpg  zoom_layer_21_16-12.jpg  zoom_layer_21_24-2.jpg\r\n",
      "zoom_layer_21_10-20.jpg  zoom_layer_21_16-13.jpg  zoom_layer_21_24-3.jpg\r\n",
      "zoom_layer_21_10-21.jpg  zoom_layer_21_16-14.jpg  zoom_layer_21_24-4.jpg\r\n",
      "zoom_layer_21_10-22.jpg  zoom_layer_21_16-15.jpg  zoom_layer_21_24-5.jpg\r\n",
      "zoom_layer_21_10-23.jpg  zoom_layer_21_16-16.jpg  zoom_layer_21_24-6.jpg\r\n",
      "zoom_layer_21_10-24.jpg  zoom_layer_21_16-17.jpg  zoom_layer_21_24-9.jpg\r\n",
      "zoom_layer_21_11-11.jpg  zoom_layer_21_16-18.jpg  zoom_layer_21_25-3.jpg\r\n",
      "zoom_layer_21_11-12.jpg  zoom_layer_21_16-7.jpg   zoom_layer_21_25-4.jpg\r\n",
      "zoom_layer_21_11-13.jpg  zoom_layer_21_16-8.jpg   zoom_layer_21_25-9.jpg\r\n",
      "zoom_layer_21_11-14.jpg  zoom_layer_21_16-9.jpg   zoom_layer_21_3-15.jpg\r\n",
      "zoom_layer_21_11-15.jpg  zoom_layer_21_17-10.jpg  zoom_layer_21_3-16.jpg\r\n",
      "zoom_layer_21_11-16.jpg  zoom_layer_21_17-11.jpg  zoom_layer_21_3-17.jpg\r\n",
      "zoom_layer_21_11-17.jpg  zoom_layer_21_17-12.jpg  zoom_layer_21_3-18.jpg\r\n",
      "zoom_layer_21_11-18.jpg  zoom_layer_21_17-13.jpg  zoom_layer_21_3-19.jpg\r\n",
      "zoom_layer_21_11-19.jpg  zoom_layer_21_17-14.jpg  zoom_layer_21_3-20.jpg\r\n",
      "zoom_layer_21_11-20.jpg  zoom_layer_21_17-15.jpg  zoom_layer_21_4-15.jpg\r\n",
      "zoom_layer_21_11-22.jpg  zoom_layer_21_17-16.jpg  zoom_layer_21_4-16.jpg\r\n",
      "zoom_layer_21_11-23.jpg  zoom_layer_21_17-17.jpg  zoom_layer_21_4-17.jpg\r\n",
      "zoom_layer_21_11-24.jpg  zoom_layer_21_17-18.jpg  zoom_layer_21_4-18.jpg\r\n",
      "zoom_layer_21_1-19.jpg\t zoom_layer_21_17-6.jpg   zoom_layer_21_4-19.jpg\r\n",
      "zoom_layer_21_12-10.jpg  zoom_layer_21_17-7.jpg   zoom_layer_21_4-20.jpg\r\n",
      "zoom_layer_21_12-11.jpg  zoom_layer_21_17-8.jpg   zoom_layer_21_4-22.jpg\r\n",
      "zoom_layer_21_12-12.jpg  zoom_layer_21_17-9.jpg   zoom_layer_21_5-14.jpg\r\n",
      "zoom_layer_21_12-13.jpg  zoom_layer_21_18-10.jpg  zoom_layer_21_5-15.jpg\r\n",
      "zoom_layer_21_12-14.jpg  zoom_layer_21_18-11.jpg  zoom_layer_21_5-16.jpg\r\n",
      "zoom_layer_21_12-15.jpg  zoom_layer_21_18-12.jpg  zoom_layer_21_5-17.jpg\r\n",
      "zoom_layer_21_12-16.jpg  zoom_layer_21_18-4.jpg   zoom_layer_21_5-18.jpg\r\n",
      "zoom_layer_21_12-17.jpg  zoom_layer_21_18-5.jpg   zoom_layer_21_5-19.jpg\r\n",
      "zoom_layer_21_12-18.jpg  zoom_layer_21_18-6.jpg   zoom_layer_21_5-20.jpg\r\n",
      "zoom_layer_21_12-19.jpg  zoom_layer_21_18-7.jpg   zoom_layer_21_5-22.jpg\r\n",
      "zoom_layer_21_12-22.jpg  zoom_layer_21_18-8.jpg   zoom_layer_21_6-13.jpg\r\n",
      "zoom_layer_21_12-23.jpg  zoom_layer_21_18-9.jpg   zoom_layer_21_6-14.jpg\r\n",
      "zoom_layer_21_12-24.jpg  zoom_layer_21_19-10.jpg  zoom_layer_21_6-15.jpg\r\n",
      "zoom_layer_21_13-10.jpg  zoom_layer_21_19-11.jpg  zoom_layer_21_6-16.jpg\r\n",
      "zoom_layer_21_13-11.jpg  zoom_layer_21_19-3.jpg   zoom_layer_21_6-17.jpg\r\n",
      "zoom_layer_21_13-12.jpg  zoom_layer_21_19-4.jpg   zoom_layer_21_6-18.jpg\r\n",
      "zoom_layer_21_13-13.jpg  zoom_layer_21_19-5.jpg   zoom_layer_21_6-19.jpg\r\n",
      "zoom_layer_21_13-14.jpg  zoom_layer_21_19-6.jpg   zoom_layer_21_6-20.jpg\r\n",
      "zoom_layer_21_13-15.jpg  zoom_layer_21_19-7.jpg   zoom_layer_21_7-13.jpg\r\n",
      "zoom_layer_21_13-16.jpg  zoom_layer_21_19-8.jpg   zoom_layer_21_7-14.jpg\r\n",
      "zoom_layer_21_13-17.jpg  zoom_layer_21_19-9.jpg   zoom_layer_21_7-15.jpg\r\n",
      "zoom_layer_21_13-18.jpg  zoom_layer_21_20-10.jpg  zoom_layer_21_7-16.jpg\r\n",
      "zoom_layer_21_13-19.jpg  zoom_layer_21_20-2.jpg   zoom_layer_21_7-17.jpg\r\n",
      "zoom_layer_21_13-20.jpg  zoom_layer_21_20-3.jpg   zoom_layer_21_7-18.jpg\r\n",
      "zoom_layer_21_13-21.jpg  zoom_layer_21_20-4.jpg   zoom_layer_21_7-19.jpg\r\n",
      "zoom_layer_21_13-22.jpg  zoom_layer_21_20-5.jpg   zoom_layer_21_7-20.jpg\r\n",
      "zoom_layer_21_13-23.jpg  zoom_layer_21_20-6.jpg   zoom_layer_21_7-25.jpg\r\n",
      "zoom_layer_21_14-10.jpg  zoom_layer_21_20-7.jpg   zoom_layer_21_8-12.jpg\r\n",
      "zoom_layer_21_14-11.jpg  zoom_layer_21_20-8.jpg   zoom_layer_21_8-13.jpg\r\n",
      "zoom_layer_21_14-12.jpg  zoom_layer_21_20-9.jpg   zoom_layer_21_8-14.jpg\r\n",
      "zoom_layer_21_14-13.jpg  zoom_layer_21_21-10.jpg  zoom_layer_21_8-15.jpg\r\n",
      "zoom_layer_21_14-14.jpg  zoom_layer_21_21-1.jpg   zoom_layer_21_8-16.jpg\r\n",
      "zoom_layer_21_14-15.jpg  zoom_layer_21_21-2.jpg   zoom_layer_21_8-17.jpg\r\n",
      "zoom_layer_21_14-16.jpg  zoom_layer_21_21-3.jpg   zoom_layer_21_8-18.jpg\r\n",
      "zoom_layer_21_14-17.jpg  zoom_layer_21_21-4.jpg   zoom_layer_21_8-21.jpg\r\n",
      "zoom_layer_21_14-18.jpg  zoom_layer_21_2-15.jpg   zoom_layer_21_8-22.jpg\r\n",
      "zoom_layer_21_14-19.jpg  zoom_layer_21_21-5.jpg   zoom_layer_21_8-24.jpg\r\n",
      "zoom_layer_21_14-20.jpg  zoom_layer_21_2-16.jpg   zoom_layer_21_8-25.jpg\r\n",
      "zoom_layer_21_14-21.jpg  zoom_layer_21_21-6.jpg   zoom_layer_21_9-11.jpg\r\n",
      "zoom_layer_21_14-22.jpg  zoom_layer_21_21-7.jpg   zoom_layer_21_9-12.jpg\r\n",
      "zoom_layer_21_14-23.jpg  zoom_layer_21_2-18.jpg   zoom_layer_21_9-13.jpg\r\n",
      "zoom_layer_21_14-25.jpg  zoom_layer_21_21-8.jpg   zoom_layer_21_9-14.jpg\r\n",
      "zoom_layer_21_14-8.jpg\t zoom_layer_21_2-19.jpg   zoom_layer_21_9-15.jpg\r\n",
      "zoom_layer_21_14-9.jpg\t zoom_layer_21_21-9.jpg   zoom_layer_21_9-16.jpg\r\n",
      "zoom_layer_21_15-10.jpg  zoom_layer_21_22-1.jpg   zoom_layer_21_9-17.jpg\r\n",
      "zoom_layer_21_15-11.jpg  zoom_layer_21_22-2.jpg   zoom_layer_21_9-18.jpg\r\n",
      "zoom_layer_21_15-12.jpg  zoom_layer_21_22-3.jpg   zoom_layer_21_9-19.jpg\r\n",
      "zoom_layer_21_15-13.jpg  zoom_layer_21_22-4.jpg   zoom_layer_21_9-20.jpg\r\n",
      "zoom_layer_21_15-14.jpg  zoom_layer_21_22-5.jpg   zoom_layer_21_9-21.jpg\r\n",
      "zoom_layer_21_15-15.jpg  zoom_layer_21_22-6.jpg   zoom_layer_21_9-22.jpg\r\n",
      "zoom_layer_21_15-16.jpg  zoom_layer_21_22-7.jpg   zoom_layer_21_9-23.jpg\r\n",
      "zoom_layer_21_15-17.jpg  zoom_layer_21_22-8.jpg   zoom_layer_21_9-24.jpg\r\n",
      "zoom_layer_21_15-18.jpg  zoom_layer_21_23-1.jpg   zoom_layer_21_9-25.jpg\r\n",
      "zoom_layer_21_15-19.jpg  zoom_layer_21_23-2.jpg\r\n"
     ]
    }
   ],
   "source": [
    "!ls -R {PATH_DATASET_TRAIN}/layer_economic"
   ]
  },
  {
   "cell_type": "code",
   "execution_count": 3,
   "metadata": {},
   "outputs": [
    {
     "name": "stdout",
     "output_type": "stream",
     "text": [
      "./data/dataset/test/satellite:\r\n",
      "13  14\t15  16\t17  18\t19  20\t21\r\n",
      "\r\n",
      "./data/dataset/test/satellite/13:\r\n",
      "zoom_13.jpg\r\n",
      "\r\n",
      "./data/dataset/test/satellite/14:\r\n",
      "zoom_14.jpg\r\n",
      "\r\n",
      "./data/dataset/test/satellite/15:\r\n",
      "zoom_15.jpg\r\n",
      "\r\n",
      "./data/dataset/test/satellite/16:\r\n",
      "zoom_16_1-1.jpg  zoom_16_1-2.jpg  zoom_16_2-1.jpg  zoom_16_2-2.jpg\r\n",
      "\r\n",
      "./data/dataset/test/satellite/17:\r\n",
      "zoom_17_1-2.jpg  zoom_17_2-1.jpg  zoom_17_2-3.jpg  zoom_17_3-2.jpg\r\n",
      "zoom_17_1-3.jpg  zoom_17_2-2.jpg  zoom_17_3-1.jpg\r\n",
      "\r\n",
      "./data/dataset/test/satellite/18:\r\n",
      "zoom_18_1-4.jpg  zoom_18_2-5.jpg  zoom_18_4-1.jpg  zoom_18_5-2.jpg\r\n",
      "zoom_18_1-5.jpg  zoom_18_3-2.jpg  zoom_18_4-2.jpg\r\n",
      "zoom_18_2-3.jpg  zoom_18_3-3.jpg  zoom_18_4-3.jpg\r\n",
      "zoom_18_2-4.jpg  zoom_18_3-4.jpg  zoom_18_5-1.jpg\r\n",
      "\r\n",
      "./data/dataset/test/satellite/19:\r\n",
      "zoom_19_10-1.jpg  zoom_19_3-9.jpg   zoom_19_5-8.jpg  zoom_19_8-2.jpg\r\n",
      "zoom_19_1-8.jpg   zoom_19_4-10.jpg  zoom_19_5-9.jpg  zoom_19_8-3.jpg\r\n",
      "zoom_19_1-9.jpg   zoom_19_4-5.jpg   zoom_19_6-3.jpg  zoom_19_8-4.jpg\r\n",
      "zoom_19_2-10.jpg  zoom_19_4-6.jpg   zoom_19_6-4.jpg  zoom_19_8-5.jpg\r\n",
      "zoom_19_2-7.jpg   zoom_19_4-7.jpg   zoom_19_6-5.jpg  zoom_19_8-6.jpg\r\n",
      "zoom_19_2-8.jpg   zoom_19_4-8.jpg   zoom_19_6-6.jpg  zoom_19_9-1.jpg\r\n",
      "zoom_19_2-9.jpg   zoom_19_4-9.jpg   zoom_19_6-7.jpg  zoom_19_9-2.jpg\r\n",
      "zoom_19_3-10.jpg  zoom_19_5-3.jpg   zoom_19_7-3.jpg  zoom_19_9-3.jpg\r\n",
      "zoom_19_3-5.jpg   zoom_19_5-4.jpg   zoom_19_7-4.jpg  zoom_19_9-4.jpg\r\n",
      "zoom_19_3-6.jpg   zoom_19_5-5.jpg   zoom_19_7-5.jpg\r\n",
      "zoom_19_3-7.jpg   zoom_19_5-6.jpg   zoom_19_7-6.jpg\r\n",
      "zoom_19_3-8.jpg   zoom_19_5-7.jpg   zoom_19_8-1.jpg\r\n",
      "\r\n",
      "./data/dataset/test/satellite/20:\r\n",
      "zoom_20_10-10.jpg  zoom_20_13-5.jpg  zoom_20_4-14.jpg  zoom_20_7-11.jpg\r\n",
      "zoom_20_10-11.jpg  zoom_20_13-6.jpg  zoom_20_4-15.jpg  zoom_20_7-12.jpg\r\n",
      "zoom_20_10-5.jpg   zoom_20_13-7.jpg  zoom_20_4-16.jpg  zoom_20_7-13.jpg\r\n",
      "zoom_20_10-6.jpg   zoom_20_13-8.jpg  zoom_20_4-8.jpg   zoom_20_7-14.jpg\r\n",
      "zoom_20_10-7.jpg   zoom_20_14-1.jpg  zoom_20_4-9.jpg   zoom_20_7-6.jpg\r\n",
      "zoom_20_10-8.jpg   zoom_20_14-2.jpg  zoom_20_5-10.jpg  zoom_20_7-7.jpg\r\n",
      "zoom_20_10-9.jpg   zoom_20_14-4.jpg  zoom_20_5-11.jpg  zoom_20_7-8.jpg\r\n",
      "zoom_20_11-10.jpg  zoom_20_14-5.jpg  zoom_20_5-12.jpg  zoom_20_7-9.jpg\r\n",
      "zoom_20_1-12.jpg   zoom_20_14-6.jpg  zoom_20_5-13.jpg  zoom_20_8-10.jpg\r\n",
      "zoom_20_1-13.jpg   zoom_20_15-1.jpg  zoom_20_5-14.jpg  zoom_20_8-11.jpg\r\n",
      "zoom_20_1-14.jpg   zoom_20_15-2.jpg  zoom_20_5-15.jpg  zoom_20_8-12.jpg\r\n",
      "zoom_20_11-5.jpg   zoom_20_15-4.jpg  zoom_20_5-16.jpg  zoom_20_8-13.jpg\r\n",
      "zoom_20_11-6.jpg   zoom_20_16-1.jpg  zoom_20_5-8.jpg   zoom_20_8-5.jpg\r\n",
      "zoom_20_11-7.jpg   zoom_20_16-2.jpg  zoom_20_5-9.jpg   zoom_20_8-6.jpg\r\n",
      "zoom_20_11-8.jpg   zoom_20_2-12.jpg  zoom_20_6-10.jpg  zoom_20_8-7.jpg\r\n",
      "zoom_20_11-9.jpg   zoom_20_2-13.jpg  zoom_20_6-11.jpg  zoom_20_8-8.jpg\r\n",
      "zoom_20_12-4.jpg   zoom_20_2-14.jpg  zoom_20_6-12.jpg  zoom_20_8-9.jpg\r\n",
      "zoom_20_12-5.jpg   zoom_20_3-12.jpg  zoom_20_6-13.jpg  zoom_20_9-10.jpg\r\n",
      "zoom_20_12-6.jpg   zoom_20_3-13.jpg  zoom_20_6-14.jpg  zoom_20_9-11.jpg\r\n",
      "zoom_20_12-7.jpg   zoom_20_3-14.jpg  zoom_20_6-16.jpg  zoom_20_9-5.jpg\r\n",
      "zoom_20_12-8.jpg   zoom_20_3-15.jpg  zoom_20_6-7.jpg   zoom_20_9-6.jpg\r\n",
      "zoom_20_12-9.jpg   zoom_20_4-11.jpg  zoom_20_6-8.jpg   zoom_20_9-7.jpg\r\n",
      "zoom_20_13-1.jpg   zoom_20_4-12.jpg  zoom_20_6-9.jpg   zoom_20_9-8.jpg\r\n",
      "zoom_20_13-4.jpg   zoom_20_4-13.jpg  zoom_20_7-10.jpg  zoom_20_9-9.jpg\r\n",
      "\r\n",
      "./data/dataset/test/satellite/21:\r\n",
      "zoom_21_10-11.jpg  zoom_21_13-9.jpg   zoom_21_19-14.jpg  zoom_21_5-20.jpg\r\n",
      "zoom_21_10-12.jpg  zoom_21_14-10.jpg  zoom_21_19-6.jpg\t zoom_21_5-21.jpg\r\n",
      "zoom_21_10-13.jpg  zoom_21_14-11.jpg  zoom_21_19-7.jpg\t zoom_21_5-22.jpg\r\n",
      "zoom_21_10-14.jpg  zoom_21_14-12.jpg  zoom_21_19-8.jpg\t zoom_21_5-23.jpg\r\n",
      "zoom_21_10-15.jpg  zoom_21_14-13.jpg  zoom_21_19-9.jpg\t zoom_21_5-24.jpg\r\n",
      "zoom_21_10-16.jpg  zoom_21_14-14.jpg  zoom_21_20-10.jpg  zoom_21_6-13.jpg\r\n",
      "zoom_21_10-17.jpg  zoom_21_14-15.jpg  zoom_21_20-11.jpg  zoom_21_6-14.jpg\r\n",
      "zoom_21_10-18.jpg  zoom_21_14-16.jpg  zoom_21_20-12.jpg  zoom_21_6-17.jpg\r\n",
      "zoom_21_10-19.jpg  zoom_21_14-17.jpg  zoom_21_20-1.jpg\t zoom_21_6-18.jpg\r\n",
      "zoom_21_10-20.jpg  zoom_21_14-7.jpg   zoom_21_20-2.jpg\t zoom_21_6-19.jpg\r\n",
      "zoom_21_10-21.jpg  zoom_21_14-8.jpg   zoom_21_20-6.jpg\t zoom_21_6-20.jpg\r\n",
      "zoom_21_10-22.jpg  zoom_21_14-9.jpg   zoom_21_20-7.jpg\t zoom_21_6-21.jpg\r\n",
      "zoom_21_11-10.jpg  zoom_21_15-10.jpg  zoom_21_20-8.jpg\t zoom_21_6-22.jpg\r\n",
      "zoom_21_11-11.jpg  zoom_21_15-11.jpg  zoom_21_20-9.jpg\t zoom_21_6-23.jpg\r\n",
      "zoom_21_11-12.jpg  zoom_21_15-12.jpg  zoom_21_21-10.jpg  zoom_21_6-24.jpg\r\n",
      "zoom_21_11-13.jpg  zoom_21_15-13.jpg  zoom_21_21-1.jpg\t zoom_21_6-25.jpg\r\n",
      "zoom_21_11-14.jpg  zoom_21_15-14.jpg  zoom_21_21-2.jpg\t zoom_21_7-13.jpg\r\n",
      "zoom_21_11-15.jpg  zoom_21_15-15.jpg  zoom_21_21-3.jpg\t zoom_21_7-14.jpg\r\n",
      "zoom_21_11-16.jpg  zoom_21_15-16.jpg  zoom_21_21-6.jpg\t zoom_21_7-15.jpg\r\n",
      "zoom_21_11-17.jpg  zoom_21_15-17.jpg  zoom_21_21-7.jpg\t zoom_21_7-17.jpg\r\n",
      "zoom_21_11-18.jpg  zoom_21_15-7.jpg   zoom_21_2-18.jpg\t zoom_21_7-18.jpg\r\n",
      "zoom_21_11-19.jpg  zoom_21_15-8.jpg   zoom_21_21-8.jpg\t zoom_21_7-19.jpg\r\n",
      "zoom_21_11-20.jpg  zoom_21_15-9.jpg   zoom_21_2-19.jpg\t zoom_21_7-20.jpg\r\n",
      "zoom_21_11-21.jpg  zoom_21_16-10.jpg  zoom_21_21-9.jpg\t zoom_21_7-21.jpg\r\n",
      "zoom_21_11-8.jpg   zoom_21_16-11.jpg  zoom_21_2-20.jpg\t zoom_21_7-22.jpg\r\n",
      "zoom_21_1-19.jpg   zoom_21_16-12.jpg  zoom_21_2-21.jpg\t zoom_21_7-23.jpg\r\n",
      "zoom_21_11-9.jpg   zoom_21_16-13.jpg  zoom_21_22-1.jpg\t zoom_21_7-24.jpg\r\n",
      "zoom_21_1-20.jpg   zoom_21_16-14.jpg  zoom_21_22-2.jpg\t zoom_21_7-25.jpg\r\n",
      "zoom_21_12-10.jpg  zoom_21_16-15.jpg  zoom_21_22-3.jpg\t zoom_21_8-13.jpg\r\n",
      "zoom_21_12-11.jpg  zoom_21_16-7.jpg   zoom_21_22-5.jpg\t zoom_21_8-14.jpg\r\n",
      "zoom_21_12-12.jpg  zoom_21_16-8.jpg   zoom_21_22-6.jpg\t zoom_21_8-15.jpg\r\n",
      "zoom_21_12-13.jpg  zoom_21_16-9.jpg   zoom_21_22-7.jpg\t zoom_21_8-16.jpg\r\n",
      "zoom_21_12-14.jpg  zoom_21_17-10.jpg  zoom_21_22-8.jpg\t zoom_21_8-17.jpg\r\n",
      "zoom_21_12-15.jpg  zoom_21_17-11.jpg  zoom_21_23-1.jpg\t zoom_21_8-18.jpg\r\n",
      "zoom_21_12-16.jpg  zoom_21_17-12.jpg  zoom_21_23-2.jpg\t zoom_21_8-19.jpg\r\n",
      "zoom_21_12-17.jpg  zoom_21_17-13.jpg  zoom_21_23-3.jpg\t zoom_21_8-20.jpg\r\n",
      "zoom_21_12-18.jpg  zoom_21_17-14.jpg  zoom_21_23-5.jpg\t zoom_21_8-21.jpg\r\n",
      "zoom_21_12-19.jpg  zoom_21_17-15.jpg  zoom_21_23-6.jpg\t zoom_21_8-22.jpg\r\n",
      "zoom_21_1-21.jpg   zoom_21_17-7.jpg   zoom_21_24-2.jpg\t zoom_21_8-23.jpg\r\n",
      "zoom_21_12-20.jpg  zoom_21_17-8.jpg   zoom_21_25-2.jpg\t zoom_21_8-24.jpg\r\n",
      "zoom_21_12-7.jpg   zoom_21_17-9.jpg   zoom_21_25-3.jpg\t zoom_21_8-25.jpg\r\n",
      "zoom_21_12-8.jpg   zoom_21_18-10.jpg  zoom_21_3-18.jpg\t zoom_21_9-13.jpg\r\n",
      "zoom_21_12-9.jpg   zoom_21_18-11.jpg  zoom_21_3-19.jpg\t zoom_21_9-14.jpg\r\n",
      "zoom_21_13-10.jpg  zoom_21_18-12.jpg  zoom_21_3-20.jpg\t zoom_21_9-15.jpg\r\n",
      "zoom_21_13-11.jpg  zoom_21_18-13.jpg  zoom_21_3-21.jpg\t zoom_21_9-16.jpg\r\n",
      "zoom_21_13-12.jpg  zoom_21_18-14.jpg  zoom_21_3-22.jpg\t zoom_21_9-17.jpg\r\n",
      "zoom_21_13-13.jpg  zoom_21_18-15.jpg  zoom_21_4-18.jpg\t zoom_21_9-18.jpg\r\n",
      "zoom_21_13-14.jpg  zoom_21_18-7.jpg   zoom_21_4-19.jpg\t zoom_21_9-19.jpg\r\n",
      "zoom_21_13-15.jpg  zoom_21_18-8.jpg   zoom_21_4-20.jpg\t zoom_21_9-20.jpg\r\n",
      "zoom_21_13-16.jpg  zoom_21_18-9.jpg   zoom_21_4-21.jpg\t zoom_21_9-21.jpg\r\n",
      "zoom_21_13-17.jpg  zoom_21_19-10.jpg  zoom_21_4-22.jpg\t zoom_21_9-22.jpg\r\n",
      "zoom_21_13-18.jpg  zoom_21_19-11.jpg  zoom_21_5-17.jpg\t zoom_21_9-25.jpg\r\n",
      "zoom_21_13-7.jpg   zoom_21_19-12.jpg  zoom_21_5-18.jpg\r\n",
      "zoom_21_13-8.jpg   zoom_21_19-13.jpg  zoom_21_5-19.jpg\r\n"
     ]
    }
   ],
   "source": [
    "!ls -R {PATH_DATASET_TEST}/satellite"
   ]
  },
  {
   "cell_type": "markdown",
   "metadata": {},
   "source": [
    "### 2.1 Eliminando imagenes grises\n",
    "Al ver el dataset [dataset raw - Bogota Estrato Economico](https://drive.google.com/open?id=1cQPLqVHW9f7alj_CNRApJNj-XmqDDXb3) existen \"imagenes grises\" que dañarian el entrenamiento de la Red neuronal a usar para la prediccion, por ende se eliminan dichas imagnes"
   ]
  },
  {
   "cell_type": "code",
   "execution_count": null,
   "metadata": {},
   "outputs": [],
   "source": [
    "# IMAGENES GRISES TEST\n",
    "zoom = [17, 18, 19, 20, 21]\n",
    "imgs = [[\"1-1\", \"3-3\"], [\"1-1\", \"1-2\", \"1-3\", \"2-1\", \"2-2\", \"3-1\", \"3-5\", \"4-4\", \"4-5\", \"5-3\", \"5-4\", \"5-5\"], [\"1-1\", \"1-2\",\"1-3\",\"1-4\",\"1-5\",\"1-6\",\"1-7\",\"1-10\",\"2-1\",\"2-2\",\"2-3\",\"2-4\",\"2-5\",\"2-6\",         \"3-1\",\"3-2\",\"3-3\",\"3-4\",\"4-1\",\"4-2\",\"4-3\",\"4-4\",\"5-10\",\"6-1\",\"6-2\",\"5-1\",\"5-2\",\"6-8\",         \"6-9\",\"6-10\",\"7-1\",\"7-2\",\"7-7\",\"7-8\",\"7-9\",\"7-10\",\"8-7\",\"8-8\",\"8-9\",\"8-10\",\"9-5\",\"9-6\",         \"9-7\",\"9-8\",\"9-9\", \"9-10\", \"10-2\", \"10-3\", \"10-4\", \"10-5\", \"10-6\", \"10-7\", \"10-8\", \"10-9\", \"10-10\"],        [\"1-1\",\"1-2\",\"1-3\",\"1-4\",\"1-5\",\"1-6\",\"1-7\",\"1-8\",\"1-9\",\"1-10\",\"1-11\",\"1-15\",\"1-16\",         \"2-1\",\"2-2\",\"2-3\",\"2-4\",\"2-5\",\"2-6\",\"2-7\",\"2-8\",\"2-9\",\"2-10\",\"2-11\",\"2-15\",\"2-16\",         \"3-1\",\"3-2\",\"3-3\",\"3-4\",\"3-5\",\"3-6\",\"3-7\",\"3-8\",\"3-9\",\"3-10\",\"3-11\", \"3-16\", \"4-1\",         \"4-2\",\"4-3\",\"4-4\",\"4-5\",\"4-6\",\"4-7\", \"4-10\", \"5-1\", \"5-2\", \"5-3\", \"5-4\", \"5-5\", \"5-6\",         \"5-7\", \"6-1\", \"6-2\", \"6-3\", \"6-4\", \"6-5\", \"6-6\", \"6-15\", \"7-1\", \"7-2\", \"7-3\", \"7-4\",         \"7-5\", \"7-15\", \"7-16\", \"8-1\", \"8-2\", \"8-3\", \"8-4\", \"8-14\", \"8-15\", \"8-16\", \"9-1\",          \"9-2\", \"9-3\", \"9-4\", \"9-12\", \"9-13\", \"9-14\", \"9-15\", \"9-16\", \"10-1\", \"10-2\", \"10-3\",         \"10-4\", \"10-12\", \"10-13\", \"10-14\", \"10-15\", \"10-16\", \"11-1\", \"11-2\", \"11-3\", \"11-4\",         \"11-11\", \"11-12\", \"11-13\", \"11-14\", \"11-15\", \"11-16\", \"12-1\", \"12-2\", \"12-3\", \"12-10\",         \"12-11\", \"12-12\", \"12-13\", \"12-14\", \"12-15\", \"12-16\", \"13-2\", \"13-3\", \"13-9\", \"13-10\",         \"13-11\", \"13-12\", \"13-13\", \"13-14\", \"13-15\", \"13-16\", \"14-3\", \"14-7\", \"14-8\", \"14-9\",          \"14-10\", \"14-11\", \"14-12\", \"14-13\", \"14-14\", \"14-15\", \"14-16\", \"15-5\", \"15-6\", \"15-7\",         \"15-8\", \"15-9\", \"15-10\", \"15-11\", \"15-12\", \"15-13\", \"15-14\", \"15-15\", \"15-16\", \"15-3\",         \"16-3\", \"16-4\", \"16-5\", \"16-6\", \"16-7\", \"16-8\", \"16-9\", \"16-10\", \"16-11\", \"16-12\", \"16-13\",         \"16-14\", \"16-15\", \"16-16\"],        [\"1-1\",\"1-2\",\"1-3\",\"1-4\",\"1-5\",\"1-6\",\"1-7\",\"1-8\",\"1-9\",\"1-10\", \"1-11\", \"1-12\", \"1-13\",         \"1-14\", \"1-15\", \"1-16\", \"1-17\", \"1-18\", \"1-22\", \"1-23\", \"1-24\", \"1-25\", \"2-1\", \"2-2\",         \"2-3\", \"2-4\", \"2-5\", \"2-6\", \"2-7\", \"2-8\", \"2-9\", \"2-10\", \"2-11\", \"2-12\", \"2-13\", \"2-14\",         \"2-15\", \"2-16\", \"2-17\", \"2-22\", \"2-23\", \"2-24\", \"2-25\", \"3-1\", \"3-2\", \"3-3\", \"3-4\", \"3-5\",          \"3-6\", \"3-7\", \"3-8\", \"3-9\", \"3-10\", \"3-11\", \"3-12\", \"3-13\", \"3-14\", \"3-15\", \"3-16\", \"3-17\",          \"3-23\", \"3-24\", \"3-25\", \"4-1\", \"4-2\", \"4-3\", \"4-4\", \"4-5\", \"4-6\", \"4-7\", \"4-8\", \"4-9\", \"4-10\",         \"4-11\", \"4-12\", \"4-13\", \"4-14\", \"4-15\", \"4-16\", \"4-17\", \"4-23\", \"4-24\", \"4-25\", \"5-1\", \"5-2\",         \"5-3\", \"5-4\", \"5-5\", \"5-6\", \"5-7\", \"5-8\", \"5-9\", \"5-10\", \"5-11\", \"5-12\", \"5-13\", \"5-14\",         \"5-15\", \"5-16\", \"5-25\", \"6-1\", \"6-2\", \"6-3\", \"6-4\", \"6-5\", \"6-6\", \"6-7\", \"6-8\", \"6-9\", \"6-10\",         \"6-11\", \"6-12\", \"6-15\", \"6-16\", \"7-1\", \"7-2\", \"7-3\", \"7-4\", \"7-5\", \"7-6\", \"7-7\", \"7-8\", \"7-9\",         \"7-10\", \"7-11\", \"7-12\", \"7-16\", \"8-1\", \"8-2\", \"8-3\", \"8-4\", \"8-5\", \"8-6\", \"8-7\", \"8-8\", \"8-9\",         \"8-10\", \"8-11\", \"8-12\", \"9-1\", \"9-2\", \"9-3\", \"9-4\", \"9-5\", \"9-6\", \"9-7\", \"9-8\", \"9-9\", \"9-10\",          \"9-11\", \"9-12\", \"9-23\", \"9-24\", \"10-1\", \"10-2\", \"10-3\", \"10-4\", \"10-5\", \"10-6\", \"10-7\", \"10-8\",         \"10-9\", \"10-10\", \"10-23\", \"10-24\", \"10-25\", \"11-1\", \"11-2\", \"11-3\", \"11-4\", \"11-5\", \"11-6\",         \"11-7\", \"11-22\", \"11-23\", \"11-24\", \"11-25\", \"12-1\", \"12-2\", \"12-3\", \"12-4\", \"12-5\", \"12-6\",         \"12-21\", \"12-22\", \"12-23\", \"12-24\", \"12-25\", \"13-1\", \"13-2\", \"13-3\", \"13-4\", \"13-5\", \"13-6\",          \"13-19\", \"13-20\", \"13-21\", \"13-22\", \"13-23\", \"13-24\", \"13-25\", \"14-1\", \"14-2\", \"14-3\", \"14-4\",         \"14-5\", \"14-6\", \"14-18\", \"14-19\", \"14-20\", \"14-21\", \"14-22\", \"14-23\", \"14-24\", \"14-25\", \"15-1\",         \"15-2\", \"15-3\", \"15-4\", \"15-5\", \"15-6\", \"15-18\", \"15-19\", \"15-20\", \"15-21\", \"15-22\", \"15-23\",         \"15-24\", \"15-25\", \"16-1\", \"16-2\", \"16-3\", \"16-4\",\"16-5\", \"16-6\", \"16-16\", \"16-17\", \"16-18\",          \"16-19\", \"16-20\", \"16-21\", \"16-22\", \"16-23\", \"16-24\", \"16-25\", \"17-1\", \"17-2\", \"17-3\", \"17-4\",         \"17-5\", \"17-6\", \"17-16\", \"17-17\", \"17-18\", \"17-19\", \"17-20\", \"17-21\", \"17-22\", \"17-23\", \"17-24\",          \"17-25\", \"18-1\", \"18-2\", \"18-3\", \"18-4\", \"18-5\", \"18-6\", \"18-16\", \"18-17\", \"18-18\", \"18-19\",         \"18-20\", \"18-21\", \"18-22\", \"18-23\", \"18-24\", \"18-25\", \"19-1\", \"19-2\", \"19-3\", \"19-4\", \"19-5\",\"19-15\", \"19-16\", \"19-17\", \"19-18\", \"19-19\", \"19-20\", \"19-21\", \"19-22\", \"19-23\", \"19-24\", \"19-25\", \"20-3\", \"20-4\", \"20-5\", \"20-13\", \"20-14\", \"20-15\", \"20-16\", \"20-17\", \"20-18\", \"20-19\", \"20-20\", \"20-21\", \"20-22\", \"20-23\", \"20-24\", \"20-25\", \"21-4\", \"21-5\", \"21-11\", \"21-12\", \"21-13\", \"21-14\", \"21-15\", \"21-16\", \"21-17\",\"21-18\", \"21-19\", \"21-20\", \"21-21\", \"21-22\", \"21-23\", \"21-24\", \"21-25\", \"22-4\",\"22-9\", \"22-10\", \"22-11\", \"22-12\", \"22-13\", \"22-14\", \"22-15\", \"22-16\", \"22-17\", \"22-18\", \"22-19\", \"22-20\", \"22-21\", \"22-22\", \"22-23\", \"22-24\", \"22-25\", \"23-4\", \"23-7\", \"23-8\", \"23-9\", \"23-10\", \"23-11\", \"23-12\", \"23-13\", \"23-14\", \"23-15\", \"23-16\", \"23-17\", \"23-18\", \"23-19\", \"23-20\", \"23-21\", \"23-22\", \"23-23\", \"23-24\", \"23-25\", \"24-1\",\"24-3\", \"24-4\", \"24-5\", \"24-6\", \"24-7\", \"24-8\", \"24-9\", \"24-10\", \"24-11\", \"24-12\", \"24-13\", \"24-14\", \"24-15\", \"24-16\", \"24-17\", \"24-18\", \"24-19\", \"24-20\", \"24-21\", \"24-22\", \"24-23\", \"24-24\", \"24-25\", \"25-1\", \"25-4\", \"25-5\", \"25-6\", \"25-7\", \"25-8\", \"25-9\", \"25-10\", \"25-11\", \"25-12\", \"25-13\", \"25-14\", \"25-15\", \"25-16\", \"25-17\", \"25-18\", \"25-19\", \"25-20\", \"25-21\", \"25-22\", \"25-23\", \"25-24\", \"25-25\"]]"
   ]
  },
  {
   "cell_type": "code",
   "execution_count": null,
   "metadata": {},
   "outputs": [],
   "source": [
    "for n,i in enumerate(zoom):\n",
    "    for k in imgs[n]:\n",
    "        !rm ../proyecto_dev/data/dataset/test/layer_economic/{i}/zoom_layer_{i}_{k}.jpg"
   ]
  },
  {
   "cell_type": "markdown",
   "metadata": {},
   "source": [
    "================="
   ]
  },
  {
   "cell_type": "code",
   "execution_count": null,
   "metadata": {},
   "outputs": [],
   "source": [
    "# IMAGENES GRISES TRAIN\n",
    "zoom = [17, 18, 19, 20, 21]\n",
    "imgs = [[\"1-1\", \"3-3\"], [\"1-1\", \"1-2\", \"2-1\", \"2-2\", \"3-1\", \"4-5\", \"5-4\", \"5-3\", \"5-5\"],[\"1-1\", \"1-2\", \"1-3\", \"1-4\", \"1-5\", \"1-9\", \"1-10\", \"2-1\", \"2-2\", \"2-3\", \"2-4\", \"2-5\", \"2-10\", \"3-1\", \"3-2\", \"3-3\", \"3-4\", \"3-9\", \"4-1\", \"4-2\", \"4-3\", \"4-4\", \"5-1\", \"5-2\", \"5-3\", \"6-1\", \"6-2\", \"6-3\", \"7-1\", \"7-8\", \"7-9\", \"7-10\", \"8-6\", \"8-7\", \"8-8\", \"8-9\", \"8-10\", \"9-5\", \"9-6\", \"9-7\", \"9-8\", \"9-9\", \"9-10\", \"10-5\", \"10-6\", \"10-7\", \"10-8\", \"10-9\", \"10-10\"],[\"1-1\", \"1-2\", \"1-3\", \"1-4\", \"1-5\", \"1-6\", \"1-7\", \"1-8\", \"1-9\", \"1-11\", \"1-14\", \"1-15\", \"1-16\", \"2-1\", \"2-2\", \"2-3\", \"2-4\", \"2-5\", \"2-6\", \"2-7\", \"2-8\", \"2-9\", \"2-14\", \"2-15\", \"2-16\", \"3-1\", \"3-2\", \"3-3\", \"3-4\", \"3-5\", \"3-6\", \"3-7\", \"3-8\", \"3-15\", \"3-16\", \"4-1\", \"4-2\", \"4-3\", \"4-4\", \"4-5\", \"4-6\", \"4-7\", \"4-8\", \"4-14\", \"4-15\", \"4-16\", \"5-1\", \"5-2\", \"5-3\", \"5-4\", \"5-5\", \"5-6\", \"5-7\", \"5-13\", \"5-15\", \"6-1\", \"6-2\", \"6-3\", \"6-4\", \"6-5\", \"6-6\", \"7-1\", \"7-2\", \"7-3\", \"7-4\", \"7-5\", \"7-6\", \"7-16\", \"8-1\", \"8-2\", \"8-3\", \"8-4\", \"8-5\", \"8-6\", \"8-16\", \"9-1\", \"9-2\", \"9-3\", \"9-4\", \"9-5\", \"10-1\", \"10-2\", \"10-3\", \"10-4\", \"10-14\", \"11-1\", \"11-2\", \"11-3\", \"11-13\", \"11-14\", \"11-15\", \"11-16\", \"12-1\", \"12-9\", \"12-10\", \"12-11\", \"12-12\", \"12-13\", \"12-14\", \"12-15\", \"12-16\", \"13-8\", \"13-9\", \"13-10\", \"13-11\", \"13-12\", \"13-13\", \"13-14\", \"13-15\", \"13-16\", \"14-8\", \"14-9\", \"14-10\", \"14-11\", \"14-12\", \"14-13\", \"14-14\", \"14-15\", \"14-16\", \"15-7\", \"15-8\", \"15-9\", \"15-10\", \"15-11\", \"15-12\", \"15-13\", \"15-14\", \"15-15\", \"15-16\", \"16-1\", \"16-4\", \"16-5\", \"16-7\", \"16-8\", \"16-8\", \"16-9\", \"16-10\", \"16-11\", \"16-12\", \"16-13\", \"16-14\", \"16-15\", \"16-16\"],[\"1-1\", \"1-2\", \"1-3\", \"1-4\", \"1-5\", \"1-6\", \"1-7\", \"1-8\", \"1-9\", \"1-10\", \"1-11\", \"1-12\", \"1-13\", \"1-14\", \"1-15\", \"1-16\", \"1-17\", \"1-18\", \"1-20\", \"1-21\", \"1-22\", \"1-23\", \"1-24\", \"1-25\", \"2-1\", \"2-2\", \"2-3\", \"2-4\", \"2-5\", \"2-6\", \"2-7\", \"2-8\", \"2-9\", \"2-10\", \"2-11\", \"2-12\", \"2-13\", \"2-14\", \"2-17\", \"2-20\", \"2-21\", \"2-22\", \"2-23\", \"2-24\", \"2-25\", \"3-1\", \"3-2\", \"3-3\", \"3-4\", \"3-5\", \"3-6\", \"3-7\", \"3-8\", \"3-9\", \"3-10\", \"3-11\", \"3-12\", \"3-13\", \"3-14\", \"3-21\", \"3-22\", \"3-23\", \"3-24\", \"3-25\", \"4-1\", \"4-2\", \"4-3\", \"4-4\", \"4-5\", \"4-6\", \"4-7\", \"4-8\", \"4-9\", \"4-10\", \"4-11\", \"4-12\", \"4-13\", \"4-14\", \"4-21\", \"4-23\", \"4-24\", \"4-25\", \"5-1\", \"5-2\", \"5-3\", \"5-4\", \"5-5\", \"5-6\", \"5-7\", \"5-8\", \"5-9\", \"5-10\", \"5-11\", \"5-12\", \"5-13\", \"5-21\", \"5-23\", \"5-24\", \"5-25\", \"6-1\", \"6-2\", \"6-3\", \"6-4\", \"6-5\", \"6-6\", \"6-7\", \"6-8\", \"6-9\", \"6-10\", \"6-11\", \"6-12\", \"6-21\", \"6-22\", \"6-23\", \"6-24\", \"6-25\", \"7-1\", \"7-2\", \"7-3\", \"7-4\", \"7-5\", \"7-6\", \"7-7\", \"7-8\", \"7-9\", \"7-10\", \"7-11\", \"7-12\", \"7-21\", \"7-22\", \"7-23\", \"7-24\", \"8-1\", \"8-2\", \"8-3\", \"8-4\", \"8-5\", \"8-6\", \"8-7\", \"8-8\", \"8-9\", \"8-10\", \"8-11\", \"8-19\", \"8-20\", \"8-23\", \"9-1\", \"9-2\", \"9-3\", \"9-4\", \"9-5\", \"9-6\", \"9-7\", \"9-8\", \"9-9\", \"9-10\", \"10-1\", \"10-2\", \"10-3\", \"10-4\", \"10-5\", \"10-6\", \"10-7\", \"10-8\", \"10-9\", \"10-10\", \"10-25\", \"11-1\", \"11-2\", \"11-3\", \"11-4\", \"11-5\", \"11-6\", \"11-7\", \"11-8\", \"11-9\", \"11-10\", \"11-21\", \"11-25\", \"12-1\", \"12-2\", \"12-3\", \"12-4\", \"12-5\", \"12-6\", \"12-7\", \"12-8\", \"12-9\", \"12-20\", \"12-21\", \"12-25\", \"13-1\", \"13-2\", \"13-3\", \"13-4\", \"13-5\", \"13-6\", \"13-8\", \"13-9\", \"13-24\", \"13-25\", \"14-1\", \"14-2\", \"14-3\", \"14-4\", \"14-5\", \"14-6\", \"14-7\", \"14-24\", \"15-1\", \"15-2\", \"15-3\", \"15-4\", \"15-5\", \"15-6\", \"15-7\", \"15-21\", \"15-24\", \"16-1\", \"16-2\", \"16-3\", \"16-4\", \"16-5\", \"16-6\", \"16-19\", \"16-20\", \"16-21\", \"16-22\", \"16-23\", \"16-24\", \"16-25\", \"17-1\", \"17-2\", \"17-3\", \"17-4\", \"17-5\", \"17-19\", \"17-20\", \"17-21\", \"17-22\", \"17-23\", \"17-24\", \"17-25\", \"18-1\", \"18-2\", \"18-3\", \"18-13\", \"18-14\", \"18-15\", \"18-16\", \"18-17\", \"18-18\", \"18-19\", \"18-20\", \"18-21\", \"18-22\", \"18-23\", \"18-24\", \"18-25\", \"19-1\", \"19-2\", \"19-12\", \"19-13\", \"19-14\", \"19-15\", \"19-16\", \"19-17\", \"19-18\", \"19-19\", \"19-20\", \"19-21\", \"19-22\", \"19-23\", \"19-24\", \"19-25\", \"20-1\", \"20-11\", \"20-12\", \"20-13\", \"20-14\", \"20-15\", \"20-16\", \"20-17\", \"20-18\", \"20-19\", \"20-20\", \"20-21\", \"20-22\", \"20-23\", \"20-24\", \"20-25\", \"21-11\", \"21-12\", \"21-13\", \"21-14\", \"21-15\", \"21-16\", \"21-17\", \"21-18\", \"21-19\", \"21-20\", \"21-21\", \"21-22\", \"21-23\", \"21-24\", \"21-25\", \"22-9\", \"22-10\", \"22-11\", \"22-12\", \"22-13\", \"22-14\", \"22-15\", \"22-16\", \"22-17\", \"22-18\", \"22-19\", \"22-20\", \"22-21\", \"22-22\", \"22-23\", \"22-24\", \"22-25\", \"23-10\", \"23-11\", \"23-12\", \"23-13\", \"23-14\", \"23-15\", \"23-16\", \"23-17\", \"23-18\", \"23-19\", \"23-20\", \"23-21\", \"23-22\", \"23-23\", \"23-24\", \"23-25\", \"24-7\", \"24-8\", \"24-10\", \"24-11\", \"24-12\", \"24-13\", \"24-14\", \"24-15\", \"24-16\", \"24-17\", \"24-18\", \"24-19\", \"24-20\", \"24-21\", \"24-22\", \"24-23\", \"24-24\", \"24-25\", \"25-1\", \"25-2\", \"25-5\", \"25-6\", \"25-7\", \"25-8\", \"25-10\", \"25-11\", \"25-12\", \"25-13\", \"25-14\", \"25-15\", \"25-16\", \"25-17\", \"25-18\", \"25-19\", \"25-20\", \"25-21\", \"25-22\", \"25-23\", \"25-24\", \"25-25\"]]"
   ]
  },
  {
   "cell_type": "code",
   "execution_count": null,
   "metadata": {},
   "outputs": [],
   "source": [
    "for n,i in enumerate(zoom):\n",
    "    for k in imgs[n]:\n",
    "        !rm ../proyecto_dev/data/dataset/train/satellite/{i}/zoom_{i}_{k}.jpg"
   ]
  },
  {
   "cell_type": "markdown",
   "metadata": {},
   "source": [
    "### 2.2 Tabla de informacion"
   ]
  },
  {
   "cell_type": "code",
   "execution_count": 3,
   "metadata": {},
   "outputs": [],
   "source": [
    "import pandas as pd\n",
    "content_train = pd.read_csv(PATH_DATASET_TRAIN+\"/content_train.csv\")\n",
    "content_test = pd.read_csv(PATH_DATASET_TEST+\"/content_test.csv\")"
   ]
  },
  {
   "cell_type": "code",
   "execution_count": 7,
   "metadata": {},
   "outputs": [
    {
     "name": "stdout",
     "output_type": "stream",
     "text": [
      "./data/dataset/train\n",
      "   zoom  satellite_count satellite_size  layer_count layer_size\n",
      "0    13                1        481x895            1    481x895\n",
      "1    14                1       962x1789            1   962x1789\n",
      "2    15                1      1922x3576            1  1922x3576\n",
      "3    16                4      1921x3575            4  1921x3575\n",
      "4    17                7      2560x4767            7  2560x4767\n",
      "5    18               16      3072x5720           16  3072x5720\n",
      "6    19               51      3072x5720           51  3072x5720\n",
      "7    20              114      3840x7150          114  3840x7150\n",
      "8    21              246      4915x9153          246  4915x9153\n",
      "./data/dataset/test\n",
      "   zoom  satellite_count satellite_size  layer_count layer_size\n",
      "0    13                1        591x780            1    591x780\n",
      "1    14                1      1180x1559            1  1180x1559\n",
      "2    15                1      2360x3118            1  2360x3118\n",
      "3    16                4      2360x3118            4  2360x3118\n",
      "4    17                7      3146x4157            7  3146x4157\n",
      "5    18               13      3775x4988           13  3775x4988\n",
      "6    19               45      3775x4988           45  3775x4988\n",
      "7    20               96      4719x6235           96  4719x6235\n",
      "8    21              214      6040x7980          214  6040x7980\n"
     ]
    }
   ],
   "source": [
    "print(PATH_DATASET_TRAIN)\n",
    "print(content_train)\n",
    "print(PATH_DATASET_TEST)\n",
    "print(content_test)"
   ]
  },
  {
   "cell_type": "markdown",
   "metadata": {},
   "source": [
    "## 3. SubDivision\n",
    "<h3 style=\"color:red\"> Hoy 9-Abril-2018 Hasta lo que se, algunas redes neuronales necesitan de un tamaño fijo, creo, no estoy 100% seguro asi que antes de subdividir buscare mas sobre redes neuronales, ya una parte mas practica que teorica</h3>\n",
    "Dado que las imagenes son muy grandes y lo que yo tengo entendido de lo que planeo hacer es mejor subdividir las imagenes en imagenes mucho mas pequeñas, a lo mejor con una dimensionalidad como la que me entrega google de 256x256"
   ]
  },
  {
   "cell_type": "code",
   "execution_count": 88,
   "metadata": {
    "collapsed": true
   },
   "outputs": [],
   "source": [
    "def subdiv_img(img, ancho, alto):\n",
    "    pass"
   ]
  },
  {
   "cell_type": "markdown",
   "metadata": {
    "collapsed": true
   },
   "source": [
    "### 3.1 Importar una imagen"
   ]
  },
  {
   "cell_type": "code",
   "execution_count": 3,
   "metadata": {
    "collapsed": true
   },
   "outputs": [],
   "source": [
    "# Librerias para la impresion de las imagenes\n",
    "from skimage import io\n",
    "import matplotlib.pyplot as plt\n",
    "%matplotlib inline"
   ]
  },
  {
   "cell_type": "code",
   "execution_count": 6,
   "metadata": {},
   "outputs": [
    {
     "data": {
      "text/plain": [
       "<matplotlib.image.AxesImage at 0x7fee044d8550>"
      ]
     },
     "execution_count": 6,
     "metadata": {},
     "output_type": "execute_result"
    },
    {
     "data": {
      "image/png": "[encoded data removed]",
      "text/plain": [
       "<matplotlib.figure.Figure at 0x7fee0457a390>"
      ]
     },
     "metadata": {},
     "output_type": "display_data"
    }
   ],
   "source": [
    "# Leer la imagen\n",
    "img = io.imread(\"./data/bogota/satelital/13/0.png\")\n",
    "\n",
    "#Imprimir la imagen\n",
    "plt.imshow(img)"
   ]
  },
  {
   "cell_type": "code",
   "execution_count": 144,
   "metadata": {},
   "outputs": [
    {
     "name": "stdout",
     "output_type": "stream",
     "text": [
      "Dimensiones:\n"
     ]
    },
    {
     "data": {
      "text/plain": [
       "(528, 307, 3)"
      ]
     },
     "execution_count": 144,
     "metadata": {},
     "output_type": "execute_result"
    }
   ],
   "source": [
    "# Dimension de la imagen\n",
    "img.shape"
   ]
  },
  {
   "cell_type": "markdown",
   "metadata": {},
   "source": [
    "# 3.2 ¿Como subdividir?\n",
    "se quieren imagenes de poco mas de 200x200 y no mas de 300x300"
   ]
  },
  {
   "cell_type": "code",
   "execution_count": 8,
   "metadata": {},
   "outputs": [
    {
     "data": {
      "text/plain": [
       "3.065"
      ]
     },
     "execution_count": 8,
     "metadata": {},
     "output_type": "execute_result"
    }
   ],
   "source": [
    "613/200"
   ]
  },
  {
   "cell_type": "code",
   "execution_count": 10,
   "metadata": {},
   "outputs": [
    {
     "data": {
      "text/plain": [
       "5.275"
      ]
     },
     "execution_count": 10,
     "metadata": {},
     "output_type": "execute_result"
    }
   ],
   "source": [
    "1055/200"
   ]
  },
  {
   "cell_type": "code",
   "execution_count": 18,
   "metadata": {},
   "outputs": [
    {
     "data": {
      "text/plain": [
       "0        307x528\n",
       "1       613x1055\n",
       "2      1225x2109\n",
       "3      2450x4217\n",
       "4      2449x4217\n",
       "5      3265x5622\n",
       "6      3918x6746\n",
       "7      5597x9637\n",
       "8     7124x12265\n",
       "9            0x0\n",
       "10           0x0\n",
       "11           0x0\n",
       "12           0x0\n",
       "Name: satelital_size, dtype: object"
      ]
     },
     "execution_count": 18,
     "metadata": {},
     "output_type": "execute_result"
    }
   ],
   "source": [
    "dim = contenido['satelital_size']\n",
    "# Dimensiones de las imagenes en el dataset, segun el zoom\n",
    "dim"
   ]
  },
  {
   "cell_type": "code",
   "execution_count": 19,
   "metadata": {},
   "outputs": [
    {
     "data": {
      "text/plain": [
       "[['307', '528'],\n",
       " ['613', '1055'],\n",
       " ['1225', '2109'],\n",
       " ['2450', '4217'],\n",
       " ['2449', '4217'],\n",
       " ['3265', '5622'],\n",
       " ['3918', '6746'],\n",
       " ['5597', '9637'],\n",
       " ['7124', '12265'],\n",
       " ['0', '0'],\n",
       " ['0', '0'],\n",
       " ['0', '0'],\n",
       " ['0', '0']]"
      ]
     },
     "execution_count": 19,
     "metadata": {},
     "output_type": "execute_result"
    }
   ],
   "source": [
    "[i.split(\"x\") for i in dim]\n",
    "\n",
    "dim_str = [i.split(\"x\") for i in dim]\n",
    "\n",
    "# Dimensiones en string se necesita transformar en entero par ausarlo en la funcion de division, para hacerla mas general\n",
    "dim_str"
   ]
  },
  {
   "cell_type": "code",
   "execution_count": 20,
   "metadata": {},
   "outputs": [
    {
     "data": {
      "text/plain": [
       "[[307, 528],\n",
       " [613, 1055],\n",
       " [1225, 2109],\n",
       " [2450, 4217],\n",
       " [2449, 4217],\n",
       " [3265, 5622],\n",
       " [3918, 6746],\n",
       " [5597, 9637],\n",
       " [7124, 12265],\n",
       " [0, 0],\n",
       " [0, 0],\n",
       " [0, 0],\n",
       " [0, 0]]"
      ]
     },
     "execution_count": 20,
     "metadata": {},
     "output_type": "execute_result"
    }
   ],
   "source": [
    "map_dim = [map(int, i) for i in dim_str]\n",
    "\n",
    "int_dim = []\n",
    "for i in range(len(map_dim)):\n",
    "    int_dim.append([j for j in map_dim[i]])\n",
    "\n",
    "# Lista de las dimensiones siendo enteros\n",
    "int_dim"
   ]
  },
  {
   "cell_type": "code",
   "execution_count": 21,
   "metadata": {},
   "outputs": [
    {
     "data": {
      "text/plain": [
       "[[1, 2],\n",
       " [3, 5],\n",
       " [6, 10],\n",
       " [12, 21],\n",
       " [12, 21],\n",
       " [16, 28],\n",
       " [19, 33],\n",
       " [27, 48],\n",
       " [35, 61],\n",
       " [0, 0],\n",
       " [0, 0],\n",
       " [0, 0],\n",
       " [0, 0]]"
      ]
     },
     "execution_count": 21,
     "metadata": {},
     "output_type": "execute_result"
    }
   ],
   "source": [
    "int_div = [[int(i[0]/200),int(i[1]/200)] for i in int_dim]\n",
    "\n",
    "# Lista por zooms, como las listas anteriores, de las divisiones de cada imagen es decir \n",
    "# la imagen de zoom 13 (int_div[1]) se dividira en 15 imagnes (3x5), esta lista tambien se usara\n",
    "# en la funcion de division\n",
    "#int_div\n",
    "\n",
    "\n",
    "int_div"
   ]
  },
  {
   "cell_type": "markdown",
   "metadata": {},
   "source": [
    "## 3.3 Busqueda de divisores"
   ]
  },
  {
   "cell_type": "code",
   "execution_count": 22,
   "metadata": {},
   "outputs": [
    {
     "data": {
      "text/plain": [
       "[[307, 528],\n",
       " [613, 1055],\n",
       " [1225, 2109],\n",
       " [2450, 4217],\n",
       " [2449, 4217],\n",
       " [3265, 5622],\n",
       " [3918, 6746],\n",
       " [5597, 9637],\n",
       " [7124, 12265],\n",
       " [0, 0],\n",
       " [0, 0],\n",
       " [0, 0],\n",
       " [0, 0]]"
      ]
     },
     "execution_count": 22,
     "metadata": {},
     "output_type": "execute_result"
    }
   ],
   "source": [
    "int_dim"
   ]
  },
  {
   "cell_type": "code",
   "execution_count": 23,
   "metadata": {
    "collapsed": true
   },
   "outputs": [],
   "source": [
    "import numpy as np\n",
    "int_dim = int_dim[:-4]\n",
    "np_dim = np.array(int_dim)"
   ]
  },
  {
   "cell_type": "code",
   "execution_count": 66,
   "metadata": {},
   "outputs": [
    {
     "data": {
      "text/plain": [
       "array([  528,  1055,  2109,  4217,  4217,  5622,  6746,  9637, 12265])"
      ]
     },
     "execution_count": 66,
     "metadata": {},
     "output_type": "execute_result"
    }
   ],
   "source": [
    "s = np_dim[:,1]\n",
    "s"
   ]
  },
  {
   "cell_type": "code",
   "execution_count": 67,
   "metadata": {},
   "outputs": [
    {
     "name": "stdout",
     "output_type": "stream",
     "text": [
      "Dimenson divisor nueva_dimension pixeles_sobrantes\n",
      "528     1        528.0     0.0\n",
      "1055     2        527.5     1.0\n",
      "1055     3        351.666666667     2.0\n",
      "2109     3        703.0     0.0\n",
      "2109     4        527.25     "
     ]
    },
    {
     "name": "stderr",
     "output_type": "stream",
     "text": [
      "/home/daielchom/anaconda3/lib/python3.6/site-packages/ipykernel_launcher.py:4: RuntimeWarning: divide by zero encountered in long_scalars\n",
      "  after removing the cwd from sys.path.\n"
     ]
    },
    {
     "name": "stdout",
     "output_type": "stream",
     "text": [
      "1.0\n",
      "2109     5        421.8     4.0\n",
      "2109     6        351.5     3.0\n",
      "2109     7        301.285714286     2.0\n",
      "4217     5        843.4     2.0\n",
      "4217     6        702.833333333     5.0\n",
      "4217     7        602.428571429     3.0\n",
      "4217     8        527.125     1.0\n",
      "4217     9        468.555555556     5.0\n",
      "4217     10        421.7     7.0\n",
      "4217     11        383.363636364     4.0\n",
      "4217     12        351.416666667     5.0\n",
      "4217     13        324.384615385     5.0\n",
      "4217     14        301.214285714     3.0\n",
      "4217     5        843.4     2.0\n",
      "4217     6        702.833333333     5.0\n",
      "4217     7        602.428571429     3.0\n",
      "4217     8        527.125     1.0\n",
      "4217     9        468.555555556     5.0\n",
      "4217     10        421.7     7.0\n",
      "4217     11        383.363636364     4.0\n",
      "4217     12        351.416666667     5.0\n",
      "4217     13        324.384615385     5.0\n",
      "4217     14        301.214285714     3.0\n",
      "5622     7        803.142857143     1.0\n",
      "5622     8        702.75     6.0\n",
      "5622     9        624.666666667     6.0\n",
      "5622     10        562.2     2.0\n",
      "5622     11        511.090909091     1.0\n",
      "5622     12        468.5     6.0\n",
      "5622     13        432.461538462     6.0\n",
      "5622     14        401.571428571     8.0\n",
      "5622     15        374.8     12.0\n",
      "5622     16        351.375     6.0\n",
      "5622     17        330.705882353     12.0\n",
      "5622     18        312.333333333     6.0\n",
      "6746     8        843.25     2.0\n",
      "6746     9        749.555555556     5.0\n",
      "6746     10        674.6     6.0\n",
      "6746     11        613.272727273     3.0\n",
      "6746     12        562.166666667     2.0\n",
      "6746     13        518.923076923     12.0\n",
      "6746     14        481.857142857     12.0\n",
      "6746     15        449.733333333     11.0\n",
      "6746     16        421.625     10.0\n",
      "6746     17        396.823529412     14.0\n",
      "6746     18        374.777777778     14.0\n",
      "6746     20        337.3     6.0\n",
      "6746     21        321.238095238     5.0\n",
      "6746     22        306.636363636     14.0\n",
      "9637     11        876.090909091     1.0\n",
      "9637     12        803.083333333     1.0\n",
      "9637     13        741.307692308     4.0\n",
      "9637     14        688.357142857     5.0\n",
      "9637     15        642.466666667     7.0\n",
      "9637     16        602.3125     5.0\n",
      "9637     17        566.882352941     15.0\n",
      "9637     18        535.388888889     7.0\n",
      "9637     19        507.210526316     4.0\n",
      "9637     20        481.85     17.0\n",
      "9637     21        458.904761905     19.0\n",
      "9637     22        438.045454545     1.0\n",
      "9637     23        419.0     0.0\n",
      "9637     24        401.541666667     13.0\n",
      "9637     25        385.48     12.0\n",
      "9637     26        370.653846154     17.0\n",
      "9637     27        356.925925926     25.0\n",
      "9637     28        344.178571429     5.0\n",
      "9637     29        332.310344828     9.0\n",
      "9637     30        321.233333333     7.0\n",
      "9637     31        310.870967742     27.0\n",
      "9637     32        301.15625     5.0\n",
      "12265     14        876.071428571     1.0\n",
      "12265     15        817.666666667     10.0\n",
      "12265     16        766.5625     9.0\n",
      "12265     17        721.470588235     8.0\n",
      "12265     18        681.388888889     7.0\n",
      "12265     19        645.526315789     10.0\n",
      "12265     20        613.25     5.0\n",
      "12265     21        584.047619048     1.0\n",
      "12265     22        557.5     11.0\n",
      "12265     23        533.260869565     6.0\n",
      "12265     24        511.041666667     1.0\n",
      "12265     25        490.6     15.0\n",
      "12265     26        471.730769231     19.0\n",
      "12265     27        454.259259259     7.0\n",
      "12265     28        438.035714286     1.0\n",
      "12265     29        422.931034483     27.0\n",
      "12265     30        408.833333333     25.0\n",
      "12265     31        395.64516129     20.0\n",
      "12265     32        383.28125     9.0\n",
      "12265     33        371.666666667     22.0\n",
      "12265     34        360.735294118     25.0\n",
      "12265     35        350.428571429     15.0\n",
      "12265     36        340.694444444     25.0\n",
      "12265     38        322.763157895     29.0\n",
      "12265     39        314.487179487     19.0\n",
      "12265     40        306.625     25.0\n"
     ]
    }
   ],
   "source": [
    "print(\"Dimenson\",\"divisor\",\"nueva_dimension\",\"pixeles_sobrantes\")\n",
    "for i in s:\n",
    "    for m in range(200000):\n",
    "        x_1 = i/m\n",
    "        if(x_1<900 and x_1>300):\n",
    "            if(x_1*m == i):\n",
    "                print(i,\"   \", m, \"      \",x_1,\"   \",i-(((x_1)-((x_1)-int(x_1)))*m))"
   ]
  },
  {
   "cell_type": "code",
   "execution_count": null,
   "metadata": {
    "collapsed": true
   },
   "outputs": [],
   "source": [
    "[[0, 1], [2, 2], [3, 4], [5, 8], [4, 8], [5, 11], [6, 12], [15, 23], [13, 24]]"
   ]
  },
  {
   "cell_type": "code",
   "execution_count": null,
   "metadata": {
    "collapsed": true
   },
   "outputs": [],
   "source": []
  },
  {
   "cell_type": "code",
   "execution_count": 7,
   "metadata": {
    "collapsed": true
   },
   "outputs": [],
   "source": [
    "# El calculo anterior esta mal echo por que estoy diviendiendo la imagen en imagenes mas pequeñas de 200x200\n",
    "# primero las iamgenes de google son como de 600 como maximo, segundo hacer eso asi de 200 implica perder \n",
    "# varios pixeles en la division entoncs, bucando y haciendo calculos encontre la mejor forma de dividir cada imagen \n",
    "# en pequeñas imagnes donde la perdida, para mi, en mis caliclos, es minima\n",
    "int_div = [[0, 1], [2, 2], [3, 4], [5, 8], [4, 8], [5, 11], [6, 12], [15, 23], [13, 24]]"
   ]
  },
  {
   "cell_type": "code",
   "execution_count": null,
   "metadata": {
    "collapsed": true
   },
   "outputs": [],
   "source": [
    "int_div = [[0, 1], [2, 2], [3, 4], [5, 8], [4, 8], [5, 11], [6, 12], [15, 23], [13, 24]]\n"
   ]
  },
  {
   "cell_type": "markdown",
   "metadata": {},
   "source": [
    "## Renombrando imagenes \n",
    "pues SASplanet las nombra de cierta manera si se le hace split cuadno se estan descargando "
   ]
  },
  {
   "cell_type": "code",
   "execution_count": 13,
   "metadata": {
    "collapsed": true
   },
   "outputs": [],
   "source": [
    "n = 7\n",
    "cont = 0\n",
    "tipo = \"estrato\"\n",
    "zoom = 19\n",
    "\n",
    "for i in range(n):\n",
    "    for j in range(n):\n",
    "        cont = cont +1\n",
    "        !mv ./data/bogota/{tipo}/{zoom}/{tipo}_{zoom}_{i+1}-{j+1}.jpg ./data/bogota/{tipo}/{zoom}/{tipo}_{zoom}_{cont}.jpg"
   ]
  },
  {
   "cell_type": "code",
   "execution_count": 11,
   "metadata": {},
   "outputs": [
    {
     "name": "stdout",
     "output_type": "stream",
     "text": [
      "0.png\t 113.png  127.png  25.png  39.png  52.png  66.png  7.png   93.png\r\n",
      "100.png  114.png  12.png   26.png  3.png   53.png  67.png  80.png  94.png\r\n",
      "101.png  115.png  13.png   27.png  40.png  54.png  68.png  81.png  95.png\r\n",
      "102.png  116.png  14.png   28.png  41.png  55.png  69.png  82.png  96.png\r\n",
      "103.png  117.png  15.png   29.png  42.png  56.png  6.png   83.png  97.png\r\n",
      "104.png  118.png  16.png   2.png   43.png  57.png  70.png  84.png  98.png\r\n",
      "105.png  119.png  17.png   30.png  44.png  58.png  71.png  85.png  99.png\r\n",
      "106.png  11.png   18.png   31.png  45.png  59.png  72.png  86.png  9.png\r\n",
      "107.png  120.png  19.png   32.png  46.png  5.png   73.png  87.png\r\n",
      "108.png  121.png  1.png    33.png  47.png  60.png  74.png  88.png\r\n",
      "109.png  122.png  20.png   34.png  48.png  61.png  75.png  89.png\r\n",
      "10.png\t 123.png  21.png   35.png  49.png  62.png  76.png  8.png\r\n",
      "110.png  124.png  22.png   36.png  4.png   63.png  77.png  90.png\r\n",
      "111.png  125.png  23.png   37.png  50.png  64.png  78.png  91.png\r\n",
      "112.png  126.png  24.png   38.png  51.png  65.png  79.png  92.png\r\n"
     ]
    }
   ],
   "source": [
    "!ls ./data/bogota/satelital/16"
   ]
  },
  {
   "cell_type": "markdown",
   "metadata": {},
   "source": [
    "## 3.4 Funcion sub"
   ]
  },
  {
   "cell_type": "code",
   "execution_count": 361,
   "metadata": {
    "collapsed": true
   },
   "outputs": [],
   "source": [
    "def subdiv_img(img, ancho, alto):\n",
    "    pass"
   ]
  },
  {
   "cell_type": "code",
   "execution_count": 88,
   "metadata": {},
   "outputs": [
    {
     "name": "stdout",
     "output_type": "stream",
     "text": [
      "306 527\n"
     ]
    },
    {
     "data": {
      "text/plain": [
       "<matplotlib.image.AxesImage at 0x7fe7799906d8>"
      ]
     },
     "execution_count": 88,
     "metadata": {},
     "output_type": "execute_result"
    },
    {
     "data": {
      "image/png": "[encoded data removed]",
      "text/plain": [
       "<matplotlib.figure.Figure at 0x7fe779a02400>"
      ]
     },
     "metadata": {},
     "output_type": "display_data"
    }
   ],
   "source": [
    "x, y = int_div[1] # cantidad de subimagenes en x y y\n",
    "\n",
    "Δx = int(img.shape[1]/x) # Cuanto se debe mover en x la \"ventana\" para cortar las imagenes\n",
    "Δy = int(img.shape[0]/y) # Cuanto se debe mover en y la \"ventana\" para cortar las imagenes\n",
    "print(Δx,Δy)\n",
    "plt.imshow(img[0:Δx][0:Δy][:]) #imprime una de las sub imagenes de la imagen"
   ]
  },
  {
   "cell_type": "code",
   "execution_count": 426,
   "metadata": {},
   "outputs": [
    {
     "name": "stdout",
     "output_type": "stream",
     "text": [
      "0 306\n",
      "0 527\n",
      "306 612\n",
      "0 527\n",
      "0 306\n",
      "527 1054\n",
      "306 612\n",
      "527 1054\n"
     ]
    }
   ],
   "source": [
    "init_y = 0 # Variable para controlar el movimiento en y\n",
    "init_x = 0\n",
    "\n",
    "for i in range(x):\n",
    "    for j in range(y):\n",
    "        print(init_x,(j+1)*Δx)\n",
    "        print(init_y,(i+1)*Δy)\n",
    "        img_end = img[init_y:(i+1)*Δy, init_x:(j+1)*Δx][:]\n",
    "        plt.imsave(fname=\"./data/bogota/\"+str(i)+str(j),arr=img_end, format=\"png\")\n",
    "        init_x = init_x + (j+1)*Δx\n",
    "    init_x = 0 \n",
    "    init_y = init_y + (i+1)*Δy                     # Actualiza el punto inicial   \n",
    "                          \n",
    "    "
   ]
  },
  {
   "cell_type": "code",
   "execution_count": 21,
   "metadata": {
    "collapsed": true
   },
   "outputs": [],
   "source": [
    "def subdiv_img(zoom,tipo,cantidad,int_div):\n",
    "    \n",
    "    x, y = int_div[zoom-12] # cantidad de subimagenes en x y y\n",
    "    fname = \"./data/bogota/\"+tipo+\"/\"+str(zoom)+\"/\"\n",
    "    cont = 0\n",
    "    init_y = 0 # Variable para controlar el movimiento en y\n",
    "    init_x = 0\n",
    "    img = io.imread(fname+tipo+\"_\"+str(zoom)+\"_\"+str(cantidad)+\".jpg\") \n",
    "    \n",
    "    Δx = int(img.shape[1]/x) # Cuanto se debe mover en x la \"ventana\" para cortar las imagenes\n",
    "    Δy = int(img.shape[0]/y) # Cuanto se debe mover en y la \"ventana\" para cortar las imagenes\n",
    "    \n",
    "    \n",
    "    for i in range(y):\n",
    "        for j in range(x):            \n",
    "            \n",
    "            img_end = img[init_y:(i+1)*Δy, init_x:(j+1)*Δx]\n",
    "            \n",
    "            plt.imsave(fname=fname+str((100000000*cantidad)+cont)+\".png\",arr=img_end, format=\"png\")\n",
    "            cont = cont + 1\n",
    "            init_x = init_x + Δx\n",
    "        init_x = 0 \n",
    "        init_y = init_y + Δy  "
   ]
  },
  {
   "cell_type": "code",
   "execution_count": 23,
   "metadata": {
    "scrolled": true
   },
   "outputs": [
    {
     "name": "stdout",
     "output_type": "stream",
     "text": [
      "13\n",
      "14\n",
      "15\n",
      "16\n",
      "16\n",
      "16\n",
      "16\n",
      "17\n",
      "17\n",
      "17\n",
      "17\n",
      "17\n",
      "17\n",
      "17\n",
      "17\n",
      "17\n",
      "18\n",
      "18\n",
      "18\n",
      "18\n",
      "18\n",
      "18\n",
      "18\n",
      "18\n",
      "18\n",
      "18\n",
      "18\n",
      "18\n",
      "18\n",
      "18\n",
      "18\n",
      "18\n",
      "18\n",
      "18\n",
      "18\n",
      "18\n",
      "18\n",
      "18\n",
      "18\n",
      "18\n",
      "18\n",
      "19\n",
      "19\n",
      "19\n",
      "19\n",
      "19\n",
      "19\n",
      "19\n",
      "19\n",
      "19\n",
      "19\n",
      "19\n",
      "19\n",
      "19\n",
      "19\n",
      "19\n",
      "19\n",
      "19\n",
      "19\n",
      "19\n",
      "19\n",
      "19\n",
      "19\n",
      "19\n",
      "19\n",
      "19\n",
      "19\n",
      "19\n",
      "19\n",
      "19\n",
      "19\n",
      "19\n",
      "19\n",
      "19\n",
      "19\n",
      "19\n",
      "19\n",
      "19\n",
      "19\n",
      "19\n",
      "19\n",
      "19\n",
      "19\n",
      "19\n",
      "19\n",
      "19\n",
      "19\n",
      "19\n",
      "19\n",
      "19\n",
      "20\n",
      "20\n",
      "20\n",
      "20\n",
      "20\n",
      "20\n",
      "20\n",
      "20\n",
      "20\n",
      "20\n",
      "20\n",
      "20\n",
      "20\n",
      "20\n",
      "20\n",
      "20\n",
      "20\n",
      "20\n",
      "20\n",
      "20\n",
      "20\n",
      "20\n",
      "20\n",
      "20\n",
      "20\n",
      "20\n",
      "20\n",
      "20\n",
      "20\n",
      "20\n",
      "20\n",
      "20\n",
      "20\n",
      "20\n",
      "20\n",
      "20\n",
      "20\n",
      "20\n",
      "20\n",
      "20\n",
      "20\n",
      "20\n",
      "20\n",
      "20\n",
      "20\n",
      "20\n",
      "20\n",
      "20\n",
      "20\n",
      "20\n",
      "20\n",
      "20\n",
      "20\n",
      "20\n",
      "20\n",
      "20\n",
      "20\n",
      "20\n",
      "20\n",
      "20\n",
      "20\n",
      "20\n",
      "20\n",
      "20\n",
      "20\n",
      "20\n",
      "20\n",
      "20\n",
      "20\n",
      "20\n",
      "20\n",
      "20\n",
      "20\n",
      "20\n",
      "20\n",
      "20\n",
      "20\n",
      "20\n",
      "20\n",
      "20\n",
      "20\n",
      "20\n",
      "20\n",
      "20\n",
      "20\n",
      "20\n",
      "20\n",
      "20\n",
      "20\n",
      "20\n",
      "20\n",
      "20\n",
      "20\n",
      "20\n",
      "20\n",
      "20\n",
      "20\n",
      "20\n",
      "20\n",
      "20\n",
      "20\n",
      "20\n",
      "20\n",
      "20\n",
      "20\n",
      "20\n",
      "20\n",
      "20\n",
      "20\n",
      "20\n",
      "20\n",
      "20\n",
      "20\n",
      "20\n",
      "20\n",
      "20\n",
      "20\n",
      "20\n",
      "20\n",
      "20\n",
      "20\n"
     ]
    }
   ],
   "source": [
    "zoom = 13\n",
    "tipo = \"satelital\"\n",
    "\n",
    "for i in contenido['satelital_count'][1:]:\n",
    "    for j in range(i):\n",
    "        subdiv_img(zoom,tipo,j+1,int_div)    \n",
    "    zoom = zoom + 1"
   ]
  },
  {
   "cell_type": "code",
   "execution_count": 46,
   "metadata": {
    "collapsed": true
   },
   "outputs": [],
   "source": [
    "total = [i[0]*i[1] for i in int_div]"
   ]
  },
  {
   "cell_type": "code",
   "execution_count": 47,
   "metadata": {
    "collapsed": true
   },
   "outputs": [],
   "source": [
    "np.array(total),\"\\n\",np.array(contenido['satelital_count'])[:-4]\n",
    "T = np.array(total)*np.array(contenido['satelital_count'])[:-4]\n"
   ]
  },
  {
   "cell_type": "markdown",
   "metadata": {},
   "source": [
    "Deben haber un total de imagenes por cada zoom de la sigueinte manera"
   ]
  },
  {
   "cell_type": "code",
   "execution_count": 53,
   "metadata": {},
   "outputs": [
    {
     "name": "stdout",
     "output_type": "stream",
     "text": [
      "zoom:  12 imagenes:  0 307 × 528\n",
      "zoom:  13 imagenes:  4 306 × 527\n",
      "zoom:  14 imagenes:  12 408 × 527\n",
      "zoom:  15 imagenes:  40 490 × 527\n",
      "zoom:  16 imagenes:  128 612 × 527\n",
      "zoom:  17 imagenes:  495 653 × 511\n",
      "zoom:  18 imagenes:  1800 653 × 562\n",
      "zoom:  19 imagenes:  16905 373 × 419 \n",
      "zoom:  20 imagenes:  37752 548 × 511\n"
     ]
    }
   ],
   "source": [
    "nuev_dim = [\"307 × 528\", \"306 × 527\", \"408 × 527\",\"490 × 527\",\"612 × 527\", \"653 × 511\", \"653 × 562\", \"373 × 419 \",\"548 × 511\" ]\n",
    "for i,j in enumerate(T):\n",
    "    print(\"zoom: \", 12+i,\"imagenes: \",j,nuev_dim[i])"
   ]
  },
  {
   "cell_type": "code",
   "execution_count": 52,
   "metadata": {},
   "outputs": [
    {
     "name": "stdout",
     "output_type": "stream",
     "text": [
      "`\n",
      "a\n",
      "b\n",
      "c\n",
      "d\n",
      "e\n",
      "f\n",
      "g\n",
      "h\n",
      "i\n",
      "j\n",
      "k\n",
      "l\n",
      "m\n",
      "n\n",
      "o\n",
      "p\n",
      "q\n",
      "r\n",
      "s\n",
      "t\n",
      "u\n",
      "v\n",
      "w\n",
      "x\n",
      "y\n",
      "z\n",
      "{\n",
      "|\n",
      "}\n",
      "~\n",
      "\n",
      "\n",
      "\n",
      "\n",
      "\n",
      "\n",
      "",
      "\n",
      "\n",
      "\n",
      "\n",
      "\n",
      "\n",
      "\n",
      "\n",
      "\n",
      "\n",
      "\n",
      "\n",
      "\n",
      "\n",
      "\n",
      "\n",
      "\n",
      "\n",
      "\n",
      "\n",
      "\n",
      "\n",
      "\n",
      "\n",
      "\n",
      "\n",
      "\n",
      " \n",
      "¡\n",
      "¢\n",
      "£\n",
      "¤\n",
      "¥\n",
      "¦\n",
      "§\n",
      "¨\n",
      "©\n",
      "ª\n",
      "«\n",
      "¬\n",
      "­\n",
      "®\n",
      "¯\n",
      "°\n",
      "±\n",
      "²\n",
      "³\n",
      "´\n",
      "µ\n",
      "¶\n",
      "·\n",
      "¸\n",
      "¹\n",
      "º\n",
      "»\n",
      "¼\n",
      "½\n",
      "¾\n",
      "¿\n",
      "À\n",
      "Á\n",
      "Â\n",
      "Ã\n",
      "Ä\n",
      "Å\n",
      "Æ\n",
      "Ç\n",
      "È\n",
      "É\n",
      "Ê\n",
      "Ë\n",
      "Ì\n",
      "Í\n",
      "Î\n",
      "Ï\n",
      "Ð\n",
      "Ñ\n",
      "Ò\n",
      "Ó\n",
      "Ô\n",
      "Õ\n",
      "Ö\n",
      "×\n",
      "Ø\n"
     ]
    }
   ],
   "source": [
    "for i in range(121):\n",
    "    print(chr(96+i))"
   ]
  },
  {
   "cell_type": "code",
   "execution_count": null,
   "metadata": {
    "collapsed": true
   },
   "outputs": [],
   "source": [
    "hacer segmentacion - Deep nets for eo - segnet - segnet tensorflow"
   ]
  }
 ],
 "metadata": {
  "kernelspec": {
   "display_name": "Python 3",
   "language": "python",
   "name": "python3"
  },
  "language_info": {
   "codemirror_mode": {
    "name": "ipython",
    "version": 3
   },
   "file_extension": ".py",
   "mimetype": "text/x-python",
   "name": "python",
   "nbconvert_exporter": "python",
   "pygments_lexer": "ipython3",
   "version": "3.6.3"
  }
 },
 "nbformat": 4,
 "nbformat_minor": 2
}
