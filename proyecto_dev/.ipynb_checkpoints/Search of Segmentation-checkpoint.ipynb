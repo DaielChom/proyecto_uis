{
 "cells": [
  {
   "cell_type": "markdown",
   "metadata": {},
   "source": [
    "# Segmentacion\n",
    "Hablando con raul, me aconsejo mejor irme por la rama de la segmentacion e lo que se trata de la parte de machine learning mas que en la clasfificacion o prediccion, y he aqui lo que es segmentacion. primero que todo la segmentacion es mas un campo de la vision por computador, mas que del machine learning, en el fondo usan machine learning pero a lo que voy es para facilitar la busqeuda de documentacion. primero busque en internet algo como `segmentation image` y ya sale buena documentacion, [wiki](https://en.wikipedia.org/wiki/Image_segmentation), ahi mas o menos hay informacion teorica, que creo que me servira a la hora de hacer el libro y eso, pues en la docuemtnacion hablaba de redes neuronales convolucionales pero no hablaba nada de segmentacion pero esto a qu tanto raul como yo veiamos el problema como algo de clasificacion y no como segmentacion, a lo que me lleva a recordar que debo arreglar el mapa. pero bueno eso sera algo que dejare para despues, en la noche sobre todo. bueno como sea tambien, hay un par de libros sobre teoria de segmentacion uno me lo paso el ceo y los otros al rato libardo quedo de pasarmelos, por ahora buscare como hacer lo de la segmentacion y luego le echo un ojo despues a la teoria. pero dejo pro escrito que un libro queda, mejor no lo subo pro cuestiones de copyrigth.\n",
    "\n",
    "## Tutos Segmetacion\n",
    "Como consejo del profe raul, me dijo que buscara algun tutorial o algo sobre segmentacion y que eso hciera a ver como me iba y pues eso hare, buscare alguna red de segmentacion o algo asi y una guia y la hare. hice una busqueda, asi como mis busquedas todas raras y largaaaas y lo que me salen, cosas que creo me podrian servir es o son."
   ]
  },
  {
   "cell_type": "markdown",
   "metadata": {
    "collapsed": true
   },
   "source": [
    "Antes de continuar con la clasificacion de todos estos enlaces para buscar el tuto idela leere un poco del libro que me paso el CEO y me paso jeffer y de los que me paso libardiño pues en los libros, que estan buenos, encontre fue teoria sobre redes neurnales como tal, mas no ssobre `semantic-segmentation` se que esa teoria me servira despues pero ahorita quiero hacer la cajita de churros como dijo raul y para eso debe saber es implementarla, la teoria ya como tal la estoy entendiendo pero me serviria super entenderla si yo fuera a hacer mi propia red, y tampoco, lo que hare sera usar una, o esperar a ver no. Por ahora buscar una a usar.\n",
    "\n",
    "CNNs:\n",
    "* AlexNet\n",
    "* GoogleNet\n",
    "* ResNet\n",
    "* UNet\n",
    "* SegNet\n",
    "\n",
    "\n",
    "¿Cual es la mejor red para hacer `semantic-segmentation`?"
   ]
  },
  {
   "cell_type": "markdown",
   "metadata": {},
   "source": [
    "### Clasificacion de las Consultas\n",
    "\n",
    "#### TEORICOS:\n",
    "**Nota:** Creo que las traducire pa leer a verque mas puedo sacar de ahi.\n",
    "* **✓[1° Consulta](https://meetshah1995.github.io/semantic-segmentation/deep-learning/pytorch/visdom/2017/06/01/semantic-segmentation-over-the-years.html)** - Información tecnica y un poco teorica de varias redes neuronales convolucionesles, optimas para segmentacion semantica.\n",
    "* **✓[2° Consulta](https://wiki.tum.de/display/lfdv/Image+Semantic+Segmentation)** - Conceptos sobre segemtacion semantica y metodos qus sirven para su elaboracion, como las redes neuronales.\n",
    "* **✓[4° Consulta](https://www.azavea.com/blog/2017/05/30/deep-learning-on-aerial-imagery/)** - Flujo de trabajo, para un trabajo de segmentacion con imagenes satelitales, pero explican que hicieron mas no como y las concideraciones que tiveron y eso, pero nada de codigo, explican que usaron unet y resnet para la segmentacion pero de ahi al codigo, nada.\n",
    "* **✓[7° Consulta](https://ai.intel.com/biomedical-image-segmentation-u-net/)** - Flujo de trabajo de una segemntacion usando uNet, pero esta vez con imagenes medicas, buscando tumeores en el cerebro.\n",
    "* **✓[8° Consulta](http://cv-tricks.com/image-segmentation/transpose-convolution-in-tensorflow/)** - Un poco de teoria sobre segmentacion de imagnes y convolucion.\n",
    "* **✓[9° Consulta](https://leonardoaraujosantos.gitbooks.io/artificial-inteligence/content/image_segmentation.html)** - Muy buena teoria sobre semantic segmentation. como funciona de fondo FCN y otro tipo de arquitecturas.\n",
    "* **✓[10° Consulta](http://www.diva-portal.org/smash/get/diva2:1013270/FULLTEXT01.pdf)** - Articulo sobre `Semantic Segmentation of Satellite Images using Deep Learning` poco codigo pero bastante teoria. un buen ejemplo de como podria ser el libro o articulo a hacer.\n",
    "* **✓[11° Consulta](http://blog.qure.ai/notes/semantic-segmentation-deep-learning-review)** - Buena explicacion de que es segmentacion de imagnes y po ue usar ciertas redes.\n",
    "* **✓[14° Consulta](https://research.googleblog.com/2018/03/semantic-image-segmentation-with.html)** - Anuncio de que DeepLab3+ ya esta disponible\n",
    "* **✓[15° Consulta](https://nicolovaligi.com/deep-learning-models-semantic-segmentation.html)** - Comparacion entre varias redes y decantacion por DilatedNet.\n",
    "* **✓[17° Consulta](http://graphics.cs.cmu.edu/courses/16-824/2016_spring/slides/caffe_tutorial.pdf)** - Diapositivsa sobre el uso de Caffe\n",
    "* **✓[18° Consulta](https://labs.beeva.com/inference-series-i-how-to-use-caffe-with-aws-deep-learning-ami-for-semantic-segmentation-d05545d2f954)** - Una buena explicacion sobre segmentacion\n",
    "* **✓[19° Consulta](https://people.eecs.berkeley.edu/%7Ejonlong/long_shelhamer_fcn.pdf)** - Articulo sobre Segmentacion\n",
    "* **✓[20° Consulta](https://arxiv.org/pdf/1511.00561.pdf)** - Articulo sobre SegNet"
   ]
  },
  {
   "cell_type": "markdown",
   "metadata": {},
   "source": [
    "#### TUTORIALES LEVEL 0:\n",
    "Usando Herramientas\n",
    "* **[15° Consulta](https://devblogs.nvidia.com/image-segmentation-using-digits-5/)** - Algo de teoria y un poco de informacion sobre segmentacion usando DIGIST 5 de NVIDIA\n",
    "* **[5° Consulta](https://towardsdatascience.com/training-road-scene-segmentation-on-cityscapes-with-supervisely-tensorflow-and-unet-1232314781a8)** - Flujo de Trabajo (Tutorial) de una segmentacion semantica, pero usando  Supervise.ly\n",
    "* **[30° Consulta](https://github.com/NVIDIA/DIGITS/tree/master/examples/semantic-segmentation)** - Caso de uso de DIGIST para segmentacion semantica\n",
    "* **[12° Consulta](https://devblogs.nvidia.com/exploring-spacenet-dataset-using-digits/)** - Segmentacion usando DIGITS"
   ]
  },
  {
   "cell_type": "markdown",
   "metadata": {
    "collapsed": true
   },
   "source": [
    "#### TUTORIALES LEVEL 1:\n",
    "Todo Completamente masticadito, instalacion, uso, propio dataset, etc..\n",
    "* **✓[6° Consulta](https://github.com/nshaud/DeepNetsForEO)** Buen tutorial usando de segmentacion semantica usando FCN. me gustaria empezar con este a ver que tal.\n",
    "* **✓[7° Consulta](https://tuatini.me/practical-image-segmentation-with-unet/)** Caso de uso de una competencia de Kaggle, la cestion es que explican bien pero esta todo hacia ese dataset, habria que meter mano pa cambiar no es muhco la verdad. usan uNet\n",
    "* **✓[15° Consulta](https://github.com/mzaradzki/neuralnets/tree/master/vgg_segmentation_keras)** Usanod una FCN-16 con Keras\n",
    "* **✓[13° Consulta](https://github.com/MarvinTeichmann/KittiSeg)** KittNet una red con arquitectura FCN, explican como usar los propios datos pero habria que ver bien el tutorial\n",
    "* **✓[18° Consulta](https://github.com/brine-io/u-net-segmentation-example/blob/master/U-Net%20Furniture%20Segmentation%20Example.ipynb)** Se venden como un notebook para dumis\n",
    "* **✓[21° Consulta](http://ataspinar.com/2017/12/04/using-convolutional-neural-networks-to-detect-features-in-sattelite-images/)** Tutrial bien explicativo con Introduccion y todo\n",
    "* **✓[1° Consulta](https://github.com/usuyama/cntk_unet)** Tutorial usando unet.\n",
    "* **✓[6° Consulta](https://github.com/DrSleep/tensorflow-deeplab-resnet)** Caso de uso usando RestNet y Tensorflow, explica como usar con el propio dataset\n",
    "* **✓[10° Consulta](https://github.com/GeorgeSeif/Semantic-Segmentation-Suite)** No es un tutorial pero al parecer con correr el script mayn entrena y hace todo\n",
    "* **✓[3° Consulta](https://github.com/hellochick/ICNet-tensorflow)** ICNet y tensorflow, puedo entranar con mis propios datos, segun eso.\n",
    "* **✓[31° Consulta](https://github.com/shekkizh/FCN.tensorflow)** - Usando FCN y tensorflow para segmentacion Semantica"
   ]
  },
  {
   "cell_type": "markdown",
   "metadata": {},
   "source": [
    "#### TUTORIALES LEVEL 2:\n",
    "Explicacion de un caso de uso de Segmentacion hay que estudiar el codigo para hacer cambios para que funcione con un propio dataset y todo.\n",
    "* **✓[1° Consulta](http://warmspringwinds.github.io/tensorflow/tf-slim/2016/12/18/image-segmentation-with-tensorflow-using-cnns-and-conditional-random-fields/)** - Usando Tensorflow para segmentacion, pero hay que cacharrearle un poco para entrenar con un propio dataset\n",
    "* **[1° Consulta](https://github.com/tensorflow/models/blob/master/research/deeplab/deeplab_demo.ipynb)** - Toturial de segemntacion de imagenes usando Deeplab3\n",
    "* **[3° Consulta](https://github.com/yihui-he/u-net)** Caso de uso de uNet usando Keras, son varios script y esta orientado a una competencia de kaggle\n",
    "* **✓[12° Consulta](https://github.com/sagieppel/Fully-convolutional-neural-network-FCN-for-semantic-segmentation-Tensorflow-implementation)**  Usa FCNet pero no indidca mucho de como usar los scripts, explica de que hacen y eso pero aun asi hay que meterle mano, **DUDA:** ¿Que implica que se use un modelo pre-entrenado?\n",
    "* **✓[16° Consulta](https://www.kaggle.com/rdebbe/is-segnet-a-good-model-for-sharp-edge-masking)** Caso de uso de SegNet en una competencia de Kaggle\n",
    "* **✓[10° Consulta](https://modeldepot.io/hellochick/pspnet/overview)** usa PSPNet\n",
    "* **✓[17° Consulta](https://qiita.com/uni-3/items/a62daa5a03a02f5fa46d)**  Keras, un post japones o chino. hay que ver el codigo y un poco a sigas correr los scripts a ver si sirve o que\n",
    "* **✓[2° Consulta](https://github.com/warmspringwinds/tensorflow_notes)** Caso de uso. hay q explorar como funciona\n",
    "* **✓[24° Consulta](https://github.com/malhotraa/carvana-image-masking-challenge)** - Caso de uso de una competencia de Kaggle usando Tensorflow\n",
    "* **[4° Consulta](https://github.com/jakeret/tf_unet)** - Implementacion de uNet y tensorflow\n",
    "* **[35° Consulta](https://github.com/divamgupta/image-segmentation-keras)** - Image Segmentation Keras : Implementation of Segnet, FCN, UNet and other models in Keras.\n",
    "* **[43° Consulta](https://github.com/melody-rain/tensorflow-pspnet)** - PSPNet tutorial, Pocas estrellas\n",
    "* **[33° Consulta](https://github.com/aurora95/Keras-FCN)** - FCN con Keras\n",
    "\n"
   ]
  },
  {
   "cell_type": "markdown",
   "metadata": {},
   "source": [
    "#### TUTORIALES LEVEL 3:\n",
    "Librerias o cosas a usar, tener algo de experiencia para solo coger la libreria ver la docuemtnacion y saberl implementar sin ver tutoriales. por lo general repositorios asi a lo brusco\n",
    "* **[16° Consulta](https://github.com/arahusky/Tensorflow-Segmentation)** - Segmentacion con Tensorflow \n",
    "* **[1° Consulta](https://github.com/mathildor/TF-SegNet)** - Implementacion de AirNet hay que usar Tensorborad\n",
    "* **✓[1° Consulta](https://github.com/nicolov/segmentation_keras)** Implementacion de DilatedNet. habria que ver ne las tripas del codigo para ver como es que se usa.\n",
    "* **✓[2° Consulta](https://github.com/alexgkendall/SegNet-Tutorial)** Tutorial de Segnet, usando docker y scripts\n",
    "* **✓[8° Consulta](https://jany.st/post/2017-06-25-semantic-image-segmentation-using-fcns.html)** Usando FCN para segmentacion\n",
    "* **✓[7° Consulta](https://github.com/bodokaiser/piwise)** Implentacion de varias redes con pytorch\n",
    "* **✓[8° Consulta](https://github.com/TimoSaemann/ENet)** Implementacion de Enet con Caffe\n",
    "* **✓[9° Consulta](https://github.com/DrSleep/tensorflow-deeplab-lfov)** implementation of DeepLab-LargeFOV in TensorFlow for semantic image segmentation\n",
    "* **✓[11° Consulta](https://github.com/Kaixhin/FCN-semantic-segmentation)** - Implementacion con CUDA y tensorflow de FCN7\n",
    "* **✓[13° Consulta](https://github.com/jaxony/unet-pytorch)** - Impliementacion de Unet en pytorch\n",
    "* **✓[14° Consulta](https://github.com/MarvinTeichmann/tensorflow-fcn)** - Implementacion de FCN en Tensorflow\n",
    "* **✓[16° Consulta](https://github.com/alexgkendall/caffe-segnet)** - Implementacion de SegNet con Caffe\n",
    "* **✓[18° Consulta](https://chunml.github.io/ChunML.github.io/project/Training-Your-Own-Data-On-Caffe/)** - Tutorial de como usar Caffe\n",
    "* **✓[19° Consulta](https://software.intel.com/en-us/articles/training-and-deploying-deep-learning-networks-with-caffe-optimized-for-intel-architecture)** - Explicacion sobre caffe\n",
    "* **✓[20° Consulta](https://github.com/Xyuan13/MSRNet/tree/master/deeplab-caffe)** - Implementacion de Deeplav2\n",
    "* **✓[21° Consulta](https://github.com/hangzhaomit/semantic-segmentation-pytorch)** - Segmentacion Semantica con pytorch\n",
    "* **✓[27° Consulta](https://www.datacamp.com/community/tutorials/convolutional-neural-networks-python)** - Tutorial y teoria sobre Redes convolucionales con python\n",
    "* **✓[25° Consulta](https://github.com/andreaazzini/segnet.tf)** - Implementacion de SegNet con Tensorflow\n",
    "* **✓[28° Consulta](https://github.com/preddy5/segnet/blob/master/Segnet.ipynb)** - Caso de uso de SegNet\n",
    "* **✓[29° Consulta](https://github.com/dariopavllo/road-segmentation)** - Caso de uso de Segnet, pocas Star\n",
    "\n",
    "* **[2° Consulta](https://github.com/tkuanlun350/Tensorflow-SegNet)** - Implementacion de Segnet y Tensorflow\n",
    "* **[3° Consulta](https://github.com/Sciguymjm/SegNet)** - Implementacion de Segnet y Tensorflow pocas stars\n",
    "\n",
    "* **[5° Consulta](https://github.com/hardyqr/UNet-4RS-PyTorch)** - Implementacion de uNet y Pytorch\n",
    "* **[6° Consulta](https://github.com/zsdonghao/u-net-brain-tumor)** - Caso de Uso de uNet en Imagnes medicas\n",
    "* **✓[45° Consulta](http://cv-tricks.com/tensorflow-tutorial/keras/)** - Como usar keras con tensorflow, un breve ejemplo de regresion y clasificacion, y como usar imageNet.\n",
    "* **✓[46° Consulta](http://cv-tricks.com/tensorflow-tutorial/understanding-alexnet-resnet-squeezenetand-running-on-tensorflow/)** - Teoria de Alexnet y ResNet; como usar imageNet\n",
    "* **✓[47° Consulta](http://cv-tricks.com/tensorflow-tutorial/training-convolutional-neural-network-for-image-classification/)** - Usar una red Neuronal basica con TensorFlow.\n",
    "* **[26° Consulta](https://github.com/toimcio/SegNet-tensorflow)** - Implementacion de Segnet (Repo con pocas Stars)\n",
    "* **[36° Consulta](https://github.com/HMS-IDAC/UNet)** - Implementacion de unet 0 stars\n",
    "\n",
    "* **[8° Consulta](https://github.com/KienHuynh/FCN-CTSCAN)** - FCN + Tensorflow para segemtacion semantica, pocas Stars\n",
    "* **[9° Consulta](https://github.com/aitorzip/Keras-ICNet)** - Keras + ICNet pocas stars\n",
    "* **[10° Consulta](https://github.com/ljanyst/image-segmentation-fcn)** - FCN para segmentacion semantica\n",
    "* **[11° Consulta](https://github.com/sadeepj/crfasrnn_keras)** - FCN en keras para segmentacion semantica\n",
    "\n",
    "* **[13° Consulta](https://github.com/developmentseed/skynet-train)** - Scripts de Segnet\n",
    "\n",
    "\n",
    "\n",
    "* **[17° Consulta](https://github.com/MarvinTeichmann/tensorflow-fcn)** - Implementacion Tensorflow FCN\n",
    "\n",
    "* **[19° Consulta](https://github.com/tkuanlun350/Tensorflow-SegNet)** - Implementacion de SegNet y tensorflow\n",
    "* **[20° Consulta](https://github.com/ZijunDeng/pytorch-semantic-segmentation)** - Pytorch para segemntacion semantica con varios modelos\n",
    "* **[21° Consulta](https://github.com/TuSimple/TuSimple-DUC)** - Understanding Convolution for Semantic Segmentatio\n",
    "* **[22° Consulta](https://github.com/isht7/pytorch-deeplab-resnet)** - pytorch-deeplab-resnet\n",
    "* **[23° Consulta](https://github.com/ycszen/pytorch-seg)** - Pytorch for Segmentation, hay varias CNN\n",
    "\n",
    "\n",
    "* **[27° Consulta](https://github.com/NanqingD/DeepLabV3-Tensorflow)** - DeepLabV3 Semantic Segmentation\n",
    "* **[28° Consulta](https://github.com/mitmul/chainer-pspnet)** - Implementacion de PSPNet\n",
    "* **[29° Consulta](https://github.com/Eromera/erfnet_pytorch)** - Toolbox that uses PyTorch for training and evaluating the ERFNet architecture for semantic segmentation.\n",
    "* **[30° Consulta](https://github.com/upul/Semantic_Segmentation)** - Semantic Segmentation using a Fully Convolutional Neural Network\n",
    "* **[31° Consulta](https://github.com/Photogrammetry-Robotics-Bonn/bonnet)** - Bonnet: Tensorflow Convolutional Semantic Segmentation pipeline\n",
    "* **[32° Consulta](https://github.com/hfslyc/AdvSemiSeg)** - Pytorch implementation of the paper \"Adversarial Learning for Semi-supervised Semantic Segmentation\n",
    "* **[33° Consulta](https://github.com/Blade6570/PhotographicImageSynthesiswithCascadedRefinementNetworks-Pytorch)** - Pytorch implementation of cascaded refinement networks to synthesize photographic images from semantic layouts\n",
    "* **[34° Consulta](https://github.com/DeepSegment/FCN-GoogLeNet)** -  GoogLeNet implementation of Fully Convolutional Networks for Semantic Segmentation in TensorFlow \n",
    "\n",
    "* **[37° Consulta](https://github.com/ykamikawa/SegNet)** - SegNet\n",
    "* **[38° Consulta](https://github.com/alexgkendall/SegNet-Tutorial)** - SegNet and Bayesian SegNet Tutorial\n",
    "* **[39° Consulta](https://pypi.python.org/pypi/pytorch-semseg)** - Libreria\n",
    "* **[40° Consulta](https://github.com/kimoktm/U-Net)** - uNet\n",
    "* **[42° Consulta](https://github.com/mshunshin/SegNetCMR)** - SegNetCMR\n",
    "* **[15° Consulta](https://github.com/HasnainRaz/Tensorflow-input-pipeline)** - Tensorflow pipeline\n",
    "* **[14° Consulta](http://caffe.berkeleyvision.org/)** - Pagina de Caffe"
   ]
  },
  {
   "cell_type": "markdown",
   "metadata": {},
   "source": [
    "**Notas de pie:**\n",
    "* PASCAL VOC es dataset "
   ]
  },
  {
   "cell_type": "code",
   "execution_count": null,
   "metadata": {},
   "outputs": [],
   "source": []
  }
 ],
 "metadata": {
  "kernelspec": {
   "display_name": "Python 3",
   "language": "python",
   "name": "python3"
  },
  "language_info": {
   "codemirror_mode": {
    "name": "ipython",
    "version": 3
   },
   "file_extension": ".py",
   "mimetype": "text/x-python",
   "name": "python",
   "nbconvert_exporter": "python",
   "pygments_lexer": "ipython3",
   "version": "3.6.3"
  }
 },
 "nbformat": 4,
 "nbformat_minor": 2
}
