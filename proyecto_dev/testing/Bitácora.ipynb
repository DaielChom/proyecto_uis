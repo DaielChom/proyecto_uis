{
 "cells": [
  {
   "cell_type": "markdown",
   "metadata": {},
   "source": [
    "#### 08 - 05 - 18:\n",
    "Siendo las 9PM y comprimiendo el repositorio para subirlo a MEGA digo que, mañana empiezo clonando los repos, por ahora se que empezare con alguno de los favoritos a ver que."
   ]
  },
  {
   "cell_type": "markdown",
   "metadata": {},
   "source": [
    "#### 9 - 05 - 18:\n",
    "NO se por donde empezar. :'(. Hare una nueva filtracion teneindo en cuenta, el SO. la version de python y entre otras cosas a ver, pa ya escoger solo uno y probar con ese."
   ]
  },
  {
   "cell_type": "markdown",
   "metadata": {},
   "source": [
    "#### 10 - 05 - 18: \n",
    "iniciare haciendo pruebas con uno de los repositorios de:\n",
    "* [unet](https://github.com/jakeret/tf_unet), a ver como me va. No sirve, buneo seria my complicado hacerlo funcionar sobre linux, en este momento tengo winddows.\n",
    "* [segundo intento](https://github.com/ljanyst/image-segmentation-fcn.git)\n",
    "             conda install -c conda-forge tqdm \n",
    "             conda install -c conda-forge openc\n",
    "    logre hacer que el train.py se ejecutara instalando esas dos depenendcias, pero paso 3 horas \"entrenando\", salio un letrero de `TRraining` pero durante las 3 horas no paso del 0%, y habia una zona donde deveria mostrar la velocidad o tiempo transcurrido y nada. asi que no se que habra pasado ahi. se descargo el datset KITTY que ellos anuncian en el repositorio y nada, tambien se cambio el `data directory` en train, para que este tomara el dataset que se descargo.\n",
    "    Encontre esto `data/data_road` talvez lo hice mal pues no cree un directorio llamado data si no cambie el train, tal vez fue eso. no, no era eso. continuare ocn otro repo. la prueba se hizo en **`Windows`**"
   ]
  },
  {
   "cell_type": "markdown",
   "metadata": {},
   "source": [
    "####  11 - 05 - 18:\n",
    "* [Tercer intento](https://github.com/upul/Semantic_Segmentation), pues no me pidio ninguna dependencia, al principio se trabo un poco el pc per como que ya, lo raro es este letreto que me salio ![error](../img/error_01.jpg)"
   ]
  },
  {
   "cell_type": "markdown",
   "metadata": {},
   "source": [
    "no se si sea un error pero claramente sale algo de que mi cpu no soprta algo, no se que es lo que no soportara, el caso es que a estas horas esta entrenando esperar a ver que sale. Duro como 4 horas y nada no cargo absolutamente nada. La pase a un notebook para ejecutarlo por secciones y pues anda algo pegado en esta linea \n",
    "    \n",
    "\n",
    "        ---------------------------------------------------------------------------\n",
    "            AttributeError                            Traceback (most recent call last)\n",
    "            <ipython-input-6-c4cb900ffdb5> in <module>()\n",
    "            ----> 1 fc_network.optimize(get_batches_fn, num_epochs=25)\n",
    "\n",
    "            <ipython-input-2-0afc72bbd5f2> in optimize(self, batch_generator, learning_rate, keep_prob, num_epochs)\n",
    "                 75         num_batches = int(self.num_train_examples / self.batch_size)\n",
    "                 76         for itr in range(initial_step, num_batches * num_epochs):\n",
    "            ---> 77             image, gt_image = next(batch_generator(self.batch_size))\n",
    "                 78             _, loss_val, summary = self.sess.run([optimizer, loss, summary_op],\n",
    "                 79                                                  feed_dict={self.images_batch: image,\n",
    "\n",
    "            D:\\Proyectos\\proyecto_uis\\proyecto_dev\\testing\\repos\\Semantic_Segmentation\\helper.py in get_batches_fn(batch_size)\n",
    "                 86                 gt_image_file = label_paths[os.path.basename(image_file)]\n",
    "                 87 \n",
    "            ---> 88                 image = scipy.misc.imresize(scipy.misc.imread(image_file), image_shape)\n",
    "                 89                 gt_image = scipy.misc.imresize(scipy.misc.imread(gt_image_file), image_shape)\n",
    "                 90 \n",
    "\n",
    "            AttributeError: module 'scipy.misc' has no attribute 'imresize'\n",
    "            \n",
    "pues me salio ese error."
   ]
  },
  {
   "cell_type": "markdown",
   "metadata": {},
   "source": [
    "         conda install -c anaconda pillow "
   ]
  },
  {
   "cell_type": "markdown",
   "metadata": {},
   "source": [
    "volvio a salir el mismo error he hice esto\n",
    "\n",
    "        \n",
    "\n",
    "        For Python 3, it is best to use imread in matplotlib.pyplot:\n",
    "\n",
    "        from matplotlib.pyplot import imread\n",
    "\n"
   ]
  },
  {
   "cell_type": "markdown",
   "metadata": {},
   "source": [
    "* pues instale como 3 versiones de pillow y nada sirvio asi que probare otro repo\n",
    "* Al parecer hay problemas de PIL con Anaconda."
   ]
  },
  {
   "cell_type": "markdown",
   "metadata": {},
   "source": []
  },
  {
   "cell_type": "code",
   "execution_count": null,
   "metadata": {},
   "outputs": [],
   "source": []
  }
 ],
 "metadata": {
  "kernelspec": {
   "display_name": "Python 3",
   "language": "python",
   "name": "python3"
  },
  "language_info": {
   "codemirror_mode": {
    "name": "ipython",
    "version": 3
   },
   "file_extension": ".py",
   "mimetype": "text/x-python",
   "name": "python",
   "nbconvert_exporter": "python",
   "pygments_lexer": "ipython3",
   "version": "3.6.4"
  }
 },
 "nbformat": 4,
 "nbformat_minor": 2
}
