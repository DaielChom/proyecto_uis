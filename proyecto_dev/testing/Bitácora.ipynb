{
 "cells": [
  {
   "cell_type": "markdown",
   "metadata": {},
   "source": [
    "#### 08 - 05 - 18:\n",
    "Siendo las 9PM y comprimiendo el repositorio para subirlo a MEGA digo que, mañana empiezo clonando los repos, por ahora se que empezare con alguno de los favoritos a ver que."
   ]
  },
  {
   "cell_type": "markdown",
   "metadata": {},
   "source": [
    "#### 9 - 05 - 18:\n",
    "NO se por donde empezar. :'(. Hare una nueva filtracion teneindo en cuenta, el SO. la version de python y entre otras cosas a ver, pa ya escoger solo uno y probar con ese."
   ]
  },
  {
   "cell_type": "markdown",
   "metadata": {},
   "source": [
    "#### 10 - 05 - 18: \n",
    "iniciare haciendo pruebas con uno de los repositorios de:\n",
    "* [unet](https://github.com/jakeret/tf_unet), a ver como me va. No sirve, buneo seria my complicado hacerlo funcionar sobre linux, en este momento tengo winddows.\n",
    "* [segundo intento](https://github.com/ljanyst/image-segmentation-fcn.git)\n",
    "             conda install -c conda-forge tqdm \n",
    "             conda install -c conda-forge openc\n",
    "    logre hacer que el train.py se ejecutara instalando esas dos depenendcias, pero paso 3 horas \"entrenando\", salio un letrero de `TRraining` pero durante las 3 horas no paso del 0%, y habia una zona donde deveria mostrar la velocidad o tiempo transcurrido y nada. asi que no se que habra pasado ahi. se descargo el datset KITTY que ellos anuncian en el repositorio y nada, tambien se cambio el `data directory` en train, para que este tomara el dataset que se descargo.\n",
    "    Encontre esto `data/data_road` talvez lo hice mal pues no cree un directorio llamado data si no cambie el train, tal vez fue eso. no, no era eso. continuare ocn otro repo. la prueba se hizo en **`Windows`**"
   ]
  },
  {
   "cell_type": "markdown",
   "metadata": {},
   "source": [
    "####  11 - 05 - 18:\n",
    "* [Tercer intento](https://github.com/upul/Semantic_Segmentation), pues no me pidio ninguna dependencia, al principio se trabo un poco el pc per como que ya, lo raro es este letreto que me salio ![error](../img/error_01.jpg)"
   ]
  },
  {
   "cell_type": "markdown",
   "metadata": {},
   "source": [
    "no se si sea un error pero claramente sale algo de que mi cpu no soprta algo, no se que es lo que no soportara, el caso es que a estas horas esta entrenando esperar a ver que sale. Duro como 4 horas y nada no cargo absolutamente nada. La pase a un notebook para ejecutarlo por secciones y pues anda algo pegado en esta linea \n",
    "    \n",
    "\n",
    "        ---------------------------------------------------------------------------\n",
    "            AttributeError                            Traceback (most recent call last)\n",
    "            <ipython-input-6-c4cb900ffdb5> in <module>()\n",
    "            ----> 1 fc_network.optimize(get_batches_fn, num_epochs=25)\n",
    "\n",
    "            <ipython-input-2-0afc72bbd5f2> in optimize(self, batch_generator, learning_rate, keep_prob, num_epochs)\n",
    "                 75         num_batches = int(self.num_train_examples / self.batch_size)\n",
    "                 76         for itr in range(initial_step, num_batches * num_epochs):\n",
    "            ---> 77             image, gt_image = next(batch_generator(self.batch_size))\n",
    "                 78             _, loss_val, summary = self.sess.run([optimizer, loss, summary_op],\n",
    "                 79                                                  feed_dict={self.images_batch: image,\n",
    "\n",
    "            D:\\Proyectos\\proyecto_uis\\proyecto_dev\\testing\\repos\\Semantic_Segmentation\\helper.py in get_batches_fn(batch_size)\n",
    "                 86                 gt_image_file = label_paths[os.path.basename(image_file)]\n",
    "                 87 \n",
    "            ---> 88                 image = scipy.misc.imresize(scipy.misc.imread(image_file), image_shape)\n",
    "                 89                 gt_image = scipy.misc.imresize(scipy.misc.imread(gt_image_file), image_shape)\n",
    "                 90 \n",
    "\n",
    "            AttributeError: module 'scipy.misc' has no attribute 'imresize'\n",
    "            \n",
    "pues me salio ese error."
   ]
  },
  {
   "cell_type": "markdown",
   "metadata": {},
   "source": [
    "         conda install -c anaconda pillow "
   ]
  },
  {
   "cell_type": "markdown",
   "metadata": {},
   "source": [
    "volvio a salir el mismo error he hice esto\n",
    "\n",
    "        \n",
    "\n",
    "        For Python 3, it is best to use imread in matplotlib.pyplot:\n",
    "\n",
    "        from matplotlib.pyplot import imread\n",
    "\n"
   ]
  },
  {
   "cell_type": "markdown",
   "metadata": {},
   "source": [
    "* pues instale como 3 versiones de pillow y nada sirvio asi que probare otro repo\n",
    "* Al parecer hay problemas de PIL con Anaconda."
   ]
  },
  {
   "cell_type": "markdown",
   "metadata": {},
   "source": [
    "#### 12 - 05 - 18:\n",
    "Usare pip a ver como me va, aun estoy sobre windows. probare con el [repo](https://github.com/hellochick/ICNet-tensorflow)"
   ]
  },
  {
   "cell_type": "code",
   "execution_count": 4,
   "metadata": {},
   "outputs": [
    {
     "name": "stdout",
     "output_type": "stream",
     "text": [
      "train/satellite/15/45.jpg train/economic_layer/15/45.jpg\n",
      "train/satellite/15/46.jpg train/economic_layer/15/46.jpg\n",
      "train/satellite/15/47.jpg train/economic_layer/15/47.jpg\n",
      "train/satellite/15/48.jpg train/economic_layer/15/48.jpg\n",
      "train/satellite/15/49.jpg train/economic_layer/15/49.jpg\n",
      "train/satellite/15/50.jpg train/economic_layer/15/50.jpg\n",
      "train/satellite/15/51.jpg train/economic_layer/15/51.jpg\n",
      "train/satellite/15/52.jpg train/economic_layer/15/52.jpg\n",
      "train/satellite/15/53.jpg train/economic_layer/15/53.jpg\n",
      "train/satellite/15/54.jpg train/economic_layer/15/54.jpg\n",
      "train/satellite/15/55.jpg train/economic_layer/15/55.jpg\n",
      "train/satellite/15/56.jpg train/economic_layer/15/56.jpg\n",
      "train/satellite/15/57.jpg train/economic_layer/15/57.jpg\n",
      "train/satellite/15/58.jpg train/economic_layer/15/58.jpg\n",
      "train/satellite/15/59.jpg train/economic_layer/15/59.jpg\n",
      "train/satellite/15/60.jpg train/economic_layer/15/60.jpg\n",
      "train/satellite/15/61.jpg train/economic_layer/15/61.jpg\n",
      "train/satellite/15/62.jpg train/economic_layer/15/62.jpg\n",
      "train/satellite/15/63.jpg train/economic_layer/15/63.jpg\n",
      "train/satellite/15/64.jpg train/economic_layer/15/64.jpg\n",
      "train/satellite/15/65.jpg train/economic_layer/15/65.jpg\n",
      "train/satellite/15/66.jpg train/economic_layer/15/66.jpg\n",
      "train/satellite/15/67.jpg train/economic_layer/15/67.jpg\n",
      "train/satellite/15/68.jpg train/economic_layer/15/68.jpg\n",
      "train/satellite/15/69.jpg train/economic_layer/15/69.jpg\n",
      "train/satellite/15/70.jpg train/economic_layer/15/70.jpg\n",
      "train/satellite/15/71.jpg train/economic_layer/15/71.jpg\n",
      "train/satellite/15/72.jpg train/economic_layer/15/72.jpg\n",
      "train/satellite/15/73.jpg train/economic_layer/15/73.jpg\n",
      "train/satellite/15/74.jpg train/economic_layer/15/74.jpg\n",
      "train/satellite/15/75.jpg train/economic_layer/15/75.jpg\n",
      "train/satellite/15/76.jpg train/economic_layer/15/76.jpg\n",
      "train/satellite/15/77.jpg train/economic_layer/15/77.jpg\n",
      "train/satellite/15/78.jpg train/economic_layer/15/78.jpg\n",
      "train/satellite/15/79.jpg train/economic_layer/15/79.jpg\n",
      "train/satellite/15/80.jpg train/economic_layer/15/80.jpg\n",
      "train/satellite/15/81.jpg train/economic_layer/15/81.jpg\n",
      "train/satellite/15/82.jpg train/economic_layer/15/82.jpg\n",
      "train/satellite/15/83.jpg train/economic_layer/15/83.jpg\n",
      "train/satellite/15/84.jpg train/economic_layer/15/84.jpg\n",
      "train/satellite/15/85.jpg train/economic_layer/15/85.jpg\n",
      "train/satellite/15/86.jpg train/economic_layer/15/86.jpg\n",
      "train/satellite/15/87.jpg train/economic_layer/15/87.jpg\n",
      "train/satellite/15/88.jpg train/economic_layer/15/88.jpg\n",
      "train/satellite/15/89.jpg train/economic_layer/15/89.jpg\n"
     ]
    }
   ],
   "source": [
    "for i in range(45):\n",
    "    print(\"train/satellite/15/\"+str(i+45)+\".jpg\", \"train/economic_layer/15/\"+str(i+45)+\".jpg\")"
   ]
  },
  {
   "cell_type": "markdown",
   "metadata": {},
   "source": [
    "dependencias:\n",
    "\n",
    "        $ pip install pillow\n",
    "    $ pip install --upgrade tensorflow\n",
    "        $ pip install scipy"
   ]
  },
  {
   "cell_type": "code",
   "execution_count": 16,
   "metadata": {
    "scrolled": true
   },
   "outputs": [
    {
     "data": {
      "text/plain": [
       "['.gitignore',\n",
       " '0.png',\n",
       " '1.png',\n",
       " '10.png',\n",
       " '11.png',\n",
       " '12.png',\n",
       " '13.png',\n",
       " '14.png',\n",
       " '15.png',\n",
       " '16.png',\n",
       " '17.png',\n",
       " '18.png',\n",
       " '19.png',\n",
       " '2.png',\n",
       " '20.png',\n",
       " '21.png',\n",
       " '22.png',\n",
       " '23.png',\n",
       " '24.png',\n",
       " '25.png',\n",
       " '26.png',\n",
       " '27.png',\n",
       " '28.png',\n",
       " '29.png',\n",
       " '3.png',\n",
       " '30.png',\n",
       " '31.png',\n",
       " '32.png',\n",
       " '33.png',\n",
       " '34.png',\n",
       " '35.png',\n",
       " '36.png',\n",
       " '37.png',\n",
       " '38.png',\n",
       " '39.png',\n",
       " '4.png',\n",
       " '40.png',\n",
       " '41.png',\n",
       " '42.png',\n",
       " '43.png',\n",
       " '44.png',\n",
       " '45.png',\n",
       " '46.png',\n",
       " '47.png',\n",
       " '48.png',\n",
       " '49.png',\n",
       " '5.png',\n",
       " '50.png',\n",
       " '51.png',\n",
       " '52.png',\n",
       " '53.png',\n",
       " '54.png',\n",
       " '55.png',\n",
       " '56.png',\n",
       " '57.png',\n",
       " '58.png',\n",
       " '59.png',\n",
       " '6.png',\n",
       " '60.png',\n",
       " '61.png',\n",
       " '62.png',\n",
       " '63.png',\n",
       " '64.png',\n",
       " '65.png',\n",
       " '66.png',\n",
       " '67.png',\n",
       " '68.png',\n",
       " '69.png',\n",
       " '7.png',\n",
       " '70.png',\n",
       " '71.png',\n",
       " '72.png',\n",
       " '73.png',\n",
       " '74.png',\n",
       " '75.png',\n",
       " '76.png',\n",
       " '77.png',\n",
       " '78.png',\n",
       " '79.png',\n",
       " '8.png',\n",
       " '80.png',\n",
       " '81.png',\n",
       " '82.png',\n",
       " '83.png',\n",
       " '84.png',\n",
       " '85.png',\n",
       " '86.png',\n",
       " '87.png',\n",
       " '88.png',\n",
       " '89.png',\n",
       " '9.png']"
      ]
     },
     "execution_count": 16,
     "metadata": {},
     "output_type": "execute_result"
    }
   ],
   "source": [
    "import os\n",
    "os.listdir(\"../data/dataset/OVERLAECOBO/train/satellite/15/\")"
   ]
  },
  {
   "cell_type": "code",
   "execution_count": 17,
   "metadata": {},
   "outputs": [
    {
     "data": {
      "text/plain": [
       "True"
      ]
     },
     "execution_count": 17,
     "metadata": {},
     "output_type": "execute_result"
    }
   ],
   "source": [
    "import tensorflow as tf\n",
    "tf.gfile.Exists(\"../data/dataset/OVERLAECOBO/train/satellite/15/0.png\")"
   ]
  },
  {
   "cell_type": "markdown",
   "metadata": {},
   "source": [
    "ERROR: Dimension 3 in both shapes must be equal, but are 7 and 19.\n",
    "        \n",
    "        Hey, Im sorry for that. I forgot to change the variable num_classes back\n",
    "        You can change line 16 in inference.py in to:\n",
    "\n",
    "        num_classes = 19\n",
    "\n",
    "        @npv0 , I have fixed the problem, you can take a look at the new version\n",
    "El Error continua al parecer hay una solucion en el [issue 50](https://github.com/hellochick/ICNet-tensorflow/issues/50). pero creo qeu es demasiado esfuerzo cuando puede que otro repo me sirva."
   ]
  },
  {
   "cell_type": "code",
   "execution_count": null,
   "metadata": {},
   "outputs": [],
   "source": []
  }
 ],
 "metadata": {
  "kernelspec": {
   "display_name": "Python 3",
   "language": "python",
   "name": "python3"
  },
  "language_info": {
   "codemirror_mode": {
    "name": "ipython",
    "version": 3
   },
   "file_extension": ".py",
   "mimetype": "text/x-python",
   "name": "python",
   "nbconvert_exporter": "python",
   "pygments_lexer": "ipython3",
   "version": "3.6.5"
  }
 },
 "nbformat": 4,
 "nbformat_minor": 2
}
