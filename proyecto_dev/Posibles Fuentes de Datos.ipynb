{
 "cells": [
  {
   "cell_type": "markdown",
   "metadata": {},
   "source": [
    "# Fuentes de Datos\n",
    "Paginas web, bases de datos, archivos de excel o demas lugares de donde se podrian tomar los datos para sacar el dataset.\n",
    "Se tiene en cuenta distintas ciudades, y los factores investigados que podrian predecir la pobreza."
   ]
  },
  {
   "cell_type": "markdown",
   "metadata": {},
   "source": [
    "Se Realiza Primera mente una busqueda en google de ciudad y aspecto, ejemplo, `Alfabetizacion en Bogota`, Las paginas relevantes se copian en la sigueinte lista.\n",
    "* [DANE](http://www.dane.gov.co/) -> Hacer la Super consulta ** POR HACER**\n",
    "* [Datos del DANE](http://formularios.dane.gov.co/Anda_4_1/index.php/home) -> Hacer la Super consulta ** POR HACER**\n",
    "* [Diapositivas](http://andi.com.co/Gerencia%20Arquitectura%20Social%20-%20Fundacion%20ANDI/Documents/Eventos/Memorias%20Market%20Place%202015/5.%20IPS%20Ciudades_ANDI_15%20Sept%202015_VF.pdf)\n",
    "* [Mapas de Alfabetizacion por departamento](http://ceelat.org/mapas/la-alfabetizacion-en-colombia-reto-o-realidad/)\n",
    "* [Mapas de Alfabetizacion por departamento](https://geoportal.dane.gov.co/atlasestadistico/pages/tome02/tm02itm34.html)\n",
    "* [Alfabetizacion por zonas en bogota](https://www.dane.gov.co/files/investigaciones/condiciones_vida/ecvb/13.xls) -> hay que buscar bine en el DANE, pues al parecer esta.\n",
    "* [Camara de Comercio](https://www.camaradirecta.com/temas/indicadoresantander/santanderencifras/default.htm) -> datos por departamento. \n",
    "* [Datos Bucarmanga](http://www.seb.gov.co/wp_educacion/wp-content/uploads/INFORME-DE-GESTION-1%C2%B0-TRIMESTRE-2016.pdf)\n",
    "* [Mapas](http://ceelat.org/mapas/category/mapas/)\n",
    "* [Parques Bogota](http://sispru.scrd.gov.co/siscred/sites/default/files/Boletin%20Parques%20Av5%20.pdf)\n",
    "* [COLOMBIA - Gran Encuesta Integrada de Hogares - GEIH - 2017](http://formularios.dane.gov.co/Anda_4_1/index.php/catalog/458/datafile/F16#page=F16&tab=data-dictionary) -> Buscar Bien en toda la DANE, Ingresos, fuerza de trabajo, cosas en el hogar, etc\n",
    "* [Trabajo](http://formularios.dane.gov.co/Anda_4_1/index.php/catalog/414/datafile/F31)\n",
    "* [COLOMBIA - Indice de Pobreza Multidimensional - IPM - 2012](http://formularios.dane.gov.co/Anda_4_1/index.php/catalog/257/study-description)\n",
    "* [COLOMBIA - Encuesta Nacional de Calidad de Vida - ECV 2016](https://formularios.dane.gov.co/Anda_4_1/index.php/catalog/456/study-description)\n",
    "* [Datos de Colegios y educacion en Bucaramanga](http://www.seb.gov.co/wp_educacion/wp-content/uploads/INFORME-DE-GESTION-1%C2%B0-TRIMESTRE-2016.pdf)\n",
    "\n",
    "### Entidades:\n",
    "* [Camara de Comercio Bucaramanga](https://www.camaradirecta.com/temas/indicadoresantander/santanderencifras/default.htm)\n",
    "* [Camara de Comercio Bogota]()\n",
    "* [BD CEDE](https://datoscede.uniandes.edu.co/microdatos-tipos.php)\n",
    "* Hay un banco de datos en Bucaramanga\n",
    "* Secretaria de hacienda.\n",
    "* Camara de comercio\n",
    "* Ministerios\n",
    "* Catastro\n",
    "* [ARGIS mapas](http://www.arcgis.com/home/search.html?start=1&sortOrder=desc&sortField=relevance)\n",
    "* Secretaria de planeacion\n",
    "* [DAtos Abiertos](https://www.datos.gov.co/browse)\n",
    "\n",
    "### Grandes Encuestas:\n",
    "* [COLOMBIA - Encuesta de Calidad de Vida de Bogotá - ECVB 2007](http://formularios.dane.gov.co/Anda_4_1/index.php/catalog/188)\n",
    "* [COLOMBIA - Encuesta de Carga Financiera y Educación Financiera de los Hogares - IEFIC-2010 - 2016](http://formularios.dane.gov.co/Anda_4_1/index.php/catalog/470/datafile/F15)\n",
    "* [COLOMBIA - Encuesta Anual de Servicios - EAS - 2011 - Microdato](http://formularios.dane.gov.co/Anda_4_1/index.php/catalog/261/datafile/F1)\n",
    "* [COLOMBIA - Encuesta de Consumo Cultural - ECC - 2016](http://formularios.dane.gov.co/Anda_4_1/index.php/catalog/447/datafile/F18)\n",
    "* [COLOMBIA - Encuesta de Convivencia y Seguridad Ciudadana - ECSC - 2016](http://formularios.dane.gov.co/Anda_4_1/index.php/catalog/451)\n",
    "* [COLOMBIA - Encuesta de Cultura Política - ECP - 2015](http://formularios.dane.gov.co/Anda_4_1/index.php/catalog/406)\n",
    "* [COLOMBIA - Encuesta de Gasto Interno en Turismo - EGIT - 2012 - 2013](http://formularios.dane.gov.co/Anda_4_1/index.php/catalog/253)\n",
    "* [COLOMBIA - Encuesta longitudinal de Protección Social - ELPS 2012](http://formularios.dane.gov.co/Anda_4_1/index.php/catalog/194)\n",
    "* [COLOMBIA - Encuesta Nacional de Calidad de Vida - ECV 2016](http://formularios.dane.gov.co/Anda_4_1/index.php/catalog/456)\n",
    "* ~~[COLOMBIA - Encuesta Multipropósito - EM- 2014](http://formularios.dane.gov.co/Anda_4_1/index.php/catalog/365)~~ La columna de estratos esta vacia\n",
    "* [COLOMBIA - Encuesta Nacional de Calidad de Vida - ECV 2016](http://formularios.dane.gov.co/Anda_4_1/index.php/catalog/456)\n",
    "* [COLOMBIA - Encuesta Nacional de Trabajo Infantil - ENTI 2011](http://formularios.dane.gov.co/Anda_4_1/index.php/catalog/372)\n",
    "* [COLOMBIA - Encuesta Nacional de Uso del Tiempo - ENUT- 2012 - 2013](http://formularios.dane.gov.co/Anda_4_1/index.php/catalog/214)\n",
    "* [COLOMBIA - Encuesta Sobre Ambiente y Desempeño Institucional Departamental- EDID - 2014 (ENTIDAD)](http://formularios.dane.gov.co/Anda_4_1/index.php/catalog/402)\n",
    "* [COLOMBIA - Encuesta Sobre Ambiente y Desempeño Institucional Departamental- EDID - 2016 (ENTIDAD)](http://formularios.dane.gov.co/Anda_4_1/index.php/catalog/443)\n",
    "* [COLOMBIA - Encuesta Sobre Ambiente y Desempeño Institucional Departamental- EDID - 2016 (REGION)](http://formularios.dane.gov.co/Anda_4_1/index.php/catalog/442)\n",
    "* [COLOMBIA - Estadísticas Vitales - EEVV - 2015](http://formularios.dane.gov.co/Anda_4_1/index.php/catalog/475)\n",
    "* [COLOMBIA - Gran Encuesta Integrada de Hogares - GEIH - 2016](http://formularios.dane.gov.co/Anda_4_1/index.php/catalog/427)\n",
    "* [COLOMBIA - Gran Encuesta Integrada de Hogares - GEIH - 2017](http://formularios.dane.gov.co/Anda_4_1/index.php/catalog/458)\n",
    "* [COLOMBIA - Gran Encuesta Integrada de Hogares Nuevos Departamentos - GEIH - ND- 2015](http://formularios.dane.gov.co/Anda_4_1/index.php/catalog/405)\n",
    "* [Colombia - Indice de Pobreza Multidimensional - IPM- 2016](http://formularios.dane.gov.co/Anda_4_1/index.php/catalog/455)\n",
    "* [COLOMBIA - Investigación de Educación Formal - 2016](http://formularios.dane.gov.co/Anda_4_1/index.php/catalog/476)\n",
    "* [COLOMBIA - Medición de Pobreza Monetaria y Desigualdad - 2016](http://formularios.dane.gov.co/Anda_4_1/index.php/catalog/454/data_dictionary)\n",
    "* [COLOMBIA - Módulo de Trabajo Infantil - MTI- GEIH - 2016](http://formularios.dane.gov.co/Anda_4_1/index.php/catalog/462)\n",
    "* [COLOMBIA - Módulo de Trabajo Infantil - MTI- GEIH - 2016](http://formularios.dane.gov.co/Anda_4_1/index.php/catalog/462)\n",
    "* [COLOMBIA - Módulo Tecnologías de Información y Comunicación - MTIC- GEIH- 2011](http://formularios.dane.gov.co/Anda_4_1/index.php/catalog/298)\n",
    "* [COLOMBIA - Censo General 2005](http://formularios.dane.gov.co/Anda_4_1/index.php/catalog/421/data_dictionary)\n",
    "* [COLOMBIA - Encuesta Continua de Hogares - ECH - 2006 (TRIMESTRES I Y II)](http://formularios.dane.gov.co/Anda_4_1/index.php/catalog/116)"
   ]
  },
  {
   "cell_type": "markdown",
   "metadata": {},
   "source": [
    "**Update 25 sep 2017:**\n",
    "De las encuestas queda complicado sacar datos ya que no hay forma de relacionar cada casilla con algun lugar en especifico, en la tabla cada hogar esta identificado, pero no se puede relacionar con la vida real, en parte es debido a que el DANE toma estos datos para hacer estadisticas, y por ley solo se pueden usar estos datos para sacar estadisticas, es ilegal usarlos para obtener informacion individual, o eso fue lo que entendi de este textote.\n",
    "\n",
    "**`Términos y condiciones`**\n",
    "\n",
    "`El representante de la Organización que recibe los datos acuerda en cumplir con las siguientes condiciones:`\n",
    "\n",
    "`El acceso a los datos restringidos está limitado al Investigador Responsable y a otros miembros de grupo de investigadores listados en esta solicitud. En el acta de entrega de información diligenciada en la sala de procesamiento especializado, se deberá identificar el investigador principal, el proyecto de investigación, la entidad o institución que respalda la investigación, el convenio (en caso de tramitarse entre entidades públicas) y los asistentes de investigación entre otros detalles.`\n",
    "\n",
    "\n",
    "`Las copias de los datos solicitados o cualquier dato creado sobre la base del dato original no deben ser distribuidos a ninguna otra persona fuera de la lista mencionada en este acuerdo de acceso a microdatos, y deberá respetar la confidencialidad establecida en la ley 1712 de 2014 y la ley 79 de 1993 de reserva estadística.`\n",
    "\n",
    "\n",
    "`Los datos solicitados serán procesados únicamente con fines estadísticos y con el propósito de la investigación mencionada, respetando los protocolos de confidencialidad elaborada por el DANE. El artículo 5 de la ley 78 de 1993 expresa que “Los datos suministrados al Departamento Administrativo Nacional de Estadística DANE, en el desarrollo de los censos y encuestas, no podrán darse a conocer al público ni a las entidades u organismos oficiales, ni a las autoridades públicas, sino únicamente en resúmenes numéricos, que no hagan posible deducir de ellos información alguna de carácter individual que pudiera utilizarse para fines comerciales, de tributación fiscal, de investigación judicial o cualquier otro diferente del propiamente estadístico.” de esta manera los investigadores están cobijados por la anterior normatividad y les está prohibido que sus investigaciones tengan como objetivo identificar a las fuentes para fines judiciales, fiscales u otro que no sea estadístico.`\n",
    "\n",
    "\n",
    "`El Investigador Responsable debe expresar si tiene la intención de armonizar los microdatos solicitados con cualquier otro conjunto de datos. Si se realizara cualquier unión con otros datos (matching), se debe enviar al DANE el conjunto de datos a ser armonizados, así como también las razones para hacerlo. Cualquier conjunto de datos creado como resultado de la unión de archivos será considerado restringido y debe cumplir con los términos de este Acuerdo de Acceso a Microdatos, además que cualquier intento de crear conjuntos de datos a través de la unión de archivos con el propósito de identificar fuentes y divulgar la información se considera una violación a la confidencialidad.`\n",
    "\n",
    "\n",
    "`El Investigador Responsable se compromete en no intentar individualizar los registros (casos) de los microdatos solicitados, para identificar a ninguna persona, familia, negocio, empresa u organización. Si tal revelación ocurriese involuntariamente, no debe usarse la identidad de ninguna persona u organización descubierta e inmediatamente debe reportarse al DANE un detalle completo de tal situación. La identificación no debe ser revelada a ninguna otra persona que no está incluída en este Acuerdo de Acceso a Microdatos.`\n",
    "\n",
    "\n",
    "`El Investigador Responsable debe implementar los mecanismos de seguridad para prevenir el acceso no autorizado a los microdatos solicitados. Y garantizar la destrucción de los microdatos una vez realizada la investigación.`\n",
    "\n",
    "\n",
    "`Cualquier libro o artículo presentado en conferencias o congresos, tesis, disertaciones, reportes u otras publicaciones que utilicen los datos obtenidos del DANE deben citar la fuente de dicha información de acuerdo con el requerimiento de cita de autor de la legislación que en materia de propiedad intelectual se encuentra vigente.`\n",
    "\n",
    "\n",
    "`Una copia electrónica de todos los reportes y publicaciones basados en los datos solicitados debe ser enviada al DANE`\n",
    "\n",
    "\n",
    "`El recolector original de los datos, el DANE, y las agencias o colaboradoras de la investigación estadística no son responsables por el uso de los datos o por las interpretaciones o inferencias basadas en tales usos.`\n",
    "\n",
    "\n",
    "`Este Acuerdo entrará en vigencia en la fecha en que se apruebe el acceso a los microdatos solicitados y permanece vigente hasta la fecha de finalización del proyecto o antes, dependiendo si el proyecto haya terminado antes del tiempo fijado. Sin embargo, esto no excluye al investigador de su responsabilidad de respetar la confidencialidad por el tiempo que establece la ley para la reserva de la información y el respeto al derecho a la intimidad de los usuarios.`\n",
    "\n",
    "\n",
    "`Si existiese algún cambio en el proyecto de investigación, de cualquier índole, con respecto al formulario de solicitud original, es responsabilidad del Investigador Responsable actualizar la información del Acuerdo de Acceso a Microdatos con relación a los cambios. Si los cambios afectan los objetivos y las variables solicitadas por el Investigador Responsable, deberá realizarse una nueva solicitud, implicando una terminación del acuerdo original.`\n",
    "\n",
    "`Las infracciones de este Acuerdo deben considerarse seriamente. El DANE tomará las acciones contra los responsables cuando estas sean voluntarias o accidentales. El incumplimiento de las condiciones de este acuerdo implicará la tomar acciones judiciales, penales o disciplinarias a que haya lugar por violación de la confidencialidad y la reserva así como por la violación de los derechos de autor.`\n",
    "\n",
    "`Usted expresa su acuerdo para cumplir con los términos y condiciones arriba indicados y dar su garantía de que el uso de los datos estadísticos obtenidos del DANE se ajustarán a las normas de amplia aceptación de la práctica y las restricciones legales que tienen por objeto proteger la confidencialidad de los encuestados, de acuerdo a la Ley 79 de 1993, la cual establece lo siguiente:`\n",
    "\n",
    "    ARTICULO 5o. Las personas naturales o jurídicas, de cualquier orden o naturaleza, domiciliadas o residentes en el territorio nacional, están obligadas a suministrar al Departamento Administrativo Nacional de Estadística D.A.N.E, los datos solicitados en el desarrollo de Censos y Encuestas.\n",
    "\n",
    "    Los datos suministrados al Departamento Administrativo Nacional de Estadística DANE, en el desarrollo de los censos y encuestas, no podrán darse a conocer al público ni a las entidades u organismos oficiales, ni a las autoridades públicas, sino únicamente en resúmenes numéricos, que no hagan posible deducir de ellos información alguna de carácter individual que pudiera utilizarse para fines comerciales, de tributación fiscal, de investigación judicial o cualquier otro diferente del propiamente estadístico.\n",
    "\n",
    "    ARTICULO 6o. El Departamento Administrativo Nacional de Estadística D.A.N.E., podrá imponer multas por una cuantía entre uno (1) y cincuenta (50) salarios mínimos mensuales, como sanción a las personas naturales o jurídicas de que trata el artículo 5o. de la presente ley y que incumplan lo dispuesto en ésta u obstaculicen la realización del Censo o de las Encuestas, previa investigación administrativa.\n",
    "\n"
   ]
  },
  {
   "cell_type": "markdown",
   "metadata": {},
   "source": [
    "De las paginas anteriores se sacan los datos en las paginas para completar la sigueinte informacion."
   ]
  },
  {
   "cell_type": "code",
   "execution_count": 2,
   "metadata": {
    "collapsed": true
   },
   "outputs": [],
   "source": [
    "# uno de las posibles fuentes son los mapas de arcGIS, entoncs se importa su libreria\n",
    "import arcgis\n",
    "from arcgis.gis import GIS\n",
    "from IPython.display import display\n",
    "\n",
    "gis = GIS()"
   ]
  },
  {
   "cell_type": "markdown",
   "metadata": {},
   "source": [
    "## 1. Bogota"
   ]
  },
  {
   "cell_type": "markdown",
   "metadata": {},
   "source": [
    "[Mapas Bogota](http://mapas.bogota.gov.co/), el estrato mejor los de arcGIS"
   ]
  },
  {
   "cell_type": "code",
   "execution_count": 4,
   "metadata": {},
   "outputs": [
    {
     "data": {
      "text/html": [
       "<div class=\"item_container\" style=\"height: auto; overflow: hidden; border: 1px solid #cfcfcf; border-radius: 2px; background: #f6fafa; line-height: 1.21429em; padding: 10px;\">\n",
       "                    <div class=\"item_left\" style=\"width: 210px; float: left;\">\n",
       "                       <a href='http://www.arcgis.com/home/item.html?id=8bf7167d20924cbf8e25e7b11c7c502c' target='_blank'>\n",
       "                        <img src='http://www.arcgis.com/sharing/rest//content/items/8bf7167d20924cbf8e25e7b11c7c502c/info/thumbnail/world_street_map.jpg' class=\"itemThumbnail\">\n",
       "                       </a>\n",
       "                    </div>\n",
       "\n",
       "                    <div class=\"item_right\"     style=\"float: none; width: auto; overflow: hidden;\">\n",
       "                        <a href='http://www.arcgis.com/home/item.html?id=8bf7167d20924cbf8e25e7b11c7c502c' target='_blank'><b>Streets</b>\n",
       "                        </a>\n",
       "                        <br/>This web map provides a detailed 'raster tile' basemap for the world with a classic Esri street map style.<img src='http://www.arcgis.com/home/js/jsapi/esri/css/images/item_type_icons/maps16.png' style=\"vertical-align:middle;\">Web Map by esri\n",
       "                        <br/>Last Modified: febrero 06, 2018\n",
       "                        <br/>0 comments, 1.466.857 views\n",
       "                    </div>\n",
       "                </div>\n",
       "                "
      ],
      "text/plain": [
       "<Item title:\"Streets\" type:Web Map owner:esri>"
      ]
     },
     "metadata": {},
     "output_type": "display_data"
    },
    {
     "data": {
      "text/html": [
       "<div class=\"item_container\" style=\"height: auto; overflow: hidden; border: 1px solid #cfcfcf; border-radius: 2px; background: #f6fafa; line-height: 1.21429em; padding: 10px;\">\n",
       "                    <div class=\"item_left\" style=\"width: 210px; float: left;\">\n",
       "                       <a href='http://www.arcgis.com/home/item.html?id=03bb253f6e9d4e719f769e53f649813b' target='_blank'>\n",
       "                        <img src='http://www.arcgis.com/sharing/rest//content/items/03bb253f6e9d4e719f769e53f649813b/info/thumbnail/ago_downloaded.png' class=\"itemThumbnail\">\n",
       "                       </a>\n",
       "                    </div>\n",
       "\n",
       "                    <div class=\"item_right\"     style=\"float: none; width: auto; overflow: hidden;\">\n",
       "                        <a href='http://www.arcgis.com/home/item.html?id=03bb253f6e9d4e719f769e53f649813b' target='_blank'><b>Streets</b>\n",
       "                        </a>\n",
       "                        <br/>Presents highway-level data for the world and street-level data for North America, Europe and more.<img src='http://www.arcgis.com/home/js/jsapi/esri/css/images/item_type_icons/maps16.png' style=\"vertical-align:middle;\">Web Map by esri_atlas\n",
       "                        <br/>Last Modified: agosto 29, 2017\n",
       "                        <br/>0 comments, 261.451 views\n",
       "                    </div>\n",
       "                </div>\n",
       "                "
      ],
      "text/plain": [
       "<Item title:\"Streets\" type:Web Map owner:esri_atlas>"
      ]
     },
     "metadata": {},
     "output_type": "display_data"
    }
   ],
   "source": [
    "items = gis.content.search(\"bogota\", max_items=2)\n",
    "\n",
    "for item in items:\n",
    "    display(item)"
   ]
  },
  {
   "cell_type": "markdown",
   "metadata": {},
   "source": [
    "### 1.1 Estrato:\n",
    "* [COLOMBIA - Encuesta Multipropósito - EM- 2014](http://formularios.dane.gov.co/Anda_4_1/index.php/catalog/365/vargrp/VG1#page=F1&tab=data-dictionary)\n",
    "* [Secretaria de Planeacion](http://www.sdp.gov.co/portal/page/portal/PortalSDP/InformacionTomaDecisiones/Estratificacion_Socioeconomica/Mapas)\n",
    "* [Encuesta de movilidad de Bogotá 2015 – Caracterización Encuesta – Origen/Destino](https://www.datos.gov.co/Transporte/Encuesta-de-movilidad-de-Bogot-2015-Caracterizaci-/nvjr-dwv4)\n",
    "* arcGIS"
   ]
  },
  {
   "cell_type": "code",
   "execution_count": 4,
   "metadata": {
    "scrolled": true
   },
   "outputs": [
    {
     "name": "stdout",
     "output_type": "stream",
     "text": [
      "Help on Item in module arcgis.gis object:\n",
      "\n",
      "class Item(builtins.dict)\n",
      " |  An item (a unit of content) in the GIS. Each item has a unique identifier and a well\n",
      " |  known URL that is independent of the user owning the item.\n",
      " |  An item can have associated binary or textual data that's available via the item data resource.\n",
      " |  For example, an item of type Map Package returns the actual bits corresponding to the\n",
      " |  map package via the item data resource.\n",
      " |  \n",
      " |  Items that have layers (eg FeatureLayerCollection items and ImageryLayer items) and tables have\n",
      " |  the dynamic `layers` and `tables` properties to get to the individual layers/tables in this item.\n",
      " |  \n",
      " |  Method resolution order:\n",
      " |      Item\n",
      " |      builtins.dict\n",
      " |      builtins.object\n",
      " |  \n",
      " |  Methods defined here:\n",
      " |  \n",
      " |  __getattr__(self, name)\n",
      " |  \n",
      " |  __getattribute__(self, name)\n",
      " |      Return getattr(self, name).\n",
      " |  \n",
      " |  __getitem__(self, k)\n",
      " |      x.__getitem__(y) <==> x[y]\n",
      " |  \n",
      " |  __init__(self, gis, itemid, itemdict=None)\n",
      " |      Initialize self.  See help(type(self)) for accurate signature.\n",
      " |  \n",
      " |  __repr__(self)\n",
      " |      Return repr(self).\n",
      " |  \n",
      " |  __str__(self)\n",
      " |      Return str(self).\n",
      " |  \n",
      " |  add_relationship(self, rel_item, rel_type)\n",
      " |      Adds a relationship from this item to rel_item.\n",
      " |      Relationships are not tied to an item. They are directional links from an origin item\n",
      " |      to a destination item and have a type. The type defines the valid origin and destination\n",
      " |      item types as well as some rules. See Relationship types in REST API help for more information.\n",
      " |      Users don't have to own the items they relate unless so defined by the rules of the\n",
      " |      relationship type.\n",
      " |      Users can only delete relationships they create.\n",
      " |      Relationships are deleted automatically if one of the two items is deleted.\n",
      " |      \n",
      " |      rel_item is the related item\n",
      " |      rel_type is one of ['Map2Service', 'WMA2Code', 'Map2FeatureCollection', 'MobileApp2Code', 'Service2Data', 'Service2Service']. See Relationship types in REST API help for more information on this parameter\n",
      " |      Returns True if the relationship was added\n",
      " |  \n",
      " |  delete(self)\n",
      " |      Deletes an item.\n",
      " |      \n",
      " |      :return:\n",
      " |          a boolean, indicating success\n",
      " |  \n",
      " |  delete_relationship(self, rel_item, rel_type)\n",
      " |      Deletes a relationship between this item and the rel_item.\n",
      " |      rel_item is the related item\n",
      " |      rel_type is one of ['Map2Service', 'WMA2Code', 'Map2FeatureCollection', 'MobileApp2Code', 'Service2Data', 'Service2Service']\n",
      " |      Returns True if the relationship was deleted\n",
      " |  \n",
      " |  dependent_to(self)\n",
      " |      Returns items and urls, etc dependend upon this item.\n",
      " |  \n",
      " |  dependent_upon(self)\n",
      " |      Returns items and urls, etc that this items depends upon\n",
      " |  \n",
      " |  download(self, save_path=None)\n",
      " |      Downloads the data to the specified folder or a temporary folder if a folder isn't provided\n",
      " |      :param save_path: Optional, location to download the file as a string\n",
      " |      :return: Returns download path if data was available else None.\n",
      " |  \n",
      " |  download_metadata(self, save_folder=None)\n",
      " |      Downloads the item metadata for the specified item id, returns file path.\n",
      " |      Returns None if the item does not have metadata.\n",
      " |      Items with metadata have 'Metadata' in their typeKeywords\n",
      " |  \n",
      " |  download_thumbnail(self, save_folder=None)\n",
      " |      Downloads the item thumbnail for this item, returns file path.\n",
      " |  \n",
      " |  export(self, title, export_format, parameters=None, wait=True)\n",
      " |      Exports a service item to the specified output format.\n",
      " |      Available only to users with an organizational subscription.\n",
      " |      Invokable only by the service item owner or an administrator.\n",
      " |      \n",
      " |      Parameters:\n",
      " |       :export_format: The format to export the data to.\n",
      " |        Allowed types: 'Shapefile', 'CSV',\n",
      " |                 'File Geodatabase', 'Feature Collection',\n",
      " |                 'GeoJson', 'Scene Package', 'KML']\n",
      " |       :parameters: A JSON object describing the layers to be exported\n",
      " |        and the export parameters for each layer.\n",
      " |       :wait: boolean value that\n",
      " |      Output:\n",
      " |       Item or dictionary.  Item is returned when wait=True. A dictionary\n",
      " |       describing the status of the item is returned when wait=False.\n",
      " |       This means the user has to check if the item is exported\n",
      " |       successfully.  This is useful for long running exports that could\n",
      " |       hold up a script.\n",
      " |  \n",
      " |  get_data(self, try_json=True)\n",
      " |      Returns the data for the item.\n",
      " |      Binary files are downloaded and the path to the downloaded file is returned.\n",
      " |      For JSON/text files, if try_json is True, the method tries to convert it to a Python dict and returns it, else\n",
      " |      returns the data as a string. Zero byte files will return None.\n",
      " |      To convert this dict to string use json.dumps(data).\n",
      " |      Else, returns the data as a byte array, that can be converted to string using data.decode('utf-8')\n",
      " |  \n",
      " |  get_metadata(self)\n",
      " |      Returns the item metadata for the specified item.\n",
      " |      Returns None if the item does not have metadata.\n",
      " |      Items with metadata have 'Metadata' in their typeKeywords\n",
      " |  \n",
      " |  get_thumbnail(self)\n",
      " |      Returns the bytes that make up the thumbnail for this item.\n",
      " |      \n",
      " |      Arguments\n",
      " |          None.\n",
      " |      \n",
      " |      Returns\n",
      " |          bytes that represent the item.\n",
      " |      \n",
      " |      Example\n",
      " |      \n",
      " |      .. code-block:: python\n",
      " |      \n",
      " |          response = item.get_thumbnail()\n",
      " |          f = open(filename, 'wb')\n",
      " |          f.write(response)\n",
      " |  \n",
      " |  get_thumbnail_link(self)\n",
      " |      URL to the thumbnail image\n",
      " |  \n",
      " |  move(self, folder, owner=None)\n",
      " |      Move this item to the folder with the given name.\n",
      " |      \n",
      " |      ================  ===============================================================\n",
      " |      **Argument**      **Description**\n",
      " |      ----------------  ---------------------------------------------------------------\n",
      " |      folder            required string, the name of the folder to move the item to.\n",
      " |                        Use '/' for the root folder. For other folders, pass in the\n",
      " |                        folder name as a string, or a dict containing the folder 'id',\n",
      " |                        such as the dict obtained from the folders property.\n",
      " |      ================  ===============================================================\n",
      " |      \n",
      " |      :return:\n",
      " |          a json object like the following:\n",
      " |          {\n",
      " |             \"success\": true | false,\n",
      " |             \"itemId\": \"<item id>\",\n",
      " |             \"owner\": \"<owner username>\",\n",
      " |             \"folder\": \"<folder id>\"\n",
      " |          }\n",
      " |  \n",
      " |  protect(self, enable=True)\n",
      " |      Enable or disable delete protection on the item\n",
      " |      \n",
      " |      ================  ===============================================================\n",
      " |      **Argument**      **Description**\n",
      " |      ----------------  ---------------------------------------------------------------\n",
      " |      enable            optional boolean, True to enable delete protection, False to\n",
      " |                        to disable it\n",
      " |      ================  ===============================================================\n",
      " |      \n",
      " |      :return:\n",
      " |          a json object like the following:\n",
      " |          {\n",
      " |             \"success\": true | false\n",
      " |          }\n",
      " |  \n",
      " |  publish(self, publish_parameters=None, address_fields=None, output_type=None, overwrite=False)\n",
      " |      Publishes a hosted service based on an existing source item (this item).\n",
      " |      Publishers can create feature, tiled map, vector tile and scene services.\n",
      " |      \n",
      " |      Feature services can be created using input files of type csv, shapefile, serviceDefinition, featureCollection, and fileGeodatabase.\n",
      " |      CSV files that contain location fields, (ie.address fields or X, Y fields) are spatially enabled during the process of publishing.\n",
      " |      Shapefiles and file geodatabases should be packaged as *.zip files.\n",
      " |      \n",
      " |      Tiled map services can be created from service definition (*.sd) files, tile packages, and existing feature services.\n",
      " |      \n",
      " |      Vector tile services can be created from vector tile package (*.vtpk) files.\n",
      " |      \n",
      " |      Scene services can be created from scene layer package (*.spk, *.slpk) files.\n",
      " |      \n",
      " |      Service definitions are authored in ArcGIS for Desktop and contain both the cartographic definition for a map\n",
      " |      as well as its packaged data together with the definition of the geo-service to be created.\n",
      " |      \n",
      " |      ================    ===============================================================\n",
      " |      **Argument**        **Description**\n",
      " |      ----------------    ---------------------------------------------------------------\n",
      " |      publish_parameters  dictionary containing publish instructions and customizations.\n",
      " |                          Cannot be combined with overwrite.\n",
      " |      ----------------    ---------------------------------------------------------------\n",
      " |      address_fields      dict containing mapping of df columns to address fields,\n",
      " |                          eg: { \"CountryCode\" : \"Country\"} or { \"Address\" : \"Address\" }\n",
      " |      ----------------    ---------------------------------------------------------------\n",
      " |      output_type         Only used when a feature service is published as a tile service.\n",
      " |                          eg: output_type='Tiles'\n",
      " |      ----------------    ---------------------------------------------------------------\n",
      " |      overwrite           If True, the hosted feature service is overwritten.\n",
      " |                          Only available in ArcGIS Online and Portal for ArcGIS 10.5 or later.\n",
      " |      ================    ===============================================================\n",
      " |      \n",
      " |      :return:\n",
      " |          an arcgis.gis.Item object corresponding to the published web layer\n",
      " |      \n",
      " |      .. note::\n",
      " |              ArcGIS does not permit overwriting if you published multiple hosted feature layers from the same data item.\n",
      " |  \n",
      " |  reassign_to(self, target_owner, target_folder=None)\n",
      " |      Allows the administrator to reassign a single item from one user to another.\n",
      " |      \n",
      " |      .. note::\n",
      " |              If you wish to move all of a user's items (and groups) to another user then use the\n",
      " |              user.reassign_to() method.  This method only moves one item at a time.\n",
      " |      \n",
      " |      ================  ========================================================\n",
      " |      **Argument**      **Description**\n",
      " |      ----------------  --------------------------------------------------------\n",
      " |      item_id           required string, unique identifier for the item\n",
      " |      ----------------  --------------------------------------------------------\n",
      " |      target_owner      required string, desired owner of the item\n",
      " |      ----------------  --------------------------------------------------------\n",
      " |      target_folder     optional string, folder to move the item to.\n",
      " |      ================  ========================================================\n",
      " |      \n",
      " |      :return:\n",
      " |          a boolean, indicating success\n",
      " |  \n",
      " |  related_items(self, rel_type, direction='forward')\n",
      " |      Returns items related to this item. Relationsships can be added and deleted using item.add_relationship() and item.delete_relationship() respectively.\n",
      " |      rel_type is one of ['Map2Service', 'WMA2Code', 'Map2FeatureCollection', 'MobileApp2Code', 'Service2Data', 'Service2Service']\n",
      " |      direction is one of ['forward', 'reverse']\n",
      " |  \n",
      " |  share(self, everyone=False, org=False, groups=None, allow_members_to_edit=False)\n",
      " |      Shares an item with the specified list of groups\n",
      " |      \n",
      " |      ================  ========================================================\n",
      " |      **Argument**      **Description**\n",
      " |      ----------------  --------------------------------------------------------\n",
      " |      everyone          optional boolean, share with everyone\n",
      " |      ----------------  --------------------------------------------------------\n",
      " |      org               optional boolean, share with the organization\n",
      " |      ----------------  --------------------------------------------------------\n",
      " |      groups            optional list of group names as strings, or, list of\n",
      " |                          arcgis.gis.Group objects\n",
      " |                        You can also pass a comma-separated list of group IDs\n",
      " |      ----------------  --------------------------------------------------------\n",
      " |      allow_members_to_edit  optional boolean to allow item to be shared with groups that allow shared update\n",
      " |      ================  ========================================================\n",
      " |      \n",
      " |      :return:\n",
      " |          dict with key \"notSharedWith\" containing array of groups with which the item could not be shared.\n",
      " |  \n",
      " |  status(self, job_id=None, job_type=None)\n",
      " |      Inquire about status when publishing an item, adding an item in\n",
      " |      async mode, or adding with a multipart upload. \"Partial\" is\n",
      " |      available for Add Item Multipart, when only a part is uploaded\n",
      " |      and the item is not committed.\n",
      " |      \n",
      " |      Input:\n",
      " |         job_type The type of asynchronous job for which the status has\n",
      " |                 to be checked. Default is none, which check the\n",
      " |                 item's status.  This parameter is optional unless\n",
      " |                 used with the operations listed below.\n",
      " |                 Values: publish, generateFeatures, export,\n",
      " |                         and createService\n",
      " |         job_id - The job ID returned during publish, generateFeatures,\n",
      " |                 export, and createService calls.\n",
      " |  \n",
      " |  unshare(self, groups)\n",
      " |      Stops sharing the item with the specified list of groups\n",
      " |      \n",
      " |      ================  ========================================================\n",
      " |      **Argument**      **Description**\n",
      " |      ----------------  --------------------------------------------------------\n",
      " |      groups            optional list of group names as strings, or, list of\n",
      " |                          arcgis.gis.Group objects.\n",
      " |                        You can also pass a comma-separated list of group IDs\n",
      " |      ================  ========================================================\n",
      " |      \n",
      " |      :return:\n",
      " |          dict with key \"notUnsharedFrom\" containing array of groups from which the item could not be unshared.\n",
      " |  \n",
      " |  update(self, item_properties=None, data=None, thumbnail=None, metadata=None)\n",
      " |      Updates an item in a Portal.\n",
      " |      \n",
      " |      \n",
      " |      .. note::\n",
      " |          That content can be a file (such as a layer package, geoprocessing package,\n",
      " |          map package) or it can be a URL (to an ArcGIS Server service, WMS service,\n",
      " |          or an application).\n",
      " |      \n",
      " |          If you are uploading a package or other file, provide a path or URL\n",
      " |          to the file in the data argument.\n",
      " |      \n",
      " |          Only pass in arguments for properties you want to update.\n",
      " |          All other properties will be left as they are.  If you\n",
      " |          want to update description, then only provide\n",
      " |          the description argument in item_properties.\n",
      " |      \n",
      " |      \n",
      " |      ============     ====================================================\n",
      " |      **Argument**     **Description**\n",
      " |      ------------     ----------------------------------------------------\n",
      " |      item_properties  optional dictionary, see below for the keys and values\n",
      " |      ------------     ----------------------------------------------------\n",
      " |      data             optional string, either a path or URL to the data\n",
      " |      ------------     ----------------------------------------------------\n",
      " |      thumbnail        optional string, either a path or URL to an image\n",
      " |      ------------     ----------------------------------------------------\n",
      " |      metadata         optional string, either a path or URL to metadata\n",
      " |      ============     ====================================================\n",
      " |      \n",
      " |      \n",
      " |      ================  ============================================================================\n",
      " |       **Key**           **Value**\n",
      " |      ----------------  ----------------------------------------------------------------------------\n",
      " |      type              optional string, indicates type of item.  See URL 1 below for valid values.\n",
      " |      ----------------  ----------------------------------------------------------------------------\n",
      " |      typeKeywords      optional string list.  Lists all sub-types.  See URL 1 for valid values.\n",
      " |      ----------------  ----------------------------------------------------------------------------\n",
      " |      description       optional string.  Description of the item.\n",
      " |      ----------------  ----------------------------------------------------------------------------\n",
      " |      title             optional string.  Name of the item.\n",
      " |      ----------------  ----------------------------------------------------------------------------\n",
      " |      url               optional string.  URL to item that are based on URLs.\n",
      " |      ----------------  ----------------------------------------------------------------------------\n",
      " |      tags              optional string of comma-separated values.  Used for searches on items.\n",
      " |      ----------------  ----------------------------------------------------------------------------\n",
      " |      snippet           optional string.  Provides a very short summary of the what the item is.\n",
      " |      ----------------  ----------------------------------------------------------------------------\n",
      " |      extent            optional string with comma separated values for min x, min y, max x, max y.\n",
      " |      ----------------  ----------------------------------------------------------------------------\n",
      " |      spatialReference  optional string.  Coordinate system that the item is in.\n",
      " |      ----------------  ----------------------------------------------------------------------------\n",
      " |      accessInformation optional string.  Information on the source of the content.\n",
      " |      ----------------  ----------------------------------------------------------------------------\n",
      " |      licenseInfo       optinal string, any license information or restrictions regarding the content.\n",
      " |      ----------------  ----------------------------------------------------------------------------\n",
      " |      culture           optional string.  Locale, country and language information.\n",
      " |      ----------------  ----------------------------------------------------------------------------\n",
      " |      access            optional string.  Valid values: private, shared, org, or public.\n",
      " |      ----------------  ----------------------------------------------------------------------------\n",
      " |      commentsEnabled   optional boolean.  Default is true.  Controls whether comments are allowed.\n",
      " |      ----------------  ----------------------------------------------------------------------------\n",
      " |      culture           optional string.  Language and country information.\n",
      " |      ================  ============================================================================\n",
      " |      \n",
      " |      \n",
      " |      URL 1: http://resources.arcgis.com/en/help/arcgis-rest-api/index.html#//02r3000000ms000000\n",
      " |      \n",
      " |      :return:\n",
      " |           a boolean, that indicates success.\n",
      " |  \n",
      " |  ----------------------------------------------------------------------\n",
      " |  Data descriptors defined here:\n",
      " |  \n",
      " |  __dict__\n",
      " |      dictionary for instance variables (if defined)\n",
      " |  \n",
      " |  __weakref__\n",
      " |      list of weak references to the object (if defined)\n",
      " |  \n",
      " |  ----------------------------------------------------------------------\n",
      " |  Methods inherited from builtins.dict:\n",
      " |  \n",
      " |  __contains__(self, key, /)\n",
      " |      True if D has a key k, else False.\n",
      " |  \n",
      " |  __delitem__(self, key, /)\n",
      " |      Delete self[key].\n",
      " |  \n",
      " |  __eq__(self, value, /)\n",
      " |      Return self==value.\n",
      " |  \n",
      " |  __ge__(self, value, /)\n",
      " |      Return self>=value.\n",
      " |  \n",
      " |  __gt__(self, value, /)\n",
      " |      Return self>value.\n",
      " |  \n",
      " |  __iter__(self, /)\n",
      " |      Implement iter(self).\n",
      " |  \n",
      " |  __le__(self, value, /)\n",
      " |      Return self<=value.\n",
      " |  \n",
      " |  __len__(self, /)\n",
      " |      Return len(self).\n",
      " |  \n",
      " |  __lt__(self, value, /)\n",
      " |      Return self<value.\n",
      " |  \n",
      " |  __ne__(self, value, /)\n",
      " |      Return self!=value.\n",
      " |  \n",
      " |  __new__(*args, **kwargs) from builtins.type\n",
      " |      Create and return a new object.  See help(type) for accurate signature.\n",
      " |  \n",
      " |  __setitem__(self, key, value, /)\n",
      " |      Set self[key] to value.\n",
      " |  \n",
      " |  __sizeof__(...)\n",
      " |      D.__sizeof__() -> size of D in memory, in bytes\n",
      " |  \n",
      " |  clear(...)\n",
      " |      D.clear() -> None.  Remove all items from D.\n",
      " |  \n",
      " |  copy(...)\n",
      " |      D.copy() -> a shallow copy of D\n",
      " |  \n",
      " |  fromkeys(iterable, value=None, /) from builtins.type\n",
      " |      Returns a new dict with keys from iterable and values equal to value.\n",
      " |  \n",
      " |  get(...)\n",
      " |      D.get(k[,d]) -> D[k] if k in D, else d.  d defaults to None.\n",
      " |  \n",
      " |  items(...)\n",
      " |      D.items() -> a set-like object providing a view on D's items\n",
      " |  \n",
      " |  keys(...)\n",
      " |      D.keys() -> a set-like object providing a view on D's keys\n",
      " |  \n",
      " |  pop(...)\n",
      " |      D.pop(k[,d]) -> v, remove specified key and return the corresponding value.\n",
      " |      If key is not found, d is returned if given, otherwise KeyError is raised\n",
      " |  \n",
      " |  popitem(...)\n",
      " |      D.popitem() -> (k, v), remove and return some (key, value) pair as a\n",
      " |      2-tuple; but raise KeyError if D is empty.\n",
      " |  \n",
      " |  setdefault(...)\n",
      " |      D.setdefault(k[,d]) -> D.get(k,d), also set D[k]=d if k not in D\n",
      " |  \n",
      " |  values(...)\n",
      " |      D.values() -> an object providing a view on D's values\n",
      " |  \n",
      " |  ----------------------------------------------------------------------\n",
      " |  Data and other attributes inherited from builtins.dict:\n",
      " |  \n",
      " |  __hash__ = None\n",
      "\n"
     ]
    }
   ],
   "source": [
    "items = gis.content.search(\"Estratosprj\")\n",
    "help(items[0])"
   ]
  },
  {
   "cell_type": "code",
   "execution_count": 5,
   "metadata": {},
   "outputs": [
    {
     "data": {
      "text/plain": [
       "{'authoringApp': 'WebMapViewer',\n",
       " 'authoringAppVersion': '5.1',\n",
       " 'baseMap': {'baseMapLayers': [{'id': 'layer0',\n",
       "    'layerType': 'ArcGISTiledMapServiceLayer',\n",
       "    'opacity': 1,\n",
       "    'title': 'World Dark Gray Canvas Base',\n",
       "    'url': 'https://services.arcgisonline.com/arcgis/rest/services/Canvas/World_Dark_Gray_Base/MapServer',\n",
       "    'visibility': True},\n",
       "   {'id': 'World_Dark_Gray_Reference_8618',\n",
       "    'isReference': True,\n",
       "    'layerType': 'ArcGISTiledMapServiceLayer',\n",
       "    'opacity': 1,\n",
       "    'title': 'World Dark Gray Reference',\n",
       "    'url': 'https://services.arcgisonline.com/arcgis/rest/services/Canvas/World_Dark_Gray_Reference/MapServer',\n",
       "    'visibility': True}],\n",
       "  'title': 'Dark Gray Canvas'},\n",
       " 'operationalLayers': [{'id': 'Estratosprj_tiles_diss_382',\n",
       "   'itemId': '5702bff686044969bbb45c7c2dd7f4c6',\n",
       "   'layerType': 'ArcGISTiledMapServiceLayer',\n",
       "   'layers': [{'id': 0,\n",
       "     'layerItemId': '09544070c025449a992e96c39a8f0fe1',\n",
       "     'layerUrl': 'http://services.arcgis.com/MzG6bQaHRf11xguY/arcgis/rest/services/Estratosprj_tiles_diss/FeatureServer/0',\n",
       "     'popupInfo': {'description': None,\n",
       "      'fieldInfos': [{'fieldName': 'OBJECTID',\n",
       "        'format': None,\n",
       "        'isEditable': False,\n",
       "        'label': 'OBJECTID_1',\n",
       "        'stringFieldOption': 'textbox',\n",
       "        'tooltip': '',\n",
       "        'visible': False},\n",
       "       {'fieldName': 'ESTRATO',\n",
       "        'format': None,\n",
       "        'isEditable': True,\n",
       "        'label': 'ESTRATO',\n",
       "        'stringFieldOption': 'textbox',\n",
       "        'tooltip': '',\n",
       "        'visible': True},\n",
       "       {'fieldName': 'Shape__Area',\n",
       "        'format': {'digitSeparator': True, 'places': 2},\n",
       "        'isEditable': False,\n",
       "        'label': 'Shape__Area',\n",
       "        'stringFieldOption': 'textbox',\n",
       "        'tooltip': '',\n",
       "        'visible': False},\n",
       "       {'fieldName': 'Shape__Length',\n",
       "        'format': {'digitSeparator': True, 'places': 2},\n",
       "        'isEditable': False,\n",
       "        'label': 'Shape__Length',\n",
       "        'stringFieldOption': 'textbox',\n",
       "        'tooltip': '',\n",
       "        'visible': False}],\n",
       "      'mediaInfos': [],\n",
       "      'showAttachments': True,\n",
       "      'title': 'BogotaEstratos_Project_Disso2: {ESTRATO}'}}],\n",
       "   'opacity': 1,\n",
       "   'title': 'Estratosprj_tiles_diss',\n",
       "   'url': 'http://tiles.arcgis.com/tiles/MzG6bQaHRf11xguY/arcgis/rest/services/Estratosprj_tiles_diss/MapServer',\n",
       "   'visibility': True}],\n",
       " 'spatialReference': {'latestWkid': 3857, 'wkid': 102100},\n",
       " 'version': '2.8'}"
      ]
     },
     "execution_count": 5,
     "metadata": {},
     "output_type": "execute_result"
    }
   ],
   "source": [
    "#items[0].export(\"bogota\",'KML')\n",
    "items[0].get_data()"
   ]
  },
  {
   "cell_type": "code",
   "execution_count": 35,
   "metadata": {},
   "outputs": [
    {
     "data": {
      "text/html": [
       "<div class=\"item_container\" style=\"height: auto; overflow: hidden; border: 1px solid #cfcfcf; border-radius: 2px; background: #f6fafa; line-height: 1.21429em; padding: 10px;\">\n",
       "                    <div class=\"item_left\" style=\"width: 210px; float: left;\">\n",
       "                       <a href='http://www.arcgis.com/home/item.html?id=aff1a753243e459e9222ad00a2974e24' target='_blank'>\n",
       "                        <img src='http://www.arcgis.com/sharing/rest//content/items/aff1a753243e459e9222ad00a2974e24/info/thumbnail/ago_downloaded.png' class=\"itemThumbnail\">\n",
       "                       </a>\n",
       "                    </div>\n",
       "\n",
       "                    <div class=\"item_right\"     style=\"float: none; width: auto; overflow: hidden;\">\n",
       "                        <a href='http://www.arcgis.com/home/item.html?id=aff1a753243e459e9222ad00a2974e24' target='_blank'><b>Estratosprj_tiles_diss</b>\n",
       "                        </a>\n",
       "                        <br/>Dissolved and Tiled Version. Bogota divided into strata using a WGS 1984 projection.   Version Disuelta y en Capas. Bogota dividida en estratos usando una projeccion WGS 1984.<img src='http://www.arcgis.com/home/js/jsapi/esri/css/images/item_type_icons/maps16.png' style=\"vertical-align:middle;\">Web Map by gonzaled_Lafayette\n",
       "                        <br/>Last Modified: junio 20, 2017\n",
       "                        <br/>0 comments, 287 views\n",
       "                    </div>\n",
       "                </div>\n",
       "                "
      ],
      "text/plain": [
       "<Item title:\"Estratosprj_tiles_diss\" type:Web Map owner:gonzaled_Lafayette>"
      ]
     },
     "metadata": {},
     "output_type": "display_data"
    },
    {
     "data": {
      "text/html": [
       "<div class=\"item_container\" style=\"height: auto; overflow: hidden; border: 1px solid #cfcfcf; border-radius: 2px; background: #f6fafa; line-height: 1.21429em; padding: 10px;\">\n",
       "                    <div class=\"item_left\" style=\"width: 210px; float: left;\">\n",
       "                       <a href='http://www.arcgis.com/home/item.html?id=5702bff686044969bbb45c7c2dd7f4c6' target='_blank'>\n",
       "                        <img src='http://www.arcgis.com/sharing/rest//content/items/5702bff686044969bbb45c7c2dd7f4c6/info/thumbnail/ago_downloaded.gif' class=\"itemThumbnail\">\n",
       "                       </a>\n",
       "                    </div>\n",
       "\n",
       "                    <div class=\"item_right\"     style=\"float: none; width: auto; overflow: hidden;\">\n",
       "                        <a href='http://www.arcgis.com/home/item.html?id=5702bff686044969bbb45c7c2dd7f4c6' target='_blank'><b>Estratosprj_tiles_diss</b>\n",
       "                        </a>\n",
       "                        <br/>Dissolved and Tiled Version. Bogota divided into strata using a WGS 1984 projection. \n",
       "\n",
       "Version Disuelta y en Capas. Bogota dividida en estratos usando una projeccion WGS 1984.<img src='http://www.arcgis.com/home/js/jsapi/esri/css/images/item_type_icons/mapimages16.png' style=\"vertical-align:middle;\">Map Image Layer by gonzaled_Lafayette\n",
       "                        <br/>Last Modified: junio 05, 2017\n",
       "                        <br/>0 comments, 286 views\n",
       "                    </div>\n",
       "                </div>\n",
       "                "
      ],
      "text/plain": [
       "<Item title:\"Estratosprj_tiles_diss\" type:Map Service owner:gonzaled_Lafayette>"
      ]
     },
     "metadata": {},
     "output_type": "display_data"
    },
    {
     "data": {
      "text/html": [
       "<div class=\"item_container\" style=\"height: auto; overflow: hidden; border: 1px solid #cfcfcf; border-radius: 2px; background: #f6fafa; line-height: 1.21429em; padding: 10px;\">\n",
       "                    <div class=\"item_left\" style=\"width: 210px; float: left;\">\n",
       "                       <a href='http://www.arcgis.com/home/item.html?id=7a90db11426e48ac957a8b1cf2467812' target='_blank'>\n",
       "                        <img src='http://www.arcgis.com/sharing/rest//content/items/7a90db11426e48ac957a8b1cf2467812/info/thumbnail/ago_downloaded.png' class=\"itemThumbnail\">\n",
       "                       </a>\n",
       "                    </div>\n",
       "\n",
       "                    <div class=\"item_right\"     style=\"float: none; width: auto; overflow: hidden;\">\n",
       "                        <a href='http://www.arcgis.com/home/item.html?id=7a90db11426e48ac957a8b1cf2467812' target='_blank'><b>Estratosprj_tiles</b>\n",
       "                        </a>\n",
       "                        <br/>Tiled Version. Bogota divided into strata using a WGS 1984 projection. Version Capas. Bogota dividida en estratos usando una projeccion WGS 1984.<img src='http://www.arcgis.com/home/js/jsapi/esri/css/images/item_type_icons/maps16.png' style=\"vertical-align:middle;\">Web Map by gonzaled_Lafayette\n",
       "                        <br/>Last Modified: junio 05, 2017\n",
       "                        <br/>0 comments, 43 views\n",
       "                    </div>\n",
       "                </div>\n",
       "                "
      ],
      "text/plain": [
       "<Item title:\"Estratosprj_tiles\" type:Web Map owner:gonzaled_Lafayette>"
      ]
     },
     "metadata": {},
     "output_type": "display_data"
    },
    {
     "data": {
      "text/html": [
       "<div class=\"item_container\" style=\"height: auto; overflow: hidden; border: 1px solid #cfcfcf; border-radius: 2px; background: #f6fafa; line-height: 1.21429em; padding: 10px;\">\n",
       "                    <div class=\"item_left\" style=\"width: 210px; float: left;\">\n",
       "                       <a href='http://www.arcgis.com/home/item.html?id=73b0093b37974882bb897560744344b2' target='_blank'>\n",
       "                        <img src='http://www.arcgis.com/sharing/rest//content/items/73b0093b37974882bb897560744344b2/info/thumbnail/ago_downloaded.gif' class=\"itemThumbnail\">\n",
       "                       </a>\n",
       "                    </div>\n",
       "\n",
       "                    <div class=\"item_right\"     style=\"float: none; width: auto; overflow: hidden;\">\n",
       "                        <a href='http://www.arcgis.com/home/item.html?id=73b0093b37974882bb897560744344b2' target='_blank'><b>Estratosprj_tiles</b>\n",
       "                        </a>\n",
       "                        <br/>Tiled Version. Bogota divided into strata using a WGS 1984 projection. \n",
       "\n",
       "Version Capas. Bogota dividida en estratos usando una projeccion WGS 1984.<img src='http://www.arcgis.com/home/js/jsapi/esri/css/images/item_type_icons/mapimages16.png' style=\"vertical-align:middle;\">Map Image Layer by gonzaled_Lafayette\n",
       "                        <br/>Last Modified: junio 05, 2017\n",
       "                        <br/>0 comments, 34 views\n",
       "                    </div>\n",
       "                </div>\n",
       "                "
      ],
      "text/plain": [
       "<Item title:\"Estratosprj_tiles\" type:Map Service owner:gonzaled_Lafayette>"
      ]
     },
     "metadata": {},
     "output_type": "display_data"
    },
    {
     "data": {
      "text/html": [
       "<div class=\"item_container\" style=\"height: auto; overflow: hidden; border: 1px solid #cfcfcf; border-radius: 2px; background: #f6fafa; line-height: 1.21429em; padding: 10px;\">\n",
       "                    <div class=\"item_left\" style=\"width: 210px; float: left;\">\n",
       "                       <a href='http://www.arcgis.com/home/item.html?id=09544070c025449a992e96c39a8f0fe1' target='_blank'>\n",
       "                        <img src='http://www.arcgis.com/sharing/rest//content/items/09544070c025449a992e96c39a8f0fe1/info/thumbnail/thumbnail.png' class=\"itemThumbnail\">\n",
       "                       </a>\n",
       "                    </div>\n",
       "\n",
       "                    <div class=\"item_right\"     style=\"float: none; width: auto; overflow: hidden;\">\n",
       "                        <a href='http://www.arcgis.com/home/item.html?id=09544070c025449a992e96c39a8f0fe1' target='_blank'><b>Estratosprj_tiles_diss</b>\n",
       "                        </a>\n",
       "                        <br/>Dissolved and Tiled Version. Bogota divided into strata using a WGS 1984 projection. \n",
       "\n",
       "Version Disuelta y en Capas. Bogota dividida en estratos usando una projeccion WGS 1984.<img src='http://www.arcgis.com/home/js/jsapi/esri/css/images/item_type_icons/featureshosted16.png' style=\"vertical-align:middle;\">Feature Layer Collection by gonzaled_Lafayette\n",
       "                        <br/>Last Modified: junio 05, 2017\n",
       "                        <br/>0 comments, 17 views\n",
       "                    </div>\n",
       "                </div>\n",
       "                "
      ],
      "text/plain": [
       "<Item title:\"Estratosprj_tiles_diss\" type:Feature Service owner:gonzaled_Lafayette>"
      ]
     },
     "metadata": {},
     "output_type": "display_data"
    },
    {
     "data": {
      "text/html": [
       "<div class=\"item_container\" style=\"height: auto; overflow: hidden; border: 1px solid #cfcfcf; border-radius: 2px; background: #f6fafa; line-height: 1.21429em; padding: 10px;\">\n",
       "                    <div class=\"item_left\" style=\"width: 210px; float: left;\">\n",
       "                       <a href='http://www.arcgis.com/home/item.html?id=0d943ea3b5bf4b9389b5c1addd270ec7' target='_blank'>\n",
       "                        <img src='http://www.arcgis.com/sharing/rest//content/items/0d943ea3b5bf4b9389b5c1addd270ec7/info/thumbnail/thumbnail.png' class=\"itemThumbnail\">\n",
       "                       </a>\n",
       "                    </div>\n",
       "\n",
       "                    <div class=\"item_right\"     style=\"float: none; width: auto; overflow: hidden;\">\n",
       "                        <a href='http://www.arcgis.com/home/item.html?id=0d943ea3b5bf4b9389b5c1addd270ec7' target='_blank'><b>Estratosprj_tiles</b>\n",
       "                        </a>\n",
       "                        <br/>Tiled Version. Bogota divided into strata using a WGS 1984 projection. \n",
       "\n",
       "Version Capas. Bogota dividida en estratos usando una projeccion WGS 1984.<img src='http://www.arcgis.com/home/js/jsapi/esri/css/images/item_type_icons/featureshosted16.png' style=\"vertical-align:middle;\">Feature Layer Collection by gonzaled_Lafayette\n",
       "                        <br/>Last Modified: junio 05, 2017\n",
       "                        <br/>0 comments, 9 views\n",
       "                    </div>\n",
       "                </div>\n",
       "                "
      ],
      "text/plain": [
       "<Item title:\"Estratosprj_tiles\" type:Feature Service owner:gonzaled_Lafayette>"
      ]
     },
     "metadata": {},
     "output_type": "display_data"
    },
    {
     "data": {
      "text/html": [
       "<div class=\"item_container\" style=\"height: auto; overflow: hidden; border: 1px solid #cfcfcf; border-radius: 2px; background: #f6fafa; line-height: 1.21429em; padding: 10px;\">\n",
       "                    <div class=\"item_left\" style=\"width: 210px; float: left;\">\n",
       "                       <a href='http://www.arcgis.com/home/item.html?id=e766b6d403284646b028d8bd2e51243e' target='_blank'>\n",
       "                        <img src='http://www.arcgis.com/sharing/rest//content/items/e766b6d403284646b028d8bd2e51243e/info/thumbnail/thumbnail.png' class=\"itemThumbnail\">\n",
       "                       </a>\n",
       "                    </div>\n",
       "\n",
       "                    <div class=\"item_right\"     style=\"float: none; width: auto; overflow: hidden;\">\n",
       "                        <a href='http://www.arcgis.com/home/item.html?id=e766b6d403284646b028d8bd2e51243e' target='_blank'><b>Estratosprj_tiles</b>\n",
       "                        </a>\n",
       "                        <br/>Tiled Version. Bogota divided into strata using a WGS 1984 projection. \n",
       "\n",
       "Version Capas. Bogota dividida en estratos usando una projeccion WGS 1984.<img src='http://www.arcgis.com/home/js/jsapi/esri/css/images/item_type_icons/layers16.png' style=\"vertical-align:middle;\">Service Definition by gonzaled_Lafayette\n",
       "                        <br/>Last Modified: junio 05, 2017\n",
       "                        <br/>0 comments, 4 views\n",
       "                    </div>\n",
       "                </div>\n",
       "                "
      ],
      "text/plain": [
       "<Item title:\"Estratosprj_tiles\" type:Service Definition owner:gonzaled_Lafayette>"
      ]
     },
     "metadata": {},
     "output_type": "display_data"
    },
    {
     "data": {
      "text/html": [
       "<div class=\"item_container\" style=\"height: auto; overflow: hidden; border: 1px solid #cfcfcf; border-radius: 2px; background: #f6fafa; line-height: 1.21429em; padding: 10px;\">\n",
       "                    <div class=\"item_left\" style=\"width: 210px; float: left;\">\n",
       "                       <a href='http://www.arcgis.com/home/item.html?id=8e23a788336d47eeb9c920497925a292' target='_blank'>\n",
       "                        <img src='http://www.arcgis.com/sharing/rest//content/items/8e23a788336d47eeb9c920497925a292/info/thumbnail/thumbnail.png' class=\"itemThumbnail\">\n",
       "                       </a>\n",
       "                    </div>\n",
       "\n",
       "                    <div class=\"item_right\"     style=\"float: none; width: auto; overflow: hidden;\">\n",
       "                        <a href='http://www.arcgis.com/home/item.html?id=8e23a788336d47eeb9c920497925a292' target='_blank'><b>Estratosprj_tiles_diss</b>\n",
       "                        </a>\n",
       "                        <br/>Dissolved and Tiled Version. Bogota divided into strata using a WGS 1984 projection. \n",
       "\n",
       "Version Disuelta y en Capas. Bogota dividida en estratos usando una projeccion WGS 1984.<img src='http://www.arcgis.com/home/js/jsapi/esri/css/images/item_type_icons/layers16.png' style=\"vertical-align:middle;\">Service Definition by gonzaled_Lafayette\n",
       "                        <br/>Last Modified: junio 05, 2017\n",
       "                        <br/>0 comments, 1 views\n",
       "                    </div>\n",
       "                </div>\n",
       "                "
      ],
      "text/plain": [
       "<Item title:\"Estratosprj_tiles_diss\" type:Service Definition owner:gonzaled_Lafayette>"
      ]
     },
     "metadata": {},
     "output_type": "display_data"
    }
   ],
   "source": [
    "for item in items:\n",
    "    display(item)"
   ]
  },
  {
   "cell_type": "markdown",
   "metadata": {},
   "source": [
    "### 1.2 Factor Uno - Educación:\n",
    "* [COLOMBIA - Indice de Pobreza Multidimensional - IPM - 2012](http://formularios.dane.gov.co/Anda_4_1/index.php/catalog/257/study-description) - Hay Columna con la pregunta `¿Sabe Leer?`\n",
    "* [Colombia - Indice de Pobreza Multidimensional - IPM- 2016](http://formularios.dane.gov.co/Anda_4_1/index.php/catalog/455/study-description)\n",
    "* [Excel del DANE](https://www.dane.gov.co/files/investigaciones/condiciones_vida/ecvb/13.xls)\n",
    "* [Mapa a Nivel Municipal](http://ceelat.org/mapas/la-alfabetizacion-en-colombia-reto-o-realidad/)\n",
    "* En las grandes encuestas hay varios datos que se pueden volver mapas.\n",
    "* [Puntos vive digital del pais](https://www.datos.gov.co/Ciencia-Tecnolog-a-e-Innovaci-n/Kioskos-Vive-Digital/jmmu-qmdh)"
   ]
  },
  {
   "cell_type": "code",
   "execution_count": 18,
   "metadata": {},
   "outputs": [
    {
     "data": {
      "text/html": [
       "<div class=\"item_container\" style=\"height: auto; overflow: hidden; border: 1px solid #cfcfcf; border-radius: 2px; background: #f6fafa; line-height: 1.21429em; padding: 10px;\">\n",
       "                    <div class=\"item_left\" style=\"width: 210px; float: left;\">\n",
       "                       <a href='http://www.arcgis.com/home/item.html?id=b49fbd8f78a14dcbafb252b4cd78a4f4' target='_blank'>\n",
       "                        <img src='http://www.arcgis.com/sharing/rest//content/items/b49fbd8f78a14dcbafb252b4cd78a4f4/info/thumbnail/ago_downloaded.png' class=\"itemThumbnail\">\n",
       "                       </a>\n",
       "                    </div>\n",
       "\n",
       "                    <div class=\"item_right\"     style=\"float: none; width: auto; overflow: hidden;\">\n",
       "                        <a href='http://www.arcgis.com/home/item.html?id=b49fbd8f78a14dcbafb252b4cd78a4f4' target='_blank'><b>Mapa_Colegios</b>\n",
       "                        </a>\n",
       "                        <br/>Mapa que muestra los colegios de Bogota<img src='http://www.arcgis.com/home/js/jsapi/esri/css/images/item_type_icons/maps16.png' style=\"vertical-align:middle;\">Web Map by acubillos\n",
       "                        <br/>Last Modified: diciembre 11, 2015\n",
       "                        <br/>0 comments, 501 views\n",
       "                    </div>\n",
       "                </div>\n",
       "                "
      ],
      "text/plain": [
       "<Item title:\"Mapa_Colegios\" type:Web Map owner:acubillos>"
      ]
     },
     "metadata": {},
     "output_type": "display_data"
    },
    {
     "data": {
      "text/html": [
       "<div class=\"item_container\" style=\"height: auto; overflow: hidden; border: 1px solid #cfcfcf; border-radius: 2px; background: #f6fafa; line-height: 1.21429em; padding: 10px;\">\n",
       "                    <div class=\"item_left\" style=\"width: 210px; float: left;\">\n",
       "                       <a href='http://www.arcgis.com/home/item.html?id=2d5f83ce539d47b9b777a98b27e6fec9' target='_blank'>\n",
       "                        <img src='http://www.arcgis.com/sharing/rest//content/items/2d5f83ce539d47b9b777a98b27e6fec9/info/thumbnail/ago_downloaded.png' class=\"itemThumbnail\">\n",
       "                       </a>\n",
       "                    </div>\n",
       "\n",
       "                    <div class=\"item_right\"     style=\"float: none; width: auto; overflow: hidden;\">\n",
       "                        <a href='http://www.arcgis.com/home/item.html?id=2d5f83ce539d47b9b777a98b27e6fec9' target='_blank'><b>Establecimientos Educativos</b>\n",
       "                        </a>\n",
       "                        <br/><img src='http://www.arcgis.com/home/js/jsapi/esri/css/images/item_type_icons/maps16.png' style=\"vertical-align:middle;\">Web Map by PublicadorSIG\n",
       "                        <br/>Last Modified: julio 28, 2016\n",
       "                        <br/>0 comments, 429 views\n",
       "                    </div>\n",
       "                </div>\n",
       "                "
      ],
      "text/plain": [
       "<Item title:\"Establecimientos Educativos\" type:Web Map owner:PublicadorSIG>"
      ]
     },
     "metadata": {},
     "output_type": "display_data"
    }
   ],
   "source": [
    "items = gis.content.search(\"educacion bogota\", max_items=2)\n",
    "\n",
    "for item in items:\n",
    "    display(item)"
   ]
  },
  {
   "cell_type": "markdown",
   "metadata": {},
   "source": [
    "### 1.3 Factor Dos - Salud:\n",
    "* De las encuestas se pueden sacar informacion\n",
    "* Hubicacion de lugares como hospitales, probar si esto se puede tomar de google.\n",
    "* [Registro de Prestadores de Instituciones de Salud](https://www.datos.gov.co/Salud-y-Protecci-n-Social/Registro-de-Prestadores-de-Instituciones-de-Salud/c36g-9fc2)\n",
    "* [Encuesta Nacional de Salud ](https://datoscede.uniandes.edu.co/microdatos-detalle.php/72/2/127/) -> Falta Acceder.\n",
    "* [ Encuesta Nacional de Situación Nutricional en Colombia - ENSIN ](https://datoscede.uniandes.edu.co/microdatos-detalle.php/108/encuesta-nacional-de-situacion-nutricional-en-colombia---ensin/)\n",
    "* [Encuesta Demografía y Salud (ENDS) ](https://datoscede.uniandes.edu.co/microdatos-detalle.php/272/encuesta-demografia-y-salud-(ends)/)\n",
    "* [Encuesta longitudinal de Protección Social - ELPS ](https://datoscede.uniandes.edu.co/microdatos-detalle.php/289/encuesta-longitudinal-de-proteccion-social---elps/)\n",
    "* [Mapa Interactivo](http://www.secretariadeambiente.gov.co/visorgeo) -> Mapa interctivo con mucha informaicon qeu se peude descargar, como focos de consumo, temperatura promedio, entre otras.\n",
    "* "
   ]
  },
  {
   "cell_type": "code",
   "execution_count": 24,
   "metadata": {},
   "outputs": [
    {
     "data": {
      "text/html": [
       "<div class=\"item_container\" style=\"height: auto; overflow: hidden; border: 1px solid #cfcfcf; border-radius: 2px; background: #f6fafa; line-height: 1.21429em; padding: 10px;\">\n",
       "                    <div class=\"item_left\" style=\"width: 210px; float: left;\">\n",
       "                       <a href='http://www.arcgis.com/home/item.html?id=56965413bcca40eb938a764c9c9c2981' target='_blank'>\n",
       "                        <img src='http://www.arcgis.com/sharing/rest//content/items/56965413bcca40eb938a764c9c9c2981/info/thumbnail/ago_downloaded.png' class=\"itemThumbnail\">\n",
       "                       </a>\n",
       "                    </div>\n",
       "\n",
       "                    <div class=\"item_right\"     style=\"float: none; width: auto; overflow: hidden;\">\n",
       "                        <a href='http://www.arcgis.com/home/item.html?id=56965413bcca40eb938a764c9c9c2981' target='_blank'><b>ACTIVIDADES DE VIGILANCIA EN SALUD PUBLICA COMUNITARIA ESE CHAPINERO BOGOTA DC</b>\n",
       "                        </a>\n",
       "                        <br/>(MAPA EN CONSTRUCCION) Contiene las actividades de vigilancia en salud ública realizadas con la comunidad de la localidad de Chapinero entre setp de 2013 y feb de 2014<img src='http://www.arcgis.com/home/js/jsapi/esri/css/images/item_type_icons/maps16.png' style=\"vertical-align:middle;\">Web Map by geoconcepto\n",
       "                        <br/>Last Modified: enero 28, 2016\n",
       "                        <br/>0 comments, 464 views\n",
       "                    </div>\n",
       "                </div>\n",
       "                "
      ],
      "text/plain": [
       "<Item title:\"ACTIVIDADES DE VIGILANCIA EN SALUD PUBLICA COMUNITARIA ESE CHAPINERO BOGOTA DC\" type:Web Map owner:geoconcepto>"
      ]
     },
     "metadata": {},
     "output_type": "display_data"
    },
    {
     "data": {
      "text/html": [
       "<div class=\"item_container\" style=\"height: auto; overflow: hidden; border: 1px solid #cfcfcf; border-radius: 2px; background: #f6fafa; line-height: 1.21429em; padding: 10px;\">\n",
       "                    <div class=\"item_left\" style=\"width: 210px; float: left;\">\n",
       "                       <a href='http://www.arcgis.com/home/item.html?id=3d20ad2afa044e8692729fcc80122894' target='_blank'>\n",
       "                        <img src='http://www.arcgis.com/sharing/rest//content/items/3d20ad2afa044e8692729fcc80122894/info/thumbnail/ago_downloaded.png' class=\"itemThumbnail\">\n",
       "                       </a>\n",
       "                    </div>\n",
       "\n",
       "                    <div class=\"item_right\"     style=\"float: none; width: auto; overflow: hidden;\">\n",
       "                        <a href='http://www.arcgis.com/home/item.html?id=3d20ad2afa044e8692729fcc80122894' target='_blank'><b>Localidades Bogota</b>\n",
       "                        </a>\n",
       "                        <br/>Distrito Capital Bogotá - Colombia<img src='http://www.arcgis.com/home/js/jsapi/esri/css/images/item_type_icons/maps16.png' style=\"vertical-align:middle;\">Web Map by girlesoft\n",
       "                        <br/>Last Modified: noviembre 13, 2016\n",
       "                        <br/>0 comments, 326 views\n",
       "                    </div>\n",
       "                </div>\n",
       "                "
      ],
      "text/plain": [
       "<Item title:\"Localidades Bogota\" type:Web Map owner:girlesoft>"
      ]
     },
     "metadata": {},
     "output_type": "display_data"
    }
   ],
   "source": [
    "items = gis.content.search(\"salud bogota\", max_items=2)\n",
    "\n",
    "for item in items:\n",
    "    display(item)"
   ]
  },
  {
   "cell_type": "code",
   "execution_count": 12,
   "metadata": {},
   "outputs": [
    {
     "data": {
      "text/html": [
       "<div class=\"item_container\" style=\"height: auto; overflow: hidden; border: 1px solid #cfcfcf; border-radius: 2px; background: #f6fafa; line-height: 1.21429em; padding: 10px;\">\n",
       "                    <div class=\"item_left\" style=\"width: 210px; float: left;\">\n",
       "                       <a href='http://www.arcgis.com/home/item.html?id=1ab4d014f3914e3ea9cb375562a1f22f' target='_blank'>\n",
       "                        <img src='http://www.arcgis.com/sharing/rest//content/items/1ab4d014f3914e3ea9cb375562a1f22f/info/thumbnail/ago_downloaded.png' class=\"itemThumbnail\">\n",
       "                       </a>\n",
       "                    </div>\n",
       "\n",
       "                    <div class=\"item_right\"     style=\"float: none; width: auto; overflow: hidden;\">\n",
       "                        <a href='http://www.arcgis.com/home/item.html?id=1ab4d014f3914e3ea9cb375562a1f22f' target='_blank'><b>Encuesta Calidad de Vida Bogotá</b>\n",
       "                        </a>\n",
       "                        <br/>El mapa representa de forma estadistica algunos resultados de la Encuesta Calidad de Vida Bogotá 2007<img src='http://www.arcgis.com/home/js/jsapi/esri/css/images/item_type_icons/maps16.png' style=\"vertical-align:middle;\">Web Map by edwardyac\n",
       "                        <br/>Last Modified: abril 09, 2012\n",
       "                        <br/>0 comments, 456 views\n",
       "                    </div>\n",
       "                </div>\n",
       "                "
      ],
      "text/plain": [
       "<Item title:\"Encuesta Calidad de Vida Bogotá\" type:Web Map owner:edwardyac>"
      ]
     },
     "metadata": {},
     "output_type": "display_data"
    },
    {
     "data": {
      "text/html": [
       "<div class=\"item_container\" style=\"height: auto; overflow: hidden; border: 1px solid #cfcfcf; border-radius: 2px; background: #f6fafa; line-height: 1.21429em; padding: 10px;\">\n",
       "                    <div class=\"item_left\" style=\"width: 210px; float: left;\">\n",
       "                       <a href='http://www.arcgis.com/home/item.html?id=c433604080ad46fca090f8c6f2ae58f2' target='_blank'>\n",
       "                        <img src='http://www.arcgis.com/sharing/rest//content/items/c433604080ad46fca090f8c6f2ae58f2/info/thumbnail/encuesta_bogota.png' class=\"itemThumbnail\">\n",
       "                       </a>\n",
       "                    </div>\n",
       "\n",
       "                    <div class=\"item_right\"     style=\"float: none; width: auto; overflow: hidden;\">\n",
       "                        <a href='http://www.arcgis.com/home/item.html?id=c433604080ad46fca090f8c6f2ae58f2' target='_blank'><b>Encuesta Calidad de Vida Bogotá</b>\n",
       "                        </a>\n",
       "                        <br/>El mapa representa de forma estadistica algunos resultados de la Encuesta Calidad de Vida Bogotá 2007<img src='http://www.arcgis.com/home/js/jsapi/esri/css/images/item_type_icons/layers16.png' style=\"vertical-align:middle;\">Web Mapping Application by edwardyac\n",
       "                        <br/>Last Modified: abril 09, 2012\n",
       "                        <br/>0 comments, 367 views\n",
       "                    </div>\n",
       "                </div>\n",
       "                "
      ],
      "text/plain": [
       "<Item title:\"Encuesta Calidad de Vida Bogotá\" type:Web Mapping Application owner:edwardyac>"
      ]
     },
     "metadata": {},
     "output_type": "display_data"
    }
   ],
   "source": [
    "items = gis.content.search(\"pobreza bogota\")\n",
    "\n",
    "for item in items:\n",
    "    display(item)"
   ]
  },
  {
   "cell_type": "code",
   "execution_count": 33,
   "metadata": {},
   "outputs": [
    {
     "data": {
      "text/html": [
       "<div class=\"item_container\" style=\"height: auto; overflow: hidden; border: 1px solid #cfcfcf; border-radius: 2px; background: #f6fafa; line-height: 1.21429em; padding: 10px;\">\n",
       "                    <div class=\"item_left\" style=\"width: 210px; float: left;\">\n",
       "                       <a href='http://www.arcgis.com/home/item.html?id=e36a8737e83c4fd5918d2ad9c57ef509' target='_blank'>\n",
       "                        <img src='http://www.arcgis.com/sharing/rest//content/items/e36a8737e83c4fd5918d2ad9c57ef509/info/thumbnail/ago_downloaded.png' class=\"itemThumbnail\">\n",
       "                       </a>\n",
       "                    </div>\n",
       "\n",
       "                    <div class=\"item_right\"     style=\"float: none; width: auto; overflow: hidden;\">\n",
       "                        <a href='http://www.arcgis.com/home/item.html?id=e36a8737e83c4fd5918d2ad9c57ef509' target='_blank'><b>MAPA C.A.</b>\n",
       "                        </a>\n",
       "                        <br/><img src='http://www.arcgis.com/home/js/jsapi/esri/css/images/item_type_icons/maps16.png' style=\"vertical-align:middle;\">Web Map by CheSergioCamargoVargas\n",
       "                        <br/>Last Modified: abril 20, 2016\n",
       "                        <br/>0 comments, 126 views\n",
       "                    </div>\n",
       "                </div>\n",
       "                "
      ],
      "text/plain": [
       "<Item title:\"MAPA C.A.\" type:Web Map owner:CheSergioCamargoVargas>"
      ]
     },
     "metadata": {},
     "output_type": "display_data"
    },
    {
     "data": {
      "text/html": [
       "<div class=\"item_container\" style=\"height: auto; overflow: hidden; border: 1px solid #cfcfcf; border-radius: 2px; background: #f6fafa; line-height: 1.21429em; padding: 10px;\">\n",
       "                    <div class=\"item_left\" style=\"width: 210px; float: left;\">\n",
       "                       <a href='http://www.arcgis.com/home/item.html?id=3fc0fd838e9b469d97a2a30fe1348847' target='_blank'>\n",
       "                        <img src='http://static.arcgis.com/images/desktopapp.png' class=\"itemThumbnail\">\n",
       "                       </a>\n",
       "                    </div>\n",
       "\n",
       "                    <div class=\"item_right\"     style=\"float: none; width: auto; overflow: hidden;\">\n",
       "                        <a href='http://www.arcgis.com/home/item.html?id=3fc0fd838e9b469d97a2a30fe1348847' target='_blank'><b>MAPA C.A.</b>\n",
       "                        </a>\n",
       "                        <br/><img src='http://www.arcgis.com/home/js/jsapi/esri/css/images/item_type_icons/layers16.png' style=\"vertical-align:middle;\">Web Mapping Application by CheSergioCamargoVargas\n",
       "                        <br/>Last Modified: abril 20, 2016\n",
       "                        <br/>0 comments, 57 views\n",
       "                    </div>\n",
       "                </div>\n",
       "                "
      ],
      "text/plain": [
       "<Item title:\"MAPA C.A.\" type:Web Mapping Application owner:CheSergioCamargoVargas>"
      ]
     },
     "metadata": {},
     "output_type": "display_data"
    }
   ],
   "source": [
    "items = gis.content.search(\"contaminacion bogota\", max_items=2)\n",
    "\n",
    "for item in items:\n",
    "    display(item)"
   ]
  },
  {
   "cell_type": "markdown",
   "metadata": {},
   "source": [
    "**PAUSA** -> Hay muchos datos en las encuestas que podrian llenar la mayoria de factores que hay, entonces ver que mas datos se pueden sacar y los que falten luego buscarlos."
   ]
  },
  {
   "cell_type": "markdown",
   "metadata": {},
   "source": [
    "## 2. Otras Ciudades"
   ]
  },
  {
   "cell_type": "code",
   "execution_count": 43,
   "metadata": {},
   "outputs": [
    {
     "data": {
      "text/html": [
       "<div class=\"item_container\" style=\"height: auto; overflow: hidden; border: 1px solid #cfcfcf; border-radius: 2px; background: #f6fafa; line-height: 1.21429em; padding: 10px;\">\n",
       "                    <div class=\"item_left\" style=\"width: 210px; float: left;\">\n",
       "                       <a href='http://www.arcgis.com/home/item.html?id=aaa7bf590a8e4dca8f2fe72406d25d39' target='_blank'>\n",
       "                        <img src='http://www.arcgis.com/sharing/rest//content/items/aaa7bf590a8e4dca8f2fe72406d25d39/info/thumbnail/ago_downloaded.png' class=\"itemThumbnail\">\n",
       "                       </a>\n",
       "                    </div>\n",
       "\n",
       "                    <div class=\"item_right\"     style=\"float: none; width: auto; overflow: hidden;\">\n",
       "                        <a href='http://www.arcgis.com/home/item.html?id=aaa7bf590a8e4dca8f2fe72406d25d39' target='_blank'><b>Sogamoso - Duitama - Tunja - Bogotá</b>\n",
       "                        </a>\n",
       "                        <br/>Ruta e indicaciones para Sogamoso - Duitama - Tunja - Bogotá<img src='http://www.arcgis.com/home/js/jsapi/esri/css/images/item_type_icons/features16.png' style=\"vertical-align:middle;\">Feature Collection by SIG.PUBLICA\n",
       "                        <br/>Last Modified: febrero 23, 2017\n",
       "                        <br/>0 comments, 2.781 views\n",
       "                    </div>\n",
       "                </div>\n",
       "                "
      ],
      "text/plain": [
       "<Item title:\"Sogamoso - Duitama - Tunja - Bogotá\" type:Feature Collection owner:SIG.PUBLICA>"
      ]
     },
     "metadata": {},
     "output_type": "display_data"
    },
    {
     "data": {
      "text/html": [
       "<div class=\"item_container\" style=\"height: auto; overflow: hidden; border: 1px solid #cfcfcf; border-radius: 2px; background: #f6fafa; line-height: 1.21429em; padding: 10px;\">\n",
       "                    <div class=\"item_left\" style=\"width: 210px; float: left;\">\n",
       "                       <a href='http://www.arcgis.com/home/item.html?id=fa19697f97024cc8bb659ac1663d2400' target='_blank'>\n",
       "                        <img src='http://www.arcgis.com/sharing/rest//content/items/fa19697f97024cc8bb659ac1663d2400/info/thumbnail/ago_downloaded.png' class=\"itemThumbnail\">\n",
       "                       </a>\n",
       "                    </div>\n",
       "\n",
       "                    <div class=\"item_right\"     style=\"float: none; width: auto; overflow: hidden;\">\n",
       "                        <a href='http://www.arcgis.com/home/item.html?id=fa19697f97024cc8bb659ac1663d2400' target='_blank'><b>Sogamoso - Duitama - Tunja - Bucaramanga</b>\n",
       "                        </a>\n",
       "                        <br/>Ruta e indicaciones para Sogamoso - Duitama - Tunja - Bucaramanga<img src='http://www.arcgis.com/home/js/jsapi/esri/css/images/item_type_icons/features16.png' style=\"vertical-align:middle;\">Feature Collection by SIG.PUBLICA\n",
       "                        <br/>Last Modified: febrero 23, 2017\n",
       "                        <br/>0 comments, 1.028 views\n",
       "                    </div>\n",
       "                </div>\n",
       "                "
      ],
      "text/plain": [
       "<Item title:\"Sogamoso - Duitama - Tunja - Bucaramanga\" type:Feature Collection owner:SIG.PUBLICA>"
      ]
     },
     "metadata": {},
     "output_type": "display_data"
    },
    {
     "data": {
      "text/html": [
       "<div class=\"item_container\" style=\"height: auto; overflow: hidden; border: 1px solid #cfcfcf; border-radius: 2px; background: #f6fafa; line-height: 1.21429em; padding: 10px;\">\n",
       "                    <div class=\"item_left\" style=\"width: 210px; float: left;\">\n",
       "                       <a href='http://www.arcgis.com/home/item.html?id=bab5663e2cca475980b421e8a1597bf7' target='_blank'>\n",
       "                        <img src='http://www.arcgis.com/sharing/rest//content/items/bab5663e2cca475980b421e8a1597bf7/info/thumbnail/ago_downloaded.png' class=\"itemThumbnail\">\n",
       "                       </a>\n",
       "                    </div>\n",
       "\n",
       "                    <div class=\"item_right\"     style=\"float: none; width: auto; overflow: hidden;\">\n",
       "                        <a href='http://www.arcgis.com/home/item.html?id=bab5663e2cca475980b421e8a1597bf7' target='_blank'><b>Ruta Alterna Sogamoso -Yopal</b>\n",
       "                        </a>\n",
       "                        <br/>Ruta e indicaciones para Ruta Alterna Sogamoso -Yopal<img src='http://www.arcgis.com/home/js/jsapi/esri/css/images/item_type_icons/features16.png' style=\"vertical-align:middle;\">Feature Collection by SIG.PUBLICA\n",
       "                        <br/>Last Modified: febrero 23, 2017\n",
       "                        <br/>0 comments, 659 views\n",
       "                    </div>\n",
       "                </div>\n",
       "                "
      ],
      "text/plain": [
       "<Item title:\"Ruta Alterna Sogamoso -Yopal\" type:Feature Collection owner:SIG.PUBLICA>"
      ]
     },
     "metadata": {},
     "output_type": "display_data"
    },
    {
     "data": {
      "text/html": [
       "<div class=\"item_container\" style=\"height: auto; overflow: hidden; border: 1px solid #cfcfcf; border-radius: 2px; background: #f6fafa; line-height: 1.21429em; padding: 10px;\">\n",
       "                    <div class=\"item_left\" style=\"width: 210px; float: left;\">\n",
       "                       <a href='http://www.arcgis.com/home/item.html?id=305fe4010ffa45b0bfe21813f79cde81' target='_blank'>\n",
       "                        <img src='http://www.arcgis.com/sharing/rest//content/items/305fe4010ffa45b0bfe21813f79cde81/info/thumbnail/ago_downloaded.png' class=\"itemThumbnail\">\n",
       "                       </a>\n",
       "                    </div>\n",
       "\n",
       "                    <div class=\"item_right\"     style=\"float: none; width: auto; overflow: hidden;\">\n",
       "                        <a href='http://www.arcgis.com/home/item.html?id=305fe4010ffa45b0bfe21813f79cde81' target='_blank'><b>Ruta Hundimiento Sogamoso - Yopal</b>\n",
       "                        </a>\n",
       "                        <br/>Ruta e indicaciones para Ruta Hundimiento Sogamoso - Yopal<img src='http://www.arcgis.com/home/js/jsapi/esri/css/images/item_type_icons/features16.png' style=\"vertical-align:middle;\">Feature Collection by SIG.PUBLICA\n",
       "                        <br/>Last Modified: febrero 23, 2017\n",
       "                        <br/>0 comments, 639 views\n",
       "                    </div>\n",
       "                </div>\n",
       "                "
      ],
      "text/plain": [
       "<Item title:\"Ruta Hundimiento Sogamoso - Yopal\" type:Feature Collection owner:SIG.PUBLICA>"
      ]
     },
     "metadata": {},
     "output_type": "display_data"
    },
    {
     "data": {
      "text/html": [
       "<div class=\"item_container\" style=\"height: auto; overflow: hidden; border: 1px solid #cfcfcf; border-radius: 2px; background: #f6fafa; line-height: 1.21429em; padding: 10px;\">\n",
       "                    <div class=\"item_left\" style=\"width: 210px; float: left;\">\n",
       "                       <a href='http://www.arcgis.com/home/item.html?id=375f5cc6678c461aab09a1828ce0a720' target='_blank'>\n",
       "                        <img src='http://www.arcgis.com/sharing/rest//content/items/375f5cc6678c461aab09a1828ce0a720/info/thumbnail/ago_downloaded.png' class=\"itemThumbnail\">\n",
       "                       </a>\n",
       "                    </div>\n",
       "\n",
       "                    <div class=\"item_right\"     style=\"float: none; width: auto; overflow: hidden;\">\n",
       "                        <a href='http://www.arcgis.com/home/item.html?id=375f5cc6678c461aab09a1828ce0a720' target='_blank'><b>Tunja - Sogamoso</b>\n",
       "                        </a>\n",
       "                        <br/>Ruta e indicaciones para Tunja - Sogamoso<img src='http://www.arcgis.com/home/js/jsapi/esri/css/images/item_type_icons/features16.png' style=\"vertical-align:middle;\">Feature Collection by SIG.PUBLICA\n",
       "                        <br/>Last Modified: febrero 23, 2017\n",
       "                        <br/>0 comments, 572 views\n",
       "                    </div>\n",
       "                </div>\n",
       "                "
      ],
      "text/plain": [
       "<Item title:\"Tunja - Sogamoso\" type:Feature Collection owner:SIG.PUBLICA>"
      ]
     },
     "metadata": {},
     "output_type": "display_data"
    },
    {
     "data": {
      "text/html": [
       "<div class=\"item_container\" style=\"height: auto; overflow: hidden; border: 1px solid #cfcfcf; border-radius: 2px; background: #f6fafa; line-height: 1.21429em; padding: 10px;\">\n",
       "                    <div class=\"item_left\" style=\"width: 210px; float: left;\">\n",
       "                       <a href='http://www.arcgis.com/home/item.html?id=8a3546ab0fc14be6beaa9b05a64d2f90' target='_blank'>\n",
       "                        <img src='http://www.arcgis.com/sharing/rest//content/items/8a3546ab0fc14be6beaa9b05a64d2f90/info/thumbnail/ago_downloaded.png' class=\"itemThumbnail\">\n",
       "                       </a>\n",
       "                    </div>\n",
       "\n",
       "                    <div class=\"item_right\"     style=\"float: none; width: auto; overflow: hidden;\">\n",
       "                        <a href='http://www.arcgis.com/home/item.html?id=8a3546ab0fc14be6beaa9b05a64d2f90' target='_blank'><b>Plan de ordenamiento de la cuenca hidrográfica del río Sogamoso</b>\n",
       "                        </a>\n",
       "                        <br/><img src='http://www.arcgis.com/home/js/jsapi/esri/css/images/item_type_icons/layers16.png' style=\"vertical-align:middle;\">Web Mapping Application by ctorion\n",
       "                        <br/>Last Modified: septiembre 15, 2015\n",
       "                        <br/>0 comments, 271 views\n",
       "                    </div>\n",
       "                </div>\n",
       "                "
      ],
      "text/plain": [
       "<Item title:\"Plan de ordenamiento de la cuenca hidrográfica del río Sogamoso\" type:Web Mapping Application owner:ctorion>"
      ]
     },
     "metadata": {},
     "output_type": "display_data"
    },
    {
     "data": {
      "text/html": [
       "<div class=\"item_container\" style=\"height: auto; overflow: hidden; border: 1px solid #cfcfcf; border-radius: 2px; background: #f6fafa; line-height: 1.21429em; padding: 10px;\">\n",
       "                    <div class=\"item_left\" style=\"width: 210px; float: left;\">\n",
       "                       <a href='http://www.arcgis.com/home/item.html?id=5139b7fccca347599094cc549d31f8ab' target='_blank'>\n",
       "                        <img src='http://www.arcgis.com/sharing/rest//content/items/5139b7fccca347599094cc549d31f8ab/info/thumbnail/ago_downloaded.png' class=\"itemThumbnail\">\n",
       "                       </a>\n",
       "                    </div>\n",
       "\n",
       "                    <div class=\"item_right\"     style=\"float: none; width: auto; overflow: hidden;\">\n",
       "                        <a href='http://www.arcgis.com/home/item.html?id=5139b7fccca347599094cc549d31f8ab' target='_blank'><b>Sogamoso - Yopal</b>\n",
       "                        </a>\n",
       "                        <br/>Ruta e indicaciones para Sogamoso - Yopal<img src='http://www.arcgis.com/home/js/jsapi/esri/css/images/item_type_icons/features16.png' style=\"vertical-align:middle;\">Feature Collection by SIG.PUBLICA\n",
       "                        <br/>Last Modified: febrero 23, 2017\n",
       "                        <br/>0 comments, 222 views\n",
       "                    </div>\n",
       "                </div>\n",
       "                "
      ],
      "text/plain": [
       "<Item title:\"Sogamoso - Yopal\" type:Feature Collection owner:SIG.PUBLICA>"
      ]
     },
     "metadata": {},
     "output_type": "display_data"
    },
    {
     "data": {
      "text/html": [
       "<div class=\"item_container\" style=\"height: auto; overflow: hidden; border: 1px solid #cfcfcf; border-radius: 2px; background: #f6fafa; line-height: 1.21429em; padding: 10px;\">\n",
       "                    <div class=\"item_left\" style=\"width: 210px; float: left;\">\n",
       "                       <a href='http://www.arcgis.com/home/item.html?id=a7489755cf004e758eea4dfabf9d6ecb' target='_blank'>\n",
       "                        <img src='http://static.arcgis.com/images/desktopapp.png' class=\"itemThumbnail\">\n",
       "                       </a>\n",
       "                    </div>\n",
       "\n",
       "                    <div class=\"item_right\"     style=\"float: none; width: auto; overflow: hidden;\">\n",
       "                        <a href='http://www.arcgis.com/home/item.html?id=a7489755cf004e758eea4dfabf9d6ecb' target='_blank'><b>POMCA SOGAMOSO</b>\n",
       "                        </a>\n",
       "                        <br/><img src='http://www.arcgis.com/home/js/jsapi/esri/css/images/item_type_icons/layers16.png' style=\"vertical-align:middle;\">Web Mapping Application by ctorion\n",
       "                        <br/>Last Modified: septiembre 15, 2015\n",
       "                        <br/>0 comments, 216 views\n",
       "                    </div>\n",
       "                </div>\n",
       "                "
      ],
      "text/plain": [
       "<Item title:\"POMCA SOGAMOSO\" type:Web Mapping Application owner:ctorion>"
      ]
     },
     "metadata": {},
     "output_type": "display_data"
    },
    {
     "data": {
      "text/html": [
       "<div class=\"item_container\" style=\"height: auto; overflow: hidden; border: 1px solid #cfcfcf; border-radius: 2px; background: #f6fafa; line-height: 1.21429em; padding: 10px;\">\n",
       "                    <div class=\"item_left\" style=\"width: 210px; float: left;\">\n",
       "                       <a href='http://www.arcgis.com/home/item.html?id=ade3969b5ab6477bbd419eaa0981f52c' target='_blank'>\n",
       "                        <img src='http://www.arcgis.com/sharing/rest//content/items/ade3969b5ab6477bbd419eaa0981f52c/info/thumbnail/ago_downloaded.png' class=\"itemThumbnail\">\n",
       "                       </a>\n",
       "                    </div>\n",
       "\n",
       "                    <div class=\"item_right\"     style=\"float: none; width: auto; overflow: hidden;\">\n",
       "                        <a href='http://www.arcgis.com/home/item.html?id=ade3969b5ab6477bbd419eaa0981f52c' target='_blank'><b>Mapa Sogamoso</b>\n",
       "                        </a>\n",
       "                        <br/><img src='http://www.arcgis.com/home/js/jsapi/esri/css/images/item_type_icons/maps16.png' style=\"vertical-align:middle;\">Web Map by u1101101\n",
       "                        <br/>Last Modified: abril 08, 2013\n",
       "                        <br/>0 comments, 163 views\n",
       "                    </div>\n",
       "                </div>\n",
       "                "
      ],
      "text/plain": [
       "<Item title:\"Mapa Sogamoso\" type:Web Map owner:u1101101>"
      ]
     },
     "metadata": {},
     "output_type": "display_data"
    },
    {
     "data": {
      "text/html": [
       "<div class=\"item_container\" style=\"height: auto; overflow: hidden; border: 1px solid #cfcfcf; border-radius: 2px; background: #f6fafa; line-height: 1.21429em; padding: 10px;\">\n",
       "                    <div class=\"item_left\" style=\"width: 210px; float: left;\">\n",
       "                       <a href='http://www.arcgis.com/home/item.html?id=8cb639b298084997af5e9b801bbc9fca' target='_blank'>\n",
       "                        <img src='http://www.arcgis.com/sharing/rest//content/items/8cb639b298084997af5e9b801bbc9fca/info/thumbnail/ago_downloaded.png' class=\"itemThumbnail\">\n",
       "                       </a>\n",
       "                    </div>\n",
       "\n",
       "                    <div class=\"item_right\"     style=\"float: none; width: auto; overflow: hidden;\">\n",
       "                        <a href='http://www.arcgis.com/home/item.html?id=8cb639b298084997af5e9b801bbc9fca' target='_blank'><b>UB_Tutazá</b>\n",
       "                        </a>\n",
       "                        <br/>Info.<img src='http://www.arcgis.com/home/js/jsapi/esri/css/images/item_type_icons/maps16.png' style=\"vertical-align:middle;\">Web Map by UB_christian\n",
       "                        <br/>Last Modified: agosto 16, 2012\n",
       "                        <br/>0 comments, 124 views\n",
       "                    </div>\n",
       "                </div>\n",
       "                "
      ],
      "text/plain": [
       "<Item title:\"UB_Tutazá\" type:Web Map owner:UB_christian>"
      ]
     },
     "metadata": {},
     "output_type": "display_data"
    }
   ],
   "source": [
    "items = gis.content.search(\"sogamoso\")\n",
    "\n",
    "for item in items:\n",
    "    display(item)"
   ]
  },
  {
   "cell_type": "markdown",
   "metadata": {
    "collapsed": true
   },
   "source": [
    "## FUENTE KML\n",
    "Revisando correos encontre uno que me habia enviado el profe raul, en el cual se pueden encontrar algunos KML de bogota que me podrian ser de mucha ayuda. [aqui](https://www.ideca.gov.co/es/servicios/mapa-de-referencia/tabla-mapa-referencia?tid_1=All&title=&page=1)"
   ]
  },
  {
   "cell_type": "markdown",
   "metadata": {
    "collapsed": true
   },
   "source": [
    "* ~~[siag](http://www.siac.gov.co/catalogo-de-mapas)~~\n",
    "* ~~[Algoagricola](http://upra.gov.co/SIPRA/)~~\n",
    "* ~~[mapas bogota](http://mapas.bogota.gov.co/#)~~\n",
    "* ~~[cartografia base](https://www.datos.gov.co/dataset/Curva-Nivel-Escala-1-500-000-Cartografia-Base-IGAC/vsnr-x2wa/data)~~\n",
    "* ~~[algunos mapas](http://www.esig.com.co/?page_id=50)~~\n",
    "* ~~[algunos mapas](https://rni.unidadvictimas.gov.co/visores)~~\n",
    "* ~~[slgunos mapas](http://rni.unidadvictimas.gov.co/mapas?page=1)~~\n",
    "* ~~[mas mapas](http://datos.biodiversidad.co/)~~\n",
    "* ~~[mas mapas](http://geoportal.sgc.gov.co/geoportalsgc/catalog/main/home.page)~~\n",
    "* ~~[[mapas](http://sigotn.igac.gov.co/sigotn/frames_pagina.aspx)~~\n",
    "* ~~[mas](http://visor.ideam.gov.co:8530/geovisor/#!/profiles/3)~~\n",
    "* ~~[mas](http://www.ideam.gov.co/web/guest/galeria-de-mapas)~~\n",
    "* ~~[mapas](http://sigotn.igac.gov.co/sigotn/default.aspx)~~\n",
    "* ~~[mapas](http://mapas.parquesnacionales.gov.co/)~~\n",
    "* ~~[mas](https://geoportal.dane.gov.co/v2/?page=elementoMapaDane)~~\n",
    "* ~~[mas](http://geoportalsme.minminas.gov.co/geoportalsme/web/inicio)~~\n",
    "* ~~[mas](http://sig.simec.gov.co/GeoPortal/Mapas/Visores)~~\n",
    "* ~~[mas](http://sig.simec.gov.co/GeoPortal/Carrusel/Visor)~~\n",
    "* ~~[mas](http://sig.simec.gov.co/GeoPortal/Mapas/Mapas)~~\n",
    "* ~~[mas](https://geoportal.dane.gov.co/geocna/index.html)~~\n",
    "* ~~[[mas](https://sites.google.com/site/seriescol/kml---kmz)~~\n",
    "* ~~[mas](http://datosabiertos-geoportal-igac.opendata.arcgis.com/pages/cartografa)~~\n",
    "* ~~[mas](http://datosabiertos-geoportal-igac.opendata.arcgis.com/pages/catastro)~~\n",
    "* ~~[mas](http://datosabiertos-geoportal-igac.opendata.arcgis.com/pages/agrologia)~~\n",
    "* ~~[mas](http://mapas.parquesnacionales.gov.co/)~~\n",
    "* ~~[mas](http://datosabiertos.esri.co/)~~\n",
    "* ~~[mas](www.upra.gov.co/documents/10184/13821/Shape+Aptitul+plantaciones+forestales+comerciales/0d084152-c34c-450a-81ef-e901fa0932d8)~~\n",
    "* ~~[mas](https://geoportal.dane.gov.co/v2/?page=elementoDescargaMGN)~~\n",
    "* ~~[mas](https://www.ideca.gov.co/es/servicios/objetos-geograficos-tematicos)~~\n",
    "* ~~[mas](http://181.225.72.78/Portal-SIAC-web/faces/Dashboard/catalogoMapa/catalogoMapaSIAC.xhtml)~~\n",
    "* ~~[mas](ftp://cartografialibre.igac.gov.co)~~\n",
    "* ~~[mas](https://www.ideca.gov.co/es/servicios/mapa-de-referencia/tabla-mapa-referencia)~~\n",
    "* ~~[mas](http://juanchosierrar.blogspot.com.co/2016/02/descarga-la-informacion-geografica-de.html)~~\n",
    "* ~~[mas](http://sigserv02.anla.gov.co:6080/arcgis/rest/services/Informacion_SIAC/MapServer/generateKml)~~\n",
    "* ~~[mas](https://www.educ.ar/recursos/14683/google-earth-galerias-de-archivos-kmlkmz-y-terremotos)~~\n",
    "* ~~[mas](https://www.google-earth.es/foros.php?f=2)~~\n",
    "* ~~[mas](https://www.google.com/url?sa=t&rct=j&q=&esrc=s&source=web&cd=18&cad=rja&uact=8&ved=0ahUKEwiO7PfCwIXZAhWIh1QKHZ89AuM4ChAWCE8wBw&url=https%3A%2F%2Fwww.datos.gov.co%2Fapi%2Fgeospatial%2F5847-wgf8%3Fmethod%3Dexport%26format%3DKML&usg=AOvVaw1tukH07P5KOuoHx_LEi0IG)~~\n",
    "* ~~[mas](https://www.google.com/url?sa=t&rct=j&q=&esrc=s&source=web&cd=20&cad=rja&uact=8&ved=0ahUKEwiO7PfCwIXZAhWIh1QKHZ89AuM4ChAWCFcwCQ&url=http%3A%2F%2Fwww.wikiexplora.com%2Fimages%2F8%2F8c%2FNevados-cocuy.kmz&usg=AOvVaw1pBCUP_tNYayZzQWGJbLhT)~~\n",
    "* ~~[mas](http://garza.uis.edu.co/ArcGIS/rest/services/SIGAC/Mapa_Tematico_Territorial/MapServer/generatekml)~~\n",
    "* ~~[mas](https://www.google.com/url?sa=t&rct=j&q=&esrc=s&source=web&cd=24&cad=rja&uact=8&ved=0ahUKEwie6vHOwIXZAhVDj1QKHY9WDeI4FBAWCDYwAw&url=http%3A%2F%2Fwww.colombia-startup.com.co%2Fwp-content%2Fplugins%2Fleaflet-maps-marker%2Fleaflet-kml.php%3Fmarker%3D1%26name%3Dshow&usg=AOvVaw1kI-Na3i-WpRJJyKRaWHtn)~~\n",
    "* ~~[mas](https://instruct.uwo.ca/earth-sci/fieldlog/aaGE/South_America/Colombia/)~~\n",
    "* ~~[mas](https://www.google.com/url?sa=t&rct=j&q=&esrc=s&source=web&cd=30&cad=rja&uact=8&ved=0ahUKEwie6vHOwIXZAhVDj1QKHY9WDeI4FBAWCFkwCQ&url=http%3A%2F%2Fgeoapps.ideam.gov.co%3A8080%2Fgeoserver%2Festado_ecosistemas%2Fwms%3Frequest%3Dgetcapabilities%26service%3Dwms%26version%3D1.1.0&usg=AOvVaw0qMBppP91WaGP_6l0E7FKu)~~\n",
    "* ~~[mas](https://www.google.com/url?sa=t&rct=j&q=&esrc=s&source=web&cd=42&cad=rja&uact=8&ved=0ahUKEwjTw6OXwoXZAhUC7VMKHbI6BCI4KBAWCCwwAQ&url=http%3A%2F%2Fwww.colombia-startup.com.co%2Fwp-content%2Fplugins%2Fleaflet-maps-marker%2Fleaflet-kml.php%3Fmarker%3D1%26name%3Dshow&usg=AOvVaw1kI-Na3i-WpRJJyKRaWHtn)~~\n",
    "* ~~[mas](http://cartografia.bogotaendocumentos.com/coleccion)~~\n",
    "* ~~[mas](https://suma.dadep.gov.co/document-library?p_p_id=20&p_p_lifecycle=0&p_p_state=normal&p_p_mode=view&p_p_col_id=column-1&p_p_col_count=1&_20_struts_action=%2Fdocument_library%2Fview&_20_folderId=27621)~~\n",
    "* ~~[mas](https://www.datos.gov.co/Mapas-Nacionales/Categorizaci-n-Municipales-Cundinamarca-Vigenc-a-2/bi58-kqgf/data)~~\n",
    "* ~~[mas](https://www.google.com/url?sa=t&rct=j&q=&esrc=s&source=web&cd=19&cad=rja&uact=8&ved=0ahUKEwi3wK_cyIXZAhXNwFMKHbgjAmA4ChAWCFAwCA&url=http%3A%2F%2Fwww.memoriachilena.cl%2F602%2Fkml-propertyvalue-159564.kml&usg=AOvVaw0HBOZEPYzb_oNjATMtHy5t)~~\n",
    "* ~~[mas](https://www.google.com/url?sa=t&rct=j&q=&esrc=s&source=web&cd=26&cad=rja&uact=8&ved=0ahUKEwjsxOfjyYXZAhVCq1MKHbeNDeY4FBAWCEUwBQ&url=https%3A%2F%2Fwww.datos.gov.co%2Fapi%2Fviews%2F44yt-2ns8%2Ffiles%2F76f27909-4f92-4423-a560-ecee79e101dc%3Fdownload%3Dtrue%26filename%3DCatalogo_dataciones_radiometricas.pdf&usg=AOvVaw322XvSxyu9Mi3PmMUxOMul)~~\n",
    "* ~~[mas](https://www.medellin.gov.co/geomedellin/)~~\n",
    "* ~~[mas](https://geomedellin-m-medellin.opendata.arcgis.com/)~~\n",
    "* ~~[mas](https://www.google.com/url?sa=t&rct=j&q=&esrc=s&source=web&cd=25&cad=rja&uact=8&ved=0ahUKEwis-67nyIXZAhUGn1MKHV9VAGs4FBAWCD0wBA&url=http%3A%2F%2Fpuntoazul.com.co%2Fico_map%2Fpa.kml&usg=AOvVaw3Z224zmNdZcBhCDB__lS6z)~~\n",
    "* ~~[mas](https://www.google.com/url?sa=t&rct=j&q=&esrc=s&source=web&cd=30&cad=rja&uact=8&ved=0ahUKEwis-67nyIXZAhUGn1MKHV9VAGs4FBAWCFswCQ&url=https%3A%2F%2Fgeonode.umaic.org%2Fgeoserver%2Fwms%2Fkml%3Flayers%3Dgeonode%253Acol_admbnda_adm1_igac_ochal%26mode%3Drefresh&usg=AOvVaw0yWZaYLi_grFh5O35Aagcg)~~\n",
    "* ~~[mas](https://www.google.com/url?sa=t&rct=j&q=&esrc=s&source=web&cd=31&cad=rja&uact=8&ved=0ahUKEwj0vPbwyIXZAhUDulMKHaOuBkQ4HhAWCCUwAA&url=https%3A%2F%2Fgeonode.umaic.org%2Fgeoserver%2Fwms%2Fkml%3Flayers%3Dgeonode%253Acol_admbnda_adm1_igac_ochal%26mode%3Drefresh&usg=AOvVaw0yWZaYLi_grFh5O35Aagcg)~~\n",
    "* ~~[mas](https://www2.sgc.gov.co/ProgramasDeInvestigacion/Geociencias/Paginas/MapaGeologico.aspx)~~\n",
    "* ~~[mas](https://www.google.com/url?sa=t&rct=j&q=&esrc=s&source=web&cd=38&cad=rja&uact=8&ved=0ahUKEwj0vPbwyIXZAhUDulMKHaOuBkQ4HhAWCE0wBw&url=http%3A%2F%2Fodontoss.com%2Fwp-content%2Fplugins%2Fleaflet-maps-marker%2Fleaflet-kml.php%3Flayer%3D2%26name%3Dshow&usg=AOvVaw3rF2x4aSjgtgbCtB4GPGXA)~~\n",
    "* ~~[mas](https://www.google.com/url?sa=t&rct=j&q=&esrc=s&source=web&cd=45&cad=rja&uact=8&ved=0ahUKEwj-3Jv6yIXZAhUD7FMKHZWXDcE4KBAWCEAwBA&url=http%3A%2F%2Frecursos.bibliotecanacional.gov.co%2Frecursos_user%2Ffmapoteca%2Fmapa%2520portfolio.kml&usg=AOvVaw2_25cMbwOQjjgJ8h6xj50N)~~\n",
    "* ~~[mas](https://www.google.com/url?sa=t&rct=j&q=&esrc=s&source=web&cd=47&cad=rja&uact=8&ved=0ahUKEwj-3Jv6yIXZAhUD7FMKHZWXDcE4KBAWCEwwBg&url=http%3A%2F%2Fgeoapps.ideam.gov.co%3A8080%2Fgeoserver%2Festado_ecosistemas%2Fwms%3Frequest%3Dgetcapabilities%26service%3Dwms%26version%3D1.1.0&usg=AOvVaw0qMBppP91WaGP_6l0E7FKu)~~\n",
    "* ~~[mas](https://www.google.com/url?sa=t&rct=j&q=&esrc=s&source=web&cd=50&cad=rja&uact=8&ved=0ahUKEwj-3Jv6yIXZAhUD7FMKHZWXDcE4KBAWCFowCQ&url=http%3A%2F%2Fgisweb.ciat.cgiar.org%2Fwebsite%2FASOHOFRUCOL%2Ffacilitadores-new.kml&usg=AOvVaw3ZnolnDgwTYyDo6D79YGi1)~~\n",
    "* ~~[Global Map](https://globalmaps.github.io/)~~\n",
    "* ~~[GEONASA](https://neo.sci.gsfc.nasa.gov/view.php?datasetId=MCD43C3_M_BSA)~~\n",
    "* ~~[strm](http://srtm.csi.cgiar.org/)~~\n",
    "\n",
    "## Imagenes nocturnas\n",
    "* [nigt](http://www.nightearth.com/)"
   ]
  },
  {
   "cell_type": "markdown",
   "metadata": {},
   "source": [
    "## Ciudades\n",
    "* Bogota\n",
    "* Medellin\n",
    "* Bucaramanga\n",
    "* Cali\n",
    "* Aguazul\n",
    "* Sogmaoso\n",
    "* Cartagena"
   ]
  },
  {
   "cell_type": "markdown",
   "metadata": {
    "collapsed": true
   },
   "source": [
    "## Imagenes Satelitales:\n",
    "Una de las tareas que debi hacer antes de todo lo que echo es buscar los distintos lugares de donde puedo obtener imagenes satelitales y clasificarlos, no se, por alguna razon me confie en google maps y de ahi no sali, por ahora una pequeña lista de lugares de donde podria sacar imagenes satelitales.\n",
    "* ~~[Landviewer](https://eos.com/landviewer/?s=Sentinel2&lat=7.00890&lng=-72.90459&z=11&id=S2B_tile_20180124_18NYN_0&b=SWIR2,SWIR1,Red)~~\n",
    "* ~~[Libra](https://libra.developmentseed.org/)~~ No hay imagenes de Santander\n",
    "* ~~[Earth Explorer](https://earthexplorer.usgs.gov/)~~\n",
    "* ~~[glc](http://glcfapp.glcf.umd.edu:8080/esdi/index.jsp)~~\n",
    "* [Google Earth](https://www.google.com/earth/)\n",
    "* ~~[[DigitalGlobal](http://www.digitalglobe.com/)~~\n",
    "* ~~[Terra](https://www.terraserver.com/)~~\n",
    "* ~~[ZoomEarth](https://zoom.earth/#40.629271,-8.651628,14z,sat)~~\n",
    "* ~~[LandInfo](http://search.landinfo.com/)~~\n",
    "* ~~[AstroDigital](https://fetch.astrodigital.com/#/map/1)~~\n",
    "* ~~[Mapbox](https://www.mapbox.com/)~~\n",
    "* [SASPLANET](https://www.youtube.com/watch?v=g05X5M8ucTI)(https://mappinggis.com/2014/09/como-descargar-imagenes-de-google-bing-etc/)\n",
    "* \n",
    "* ~~[ngin](http://www.ign.es/iberpix2/visor/)~~ Unicamente para españa\n",
    "* [here](https://developer.here.com/documentation/maps/topics/quick-start.html)\n",
    "* [marble](https://marble.kde.org/)\n",
    "* [skycardfsf](http://amsantac.co/blog/es/2016/12/11/skywatch-r-es.html)\n",
    "* [digitalglobe](https://platform.digitalglobe.com/maps-api/)\n",
    "* ~~[pytohn](https://es.schoolofdata.org/tag/mapas/)~~\n",
    "* Libreria ArcPy\n",
    "* Libreria Mapnik\n",
    "* Libreria PyQGIS\n",
    "* [Librerias](http://geotalleres.readthedocs.io/es/latest/geopython/librerias.html)\n",
    "* [Mas liberias](https://es.schoolofdata.org/2017/11/02/geodatos-con-python/)\n",
    "* [librerias](http://www.pybonacci.org/)\n",
    "* [otra](http://www.gdal.org/)\n",
    "* [otra](http://gidahatari.com/ih-es/conoce-lo-nuevo-de-grass-gis-7)\n",
    "* [leaft](http://leafletjs.com/)\n",
    "* [polympas](http://polymaps.org/)\n",
    "* [openlayer](http://openlayers.org/)\n",
    "* [jmaper](https://www.vincentbroute.fr/mapael/)\n",
    "* [esri](https://www.cursosgis.com/como-desarrollar-tu-primer-mapa-con-la-api-javascript-de-esri/)\n",
    "* [esri](https://developers.arcgis.com/get-started/)\n",
    "* [qgis](https://www.qgis.org/es/site/)\n",
    "* [google earth](https://developers.google.com/earth-engine/)\n",
    "* [google earth plot](https://github.com/AtsushiSakai/googleearthplot)\n",
    "* [python](http://www.openwfm.org/wiki/Visualization_in_Google_Earth)\n",
    "* [mapbix](http://mapnik.org/)(https://stackoverflow.com/questions/3568458/programmatically-converting-kml-to-image)\n",
    "* [matploblib](https://ocefpaf.github.io/python4oceanographers/blog/2014/03/10/gearth/)\n",
    "* [fastkml](https://pypi.python.org/pypi/fastkml/0.8)\n",
    "* probar matploblib\n",
    "* [map nigth](https://blue-marble.de/nightlights/2012)\n",
    "* [map nigth](https://www.lightpollutionmap.info/#zoom=8&lat=495942&lon=-8226740&layers=B0TFFFFFFT)\n",
    "* geopandas\n",
    "* [florium](https://ocefpaf.github.io/python4oceanographers/blog/2014/05/05/folium/)"
   ]
  },
  {
   "cell_type": "markdown",
   "metadata": {
    "collapsed": true
   },
   "source": [
    "##### Landviewer: \n",
    "* Se debe iniciar sesion para poner los kml\n",
    "* Tiene limite kml de 1MB, y no sube ni el de las zonas de bogota.\n",
    "\n",
    "##### Earth Explorer:\n",
    "* Al parecer no se le pueden subir kmls\n",
    "\n",
    "##### glc:\n",
    "* Pues no encontre forma de descargar imagenes y subir kmls\n",
    "\n",
    "##### Digital Globe\n",
    "* No pude poner kmls probe uno que en mymaps si sirvio y aqui nada, aparte de eso probe otro monton y nada tenia pinta de ser bueno pero jum si no puedo poner KML la misma\n",
    "##### Terra\n",
    "* Neceisto pagar para poder subir kmls\n",
    "##### Zoom Earth:\n",
    "* Solo es eso un zoom earth no deja descargar ni menos poner kmls\n",
    "\n",
    "##### LandInfo\n",
    "* Pues como que no encontre como funcionaba ni nada.\n",
    "\n",
    "#####  Mapbox\n",
    "* muy complicado esa miercoles, es hacer mapas pero eso esta re raro es para hacer mapas interactivos en web, android o varias plataformas, eso si es muy completo.\n",
    "\n",
    "##### AstroDigital\n",
    "* se miraba interesatnte, osea como que iba a hace rlo que necesitaba, pero nunca me llego el correo con los datos, y no me avisaron que fue, si algun error ni nada.\n",
    "\n",
    "##### SASplanet\n",
    "* estuve viendo un video y como que esa es la aplicacion que me sirve, esta unicamente para windows, aunque encontre un script para instalarla en linux con playonlinux, la voy a probar a ver que tal, pues abrio, se quedo pensando\n",
    "\n",
    "\n",
    "\n",
    "\n"
   ]
  },
  {
   "cell_type": "markdown",
   "metadata": {},
   "source": [
    "##### Basemap\n",
    "* trata de mapas pero no es lo que necesito.\n",
    "\n",
    "###### Marble:\n",
    "* Pues segun eso es un google earth libre y para linux, lo estoy proband pero anda descargando datos de los mapas, asi que ni idea si sirva o no puede que si, esperar a ver."
   ]
  },
  {
   "cell_type": "markdown",
   "metadata": {},
   "source": [
    "# folium\n",
    "* Prodia servirme tiene como buena pinta y se le pueden meter KMLS, lo qu si me toca con raul es que va a tocar manejar zooms se quiera o no.\n",
    "* [tuto](https://ocefpaf.github.io/python4oceanographers/blog/2014/05/05/folium/)\n",
    "* [tuto](https://folium.readthedocs.io/en/latest/quickstart.html#getting-started)\n",
    "* [tuto](https://github.com/python-visualization/folium/issues/35#issuecomment-164784086)"
   ]
  },
  {
   "cell_type": "code",
   "execution_count": null,
   "metadata": {
    "collapsed": true
   },
   "outputs": [],
   "source": []
  }
 ],
 "metadata": {
  "kernelspec": {
   "display_name": "Python 3",
   "language": "python",
   "name": "python3"
  },
  "language_info": {
   "codemirror_mode": {
    "name": "ipython",
    "version": 3
   },
   "file_extension": ".py",
   "mimetype": "text/x-python",
   "name": "python",
   "nbconvert_exporter": "python",
   "pygments_lexer": "ipython3",
   "version": "3.6.3"
  }
 },
 "nbformat": 4,
 "nbformat_minor": 2
}
