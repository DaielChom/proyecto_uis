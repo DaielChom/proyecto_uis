{
 "cells": [
  {
   "cell_type": "markdown",
   "metadata": {},
   "source": [
    "<center> <h1 style=\"color:#BF360C\">RESULTADOS</h1></center>"
   ]
  },
  {
   "cell_type": "code",
   "execution_count": 1,
   "metadata": {},
   "outputs": [],
   "source": [
    "import os\n",
    "from skimage import io\n",
    "import matplotlib as plt\n",
    "import numpy as np\n",
    "import pandas as pd\n",
    "import base64\n",
    "from IPython.display import display, Javascript\n",
    "from IPython.display import display, HTML\n",
    "from IPython.utils.py3compat import str_to_bytes, bytes_to_str"
   ]
  },
  {
   "cell_type": "markdown",
   "metadata": {},
   "source": [
    "Se realizaron un total de 66 pruebas, 22 por cada nivel de ZOOM y 11 por cada configuracion de ZOOM.<br/>\n",
    "**Ejemplo:** Para el ZOOM 13 COMPOUND se realizaron 11 pruebas, cada una variando parametros como el modelo, batch_size o epoch.\n",
    "\n",
    "* Nieveles y Configuraciones de OVERLAECOBO:\n",
    "    * 13_SIMPLE\n",
    "    * 13_COMPOUND\n",
    "    * 14_SIMPLE\n",
    "    * 14_COMPOUND\n",
    "    * 15_SIMPLE\n",
    "    * 15_COMPOUND"
   ]
  },
  {
   "cell_type": "code",
   "execution_count": 2,
   "metadata": {},
   "outputs": [
    {
     "data": {
      "text/html": [
       "<div>\n",
       "<style scoped>\n",
       "    .dataframe tbody tr th:only-of-type {\n",
       "        vertical-align: middle;\n",
       "    }\n",
       "\n",
       "    .dataframe tbody tr th {\n",
       "        vertical-align: top;\n",
       "    }\n",
       "\n",
       "    .dataframe thead th {\n",
       "        text-align: right;\n",
       "    }\n",
       "</style>\n",
       "<table border=\"1\" class=\"dataframe\">\n",
       "  <thead>\n",
       "    <tr style=\"text-align: right;\">\n",
       "      <th></th>\n",
       "      <th>PRUEBA</th>\n",
       "      <th>RED</th>\n",
       "      <th>EPOCH</th>\n",
       "      <th>BATCH_SIZE</th>\n",
       "    </tr>\n",
       "  </thead>\n",
       "  <tbody>\n",
       "    <tr>\n",
       "      <th>0</th>\n",
       "      <td>1</td>\n",
       "      <td>FC-DenseNet56</td>\n",
       "      <td>50</td>\n",
       "      <td>1</td>\n",
       "    </tr>\n",
       "    <tr>\n",
       "      <th>1</th>\n",
       "      <td>2</td>\n",
       "      <td>FC-DenseNet56</td>\n",
       "      <td>70</td>\n",
       "      <td>1</td>\n",
       "    </tr>\n",
       "    <tr>\n",
       "      <th>2</th>\n",
       "      <td>3</td>\n",
       "      <td>Encoder-Decoder</td>\n",
       "      <td>70</td>\n",
       "      <td>1</td>\n",
       "    </tr>\n",
       "    <tr>\n",
       "      <th>3</th>\n",
       "      <td>4</td>\n",
       "      <td>Encoder-Decoder</td>\n",
       "      <td>70</td>\n",
       "      <td>2</td>\n",
       "    </tr>\n",
       "    <tr>\n",
       "      <th>4</th>\n",
       "      <td>5</td>\n",
       "      <td>Encoder-Decoder-Skip</td>\n",
       "      <td>70</td>\n",
       "      <td>1</td>\n",
       "    </tr>\n",
       "    <tr>\n",
       "      <th>5</th>\n",
       "      <td>6</td>\n",
       "      <td>Encoder-Decoder-Skip</td>\n",
       "      <td>70</td>\n",
       "      <td>2</td>\n",
       "    </tr>\n",
       "    <tr>\n",
       "      <th>6</th>\n",
       "      <td>7</td>\n",
       "      <td>FRRN-A</td>\n",
       "      <td>70</td>\n",
       "      <td>1</td>\n",
       "    </tr>\n",
       "    <tr>\n",
       "      <th>7</th>\n",
       "      <td>8</td>\n",
       "      <td>MobileUNet</td>\n",
       "      <td>70</td>\n",
       "      <td>1</td>\n",
       "    </tr>\n",
       "    <tr>\n",
       "      <th>8</th>\n",
       "      <td>9</td>\n",
       "      <td>MobileUNet</td>\n",
       "      <td>70</td>\n",
       "      <td>2</td>\n",
       "    </tr>\n",
       "    <tr>\n",
       "      <th>9</th>\n",
       "      <td>10</td>\n",
       "      <td>MobileUNet-Skip</td>\n",
       "      <td>70</td>\n",
       "      <td>1</td>\n",
       "    </tr>\n",
       "    <tr>\n",
       "      <th>10</th>\n",
       "      <td>11</td>\n",
       "      <td>MobileUNet-Skip</td>\n",
       "      <td>70</td>\n",
       "      <td>2</td>\n",
       "    </tr>\n",
       "  </tbody>\n",
       "</table>\n",
       "</div>"
      ],
      "text/plain": [
       "    PRUEBA                   RED   EPOCH   BATCH_SIZE\n",
       "0        1         FC-DenseNet56      50            1\n",
       "1        2         FC-DenseNet56      70            1\n",
       "2        3       Encoder-Decoder      70            1\n",
       "3        4       Encoder-Decoder      70            2\n",
       "4        5  Encoder-Decoder-Skip      70            1\n",
       "5        6  Encoder-Decoder-Skip      70            2\n",
       "6        7                FRRN-A      70            1\n",
       "7        8            MobileUNet      70            1\n",
       "8        9            MobileUNet      70            2\n",
       "9       10       MobileUNet-Skip      70            1\n",
       "10      11       MobileUNet-Skip      70            2"
      ]
     },
     "execution_count": 2,
     "metadata": {},
     "output_type": "execute_result"
    }
   ],
   "source": [
    "PATH_PRUEBAS = \"./Resultados\"\n",
    "pruebas = pd.read_csv(PATH_PRUEBAS+\"/pruebas.csv\")\n",
    "pruebas"
   ]
  },
  {
   "cell_type": "markdown",
   "metadata": {},
   "source": [
    "<h2 style=\"color:#BF360C\">SIGNIFICADO DE LAS METRICAS</h2>"
   ]
  },
  {
   "cell_type": "markdown",
   "metadata": {},
   "source": [
    "* GT = Ground Truht\n",
    "* pred = predction\n",
    "* El framework en sus entrañas convierte las imagenes label RGB a imagenes de 1D usando el archivo class_dict.csv\n",
    "<br/>\n",
    "<br/>\n",
    "\n",
    "<h3 style=\"color:#BF360C\">TEST ACCURACY, AVG_ACCURACY</h3>\n",
    "\n",
    "Realiza flatten a las imagenes (1D) pred y label, cuenta los pixeles iguales entre ambas y las divide en el numero total de pixeles. Esta metrica es poco confiable dado que la clase `No Definido` la memoriza exageradamente bien y las imagenes con muchos pixeles de esta clase los identifica muy bien, lo que le da un buen accyracy, pero la parte definida que es la que importa tiene un error muy grande. Por Ejemplo en el **ZOOM 15 COMPOUND PRUEBA 10** encontramos.\n",
    "\n",
    "<div style=\"width:100%; text-align: center; \">\n",
    "    <div style=\"width:40%; display: inline-block\" >\n",
    "        TARGET\n",
    "        <img src=\"./Resultados/15_COMPOUND/prueba_10/Val/13_gt.png\"/>\n",
    "    </div>\n",
    "    <div style=\"width:40%; display: inline-block\"  style=\"width:40%; display: inline-block\" >\n",
    "        PREDICT\n",
    "        <img src=\"./Resultados/15_COMPOUND/prueba_10/Val/13_pred.png\"/>\n",
    "    </div>\n",
    "    <p> <center><b>\n",
    "    avg_accuracy:</b> 0.830719\n",
    "     </center>\n",
    "    </p>\n",
    "</div>\n",
    "\n",
    "<div style=\"width:100%; text-align: center; \">\n",
    "    <div style=\"width:40%; display: inline-block\" >\n",
    "        TARGET\n",
    "        <img src=\"./Resultados/15_COMPOUND/prueba_10/Val/1_gt.png\"/>\n",
    "    </div>\n",
    "    <div style=\"width:40%; display: inline-block\"  style=\"width:40%; display: inline-block\" >\n",
    "        PREDICT\n",
    "        <img src=\"./Resultados/15_COMPOUND/prueba_10/Val/1_pred.png\"/>\n",
    "    </div>\n",
    "    <p> <center><b>\n",
    "    avg_accuracy:</b> 0.296356\n",
    "     </center>\n",
    "    </p>\n",
    "</div>\n",
    "Para lo unico que indica esta metrica es la capacidad de las redes de identificar entre zona `Definida` y `No Definida`\n",
    "\n",
    "**TEST ACCURACY ZOOM 15 COMPOUND PRUEBA 10:** 0.7025456746419271"
   ]
  },
  {
   "cell_type": "markdown",
   "metadata": {},
   "source": [
    "<h3 style=\"color:#BF360C\">AVERAGE PER CLASS</h3>\n",
    "\n",
    "Realiza flatten de las imagen gt y pred de 1D y en un vector del tamaño de la cantidad de clases va llevando el conteo de las clases iguales en cada pixel de pred y gt. Esta metrica podria ser de utilidad ya que muestra que tan iguales son las clases de cada pixel. A tener en cuenta que cuando encuentra un pixel que no esta entre las clases pone un valor de 1.Por Ejemplo en el **ZOOM 15 COMPOUND PRUEBA 10** encontramos.\n",
    "<div style=\"width:100%; text-align: center; \">\n",
    "    <div style=\"width:40%; display: inline-block\" >\n",
    "        TARGET\n",
    "        <img src=\"./Resultados/15_COMPOUND/prueba_10/Val/28_gt.png\"/>\n",
    "    </div>\n",
    "    <div style=\"width:40%; display: inline-block\"  style=\"width:40%; display: inline-block\" >\n",
    "        PREDICT\n",
    "        <img src=\"./Resultados/15_COMPOUND/prueba_10/Val/28_pred.png\"/>\n",
    "    </div>\n",
    "    <p> <center>\n",
    "    <b> Estrato 1:</b> 0.001527 <br/>\n",
    "    <b> Estrato 2:</b> 0.063591 <br/>\n",
    "    <b> Estrato 3:</b> 0.758048 <br/>\n",
    "    <b> Estrato 4:</b> 0.172945 <br/>\n",
    "    <b> Estrato 5:</b> 0.033175 <br/>\n",
    "    <b> Estrato 6:</b> 1.000000 <br/>\n",
    "    <b> No Definido:</b> 0.995293 <br/>\n",
    "     </center>\n",
    "    </p>\n",
    "</div>\n",
    "\n",
    "**AVERAGE PER CLASS ZOOM 15 COMPOUND PRUEBA 10:**<br/>\n",
    "**Estrato_1** = 0.511536<br/>\n",
    "**Estrato_2** = 0.375952<br/>\n",
    "**Estrato_3** = 0.724010<br/>\n",
    "**Estrato_4** = 0.476454<br/>\n",
    "**Estrato_5** = 0.211465<br/>\n",
    "**Estrato_6** = 0.814390<br/>\n",
    "**No_Definido** = 0.996134"
   ]
  },
  {
   "cell_type": "code",
   "execution_count": 92,
   "metadata": {},
   "outputs": [
    {
     "data": {
      "text/plain": [
       "0.33821433333333334"
      ]
     },
     "execution_count": 92,
     "metadata": {},
     "output_type": "execute_result"
    }
   ],
   "source": [
    "sum([0.001527, 0.063591, 0.758048, 0.172945, 0.033175, 1.000000])/6"
   ]
  },
  {
   "cell_type": "code",
   "execution_count": 95,
   "metadata": {},
   "outputs": [
    {
     "data": {
      "text/plain": [
       "0.5871344285714286"
      ]
     },
     "execution_count": 95,
     "metadata": {},
     "output_type": "execute_result"
    }
   ],
   "source": [
    "sum([0.511536,0.375952,0.724010,0.476454,0.211465,0.814390])/6"
   ]
  },
  {
   "cell_type": "markdown",
   "metadata": {},
   "source": [
    "<h3 style=\"color:#BF360C\"> AVERAGE PRECISION </h3>\n",
    "\n",
    "Usa la metrica [precision_score](http://scikit-learn.org/stable/modules/generated/sklearn.metrics.precision_score.html) de Scikit-learn, traduciendo en Google \"La precisión es intuitivamente la capacidad del clasificador de no etiquetar como positivo a la muestra que es negativa\". Por Ejemplo en el **ZOOM 15 COMPOUND PRUEBA 10** encontramos.\n",
    "\n",
    "<div style=\"width:100%; text-align: center; \">\n",
    "    <div style=\"width:40%; display: inline-block\" >\n",
    "        TARGET\n",
    "        <img src=\"./Resultados/15_COMPOUND/prueba_10/Val/35_gt.png\"/>\n",
    "    </div>\n",
    "    <div style=\"width:40%; display: inline-block\"  style=\"width:40%; display: inline-block\" >\n",
    "        PREDICT\n",
    "        <img src=\"./Resultados/15_COMPOUND/prueba_10/Val/35_pred.png\"/>\n",
    "    </div>\n",
    "    <p> <center><b>\n",
    "    precision:</b>  0.985314\n",
    "    </center>\n",
    "    </p>\n",
    "</div>\n",
    "\n",
    "<div style=\"width:100%; text-align: center; \">\n",
    "    <div style=\"width:40%; display: inline-block\" >\n",
    "        TARGET\n",
    "        <img src=\"./Resultados/15_COMPOUND/prueba_10/Val/49_gt.png\"/>\n",
    "    </div>\n",
    "    <div style=\"width:40%; display: inline-block\"  style=\"width:40%; display: inline-block\" >\n",
    "        PREDICT\n",
    "        <img src=\"./Resultados/15_COMPOUND/prueba_10/Val/49_pred.png\"/>\n",
    "    </div>\n",
    "    <p> <center><b>\n",
    "    precision: </b>  0.214483\n",
    "    </center>\n",
    "    </p>\n",
    "</div>\n",
    "\n",
    "**AVERAGE PRECISION ZOOM 15 COMPOUND PRUEBA 10:** 0.7367920075919394"
   ]
  },
  {
   "cell_type": "markdown",
   "metadata": {},
   "source": [
    "<h3 style=\"color:#BF360C\"> AVERAGE RECALL </h3>\n",
    "\n",
    "Usa metrica de [recall_score](http://scikit-learn.org/stable/modules/generated/sklearn.metrics.recall_score.html) de Scikit-learn. Traduciendo con Google \"es intuitivamente la habilidad del clasificador para encontrar todas las muestras positivas.\"  Por Ejemplo en el **ZOOM 15 COMPOUND PRUEBA 10** encontramos.\n",
    "\n",
    "<div style=\"width:100%; text-align: center; \">\n",
    "    <div style=\"width:40%; display: inline-block\" >\n",
    "        TARGET\n",
    "        <img src=\"./Resultados/15_COMPOUND/prueba_10/Val/54_gt.png\"/>\n",
    "    </div>\n",
    "    <div style=\"width:40%; display: inline-block\"  style=\"width:40%; display: inline-block\" >\n",
    "        PREDICT\n",
    "        <img src=\"./Resultados/15_COMPOUND/prueba_10/Val/54_pred.png\"/>\n",
    "    </div>\n",
    "    <p> <center><b>\n",
    "    recall: </b>  0.973984\n",
    "    </center>\n",
    "    </p>\n",
    "</div>\n",
    "\n",
    "<div style=\"width:100%; text-align: center; \">\n",
    "    <div style=\"width:40%; display: inline-block\" >\n",
    "        TARGET\n",
    "        <img src=\"./Resultados/15_COMPOUND/prueba_10/Val/7_gt.png\"/>\n",
    "    </div>\n",
    "    <div style=\"width:40%; display: inline-block\"  style=\"width:40%; display: inline-block\" >\n",
    "        PREDICT\n",
    "        <img src=\"./Resultados/15_COMPOUND/prueba_10/Val/7_pred.png\"/>\n",
    "    </div>\n",
    "    <p> <center><b>\n",
    "    recall: </b>  0.227753\n",
    "    </center>\n",
    "    </p>\n",
    "</div>\n",
    "\n",
    "<div style=\"width:100%; text-align: center; \">\n",
    "    <div style=\"width:40%; display: inline-block\" >\n",
    "        TARGET\n",
    "        <img src=\"./Resultados/15_COMPOUND/prueba_10/Val/58_gt.png\"/>\n",
    "    </div>\n",
    "    <div style=\"width:40%; display: inline-block\"  style=\"width:40%; display: inline-block\" >\n",
    "        PREDICT\n",
    "        <img src=\"./Resultados/15_COMPOUND/prueba_10/Val/58_pred.png\"/>\n",
    "    </div>\n",
    "    <p> <center><b>\n",
    "    recall: </b>  0.527191\n",
    "    </center>\n",
    "    </p>\n",
    "</div>\n",
    "\n",
    "**AVERAGE RECALL ZOOM 15 COMPOUND PRUEBA 10:**  0.7025456746419271 "
   ]
  },
  {
   "cell_type": "markdown",
   "metadata": {},
   "source": [
    "<h3 style=\"color:#BF360C\"> AVERAGE F1 </h3>\n",
    "\n",
    "Usa la metrica [f1_score](http://scikit-learn.org/stable/modules/generated/sklearn.metrics.f1_score.html). traduciendo a lo Google \"El puntaje F1 se puede interpretar como un promedio ponderado de la precisión y el recuerdo (recall)\". por consiguiente pienso yo que si las dos anteriores no eran una metrica confiable, esta tampoco.\n",
    "\n",
    "**AVERAGE F1 ZOOM 15 COMOUND PRUEBA 10:** 0.6923589626170131"
   ]
  },
  {
   "cell_type": "markdown",
   "metadata": {},
   "source": [
    "<h3 style=\"color:#BF360C\"> AVERAGE MEAN IoU </h3> \n",
    "\n",
    "Metrica recomendada por Raul, aunque en este framework hace el calculo a mano y no con algun framework. en [enlace](https://www.pyimagesearch.com/2016/11/07/intersection-over-union-iou-for-object-detection/) de su explicacion. una metrica muy sincera para mi proyecto dado que compara es que tan iguales con las imagenes de target y predict. pensaba que era bajita dado que la imagen target y la predict eran de distintos tamaños pero aca usa la imagen gt para compararla con la predict, las cuales son imagenes del mismo tamaño. sin embargo más adelante usaré la iou de sklearn para comprobar los resultados.\n",
    "\n",
    "<div style=\"width:100%; text-align: center; \">\n",
    "    <div style=\"width:40%; display: inline-block\" >\n",
    "        TARGET\n",
    "        <img src=\"./Resultados/15_COMPOUND/prueba_10/Val/31_gt.png\"/>\n",
    "    </div>\n",
    "    <div style=\"width:40%; display: inline-block\"  style=\"width:40%; display: inline-block\" >\n",
    "        PREDICT\n",
    "        <img src=\"./Resultados/15_COMPOUND/prueba_10/Val/31_pred.png\"/>\n",
    "    </div>\n",
    "    <p> <center><b>\n",
    "    IoU: </b>  0.901335\n",
    "    </center>\n",
    "    </p>\n",
    "</div>\n",
    "\n",
    "<div style=\"width:100%; text-align: center; \">\n",
    "    <div style=\"width:40%; display: inline-block\" >\n",
    "        TARGET\n",
    "        <img src=\"./Resultados/15_COMPOUND/prueba_10/Val/3_gt.png\"/>\n",
    "    </div>\n",
    "    <div style=\"width:40%; display: inline-block\"  style=\"width:40%; display: inline-block\" >\n",
    "        PREDICT\n",
    "        <img src=\"./Resultados/15_COMPOUND/prueba_10/Val/3_pred.png\"/>\n",
    "    </div>\n",
    "    <p> <center><b>\n",
    "    IoU: </b>  0.599556\n",
    "    </center>\n",
    "    </p>\n",
    "</div>\n",
    "\n",
    "<div style=\"width:100%; text-align: center; \">\n",
    "    <div style=\"width:40%; display: inline-block\" >\n",
    "        TARGET\n",
    "        <img src=\"./Resultados/15_COMPOUND/prueba_10/Val/43_gt.png\"/>\n",
    "    </div>\n",
    "    <div style=\"width:40%; display: inline-block\"  style=\"width:40%; display: inline-block\" >\n",
    "        PREDICT\n",
    "        <img src=\"./Resultados/15_COMPOUND/prueba_10/Val/43_pred.png\"/>\n",
    "    </div>\n",
    "    <p> <center><b>\n",
    "    IoU: </b>  0.278421\n",
    "    </center>\n",
    "    </p>\n",
    "</div>\n",
    "\n",
    "\n",
    "**IoU ZOOM 15 COMPOUND PRUEBA 10:** 0.32969925940327677"
   ]
  },
  {
   "cell_type": "markdown",
   "metadata": {},
   "source": [
    "<h3 style=\"color:#BF360C\"> AVERAGE RUN TIME </h3>\n",
    "\n",
    "Contedo del tiempo que dura la ejecucion de Test o train, calcula el tiempo al iniciar y al finalizar y los resta (time.time()), tiempo de duracion dado en segundos."
   ]
  },
  {
   "cell_type": "markdown",
   "metadata": {},
   "source": [
    "<h2 style=\"color:#BF360C\">ARCHIVOS FRAMEWORK</h2>"
   ]
  },
  {
   "cell_type": "code",
   "execution_count": 9,
   "metadata": {},
   "outputs": [],
   "source": [
    "ZOOM = \"13_COMPOUND\"\n",
    "PRUEBA = 8"
   ]
  },
  {
   "cell_type": "code",
   "execution_count": 83,
   "metadata": {
    "scrolled": false
   },
   "outputs": [
    {
     "data": {
      "text/html": [
       "<center><h1> 13_SIMPLE PRUEBA: 1 </h1></center>\n",
       "          <h3>1. TRAIN FILE</h3></br><a href='./Resultados/13_SIMPLE/prueba_1/train.txt'>Train file</a>\n",
       "          <h3>2. SCORE IMAGE</h3>\n",
       "          <img src='./Resultados/13_SIMPLE/prueba_1/accuracy_vs_epochs.png'/>\n",
       "          <h3>3. LOSS IMAGE</h3>\n",
       "          <img src='./Resultados/13_SIMPLE/prueba_1/loss_vs_epochs.png'/>\n",
       "          <h3>4. TEST FILE</h3>\n",
       "          </br><a href='./Resultados/13_SIMPLE/prueba_1/test.txt'>Test file</a>\n",
       "          <h3>5. TEST IMAGES</h3>\n",
       "          <div style=\"width:100%; text-align: center; \">\n",
       "           <div style=\"width:40%; display: inline-block\" >\n",
       "            PREDICT\n",
       "            <img src='./Resultados/13_SIMPLE/prueba_1/Val/0_pred.png'/>\n",
       "           </div>\n",
       "           <div style=\"width:40%; display: inline-block\"  style=\"width:40%; display: inline-block\" >\n",
       "             TARGET\n",
       "             <img src='./Resultados/13_SIMPLE/prueba_1/Val/0_gt.png'/>\n",
       "           </div>\n",
       "          \n",
       "          </div>\n",
       "          "
      ],
      "text/plain": [
       "<IPython.core.display.HTML object>"
      ]
     },
     "metadata": {},
     "output_type": "display_data"
    },
    {
     "data": {
      "text/html": [
       "<div>\n",
       "<style scoped>\n",
       "    .dataframe tbody tr th:only-of-type {\n",
       "        vertical-align: middle;\n",
       "    }\n",
       "\n",
       "    .dataframe tbody tr th {\n",
       "        vertical-align: top;\n",
       "    }\n",
       "\n",
       "    .dataframe thead th {\n",
       "        text-align: right;\n",
       "    }\n",
       "</style>\n",
       "<table border=\"1\" class=\"dataframe\">\n",
       "  <thead>\n",
       "    <tr style=\"text-align: right;\">\n",
       "      <th></th>\n",
       "      <th>val_name</th>\n",
       "      <th>avg_accuracy</th>\n",
       "      <th>precision</th>\n",
       "      <th>recall</th>\n",
       "      <th>f1 score</th>\n",
       "      <th>mean iou</th>\n",
       "      <th>Estrato_1</th>\n",
       "      <th>Estrato_2</th>\n",
       "      <th>Estrato_3</th>\n",
       "      <th>Estrato_4</th>\n",
       "      <th>Estrato_5</th>\n",
       "      <th>Estrato_6</th>\n",
       "      <th>No_Definido</th>\n",
       "    </tr>\n",
       "  </thead>\n",
       "  <tbody>\n",
       "    <tr>\n",
       "      <th>0</th>\n",
       "      <td>0</td>\n",
       "      <td>0.663483</td>\n",
       "      <td>0.731421</td>\n",
       "      <td>0.663483</td>\n",
       "      <td>0.691986</td>\n",
       "      <td>0.227031</td>\n",
       "      <td>0.000602</td>\n",
       "      <td>0.405304</td>\n",
       "      <td>0.67906</td>\n",
       "      <td>0.034918</td>\n",
       "      <td>0.000000</td>\n",
       "      <td>0.0</td>\n",
       "      <td>0.999836</td>\n",
       "    </tr>\n",
       "    <tr>\n",
       "      <th>1</th>\n",
       "      <td>1</td>\n",
       "      <td>0.695557</td>\n",
       "      <td>0.835069</td>\n",
       "      <td>0.695557</td>\n",
       "      <td>0.719955</td>\n",
       "      <td>0.246609</td>\n",
       "      <td>0.017348</td>\n",
       "      <td>0.355988</td>\n",
       "      <td>0.85586</td>\n",
       "      <td>0.000000</td>\n",
       "      <td>0.003721</td>\n",
       "      <td>1.0</td>\n",
       "      <td>0.998085</td>\n",
       "    </tr>\n",
       "  </tbody>\n",
       "</table>\n",
       "</div>"
      ],
      "text/plain": [
       "   val_name   avg_accuracy   precision    recall   f1 score   mean iou  \\\n",
       "0         0       0.663483    0.731421  0.663483   0.691986   0.227031   \n",
       "1         1       0.695557    0.835069  0.695557   0.719955   0.246609   \n",
       "\n",
       "    Estrato_1   Estrato_2   Estrato_3   Estrato_4   Estrato_5   Estrato_6  \\\n",
       "0    0.000602    0.405304     0.67906    0.034918    0.000000         0.0   \n",
       "1    0.017348    0.355988     0.85586    0.000000    0.003721         1.0   \n",
       "\n",
       "    No_Definido  \n",
       "0      0.999836  \n",
       "1      0.998085  "
      ]
     },
     "execution_count": 83,
     "metadata": {},
     "output_type": "execute_result"
    }
   ],
   "source": [
    "href_train = PATH_PRUEBAS+\"/\"+ZOOM+\"/prueba_\"+str(PRUEBA)+\"/train.txt\"\n",
    "href_test  = PATH_PRUEBAS+\"/\"+ZOOM+\"/prueba_\"+str(PRUEBA)+\"/test.txt\"\n",
    "src_1 =      PATH_PRUEBAS+\"/\"+ZOOM+\"/prueba_\"+str(PRUEBA)+\"/accuracy_vs_epochs.png\"\n",
    "src_2 =      PATH_PRUEBAS+\"/\"+ZOOM+\"/prueba_\"+str(PRUEBA)+\"/loss_vs_epochs.png\"\n",
    "src_test =   PATH_PRUEBAS+\"/\"+ZOOM+\"/prueba_\"+str(PRUEBA)+\"/Val/0_pred.png\"\n",
    "src_label =   PATH_PRUEBAS+\"/\"+ZOOM+\"/prueba_\"+str(PRUEBA)+\"/Val/0_gt.png\"\n",
    "html = \"\"\"<center><h1> {ZOOM} PRUEBA: {PRUEBA} </h1></center>\n",
    "          <h3>1. TRAIN FILE</h3></br><a href='{href_train}'>Train file</a>\n",
    "          <h3>2. SCORE IMAGE</h3>\n",
    "          <img src='{src_1}'/>\n",
    "          <h3>3. LOSS IMAGE</h3>\n",
    "          <img src='{src_2}'/>\n",
    "          <h3>4. TEST FILE</h3>\n",
    "          </br><a href='{href_test}'>Test file</a>\n",
    "          <h3>5. TEST IMAGES</h3>\n",
    "          <div style=\"width:100%; text-align: center; \">\n",
    "           <div style=\"width:40%; display: inline-block\" >\n",
    "            PREDICT\n",
    "            <img src='{src_test}'/>\n",
    "           </div>\n",
    "           <div style=\"width:40%; display: inline-block\"  style=\"width:40%; display: inline-block\" >\n",
    "             TARGET\n",
    "             <img src='{src_label}'/>\n",
    "           </div>\n",
    "          \n",
    "          </div>\n",
    "          \"\"\"\n",
    "display( HTML(html.format(href_train=href_train,src_1=src_1, src_2=src_2,ZOOM=ZOOM,PRUEBA=PRUEBA,href_test=href_test,src_test=src_test, src_label=src_label)))\n",
    "resultados_val =  pd.read_csv(PATH_PRUEBAS+\"/\"+ZOOM+\"/prueba_\"+str(PRUEBA)+\"/Val/val_scores.csv\")\n",
    "resultados_val"
   ]
  },
  {
   "cell_type": "markdown",
   "metadata": {},
   "source": [
    "<h2 style=\"color:#BF360C\">CSV RESULTADOS TEST</h2>"
   ]
  },
  {
   "cell_type": "code",
   "execution_count": 151,
   "metadata": {},
   "outputs": [],
   "source": [
    "dict_fot_datagram = {\n",
    "    \"ZOOM\":[],\n",
    "    \"PRUEBA\":[],\n",
    "    \"MODEL\":[],\n",
    "    \"BATCH_SIZE\":[],\n",
    "    \"EPOCH\":[],\n",
    "    \"ACCURACY\":[],\n",
    "    \"ESTRATO_1\":[],\n",
    "    \"ESTRATO_2\":[],\n",
    "    \"ESTRATO_3\":[],\n",
    "    \"ESTRATO_4\":[],\n",
    "    \"ESTRATO_5\":[],\n",
    "    \"ESTRATO_6\":[],    \n",
    "    \"NO_DEFINIDO\":[],\n",
    "    \"PRECISION\":[],\n",
    "    \"RECALL\":[],\n",
    "    \"F1_SCORE\":[],\n",
    "    \"MEAN_IOU\":[],\n",
    "    \"RUN_TIME\":[]}"
   ]
  },
  {
   "cell_type": "code",
   "execution_count": 152,
   "metadata": {},
   "outputs": [],
   "source": [
    "def get_params_from_test_file(ZOOM, PRUEBA):\n",
    "    model = \"\"\n",
    "    batch_size = \"\"\n",
    "    epoch = \"\"\n",
    "    accuracy = \"\"\n",
    "    estrato_1 = \"\"\n",
    "    estrato_2 = \"\"\n",
    "    estrato_3 = \"\"\n",
    "    estrato_4 = \"\"\n",
    "    estrato_5 = \"\"\n",
    "    estrato_6 = \"\"\n",
    "    no_definido = \"\"\n",
    "    precision = \"\"\n",
    "    recall = \"\"\n",
    "    f1_score = \"\"\n",
    "    mean_IoU_score = \"\"\n",
    "    run_time = \"\"\n",
    "      \n",
    "    \n",
    "    test_file_path  = PATH_PRUEBAS+\"/\"+ZOOM+\"/prueba_\"+str(PRUEBA)+\"/test.txt\"\n",
    "    tes_file = open(test_file_path, \"r\")\n",
    "\n",
    "    # Get params from TEST File\n",
    "    for line in test_file:\n",
    "        #print(line)\n",
    "        ## Get model from test file\n",
    "        if \"Model --> \" in line:\n",
    "            model = line.split(\"Model --> \")[1].replace(\"\\n\",\"\")\n",
    "\n",
    "        # Get batch_size\n",
    "        batch_size = pruebas.iloc[PRUEBA-1,3]\n",
    "\n",
    "        # Get epoch\n",
    "        epoch = pruebas.iloc[PRUEBA-1,2]\n",
    "\n",
    "        # Get test_accuracy\n",
    "        if \"Average test accuracy\" in line:\n",
    "            accuracy = line.split(\"=\")[1].replace(\"\\n\",\"\").replace(\" \",\"\")\n",
    "\n",
    "        # Get accuracy ESTRATO_1\n",
    "        if \"Estrato_1\" in line:\n",
    "            estrato_1 = line.split(\"=\")[1].replace(\"\\n\",\"\").replace(\" \",\"\")\n",
    "\n",
    "        # Get accuracy ESTRATO_2\n",
    "        if \"Estrato_2\" in line:\n",
    "            estrato_2 = line.split(\"=\")[1].replace(\"\\n\",\"\").replace(\" \",\"\")\n",
    "\n",
    "        # Get accuracy ESTRATO_3\n",
    "        if \"Estrato_3\" in line:\n",
    "            estrato_3 = line.split(\"=\")[1].replace(\"\\n\",\"\").replace(\" \",\"\")\n",
    "\n",
    "        # Get accuracy ESTRATO_4\n",
    "        if \"Estrato_4\" in line:\n",
    "            estrato_4 = line.split(\"=\")[1].replace(\"\\n\",\"\").replace(\" \",\"\")\n",
    "\n",
    "        # Get accuracy ESTRATO_5\n",
    "        if \"Estrato_5\" in line:\n",
    "            estrato_5 = line.split(\"=\")[1].replace(\"\\n\",\"\").replace(\" \",\"\")\n",
    "\n",
    "        # Get accuracy ESTRATO_6\n",
    "        if \"Estrato_6\" in line:\n",
    "            estrato_6 = line.split(\"=\")[1].replace(\"\\n\",\"\").replace(\" \",\"\")\n",
    "\n",
    "        # Get accuracy No_Definido\n",
    "        if \"No_Definido\" in line:\n",
    "            no_definido = line.split(\"=\")[1].replace(\"\\n\",\"\").replace(\" \",\"\")\n",
    "\n",
    "        if \"Average precision\" in line:\n",
    "            precision = line.split(\"=\")[1].replace(\"\\n\",\"\").replace(\" \",\"\")\n",
    "\n",
    "        if \"Average recall\" in line:\n",
    "            recall = line.split(\"=\")[1].replace(\"\\n\",\"\").replace(\" \",\"\")\n",
    "\n",
    "        if \"Average F1 score\" in line:\n",
    "            f1_score = line.split(\"=\")[1].replace(\"\\n\",\"\").replace(\" \",\"\")\n",
    "\n",
    "        if \"Average mean IoU score\" in line:\n",
    "            mean_IoU_score = line.split(\"=\")[1].replace(\"\\n\",\"\").replace(\" \",\"\")\n",
    "\n",
    "        if \"Average run time\" in line:\n",
    "            run_time = line.split(\"=\")[1].replace(\"\\n\",\"\").replace(\" \",\"\")\n",
    "\n",
    "\n",
    "    return model, batch_size, epoch, accuracy, estrato_1, estrato_2, estrato_3, estrato_4, estrato_5, estrato_6, no_definido, precision, recall, f1_score, mean_IoU_score, run_time\n"
   ]
  },
  {
   "cell_type": "code",
   "execution_count": 135,
   "metadata": {},
   "outputs": [],
   "source": [
    "ZOOMS = [\"13_SIMPLE\",\"13_COMPOUND\",\"14_SIMPLE\",\"14_COMPOUND\",\"15_SIMPLE\",\"15_COMPOUND\"]\n",
    "PRUEBAS = [1,2,3,4,5,6,7,8,9,10,11]"
   ]
  },
  {
   "cell_type": "code",
   "execution_count": 150,
   "metadata": {},
   "outputs": [
    {
     "ename": "TypeError",
     "evalue": "get_params_from_test_file() takes 2 positional arguments but 3 were given",
     "output_type": "error",
     "traceback": [
      "\u001b[0;31m---------------------------------------------------------------------------\u001b[0m",
      "\u001b[0;31mTypeError\u001b[0m                                 Traceback (most recent call last)",
      "\u001b[0;32m<ipython-input-150-192bf0d7a400>\u001b[0m in \u001b[0;36m<module>\u001b[0;34m()\u001b[0m\n\u001b[1;32m      1\u001b[0m \u001b[0;32mfor\u001b[0m \u001b[0mZOOM\u001b[0m \u001b[0;32min\u001b[0m \u001b[0mZOOMS\u001b[0m\u001b[0;34m:\u001b[0m\u001b[0;34m\u001b[0m\u001b[0m\n\u001b[1;32m      2\u001b[0m     \u001b[0;32mfor\u001b[0m \u001b[0mPRUEBA\u001b[0m \u001b[0;32min\u001b[0m \u001b[0mPRUEBAS\u001b[0m\u001b[0;34m:\u001b[0m\u001b[0;34m\u001b[0m\u001b[0m\n\u001b[0;32m----> 3\u001b[0;31m         \u001b[0mm\u001b[0m\u001b[0;34m,\u001b[0m \u001b[0mbs\u001b[0m\u001b[0;34m,\u001b[0m \u001b[0me\u001b[0m\u001b[0;34m,\u001b[0m \u001b[0ma\u001b[0m\u001b[0;34m,\u001b[0m \u001b[0me1\u001b[0m\u001b[0;34m,\u001b[0m \u001b[0me2\u001b[0m\u001b[0;34m,\u001b[0m \u001b[0me3\u001b[0m\u001b[0;34m,\u001b[0m \u001b[0me4\u001b[0m\u001b[0;34m,\u001b[0m \u001b[0me5\u001b[0m\u001b[0;34m,\u001b[0m \u001b[0me6\u001b[0m\u001b[0;34m,\u001b[0m \u001b[0mnd\u001b[0m\u001b[0;34m,\u001b[0m \u001b[0mp\u001b[0m\u001b[0;34m,\u001b[0m \u001b[0mr\u001b[0m\u001b[0;34m,\u001b[0m \u001b[0mf\u001b[0m\u001b[0;34m,\u001b[0m \u001b[0mmis\u001b[0m\u001b[0;34m,\u001b[0m \u001b[0mrt\u001b[0m \u001b[0;34m=\u001b[0m \u001b[0mget_params_from_test_file\u001b[0m\u001b[0;34m(\u001b[0m\u001b[0mZOOM\u001b[0m\u001b[0;34m,\u001b[0m \u001b[0mPRUEBA\u001b[0m\u001b[0;34m,\u001b[0m\u001b[0;32mFalse\u001b[0m\u001b[0;34m)\u001b[0m\u001b[0;34m\u001b[0m\u001b[0m\n\u001b[0m\u001b[1;32m      4\u001b[0m \u001b[0;34m\u001b[0m\u001b[0m\n\u001b[1;32m      5\u001b[0m         \u001b[0mdict_fot_datagram\u001b[0m\u001b[0;34m[\u001b[0m\u001b[0;34m\"ZOOM\"\u001b[0m\u001b[0;34m]\u001b[0m\u001b[0;34m.\u001b[0m\u001b[0mappend\u001b[0m\u001b[0;34m(\u001b[0m\u001b[0mZOOM\u001b[0m\u001b[0;34m)\u001b[0m\u001b[0;34m\u001b[0m\u001b[0m\n",
      "\u001b[0;31mTypeError\u001b[0m: get_params_from_test_file() takes 2 positional arguments but 3 were given"
     ]
    }
   ],
   "source": [
    "for ZOOM in ZOOMS:\n",
    "    for PRUEBA in PRUEBAS:\n",
    "        m, bs, e, a, e1, e2, e3, e4, e5, e6, nd, p, r, f, mis, rt = get_params_from_test_file(ZOOM, PRUEBA)\n",
    "\n",
    "        dict_fot_datagram[\"ZOOM\"].append(ZOOM)\n",
    "        dict_fot_datagram[\"PRUEBA\"].append(PRUEBA)\n",
    "        dict_fot_datagram[\"MODEL\"].append(m)\n",
    "        dict_fot_datagram[\"BATCH_SIZE\"].append(bs)\n",
    "        dict_fot_datagram[\"EPOCH\"].append(e)\n",
    "        dict_fot_datagram[\"ACCURACY\"].append(a)\n",
    "        dict_fot_datagram[\"ESTRATO_1\"].append(e1)\n",
    "        dict_fot_datagram[\"ESTRATO_2\"].append(e2)\n",
    "        dict_fot_datagram[\"ESTRATO_3\"].append(e3)\n",
    "        dict_fot_datagram[\"ESTRATO_4\"].append(e4)\n",
    "        dict_fot_datagram[\"ESTRATO_5\"].append(e5)\n",
    "        dict_fot_datagram[\"ESTRATO_6\"].append(e6)\n",
    "        dict_fot_datagram[\"NO_DEFINIDO\"].append(nd)\n",
    "        dict_fot_datagram[\"PRECISION\"].append(p)\n",
    "        dict_fot_datagram[\"RECALL\"].append(r)\n",
    "        dict_fot_datagram[\"F1_SCORE\"].append(f)\n",
    "        dict_fot_datagram[\"MEAN_IOU\"].append(mis)\n",
    "        dict_fot_datagram[\"RUN_TIME\"].append(rt)\n",
    "\n",
    "\n",
    "\n"
   ]
  },
  {
   "cell_type": "code",
   "execution_count": 137,
   "metadata": {},
   "outputs": [
    {
     "data": {
      "text/plain": [
       "{'ZOOM': ['13_SIMPLE',\n",
       "  '13_SIMPLE',\n",
       "  '13_SIMPLE',\n",
       "  '13_SIMPLE',\n",
       "  '13_SIMPLE',\n",
       "  '13_SIMPLE',\n",
       "  '13_SIMPLE',\n",
       "  '13_SIMPLE',\n",
       "  '13_SIMPLE',\n",
       "  '13_SIMPLE',\n",
       "  '13_SIMPLE',\n",
       "  '13_COMPOUND',\n",
       "  '13_COMPOUND',\n",
       "  '13_COMPOUND',\n",
       "  '13_COMPOUND',\n",
       "  '13_COMPOUND',\n",
       "  '13_COMPOUND',\n",
       "  '13_COMPOUND',\n",
       "  '13_COMPOUND',\n",
       "  '13_COMPOUND',\n",
       "  '13_COMPOUND',\n",
       "  '13_COMPOUND',\n",
       "  '14_SIMPLE',\n",
       "  '14_SIMPLE',\n",
       "  '14_SIMPLE',\n",
       "  '14_SIMPLE',\n",
       "  '14_SIMPLE',\n",
       "  '14_SIMPLE',\n",
       "  '14_SIMPLE',\n",
       "  '14_SIMPLE',\n",
       "  '14_SIMPLE',\n",
       "  '14_SIMPLE',\n",
       "  '14_SIMPLE',\n",
       "  '14_COMPOUND',\n",
       "  '14_COMPOUND',\n",
       "  '14_COMPOUND',\n",
       "  '14_COMPOUND',\n",
       "  '14_COMPOUND',\n",
       "  '14_COMPOUND',\n",
       "  '14_COMPOUND',\n",
       "  '14_COMPOUND',\n",
       "  '14_COMPOUND',\n",
       "  '14_COMPOUND',\n",
       "  '14_COMPOUND',\n",
       "  '15_SIMPLE',\n",
       "  '15_SIMPLE',\n",
       "  '15_SIMPLE',\n",
       "  '15_SIMPLE',\n",
       "  '15_SIMPLE',\n",
       "  '15_SIMPLE',\n",
       "  '15_SIMPLE',\n",
       "  '15_SIMPLE',\n",
       "  '15_SIMPLE',\n",
       "  '15_SIMPLE',\n",
       "  '15_SIMPLE',\n",
       "  '15_COMPOUND',\n",
       "  '15_COMPOUND',\n",
       "  '15_COMPOUND',\n",
       "  '15_COMPOUND',\n",
       "  '15_COMPOUND',\n",
       "  '15_COMPOUND',\n",
       "  '15_COMPOUND',\n",
       "  '15_COMPOUND',\n",
       "  '15_COMPOUND',\n",
       "  '15_COMPOUND',\n",
       "  '15_COMPOUND'],\n",
       " 'PRUEBA': [1,\n",
       "  2,\n",
       "  3,\n",
       "  4,\n",
       "  5,\n",
       "  6,\n",
       "  7,\n",
       "  8,\n",
       "  9,\n",
       "  10,\n",
       "  11,\n",
       "  1,\n",
       "  2,\n",
       "  3,\n",
       "  4,\n",
       "  5,\n",
       "  6,\n",
       "  7,\n",
       "  8,\n",
       "  9,\n",
       "  10,\n",
       "  11,\n",
       "  1,\n",
       "  2,\n",
       "  3,\n",
       "  4,\n",
       "  5,\n",
       "  6,\n",
       "  7,\n",
       "  8,\n",
       "  9,\n",
       "  10,\n",
       "  11,\n",
       "  1,\n",
       "  2,\n",
       "  3,\n",
       "  4,\n",
       "  5,\n",
       "  6,\n",
       "  7,\n",
       "  8,\n",
       "  9,\n",
       "  10,\n",
       "  11,\n",
       "  1,\n",
       "  2,\n",
       "  3,\n",
       "  4,\n",
       "  5,\n",
       "  6,\n",
       "  7,\n",
       "  8,\n",
       "  9,\n",
       "  10,\n",
       "  11,\n",
       "  1,\n",
       "  2,\n",
       "  3,\n",
       "  4,\n",
       "  5,\n",
       "  6,\n",
       "  7,\n",
       "  8,\n",
       "  9,\n",
       "  10,\n",
       "  11],\n",
       " 'MODEL': ['FC-DenseNet56',\n",
       "  'FC-DenseNet56',\n",
       "  'Encoder-Decoder',\n",
       "  'Encoder-Decoder',\n",
       "  'Encoder-Decoder-Skip',\n",
       "  'Encoder-Decoder-Skip',\n",
       "  'FRRN-A',\n",
       "  'MobileUNet',\n",
       "  'MobileUNet',\n",
       "  'MobileUNet-Skip',\n",
       "  'MobileUNet-Skip',\n",
       "  'FC-DenseNet56',\n",
       "  'FC-DenseNet56',\n",
       "  'Encoder-Decoder',\n",
       "  'Encoder-Decoder',\n",
       "  'Encoder-Decoder-Skip',\n",
       "  'Encoder-Decoder-Skip',\n",
       "  'FRRN-A',\n",
       "  'MobileUNet',\n",
       "  'MobileUNet',\n",
       "  'MobileUNet-Skip',\n",
       "  'MobileUNet-Skip',\n",
       "  'FC-DenseNet56',\n",
       "  'FC-DenseNet56',\n",
       "  'Encoder-Decoder',\n",
       "  'Encoder-Decoder',\n",
       "  'Encoder-Decoder-Skip',\n",
       "  'Encoder-Decoder-Skip',\n",
       "  'FRRN-A',\n",
       "  'MobileUNet',\n",
       "  'MobileUNet',\n",
       "  'MobileUNet-Skip',\n",
       "  'MobileUNet-Skip',\n",
       "  'FC-DenseNet56',\n",
       "  'FC-DenseNet56',\n",
       "  'Encoder-Decoder',\n",
       "  'Encoder-Decoder',\n",
       "  'Encoder-Decoder-Skip',\n",
       "  'Encoder-Decoder-Skip',\n",
       "  'FRRN-A',\n",
       "  'MobileUNet',\n",
       "  'MobileUNet',\n",
       "  'MobileUNet-Skip',\n",
       "  'MobileUNet-Skip',\n",
       "  'FC-DenseNet56',\n",
       "  'FC-DenseNet56',\n",
       "  'Encoder-Decoder',\n",
       "  'Encoder-Decoder',\n",
       "  'Encoder-Decoder-Skip',\n",
       "  'Encoder-Decoder-Skip',\n",
       "  'FRRN-A',\n",
       "  'MobileUNet',\n",
       "  'MobileUNet',\n",
       "  'MobileUNet-Skip',\n",
       "  'MobileUNet-Skip',\n",
       "  'FC-DenseNet56',\n",
       "  'FC-DenseNet56',\n",
       "  'Encoder-Decoder',\n",
       "  'Encoder-Decoder',\n",
       "  'Encoder-Decoder-Skip',\n",
       "  'Encoder-Decoder-Skip',\n",
       "  'FRRN-A',\n",
       "  'MobileUNet',\n",
       "  'MobileUNet',\n",
       "  'MobileUNet-Skip',\n",
       "  'MobileUNet-Skip'],\n",
       " 'BATCH_SIZE': [1,\n",
       "  1,\n",
       "  1,\n",
       "  2,\n",
       "  1,\n",
       "  2,\n",
       "  1,\n",
       "  1,\n",
       "  2,\n",
       "  1,\n",
       "  2,\n",
       "  1,\n",
       "  1,\n",
       "  1,\n",
       "  2,\n",
       "  1,\n",
       "  2,\n",
       "  1,\n",
       "  1,\n",
       "  2,\n",
       "  1,\n",
       "  2,\n",
       "  1,\n",
       "  1,\n",
       "  1,\n",
       "  2,\n",
       "  1,\n",
       "  2,\n",
       "  1,\n",
       "  1,\n",
       "  2,\n",
       "  1,\n",
       "  2,\n",
       "  1,\n",
       "  1,\n",
       "  1,\n",
       "  2,\n",
       "  1,\n",
       "  2,\n",
       "  1,\n",
       "  1,\n",
       "  2,\n",
       "  1,\n",
       "  2,\n",
       "  1,\n",
       "  1,\n",
       "  1,\n",
       "  2,\n",
       "  1,\n",
       "  2,\n",
       "  1,\n",
       "  1,\n",
       "  2,\n",
       "  1,\n",
       "  2,\n",
       "  1,\n",
       "  1,\n",
       "  1,\n",
       "  2,\n",
       "  1,\n",
       "  2,\n",
       "  1,\n",
       "  1,\n",
       "  2,\n",
       "  1,\n",
       "  2],\n",
       " 'EPOCH': [50,\n",
       "  70,\n",
       "  70,\n",
       "  70,\n",
       "  70,\n",
       "  70,\n",
       "  70,\n",
       "  70,\n",
       "  70,\n",
       "  70,\n",
       "  70,\n",
       "  50,\n",
       "  70,\n",
       "  70,\n",
       "  70,\n",
       "  70,\n",
       "  70,\n",
       "  70,\n",
       "  70,\n",
       "  70,\n",
       "  70,\n",
       "  70,\n",
       "  50,\n",
       "  70,\n",
       "  70,\n",
       "  70,\n",
       "  70,\n",
       "  70,\n",
       "  70,\n",
       "  70,\n",
       "  70,\n",
       "  70,\n",
       "  70,\n",
       "  50,\n",
       "  70,\n",
       "  70,\n",
       "  70,\n",
       "  70,\n",
       "  70,\n",
       "  70,\n",
       "  70,\n",
       "  70,\n",
       "  70,\n",
       "  70,\n",
       "  50,\n",
       "  70,\n",
       "  70,\n",
       "  70,\n",
       "  70,\n",
       "  70,\n",
       "  70,\n",
       "  70,\n",
       "  70,\n",
       "  70,\n",
       "  70,\n",
       "  50,\n",
       "  70,\n",
       "  70,\n",
       "  70,\n",
       "  70,\n",
       "  70,\n",
       "  70,\n",
       "  70,\n",
       "  70,\n",
       "  70,\n",
       "  70],\n",
       " 'ACCURACY': ['0.6795196533203125',\n",
       "  '0.7262954711914062',\n",
       "  '0.39783477783203125',\n",
       "  '0.46361541748046875',\n",
       "  '0.6844482421875',\n",
       "  '0.6624298095703125',\n",
       "  '0.6227569580078125',\n",
       "  '0.33106231689453125',\n",
       "  '0.367523193359375',\n",
       "  '0.6358718872070312',\n",
       "  '0.60595703125',\n",
       "  '0.700103759765625',\n",
       "  '0.7017440795898438',\n",
       "  '0.41204833984375',\n",
       "  '0.4583740234375',\n",
       "  '0.7069091796875',\n",
       "  '0.6839828491210938',\n",
       "  '0.6053543090820312',\n",
       "  '0.36170196533203125',\n",
       "  '0.38254547119140625',\n",
       "  '0.616973876953125',\n",
       "  '0.6147613525390625',\n",
       "  '0.702691396077474',\n",
       "  '0.6953926086425781',\n",
       "  '0.5221907297770182',\n",
       "  '0.5783443450927734',\n",
       "  '0.6882909138997396',\n",
       "  '0.6772352854410807',\n",
       "  '0.6618455251057943',\n",
       "  '0.44837061564127606',\n",
       "  '0.49343427022298175',\n",
       "  '0.6722596486409506',\n",
       "  '0.6678822835286459',\n",
       "  '0.6937535603841146',\n",
       "  '0.703125',\n",
       "  '0.5682786305745443',\n",
       "  '0.5203978220621744',\n",
       "  '0.6836318969726562',\n",
       "  '0.6778558095296224',\n",
       "  '0.6620489756266276',\n",
       "  '0.4682013193766276',\n",
       "  '0.5024636586507162',\n",
       "  '0.6710395812988281',\n",
       "  '0.6562474568684896',\n",
       "  '0.6965203179253472',\n",
       "  '0.7201024373372396',\n",
       "  '0.6300962660047743',\n",
       "  '0.6216167873806424',\n",
       "  '0.7182959662543402',\n",
       "  '0.6869461059570312',\n",
       "  '0.6955495198567708',\n",
       "  '0.5869981553819444',\n",
       "  '0.6091922336154514',\n",
       "  '0.6995293511284723',\n",
       "  '0.6716595119900174',\n",
       "  '0.7077755398220487',\n",
       "  '0.7009572347005208',\n",
       "  '0.6471259223090278',\n",
       "  '0.5968812730577256',\n",
       "  '0.7106472439236111',\n",
       "  '0.6932586669921875',\n",
       "  '0.6920345730251736',\n",
       "  '0.593572998046875',\n",
       "  '0.596421135796441',\n",
       "  '0.7025456746419271',\n",
       "  '0.6769843207465278'],\n",
       " 'ESTRATO_1': ['0.008975',\n",
       "  '0.023031',\n",
       "  '0.011190',\n",
       "  '0.009907',\n",
       "  '0.141093',\n",
       "  '0.258183',\n",
       "  '0.061684',\n",
       "  '0.021256',\n",
       "  '0.000611',\n",
       "  '0.098876',\n",
       "  '0.008165',\n",
       "  '0.001859',\n",
       "  '0.028900',\n",
       "  '0.019623',\n",
       "  '0.001735',\n",
       "  '0.134851',\n",
       "  '0.229150',\n",
       "  '0.070593',\n",
       "  '0.003630',\n",
       "  '0.000000',\n",
       "  '0.100869',\n",
       "  '0.081675',\n",
       "  '0.255789',\n",
       "  '0.314589',\n",
       "  '0.354283',\n",
       "  '0.296547',\n",
       "  '0.312669',\n",
       "  '0.364539',\n",
       "  '0.383890',\n",
       "  '0.252435',\n",
       "  '0.250043',\n",
       "  '0.319367',\n",
       "  '0.262779',\n",
       "  '0.343084',\n",
       "  '0.307715',\n",
       "  '0.268968',\n",
       "  '0.299746',\n",
       "  '0.310195',\n",
       "  '0.368710',\n",
       "  '0.358652',\n",
       "  '0.250471',\n",
       "  '0.250000',\n",
       "  '0.309828',\n",
       "  '0.282835',\n",
       "  '0.424709',\n",
       "  '0.501234',\n",
       "  '0.471357',\n",
       "  '0.443579',\n",
       "  '0.473815',\n",
       "  '0.451412',\n",
       "  '0.471335',\n",
       "  '0.428438',\n",
       "  '0.422222',\n",
       "  '0.513421',\n",
       "  '0.428562',\n",
       "  '0.440220',\n",
       "  '0.518061',\n",
       "  '0.450097',\n",
       "  '0.424095',\n",
       "  '0.430593',\n",
       "  '0.463563',\n",
       "  '0.501327',\n",
       "  '0.425895',\n",
       "  '0.422483',\n",
       "  '0.511536',\n",
       "  '0.435785'],\n",
       " 'ESTRATO_2': ['0.380646',\n",
       "  '0.419804',\n",
       "  '0.237949',\n",
       "  '0.175446',\n",
       "  '0.414636',\n",
       "  '0.361320',\n",
       "  '0.304410',\n",
       "  '0.178017',\n",
       "  '0.125183',\n",
       "  '0.359351',\n",
       "  '0.357667',\n",
       "  '0.426476',\n",
       "  '0.396970',\n",
       "  '0.156311',\n",
       "  '0.146840',\n",
       "  '0.370033',\n",
       "  '0.396063',\n",
       "  '0.274480',\n",
       "  '0.265188',\n",
       "  '0.210189',\n",
       "  '0.319163',\n",
       "  '0.264928',\n",
       "  '0.368553',\n",
       "  '0.411696',\n",
       "  '0.484535',\n",
       "  '0.306151',\n",
       "  '0.364310',\n",
       "  '0.399210',\n",
       "  '0.405767',\n",
       "  '0.205554',\n",
       "  '0.205657',\n",
       "  '0.371400',\n",
       "  '0.416354',\n",
       "  '0.399980',\n",
       "  '0.452198',\n",
       "  '0.358322',\n",
       "  '0.390938',\n",
       "  '0.279491',\n",
       "  '0.375110',\n",
       "  '0.358074',\n",
       "  '0.189736',\n",
       "  '0.260443',\n",
       "  '0.410198',\n",
       "  '0.440550',\n",
       "  '0.511481',\n",
       "  '0.448962',\n",
       "  '0.489859',\n",
       "  '0.553132',\n",
       "  '0.556204',\n",
       "  '0.381262',\n",
       "  '0.360399',\n",
       "  '0.338685',\n",
       "  '0.357973',\n",
       "  '0.331373',\n",
       "  '0.477517',\n",
       "  '0.338686',\n",
       "  '0.386717',\n",
       "  '0.644039',\n",
       "  '0.562577',\n",
       "  '0.665674',\n",
       "  '0.437494',\n",
       "  '0.352863',\n",
       "  '0.329425',\n",
       "  '0.360207',\n",
       "  '0.375952',\n",
       "  '0.445691'],\n",
       " 'ESTRATO_3': ['0.767460',\n",
       "  '0.819672',\n",
       "  '0.309627',\n",
       "  '0.454276',\n",
       "  '0.701830',\n",
       "  '0.673730',\n",
       "  '0.600369',\n",
       "  '0.090132',\n",
       "  '0.214987',\n",
       "  '0.664981',\n",
       "  '0.596453',\n",
       "  '0.799203',\n",
       "  '0.782124',\n",
       "  '0.341601',\n",
       "  '0.493329',\n",
       "  '0.786013',\n",
       "  '0.727657',\n",
       "  '0.493772',\n",
       "  '0.222331',\n",
       "  '0.297220',\n",
       "  '0.608363',\n",
       "  '0.671569',\n",
       "  '0.785761',\n",
       "  '0.711252',\n",
       "  '0.538491',\n",
       "  '0.537758',\n",
       "  '0.734121',\n",
       "  '0.743544',\n",
       "  '0.624775',\n",
       "  '0.539597',\n",
       "  '0.545274',\n",
       "  '0.624690',\n",
       "  '0.673477',\n",
       "  '0.678322',\n",
       "  '0.662521',\n",
       "  '0.563234',\n",
       "  '0.627321',\n",
       "  '0.756392',\n",
       "  '0.740926',\n",
       "  '0.641686',\n",
       "  '0.624439',\n",
       "  '0.504250',\n",
       "  '0.616829',\n",
       "  '0.623273',\n",
       "  '0.710446',\n",
       "  '0.741022',\n",
       "  '0.668038',\n",
       "  '0.589846',\n",
       "  '0.711874',\n",
       "  '0.801964',\n",
       "  '0.783813',\n",
       "  '0.693427',\n",
       "  '0.706859',\n",
       "  '0.741568',\n",
       "  '0.719637',\n",
       "  '0.850576',\n",
       "  '0.692143',\n",
       "  '0.549266',\n",
       "  '0.601357',\n",
       "  '0.639351',\n",
       "  '0.785486',\n",
       "  '0.731587',\n",
       "  '0.686660',\n",
       "  '0.742552',\n",
       "  '0.724010',\n",
       "  '0.720172'],\n",
       " 'ESTRATO_4': ['0.017459',\n",
       "  '0.271714',\n",
       "  '0.054137',\n",
       "  '0.029930',\n",
       "  '0.245892',\n",
       "  '0.324531',\n",
       "  '0.343457',\n",
       "  '0.000440',\n",
       "  '0.002788',\n",
       "  '0.091843',\n",
       "  '0.010857',\n",
       "  '0.041813',\n",
       "  '0.053404',\n",
       "  '0.154489',\n",
       "  '0.010270',\n",
       "  '0.418721',\n",
       "  '0.219190',\n",
       "  '0.283011',\n",
       "  '0.000000',\n",
       "  '0.000293',\n",
       "  '0.175323',\n",
       "  '0.010417',\n",
       "  '0.378315',\n",
       "  '0.339938',\n",
       "  '0.339671',\n",
       "  '0.365535',\n",
       "  '0.448072',\n",
       "  '0.386573',\n",
       "  '0.405336',\n",
       "  '0.336956',\n",
       "  '0.333416',\n",
       "  '0.390409',\n",
       "  '0.367649',\n",
       "  '0.342776',\n",
       "  '0.413409',\n",
       "  '0.364077',\n",
       "  '0.377137',\n",
       "  '0.432470',\n",
       "  '0.406697',\n",
       "  '0.387060',\n",
       "  '0.335527',\n",
       "  '0.333336',\n",
       "  '0.404836',\n",
       "  '0.347086',\n",
       "  '0.519094',\n",
       "  '0.537869',\n",
       "  '0.451392',\n",
       "  '0.492724',\n",
       "  '0.530444',\n",
       "  '0.530742',\n",
       "  '0.502448',\n",
       "  '0.514666',\n",
       "  '0.444926',\n",
       "  '0.565266',\n",
       "  '0.477219',\n",
       "  '0.492154',\n",
       "  '0.576180',\n",
       "  '0.483779',\n",
       "  '0.483703',\n",
       "  '0.512099',\n",
       "  '0.521596',\n",
       "  '0.575774',\n",
       "  '0.549422',\n",
       "  '0.445054',\n",
       "  '0.476454',\n",
       "  '0.481571'],\n",
       " 'ESTRATO_5': ['0.001860',\n",
       "  '0.009455',\n",
       "  '0.000000',\n",
       "  '0.000000',\n",
       "  '0.001548',\n",
       "  '0.001860',\n",
       "  '0.023692',\n",
       "  '0.000000',\n",
       "  '0.000000',\n",
       "  '0.002791',\n",
       "  '0.016265',\n",
       "  '0.018125',\n",
       "  '0.013169',\n",
       "  '0.000000',\n",
       "  '0.001395',\n",
       "  '0.024317',\n",
       "  '0.002478',\n",
       "  '0.015182',\n",
       "  '0.000000',\n",
       "  '0.000465',\n",
       "  '0.003408',\n",
       "  '0.019826',\n",
       "  '0.087743',\n",
       "  '0.064658',\n",
       "  '0.078300',\n",
       "  '0.057772',\n",
       "  '0.147247',\n",
       "  '0.075466',\n",
       "  '0.095473',\n",
       "  '0.041726',\n",
       "  '0.041697',\n",
       "  '0.063968',\n",
       "  '0.057930',\n",
       "  '0.077068',\n",
       "  '0.139986',\n",
       "  '0.071463',\n",
       "  '0.061094',\n",
       "  '0.113244',\n",
       "  '0.114531',\n",
       "  '0.101765',\n",
       "  '0.041667',\n",
       "  '0.041927',\n",
       "  '0.078085',\n",
       "  '0.066100',\n",
       "  '0.196618',\n",
       "  '0.207787',\n",
       "  '0.144476',\n",
       "  '0.153180',\n",
       "  '0.184644',\n",
       "  '0.217635',\n",
       "  '0.214888',\n",
       "  '0.177479',\n",
       "  '0.147014',\n",
       "  '0.171998',\n",
       "  '0.169729',\n",
       "  '0.164475',\n",
       "  '0.315527',\n",
       "  '0.152381',\n",
       "  '0.145328',\n",
       "  '0.175051',\n",
       "  '0.198828',\n",
       "  '0.253749',\n",
       "  '0.152798',\n",
       "  '0.147443',\n",
       "  '0.211465',\n",
       "  '0.182100'],\n",
       " 'ESTRATO_6': ['0.500000',\n",
       "  '0.500000',\n",
       "  '0.500000',\n",
       "  '0.500000',\n",
       "  '0.500000',\n",
       "  '0.500000',\n",
       "  '0.500000',\n",
       "  '0.500000',\n",
       "  '0.500000',\n",
       "  '0.500000',\n",
       "  '0.500000',\n",
       "  '0.500000',\n",
       "  '0.500000',\n",
       "  '0.500000',\n",
       "  '0.500000',\n",
       "  '0.500000',\n",
       "  '0.500000',\n",
       "  '0.500000',\n",
       "  '0.500000',\n",
       "  '0.500000',\n",
       "  '0.500000',\n",
       "  '0.500000',\n",
       "  '0.716590',\n",
       "  '0.712386',\n",
       "  '0.715232',\n",
       "  '0.708744',\n",
       "  '0.732545',\n",
       "  '0.722645',\n",
       "  '0.718993',\n",
       "  '0.708352',\n",
       "  '0.708348',\n",
       "  '0.716972',\n",
       "  '0.733509',\n",
       "  '0.727686',\n",
       "  '0.719037',\n",
       "  '0.716480',\n",
       "  '0.710033',\n",
       "  '0.724938',\n",
       "  '0.720441',\n",
       "  '0.717821',\n",
       "  '0.708333',\n",
       "  '0.708333',\n",
       "  '0.734334',\n",
       "  '0.710266',\n",
       "  '0.821387',\n",
       "  '0.813140',\n",
       "  '0.800996',\n",
       "  '0.802691',\n",
       "  '0.824744',\n",
       "  '0.812656',\n",
       "  '0.827913',\n",
       "  '0.804873',\n",
       "  '0.809441',\n",
       "  '0.815560',\n",
       "  '0.811945',\n",
       "  '0.823421',\n",
       "  '0.814261',\n",
       "  '0.802042',\n",
       "  '0.805824',\n",
       "  '0.818664',\n",
       "  '0.810599',\n",
       "  '0.815118',\n",
       "  '0.801418',\n",
       "  '0.803505',\n",
       "  '0.814390',\n",
       "  '0.806394'],\n",
       " 'NO_DEFINIDO': ['0.998961',\n",
       "  '0.998502',\n",
       "  '0.616509',\n",
       "  '0.725063',\n",
       "  '0.985018',\n",
       "  '0.989356',\n",
       "  '0.968975',\n",
       "  '0.653266',\n",
       "  '0.767666',\n",
       "  '0.987424',\n",
       "  '0.977178',\n",
       "  '0.999237',\n",
       "  '0.998780',\n",
       "  '0.655044',\n",
       "  '0.748395',\n",
       "  '0.992484',\n",
       "  '0.991219',\n",
       "  '0.959988',\n",
       "  '0.615088',\n",
       "  '0.692730',\n",
       "  '0.986925',\n",
       "  '0.969645',\n",
       "  '0.999544',\n",
       "  '0.999385',\n",
       "  '0.721363',\n",
       "  '0.882393',\n",
       "  '0.966720',\n",
       "  '0.954727',\n",
       "  '0.968215',\n",
       "  '0.667870',\n",
       "  '0.755809',\n",
       "  '0.989262',\n",
       "  '0.981241',\n",
       "  '0.999765',\n",
       "  '0.999623',\n",
       "  '0.812745',\n",
       "  '0.728418',\n",
       "  '0.972992',\n",
       "  '0.971429',\n",
       "  '0.967294',\n",
       "  '0.648330',\n",
       "  '0.786101',\n",
       "  '0.983695',\n",
       "  '0.981424',\n",
       "  '0.999281',\n",
       "  '0.999734',\n",
       "  '0.871708',\n",
       "  '0.908372',\n",
       "  '0.998847',\n",
       "  '0.998179',\n",
       "  '0.998027',\n",
       "  '0.803648',\n",
       "  '0.861373',\n",
       "  '0.996150',\n",
       "  '0.997277',\n",
       "  '0.996780',\n",
       "  '0.999701',\n",
       "  '0.908190',\n",
       "  '0.842723',\n",
       "  '0.998381',\n",
       "  '0.997737',\n",
       "  '0.998066',\n",
       "  '0.819786',\n",
       "  '0.831981',\n",
       "  '0.996134',\n",
       "  '0.996369'],\n",
       " 'PRECISION': ['0.7832450294576536',\n",
       "  '0.8110554895840592',\n",
       "  '0.41705782445645356',\n",
       "  '0.525582509349539',\n",
       "  '0.7181531732060171',\n",
       "  '0.7273223078765457',\n",
       "  '0.7118683157528545',\n",
       "  '0.4787589817111131',\n",
       "  '0.6143918556642837',\n",
       "  '0.7173706888497124',\n",
       "  '0.7224259089982965',\n",
       "  '0.7958856231046948',\n",
       "  '0.7759618619516255',\n",
       "  '0.4367899637769459',\n",
       "  '0.575161667077568',\n",
       "  '0.7886192341666928',\n",
       "  '0.7438660648823588',\n",
       "  '0.6763647277727969',\n",
       "  '0.4582775330671391',\n",
       "  '0.5408723432942719',\n",
       "  '0.7051794805031322',\n",
       "  '0.7103449849525848',\n",
       "  '0.8061368212269141',\n",
       "  '0.7730845511458012',\n",
       "  '0.5178510250688578',\n",
       "  '0.643750619911943',\n",
       "  '0.7050017170801709',\n",
       "  '0.704258073911921',\n",
       "  '0.670776725925141',\n",
       "  '0.47505558100501566',\n",
       "  '0.5657197519893429',\n",
       "  '0.6841794135986558',\n",
       "  '0.7077420439034885',\n",
       "  '0.7508217038918747',\n",
       "  '0.7336027774421066',\n",
       "  '0.5723980500121659',\n",
       "  '0.48640097815747657',\n",
       "  '0.7105886878394111',\n",
       "  '0.6926728696419061',\n",
       "  '0.6768606569248988',\n",
       "  '0.4861716824087619',\n",
       "  '0.5684539804285471',\n",
       "  '0.6813875631293248',\n",
       "  '0.69406583756584',\n",
       "  '0.7799749559600326',\n",
       "  '0.768968099006967',\n",
       "  '0.693193941727421',\n",
       "  '0.6690800477248852',\n",
       "  '0.7601150560332163',\n",
       "  '0.723570311750954',\n",
       "  '0.7463109792550789',\n",
       "  '0.6624055802478256',\n",
       "  '0.6648067892265657',\n",
       "  '0.7334269244970574',\n",
       "  '0.7084113167861782',\n",
       "  '0.8423200066628113',\n",
       "  '0.7491803364985505',\n",
       "  '0.765823267115692',\n",
       "  '0.633112222143753',\n",
       "  '0.7933801689154225',\n",
       "  '0.7293722623022183',\n",
       "  '0.7343665598541067',\n",
       "  '0.625878609492519',\n",
       "  '0.6403789110176674',\n",
       "  '0.7367920075919394',\n",
       "  '0.7071564227143244'],\n",
       " 'RECALL': ['0.6795196533203125',\n",
       "  '0.7262954711914062',\n",
       "  '0.39783477783203125',\n",
       "  '0.46361541748046875',\n",
       "  '0.6844482421875',\n",
       "  '0.6624298095703125',\n",
       "  '0.6227569580078125',\n",
       "  '0.33106231689453125',\n",
       "  '0.367523193359375',\n",
       "  '0.6358718872070312',\n",
       "  '0.60595703125',\n",
       "  '0.700103759765625',\n",
       "  '0.7017440795898438',\n",
       "  '0.41204833984375',\n",
       "  '0.4583740234375',\n",
       "  '0.7069091796875',\n",
       "  '0.6839828491210938',\n",
       "  '0.6053543090820312',\n",
       "  '0.36170196533203125',\n",
       "  '0.38254547119140625',\n",
       "  '0.616973876953125',\n",
       "  '0.6147613525390625',\n",
       "  '0.702691396077474',\n",
       "  '0.6953926086425781',\n",
       "  '0.5221907297770182',\n",
       "  '0.5783443450927734',\n",
       "  '0.6882909138997396',\n",
       "  '0.6772352854410807',\n",
       "  '0.6618455251057943',\n",
       "  '0.44837061564127606',\n",
       "  '0.49343427022298175',\n",
       "  '0.6722596486409506',\n",
       "  '0.6678822835286459',\n",
       "  '0.6937535603841146',\n",
       "  '0.703125',\n",
       "  '0.5682786305745443',\n",
       "  '0.5203978220621744',\n",
       "  '0.6836318969726562',\n",
       "  '0.6778558095296224',\n",
       "  '0.6620489756266276',\n",
       "  '0.4682013193766276',\n",
       "  '0.5024636586507162',\n",
       "  '0.6710395812988281',\n",
       "  '0.6562474568684896',\n",
       "  '0.6965203179253472',\n",
       "  '0.7201024373372396',\n",
       "  '0.6300962660047743',\n",
       "  '0.6216167873806424',\n",
       "  '0.7182959662543402',\n",
       "  '0.6869461059570312',\n",
       "  '0.6955495198567708',\n",
       "  '0.5869981553819444',\n",
       "  '0.6091922336154514',\n",
       "  '0.6995293511284723',\n",
       "  '0.6716595119900174',\n",
       "  '0.7077755398220487',\n",
       "  '0.7009572347005208',\n",
       "  '0.6471259223090278',\n",
       "  '0.5968812730577256',\n",
       "  '0.7106472439236111',\n",
       "  '0.6932586669921875',\n",
       "  '0.6920345730251736',\n",
       "  '0.593572998046875',\n",
       "  '0.596421135796441',\n",
       "  '0.7025456746419271',\n",
       "  '0.6769843207465278'],\n",
       " 'F1_SCORE': ['0.7059703225317817',\n",
       "  '0.7499583063142421',\n",
       "  '0.3876173046116814',\n",
       "  '0.4657677610132782',\n",
       "  '0.6818152761575089',\n",
       "  '0.6589385971197674',\n",
       "  '0.6353601854852221',\n",
       "  '0.36913284530811225',\n",
       "  '0.43453732196708617',\n",
       "  '0.6496279442910786',\n",
       "  '0.630712347835926',\n",
       "  '0.7312729852107589',\n",
       "  '0.7207684871063604',\n",
       "  '0.40357993842901185',\n",
       "  '0.47780061151626524',\n",
       "  '0.7137872117873829',\n",
       "  '0.6837548898673346',\n",
       "  '0.6129952930492912',\n",
       "  '0.3814485663178759',\n",
       "  '0.42389180800621634',\n",
       "  '0.6344885689653903',\n",
       "  '0.6321576403084662',\n",
       "  '0.7155348168452255',\n",
       "  '0.7019872523464455',\n",
       "  '0.480222923528036',\n",
       "  '0.5840957745410624',\n",
       "  '0.6666408932485288',\n",
       "  '0.6602262356172719',\n",
       "  '0.6415308187413521',\n",
       "  '0.4341567100432841',\n",
       "  '0.49619339040915555',\n",
       "  '0.6579251224181811',\n",
       "  '0.6630787624516015',\n",
       "  '0.6928682066827889',\n",
       "  '0.6940515075000545',\n",
       "  '0.5491971615925713',\n",
       "  '0.4729264200476673',\n",
       "  '0.6689400283832807',\n",
       "  '0.6575270280995319',\n",
       "  '0.6447107147845222',\n",
       "  '0.4508384800162018',\n",
       "  '0.5017632415849588',\n",
       "  '0.653072630712121',\n",
       "  '0.6496566697923768',\n",
       "  '0.6908754470630989',\n",
       "  '0.7107208042177694',\n",
       "  '0.6238310688821865',\n",
       "  '0.6023809047943938',\n",
       "  '0.704111706345393',\n",
       "  '0.6701597762700969',\n",
       "  '0.685230768377508',\n",
       "  '0.5786751648050894',\n",
       "  '0.6045257395721855',\n",
       "  '0.6881423827907498',\n",
       "  '0.6546205935552859',\n",
       "  '0.7196445428853244',\n",
       "  '0.6870571074063782',\n",
       "  '0.6476493082209682',\n",
       "  '0.5681067301460387',\n",
       "  '0.7050454990551175',\n",
       "  '0.677486105410924',\n",
       "  '0.6789251586164077',\n",
       "  '0.5785020984158812',\n",
       "  '0.5822446153369089',\n",
       "  '0.6923589626170131',\n",
       "  '0.6619661011723594'],\n",
       " 'MEAN_IOU': ['0.23682005491592623',\n",
       "  '0.27895862748100736',\n",
       "  '0.11598873587185834',\n",
       "  '0.1345924529875566',\n",
       "  '0.2761932696745564',\n",
       "  '0.2713706854884465',\n",
       "  '0.235415467653839',\n",
       "  '0.07966989768315261',\n",
       "  '0.08716860214060095',\n",
       "  '0.2334202791075662',\n",
       "  '0.20205263193434742',\n",
       "  '0.2527049828833956',\n",
       "  '0.25744381136932665',\n",
       "  '0.12453275455254295',\n",
       "  '0.12649087729601513',\n",
       "  '0.2881029715360486',\n",
       "  '0.2802036148773443',\n",
       "  '0.22034357044696595',\n",
       "  '0.09425874037785573',\n",
       "  '0.09972127428035596',\n",
       "  '0.21902649116911616',\n",
       "  '0.21084788021200823',\n",
       "  '0.2938317046186801',\n",
       "  '0.3023016352681203',\n",
       "  '0.20890718645325865',\n",
       "  '0.21692107063053387',\n",
       "  '0.2981944746994202',\n",
       "  '0.2851222880107403',\n",
       "  '0.28109681350792204',\n",
       "  '0.1482030485148598',\n",
       "  '0.16553425619136866',\n",
       "  '0.2870551435586611',\n",
       "  '0.27196534409903267',\n",
       "  '0.30123523799908386',\n",
       "  '0.3162539702981586',\n",
       "  '0.21628067876806842',\n",
       "  '0.2056271336457709',\n",
       "  '0.2878057708349731',\n",
       "  '0.29357248404311126',\n",
       "  '0.2756183754270343',\n",
       "  '0.15844931802511225',\n",
       "  '0.17303929034925622',\n",
       "  '0.29089892962596947',\n",
       "  '0.2683867952353899',\n",
       "  '0.32028808077440923',\n",
       "  '0.34508586015468234',\n",
       "  '0.2539343927130602',\n",
       "  '0.25665434197266057',\n",
       "  '0.34291215590655033',\n",
       "  '0.32514523990409244',\n",
       "  '0.3248704501175135',\n",
       "  '0.2265454958736529',\n",
       "  '0.23098609718031216',\n",
       "  '0.3293429040912348',\n",
       "  '0.302835288183026',\n",
       "  '0.3255801276925244',\n",
       "  '0.34783605595694456',\n",
       "  '0.2645681648062726',\n",
       "  '0.24256051408810606',\n",
       "  '0.3285302208171073',\n",
       "  '0.3283559075975394',\n",
       "  '0.32569512517119475',\n",
       "  '0.23137372465121164',\n",
       "  '0.22861626699381127',\n",
       "  '0.32969925940327677',\n",
       "  '0.30549790479445965'],\n",
       " 'RUN_TIME': ['3.950803756713867',\n",
       "  '3.9550732374191284',\n",
       "  '4.4319387674331665',\n",
       "  '1.3564656972885132',\n",
       "  '4.714255690574646',\n",
       "  '1.285320520401001',\n",
       "  '1.8971894979476929',\n",
       "  '1.1331202983856201',\n",
       "  '1.2209402322769165',\n",
       "  '1.1129465103149414',\n",
       "  '1.1172844171524048',\n",
       "  '3.818429708480835',\n",
       "  '3.8173539638519287',\n",
       "  '1.2873011827468872',\n",
       "  '1.2908592224121094',\n",
       "  '1.247022271156311',\n",
       "  '1.3341412544250488',\n",
       "  '1.7682658433914185',\n",
       "  '0.8839813470840454',\n",
       "  '0.85347580909729',\n",
       "  '0.9799909591674805',\n",
       "  '0.8624385595321655',\n",
       "  '0.7198588053385416',\n",
       "  '0.7209289371967316',\n",
       "  '0.4695187509059906',\n",
       "  '0.4034839669863383',\n",
       "  '0.42481426397959393',\n",
       "  '0.4516247610251109',\n",
       "  '0.667974611123403',\n",
       "  '0.33199705680211383',\n",
       "  '0.33450358112653095',\n",
       "  '0.32313140233357746',\n",
       "  '0.3636637032032013',\n",
       "  '0.7796659767627716',\n",
       "  '0.8043107092380524',\n",
       "  '0.4113972882429759',\n",
       "  '0.4055401881535848',\n",
       "  '0.4094112018744151',\n",
       "  '0.4703789750734965',\n",
       "  '0.6154228746891022',\n",
       "  '0.34317423899968463',\n",
       "  '0.3540688355763753',\n",
       "  '0.3458780546983083',\n",
       "  '0.3464254339536031',\n",
       "  '0.5469267845153809',\n",
       "  '0.5220327483283149',\n",
       "  '0.3535052564409044',\n",
       "  '0.38581116994222003',\n",
       "  '0.3529765499962701',\n",
       "  '0.356318646007114',\n",
       "  '0.5621741029951307',\n",
       "  '0.2936519172456529',\n",
       "  '0.2884216758939955',\n",
       "  '0.2912737449010213',\n",
       "  '0.2912946383158366',\n",
       "  '0.5383747021357218',\n",
       "  '0.5607524342007107',\n",
       "  '0.35961710611979164',\n",
       "  '0.3547642363442315',\n",
       "  '0.3524425665537516',\n",
       "  '0.3563320053948296',\n",
       "  '0.5369941684934828',\n",
       "  '0.288818531566196',\n",
       "  '0.29077886740366615',\n",
       "  '0.290914962026808',\n",
       "  '0.293714345826043']}"
      ]
     },
     "execution_count": 137,
     "metadata": {},
     "output_type": "execute_result"
    }
   ],
   "source": [
    "dict_fot_datagram"
   ]
  },
  {
   "cell_type": "code",
   "execution_count": 141,
   "metadata": {},
   "outputs": [],
   "source": [
    "result_test_DF = pd.DataFrame(data=dict_fot_datagram)\n",
    "result_test_DF.to_csv(PATH_PRUEBAS+\"/resultados_test.csv\")"
   ]
  },
  {
   "cell_type": "markdown",
   "metadata": {
    "scrolled": true
   },
   "source": [
    "<h2 style=\"color:#BF360C\">CSV DE TRAIN</h2>"
   ]
  },
  {
   "cell_type": "code",
   "execution_count": 262,
   "metadata": {},
   "outputs": [],
   "source": [
    "dict_fot_datagram_train = {\n",
    "    \"ZOOM\":[],\n",
    "    \"PRUEBA\":[],\n",
    "    \"MODEL\":[],\n",
    "    \"BATCH_SIZE\":[],\n",
    "    \"EPOCH\":[],\n",
    "    \"CURRENT_LOSS\":[],\n",
    "    \"ACCURACY\":[],\n",
    "    \"ESTRATO_1\":[],\n",
    "    \"ESTRATO_2\":[],\n",
    "    \"ESTRATO_3\":[],\n",
    "    \"ESTRATO_4\":[],\n",
    "    \"ESTRATO_5\":[],\n",
    "    \"ESTRATO_6\":[],    \n",
    "    \"NO_DEFINIDO\":[],\n",
    "    \"PRECISION\":[],\n",
    "    \"RECALL\":[],\n",
    "    \"F1_SCORE\":[],\n",
    "    \"MEAN_IOU\":[],\n",
    "    \"RUN_TIME\":[]}"
   ]
  },
  {
   "cell_type": "code",
   "execution_count": 263,
   "metadata": {},
   "outputs": [],
   "source": [
    "def get_params_from_train_file(ZOOM, PRUEBA):\n",
    "    count = 0\n",
    "    model = []\n",
    "    batch_size = []\n",
    "    epoch = []\n",
    "    current_loss = []\n",
    "    accuracy = []\n",
    "    estrato_1 = []\n",
    "    estrato_2 = []\n",
    "    estrato_3 = []\n",
    "    estrato_4 = []\n",
    "    estrato_5 = []\n",
    "    estrato_6 = []\n",
    "    no_definido = []\n",
    "    precision = []\n",
    "    recall = []\n",
    "    f1_score = []\n",
    "    mean_IoU_score = []\n",
    "    run_time = \"\"\n",
    "    mean_cl = 0\n",
    "\n",
    "    train_file_path  = PATH_PRUEBAS+\"/\"+ZOOM+\"/prueba_\"+str(PRUEBA)+\"/train.txt\"\n",
    "    train_file = open(train_file_path, \"r\")\n",
    "\n",
    "    # Get params from TEST File\n",
    "    for line in train_file:\n",
    "      \n",
    "        ## Get model from test file\n",
    "        if \"Model --> \" in line:\n",
    "            model = line.split(\"Model --> \")[1].replace(\"\\n\",\"\")\n",
    "\n",
    "        # Get batch_size\n",
    "        batch_size = pruebas.iloc[PRUEBA-1,3]\n",
    "\n",
    "        # Get epoch\n",
    "        epoch = pruebas.iloc[PRUEBA-1,2]\n",
    "        \n",
    "        if \"Current_Loss\" in line:\n",
    "            current_loss.append(float(line.split(\"=\")[3].replace(\"\\n\",\"\").replace(\" \",\"\").replace(\"Time\",\"\")))\n",
    "           \n",
    "\n",
    "        # Get test_accuracy\n",
    "        if \"Average validation accuracy for epoch\" in line:\n",
    "            accuracy.append(float(line.split(\"=\")[1].replace(\"\\n\",\"\").replace(\" \",\"\")))\n",
    "\n",
    "        # Get accuracy ESTRATO_1\n",
    "        if \"Estrato_1\" in line:\n",
    "            estrato_1.append(float(line.split(\"=\")[1].replace(\"\\n\",\"\").replace(\" \",\"\")))\n",
    "\n",
    "        # Get accuracy ESTRATO_2\n",
    "        if \"Estrato_2\" in line:\n",
    "            estrato_2.append(float(line.split(\"=\")[1].replace(\"\\n\",\"\").replace(\" \",\"\")))\n",
    "\n",
    "        # Get accuracy ESTRATO_3\n",
    "        if \"Estrato_3\" in line:\n",
    "            estrato_3.append(float(line.split(\"=\")[1].replace(\"\\n\",\"\").replace(\" \",\"\")))\n",
    "\n",
    "        # Get accuracy ESTRATO_4\n",
    "        if \"Estrato_4\" in line:\n",
    "            estrato_4.append(float(line.split(\"=\")[1].replace(\"\\n\",\"\").replace(\" \",\"\")))\n",
    "\n",
    "        # Get accuracy ESTRATO_5\n",
    "        if \"Estrato_5\" in line:\n",
    "            estrato_5.append(float(line.split(\"=\")[1].replace(\"\\n\",\"\").replace(\" \",\"\")))\n",
    "\n",
    "        # Get accuracy ESTRATO_6\n",
    "        if \"Estrato_6\" in line:\n",
    "            estrato_6.append(float(line.split(\"=\")[1].replace(\"\\n\",\"\").replace(\" \",\"\")))\n",
    "\n",
    "        # Get accuracy No_Definido\n",
    "        if \"No_Definido\" in line:\n",
    "            no_definido.append(float(line.split(\"=\")[1].replace(\"\\n\",\"\").replace(\" \",\"\")))\n",
    "\n",
    "        if \"Validation precision\" in line:\n",
    "            precision.append(float(line.split(\"=\")[1].replace(\"\\n\",\"\").replace(\" \",\"\")))\n",
    "\n",
    "        if \"Validation recall\" in line:\n",
    "            recall.append(float(line.split(\"=\")[1].replace(\"\\n\",\"\").replace(\" \",\"\")))\n",
    "\n",
    "        if \"Validation F1 score\" in line:\n",
    "            f1_score.append(float(line.split(\"=\")[1].replace(\"\\n\",\"\").replace(\" \",\"\")))\n",
    "\n",
    "        if \"Validation IoU score\" in line:\n",
    "            mean_IoU_score.append(float(line.split(\"=\")[1].replace(\"\\n\",\"\").replace(\" \",\"\")))\n",
    "\n",
    "        if \"Remaining training time\" in line and count == 0:\n",
    "            run_time = line.split(\"=\")[1].replace(\"\\n\",\"\")\n",
    "            count = 1\n",
    "\n",
    "    if len(current_loss) != 0:\n",
    "        mean_cl = sum(current_loss)/len(current_loss)\n",
    "    return model, batch_size, epoch, mean_cl , sum(accuracy)/len(accuracy), sum(estrato_1)/len(estrato_1), sum(estrato_2)/len(estrato_2), sum(estrato_3)/len(estrato_3), sum(estrato_4)/len(estrato_4), sum(estrato_5)/len(estrato_5), sum(estrato_6)/len(estrato_6), len(no_definido)/len(no_definido), sum(precision)/len(precision), sum(recall)/len(recall), sum(f1_score)/len(f1_score), sum(mean_IoU_score)/len(mean_IoU_score), str(run_time)\n"
   ]
  },
  {
   "cell_type": "code",
   "execution_count": 264,
   "metadata": {},
   "outputs": [],
   "source": [
    "ZOOMS = [\"13_SIMPLE\",\"13_COMPOUND\",\"14_SIMPLE\",\"14_COMPOUND\",\"15_SIMPLE\",\"15_COMPOUND\"]\n",
    "PRUEBAS = [1,2,3,4,5,6,7,8,9,10,11]"
   ]
  },
  {
   "cell_type": "code",
   "execution_count": 265,
   "metadata": {},
   "outputs": [
    {
     "name": "stdout",
     "output_type": "stream",
     "text": [
      " 0 hours 28 minutes 16 seconds\n",
      " 0 hours 31 minutes 0 seconds\n",
      " 0 hours 31 minutes 50 seconds\n",
      " 0 hours 28 minutes 25 seconds\n",
      " 0 hours 41 minutes 20 seconds\n",
      " 0 hours 33 minutes 4 seconds\n",
      " 0 hours 43 minutes 11 seconds\n",
      " 0 hours 18 minutes 3 seconds\n",
      " 0 hours 18 minutes 57 seconds\n",
      " 0 hours 15 minutes 34 seconds\n",
      " 0 hours 15 minutes 17 seconds\n",
      " 0 hours 22 minutes 25 seconds\n",
      " 0 hours 33 minutes 13 seconds\n",
      " 0 hours 32 minutes 42 seconds\n",
      " 0 hours 34 minutes 12 seconds\n",
      " 0 hours 34 minutes 48 seconds\n",
      " 0 hours 28 minutes 26 seconds\n",
      " 0 hours 27 minutes 57 seconds\n",
      " 0 hours 15 minutes 0 seconds\n",
      " 0 hours 13 minutes 30 seconds\n",
      " 0 hours 22 minutes 37 seconds\n",
      " 0 hours 14 minutes 36 seconds\n",
      " 0 hours 50 minutes 29 seconds\n",
      " 0 hours 58 minutes 30 seconds\n",
      " 0 hours 57 minutes 48 seconds\n",
      " 0 hours 50 minutes 38 seconds\n",
      " 1 hours 15 minutes 23 seconds\n",
      " 0 hours 53 minutes 49 seconds\n",
      " 1 hours 11 minutes 12 seconds\n",
      " 0 hours 37 minutes 47 seconds\n",
      " 0 hours 33 minutes 36 seconds\n",
      " 0 hours 36 minutes 49 seconds\n",
      " 0 hours 35 minutes 42 seconds\n",
      " 0 hours 42 minutes 4 seconds\n",
      " 0 hours 58 minutes 30 seconds\n",
      " 1 hours 15 minutes 18 seconds\n",
      " 0 hours 53 minutes 51 seconds\n",
      " 0 hours 57 minutes 47 seconds\n",
      " 0 hours 51 minutes 50 seconds\n",
      " 1 hours 3 minutes 13 seconds\n",
      " 0 hours 48 minutes 34 seconds\n",
      " 0 hours 36 minutes 56 seconds\n",
      " 0 hours 37 minutes 36 seconds\n",
      " 0 hours 36 minutes 0 seconds\n",
      " 1 hours 52 minutes 48 seconds\n",
      " 2 hours 39 minutes 5 seconds\n",
      " 2 hours 35 minutes 5 seconds\n",
      " 2 hours 40 minutes 59 seconds\n",
      " 3 hours 9 minutes 6 seconds\n",
      " 2 hours 9 minutes 40 seconds\n",
      " 3 hours 10 minutes 29 seconds\n",
      " 1 hours 56 minutes 36 seconds\n",
      " 1 hours 49 minutes 19 seconds\n",
      " 2 hours 8 minutes 53 seconds\n",
      " 1 hours 50 minutes 29 seconds\n",
      " 1 hours 59 minutes 11 seconds\n",
      " 2 hours 39 minutes 2 seconds\n",
      " 2 hours 41 minutes 12 seconds\n",
      " 2 hours 11 minutes 17 seconds\n",
      " 2 hours 38 minutes 47 seconds\n",
      " 2 hours 16 minutes 52 seconds\n",
      " 3 hours 13 minutes 31 seconds\n",
      " 1 hours 58 minutes 45 seconds\n",
      " 1 hours 49 minutes 7 seconds\n",
      " 2 hours 9 minutes 23 seconds\n",
      " 1 hours 58 minutes 39 seconds\n"
     ]
    }
   ],
   "source": [
    "for ZOOM in ZOOMS:\n",
    "    for PRUEBA in PRUEBAS:\n",
    "        m, bs, e, cl, a, e1, e2, e3, e4, e5, e6, nd, p, r, f, mis, rt = get_params_from_train_file(ZOOM, PRUEBA)\n",
    "        dict_fot_datagram_train[\"ZOOM\"].append(ZOOM)\n",
    "        dict_fot_datagram_train[\"PRUEBA\"].append(PRUEBA)\n",
    "        dict_fot_datagram_train[\"MODEL\"].append(m)\n",
    "        dict_fot_datagram_train[\"BATCH_SIZE\"].append(bs)\n",
    "        dict_fot_datagram_train[\"EPOCH\"].append(e)\n",
    "        dict_fot_datagram_train[\"CURRENT_LOSS\"].append(cl)        \n",
    "        dict_fot_datagram_train[\"ACCURACY\"].append(a)\n",
    "        dict_fot_datagram_train[\"ESTRATO_1\"].append(e1)\n",
    "        dict_fot_datagram_train[\"ESTRATO_2\"].append(e2)\n",
    "        dict_fot_datagram_train[\"ESTRATO_3\"].append(e3)\n",
    "        dict_fot_datagram_train[\"ESTRATO_4\"].append(e4)\n",
    "        dict_fot_datagram_train[\"ESTRATO_5\"].append(e5)\n",
    "        dict_fot_datagram_train[\"ESTRATO_6\"].append(e6)\n",
    "        dict_fot_datagram_train[\"NO_DEFINIDO\"].append(nd)\n",
    "        dict_fot_datagram_train[\"PRECISION\"].append(p)\n",
    "        dict_fot_datagram_train[\"RECALL\"].append(r)\n",
    "        dict_fot_datagram_train[\"F1_SCORE\"].append(f)\n",
    "        dict_fot_datagram_train[\"MEAN_IOU\"].append(mis)\n",
    "        print(rt)\n",
    "        dict_fot_datagram_train[\"RUN_TIME\"].append(rt)"
   ]
  },
  {
   "cell_type": "code",
   "execution_count": 267,
   "metadata": {},
   "outputs": [],
   "source": [
    "result_trainMean_DF = pd.DataFrame(data=dict_fot_datagram_train)\n",
    "result_trainMean_DF.to_csv(PATH_PRUEBAS+\"/resultados_mean_train.csv\")"
   ]
  },
  {
   "cell_type": "code",
   "execution_count": 6,
   "metadata": {},
   "outputs": [
    {
     "data": {
      "text/html": [
       "<div>\n",
       "<style scoped>\n",
       "    .dataframe tbody tr th:only-of-type {\n",
       "        vertical-align: middle;\n",
       "    }\n",
       "\n",
       "    .dataframe tbody tr th {\n",
       "        vertical-align: top;\n",
       "    }\n",
       "\n",
       "    .dataframe thead th {\n",
       "        text-align: right;\n",
       "    }\n",
       "</style>\n",
       "<table border=\"1\" class=\"dataframe\">\n",
       "  <thead>\n",
       "    <tr style=\"text-align: right;\">\n",
       "      <th></th>\n",
       "      <th>ZOOM</th>\n",
       "      <th>PRUEBA</th>\n",
       "      <th>MODEL</th>\n",
       "      <th>BATCH_SIZE</th>\n",
       "      <th>EPOCH</th>\n",
       "      <th>ACCURACY</th>\n",
       "      <th>ESTRATO_1</th>\n",
       "      <th>ESTRATO_2</th>\n",
       "      <th>ESTRATO_3</th>\n",
       "      <th>ESTRATO_4</th>\n",
       "      <th>ESTRATO_5</th>\n",
       "      <th>ESTRATO_6</th>\n",
       "      <th>NO_DEFINIDO</th>\n",
       "      <th>PRECISION</th>\n",
       "      <th>RECALL</th>\n",
       "      <th>F1_SCORE</th>\n",
       "      <th>MEAN_IOU</th>\n",
       "      <th>RUN_TIME</th>\n",
       "    </tr>\n",
       "  </thead>\n",
       "  <tbody>\n",
       "    <tr>\n",
       "      <th>0</th>\n",
       "      <td>13_SIMPLE</td>\n",
       "      <td>1</td>\n",
       "      <td>FC-DenseNet56</td>\n",
       "      <td>1</td>\n",
       "      <td>50</td>\n",
       "      <td>0.679520</td>\n",
       "      <td>0.008975</td>\n",
       "      <td>0.380646</td>\n",
       "      <td>0.767460</td>\n",
       "      <td>0.017459</td>\n",
       "      <td>0.001860</td>\n",
       "      <td>0.5</td>\n",
       "      <td>0.998961</td>\n",
       "      <td>0.783245</td>\n",
       "      <td>0.679520</td>\n",
       "      <td>0.705970</td>\n",
       "      <td>0.236820</td>\n",
       "      <td>3.950804</td>\n",
       "    </tr>\n",
       "    <tr>\n",
       "      <th>1</th>\n",
       "      <td>13_SIMPLE</td>\n",
       "      <td>2</td>\n",
       "      <td>FC-DenseNet56</td>\n",
       "      <td>1</td>\n",
       "      <td>70</td>\n",
       "      <td>0.726295</td>\n",
       "      <td>0.023031</td>\n",
       "      <td>0.419804</td>\n",
       "      <td>0.819672</td>\n",
       "      <td>0.271714</td>\n",
       "      <td>0.009455</td>\n",
       "      <td>0.5</td>\n",
       "      <td>0.998502</td>\n",
       "      <td>0.811055</td>\n",
       "      <td>0.726295</td>\n",
       "      <td>0.749958</td>\n",
       "      <td>0.278959</td>\n",
       "      <td>3.955073</td>\n",
       "    </tr>\n",
       "    <tr>\n",
       "      <th>2</th>\n",
       "      <td>13_SIMPLE</td>\n",
       "      <td>3</td>\n",
       "      <td>Encoder-Decoder</td>\n",
       "      <td>1</td>\n",
       "      <td>70</td>\n",
       "      <td>0.397835</td>\n",
       "      <td>0.011190</td>\n",
       "      <td>0.237949</td>\n",
       "      <td>0.309627</td>\n",
       "      <td>0.054137</td>\n",
       "      <td>0.000000</td>\n",
       "      <td>0.5</td>\n",
       "      <td>0.616509</td>\n",
       "      <td>0.417058</td>\n",
       "      <td>0.397835</td>\n",
       "      <td>0.387617</td>\n",
       "      <td>0.115989</td>\n",
       "      <td>4.431939</td>\n",
       "    </tr>\n",
       "    <tr>\n",
       "      <th>3</th>\n",
       "      <td>13_SIMPLE</td>\n",
       "      <td>4</td>\n",
       "      <td>Encoder-Decoder</td>\n",
       "      <td>2</td>\n",
       "      <td>70</td>\n",
       "      <td>0.463615</td>\n",
       "      <td>0.009907</td>\n",
       "      <td>0.175446</td>\n",
       "      <td>0.454276</td>\n",
       "      <td>0.029930</td>\n",
       "      <td>0.000000</td>\n",
       "      <td>0.5</td>\n",
       "      <td>0.725063</td>\n",
       "      <td>0.525583</td>\n",
       "      <td>0.463615</td>\n",
       "      <td>0.465768</td>\n",
       "      <td>0.134592</td>\n",
       "      <td>1.356466</td>\n",
       "    </tr>\n",
       "    <tr>\n",
       "      <th>4</th>\n",
       "      <td>13_SIMPLE</td>\n",
       "      <td>5</td>\n",
       "      <td>Encoder-Decoder-Skip</td>\n",
       "      <td>1</td>\n",
       "      <td>70</td>\n",
       "      <td>0.684448</td>\n",
       "      <td>0.141093</td>\n",
       "      <td>0.414636</td>\n",
       "      <td>0.701830</td>\n",
       "      <td>0.245892</td>\n",
       "      <td>0.001548</td>\n",
       "      <td>0.5</td>\n",
       "      <td>0.985018</td>\n",
       "      <td>0.718153</td>\n",
       "      <td>0.684448</td>\n",
       "      <td>0.681815</td>\n",
       "      <td>0.276193</td>\n",
       "      <td>4.714256</td>\n",
       "    </tr>\n",
       "  </tbody>\n",
       "</table>\n",
       "</div>"
      ],
      "text/plain": [
       "        ZOOM  PRUEBA                 MODEL  BATCH_SIZE  EPOCH  ACCURACY  \\\n",
       "0  13_SIMPLE       1         FC-DenseNet56           1     50  0.679520   \n",
       "1  13_SIMPLE       2         FC-DenseNet56           1     70  0.726295   \n",
       "2  13_SIMPLE       3       Encoder-Decoder           1     70  0.397835   \n",
       "3  13_SIMPLE       4       Encoder-Decoder           2     70  0.463615   \n",
       "4  13_SIMPLE       5  Encoder-Decoder-Skip           1     70  0.684448   \n",
       "\n",
       "   ESTRATO_1  ESTRATO_2  ESTRATO_3  ESTRATO_4  ESTRATO_5  ESTRATO_6  \\\n",
       "0   0.008975   0.380646   0.767460   0.017459   0.001860        0.5   \n",
       "1   0.023031   0.419804   0.819672   0.271714   0.009455        0.5   \n",
       "2   0.011190   0.237949   0.309627   0.054137   0.000000        0.5   \n",
       "3   0.009907   0.175446   0.454276   0.029930   0.000000        0.5   \n",
       "4   0.141093   0.414636   0.701830   0.245892   0.001548        0.5   \n",
       "\n",
       "   NO_DEFINIDO  PRECISION    RECALL  F1_SCORE  MEAN_IOU  RUN_TIME  \n",
       "0     0.998961   0.783245  0.679520  0.705970  0.236820  3.950804  \n",
       "1     0.998502   0.811055  0.726295  0.749958  0.278959  3.955073  \n",
       "2     0.616509   0.417058  0.397835  0.387617  0.115989  4.431939  \n",
       "3     0.725063   0.525583  0.463615  0.465768  0.134592  1.356466  \n",
       "4     0.985018   0.718153  0.684448  0.681815  0.276193  4.714256  "
      ]
     },
     "execution_count": 6,
     "metadata": {},
     "output_type": "execute_result"
    }
   ],
   "source": [
    "csv_test = pd.read_csv(PATH_PRUEBAS+\"/resultados_test.csv\")\n",
    "csv_test.head()"
   ]
  },
  {
   "cell_type": "code",
   "execution_count": 7,
   "metadata": {},
   "outputs": [
    {
     "data": {
      "text/html": [
       "<div>\n",
       "<style scoped>\n",
       "    .dataframe tbody tr th:only-of-type {\n",
       "        vertical-align: middle;\n",
       "    }\n",
       "\n",
       "    .dataframe tbody tr th {\n",
       "        vertical-align: top;\n",
       "    }\n",
       "\n",
       "    .dataframe thead th {\n",
       "        text-align: right;\n",
       "    }\n",
       "</style>\n",
       "<table border=\"1\" class=\"dataframe\">\n",
       "  <thead>\n",
       "    <tr style=\"text-align: right;\">\n",
       "      <th></th>\n",
       "      <th>ZOOM</th>\n",
       "      <th>PRUEBA</th>\n",
       "      <th>MODEL</th>\n",
       "      <th>BATCH_SIZE</th>\n",
       "      <th>EPOCH</th>\n",
       "      <th>CURRENT_LOSS</th>\n",
       "      <th>ACCURACY</th>\n",
       "      <th>ESTRATO_1</th>\n",
       "      <th>ESTRATO_2</th>\n",
       "      <th>ESTRATO_3</th>\n",
       "      <th>ESTRATO_4</th>\n",
       "      <th>ESTRATO_5</th>\n",
       "      <th>ESTRATO_6</th>\n",
       "      <th>NO_DEFINIDO</th>\n",
       "      <th>PRECISION</th>\n",
       "      <th>RECALL</th>\n",
       "      <th>F1_SCORE</th>\n",
       "      <th>MEAN_IOU</th>\n",
       "      <th>RUN_TIME</th>\n",
       "    </tr>\n",
       "  </thead>\n",
       "  <tbody>\n",
       "    <tr>\n",
       "      <th>0</th>\n",
       "      <td>13_SIMPLE</td>\n",
       "      <td>1</td>\n",
       "      <td>FC-DenseNet56</td>\n",
       "      <td>1</td>\n",
       "      <td>50</td>\n",
       "      <td>0.0</td>\n",
       "      <td>0.630777</td>\n",
       "      <td>0.007653</td>\n",
       "      <td>0.352549</td>\n",
       "      <td>0.612225</td>\n",
       "      <td>0.011561</td>\n",
       "      <td>0.004060</td>\n",
       "      <td>0.500000</td>\n",
       "      <td>1.0</td>\n",
       "      <td>0.760602</td>\n",
       "      <td>0.630777</td>\n",
       "      <td>0.664375</td>\n",
       "      <td>0.210141</td>\n",
       "      <td>0 hours 28 minutes 16 seconds</td>\n",
       "    </tr>\n",
       "    <tr>\n",
       "      <th>1</th>\n",
       "      <td>13_SIMPLE</td>\n",
       "      <td>2</td>\n",
       "      <td>FC-DenseNet56</td>\n",
       "      <td>1</td>\n",
       "      <td>70</td>\n",
       "      <td>0.0</td>\n",
       "      <td>0.675125</td>\n",
       "      <td>0.012473</td>\n",
       "      <td>0.362456</td>\n",
       "      <td>0.698846</td>\n",
       "      <td>0.055277</td>\n",
       "      <td>0.009559</td>\n",
       "      <td>0.500000</td>\n",
       "      <td>1.0</td>\n",
       "      <td>0.788756</td>\n",
       "      <td>0.675125</td>\n",
       "      <td>0.708652</td>\n",
       "      <td>0.234746</td>\n",
       "      <td>0 hours 31 minutes 0 seconds</td>\n",
       "    </tr>\n",
       "    <tr>\n",
       "      <th>2</th>\n",
       "      <td>13_SIMPLE</td>\n",
       "      <td>3</td>\n",
       "      <td>Encoder-Decoder</td>\n",
       "      <td>1</td>\n",
       "      <td>70</td>\n",
       "      <td>0.0</td>\n",
       "      <td>0.405406</td>\n",
       "      <td>0.004944</td>\n",
       "      <td>0.258816</td>\n",
       "      <td>0.267041</td>\n",
       "      <td>0.021257</td>\n",
       "      <td>0.000511</td>\n",
       "      <td>0.500000</td>\n",
       "      <td>1.0</td>\n",
       "      <td>0.471292</td>\n",
       "      <td>0.405406</td>\n",
       "      <td>0.414206</td>\n",
       "      <td>0.112025</td>\n",
       "      <td>0 hours 31 minutes 50 seconds</td>\n",
       "    </tr>\n",
       "    <tr>\n",
       "      <th>3</th>\n",
       "      <td>13_SIMPLE</td>\n",
       "      <td>4</td>\n",
       "      <td>Encoder-Decoder</td>\n",
       "      <td>2</td>\n",
       "      <td>70</td>\n",
       "      <td>0.0</td>\n",
       "      <td>0.457414</td>\n",
       "      <td>0.020234</td>\n",
       "      <td>0.228824</td>\n",
       "      <td>0.301582</td>\n",
       "      <td>0.026184</td>\n",
       "      <td>0.004059</td>\n",
       "      <td>0.507143</td>\n",
       "      <td>1.0</td>\n",
       "      <td>0.585847</td>\n",
       "      <td>0.457414</td>\n",
       "      <td>0.484007</td>\n",
       "      <td>0.128485</td>\n",
       "      <td>0 hours 28 minutes 25 seconds</td>\n",
       "    </tr>\n",
       "    <tr>\n",
       "      <th>4</th>\n",
       "      <td>13_SIMPLE</td>\n",
       "      <td>5</td>\n",
       "      <td>Encoder-Decoder-Skip</td>\n",
       "      <td>1</td>\n",
       "      <td>70</td>\n",
       "      <td>0.0</td>\n",
       "      <td>0.630743</td>\n",
       "      <td>0.059241</td>\n",
       "      <td>0.395298</td>\n",
       "      <td>0.620995</td>\n",
       "      <td>0.145454</td>\n",
       "      <td>0.012792</td>\n",
       "      <td>0.542857</td>\n",
       "      <td>1.0</td>\n",
       "      <td>0.690127</td>\n",
       "      <td>0.630743</td>\n",
       "      <td>0.632577</td>\n",
       "      <td>0.239523</td>\n",
       "      <td>0 hours 41 minutes 20 seconds</td>\n",
       "    </tr>\n",
       "  </tbody>\n",
       "</table>\n",
       "</div>"
      ],
      "text/plain": [
       "        ZOOM  PRUEBA                 MODEL  BATCH_SIZE  EPOCH  CURRENT_LOSS  \\\n",
       "0  13_SIMPLE       1         FC-DenseNet56           1     50           0.0   \n",
       "1  13_SIMPLE       2         FC-DenseNet56           1     70           0.0   \n",
       "2  13_SIMPLE       3       Encoder-Decoder           1     70           0.0   \n",
       "3  13_SIMPLE       4       Encoder-Decoder           2     70           0.0   \n",
       "4  13_SIMPLE       5  Encoder-Decoder-Skip           1     70           0.0   \n",
       "\n",
       "   ACCURACY  ESTRATO_1  ESTRATO_2  ESTRATO_3  ESTRATO_4  ESTRATO_5  ESTRATO_6  \\\n",
       "0  0.630777   0.007653   0.352549   0.612225   0.011561   0.004060   0.500000   \n",
       "1  0.675125   0.012473   0.362456   0.698846   0.055277   0.009559   0.500000   \n",
       "2  0.405406   0.004944   0.258816   0.267041   0.021257   0.000511   0.500000   \n",
       "3  0.457414   0.020234   0.228824   0.301582   0.026184   0.004059   0.507143   \n",
       "4  0.630743   0.059241   0.395298   0.620995   0.145454   0.012792   0.542857   \n",
       "\n",
       "   NO_DEFINIDO  PRECISION    RECALL  F1_SCORE  MEAN_IOU  \\\n",
       "0          1.0   0.760602  0.630777  0.664375  0.210141   \n",
       "1          1.0   0.788756  0.675125  0.708652  0.234746   \n",
       "2          1.0   0.471292  0.405406  0.414206  0.112025   \n",
       "3          1.0   0.585847  0.457414  0.484007  0.128485   \n",
       "4          1.0   0.690127  0.630743  0.632577  0.239523   \n",
       "\n",
       "                         RUN_TIME  \n",
       "0   0 hours 28 minutes 16 seconds  \n",
       "1    0 hours 31 minutes 0 seconds  \n",
       "2   0 hours 31 minutes 50 seconds  \n",
       "3   0 hours 28 minutes 25 seconds  \n",
       "4   0 hours 41 minutes 20 seconds  "
      ]
     },
     "execution_count": 7,
     "metadata": {},
     "output_type": "execute_result"
    }
   ],
   "source": [
    "csv_train = pd.read_csv(PATH_PRUEBAS+\"/resultados_mean_train.csv\")\n",
    "csv_train.head()"
   ]
  },
  {
   "cell_type": "markdown",
   "metadata": {},
   "source": [
    "<h2 style=\"color:#BF360C\">MEJOR IOU DADO POR EL FRAMEWORK</h2>"
   ]
  },
  {
   "cell_type": "code",
   "execution_count": 284,
   "metadata": {},
   "outputs": [
    {
     "data": {
      "text/plain": [
       "(0.34783605595694456, 56)"
      ]
     },
     "execution_count": 284,
     "metadata": {},
     "output_type": "execute_result"
    }
   ],
   "source": [
    "# IoU Mayor entre todas las pruebas\n",
    "csv_test[\"MEAN_IOU\"].max(), csv_test[\"MEAN_IOU\"].idxmax()"
   ]
  },
  {
   "cell_type": "code",
   "execution_count": 285,
   "metadata": {},
   "outputs": [
    {
     "data": {
      "text/plain": [
       "ZOOM             15_COMPOUND\n",
       "PRUEBA                     2\n",
       "MODEL          FC-DenseNet56\n",
       "BATCH_SIZE                 1\n",
       "EPOCH                     70\n",
       "ACCURACY            0.700957\n",
       "ESTRATO_1           0.518061\n",
       "ESTRATO_2           0.386717\n",
       "ESTRATO_3           0.692143\n",
       "ESTRATO_4            0.57618\n",
       "ESTRATO_5           0.315527\n",
       "ESTRATO_6           0.814261\n",
       "NO_DEFINIDO         0.999701\n",
       "PRECISION            0.74918\n",
       "RECALL              0.700957\n",
       "F1_SCORE            0.687057\n",
       "MEAN_IOU            0.347836\n",
       "RUN_TIME            0.560752\n",
       "Name: 56, dtype: object"
      ]
     },
     "execution_count": 285,
     "metadata": {},
     "output_type": "execute_result"
    }
   ],
   "source": [
    "csv_test.loc[56]"
   ]
  },
  {
   "cell_type": "code",
   "execution_count": 286,
   "metadata": {},
   "outputs": [
    {
     "data": {
      "text/plain": [
       "ZOOM                              15_COMPOUND\n",
       "PRUEBA                                      2\n",
       "MODEL                           FC-DenseNet56\n",
       "BATCH_SIZE                                  1\n",
       "EPOCH                                      70\n",
       "CURRENT_LOSS                         0.458721\n",
       "ACCURACY                             0.757458\n",
       "ESTRATO_1                            0.343636\n",
       "ESTRATO_2                            0.464864\n",
       "ESTRATO_3                            0.802915\n",
       "ESTRATO_4                            0.623062\n",
       "ESTRATO_5                             0.18752\n",
       "ESTRATO_6                             0.90105\n",
       "NO_DEFINIDO                                 1\n",
       "PRECISION                            0.812671\n",
       "RECALL                               0.757458\n",
       "F1_SCORE                             0.754126\n",
       "MEAN_IOU                             0.340947\n",
       "RUN_TIME         2 hours 39 minutes 2 seconds\n",
       "Name: 56, dtype: object"
      ]
     },
     "execution_count": 286,
     "metadata": {},
     "output_type": "execute_result"
    }
   ],
   "source": [
    "csv_train.loc[56]"
   ]
  },
  {
   "cell_type": "code",
   "execution_count": 289,
   "metadata": {},
   "outputs": [
    {
     "data": {
      "text/plain": [
       "(0.35889148805341103, 59)"
      ]
     },
     "execution_count": 289,
     "metadata": {},
     "output_type": "execute_result"
    }
   ],
   "source": [
    "# El mejor Iou en Validacion\n",
    "csv_train[\"MEAN_IOU\"].max(), csv_train[\"MEAN_IOU\"].idxmax()"
   ]
  },
  {
   "cell_type": "markdown",
   "metadata": {},
   "source": [
    "<h2 style=\"color:#BF360C\">IOU Skicit - learn </h2>"
   ]
  },
  {
   "cell_type": "code",
   "execution_count": 4,
   "metadata": {},
   "outputs": [],
   "source": [
    "import helper as hp"
   ]
  },
  {
   "cell_type": "code",
   "execution_count": 146,
   "metadata": {},
   "outputs": [
    {
     "data": {
      "text/plain": [
       "('mean iou:', 0.283134)"
      ]
     },
     "execution_count": 146,
     "metadata": {},
     "output_type": "execute_result"
    }
   ],
   "source": [
    "from sklearn.metrics import jaccard_similarity_score\n",
    "\n",
    "pred_3d = io.imread(PATH_PRUEBAS+\"/15_COMPOUND/prueba_2/Val/58_pred.png\")\n",
    "gt_3d = io.imread(PATH_PRUEBAS+\"/15_COMPOUND/prueba_2/Val/58_gt.png\")\n",
    "label_3d = io.imread(\"./data/dataset/OVERLAECOBO/WITHOUT BACKGROUND/OVERLAECOBO_15/LABEL/val_labels/58.png\")\n",
    "\n",
    "iou_framework = pd.read_csv(PATH_PRUEBAS+\"/15_COMPOUND/prueba_2/Val/val_scores.csv\")\n",
    "\"mean iou:\",iou_framework.loc[54][5]"
   ]
  },
  {
   "cell_type": "markdown",
   "metadata": {},
   "source": [
    "<div style=\"width:100%; text-align: center; \">\n",
    "    <div style=\"width:40%; display: inline-block\" >\n",
    "        TARGET\n",
    "        <img src=\"./Resultados/15_COMPOUND/prueba_2/Val/58_gt.png\"/>\n",
    "    </div>\n",
    "    <div style=\"width:40%; display: inline-block\"  style=\"width:40%; display: inline-block\" >\n",
    "        PREDICT\n",
    "        <img src=\"./Resultados/15_COMPOUND/prueba_2/Val/58_pred.png\"/>\n",
    "    </div>\n",
    "    <p> <center><b>\n",
    "   \n",
    "    </center>\n",
    "    </p>\n",
    "</div>"
   ]
  },
  {
   "cell_type": "code",
   "execution_count": 147,
   "metadata": {},
   "outputs": [
    {
     "data": {
      "text/plain": [
       "((256, 256, 3), (256, 256, 3), (256, 256, 3))"
      ]
     },
     "execution_count": 147,
     "metadata": {},
     "output_type": "execute_result"
    }
   ],
   "source": [
    "pred_3d.shape, gt_3d.shape, label_3d.shape"
   ]
  },
  {
   "cell_type": "code",
   "execution_count": 148,
   "metadata": {},
   "outputs": [
    {
     "data": {
      "text/plain": [
       "0.4997711181640625"
      ]
     },
     "execution_count": 148,
     "metadata": {},
     "output_type": "execute_result"
    }
   ],
   "source": [
    "pred_2d = hp.get_target_matrix(pred_3d)\n",
    "gt_2d = hp.get_target_matrix(gt_3d)\n",
    "\n",
    "jaccard_similarity_score(gt_2d.ravel(),pred_2d.ravel())"
   ]
  },
  {
   "cell_type": "markdown",
   "metadata": {},
   "source": [
    "<h2 style=\"color:#BF360C\">OTRAS METRICAS </h2>"
   ]
  },
  {
   "cell_type": "markdown",
   "metadata": {},
   "source": [
    "Usando las mateicas del repositorio [py_img_seg_eval](https://github.com/martinkersner/py_img_seg_eval). Estan en [este archivo](./py_img_seg_eval/Other Metrics.ipynb)"
   ]
  },
  {
   "cell_type": "markdown",
   "metadata": {},
   "source": [
    "<h2 style=\"color:#BF360C\">PORCENTAJE DE CADA CLASE EN OVERLAECOBO</h2>\n",
    "Tanto target como predict, Test y train de cada zoom"
   ]
  },
  {
   "cell_type": "code",
   "execution_count": 5,
   "metadata": {},
   "outputs": [],
   "source": [
    "ZOOMS = [\"13_SIMPLE\",\"13_COMPOUND\",\"14_SIMPLE\",\"14_COMPOUND\",\"15_SIMPLE\",\"15_COMPOUND\"]\n",
    "TYPES = [\"train\",\"val\"]\n",
    "\n",
    "dict_per = {\n",
    "    \"ZOOM\":[],\n",
    "    \"TYPE\":[],\n",
    "    \"PER_ESTRATO_1\":[],\n",
    "    \"PER_ESTRATO_2\":[],\n",
    "    \"PER_ESTRATO_3\":[],\n",
    "    \"PER_ESTRATO_4\":[],\n",
    "    \"PER_ESTRATO_5\":[],\n",
    "    \"PER_ESTRATO_6\":[],\n",
    "    \"PER_NO_DEFINIDO\":[],\n",
    "    }\n",
    "\n",
    "for ZOOM in ZOOMS:\n",
    "    for TYPE in TYPES:\n",
    "        files = os.listdir(\"./data/dataset/OVERLAECOBO/WITHOUT BACKGROUND/OVERLAECOBO_\"+ZOOM[:2]+\"/LABEL/\"+TYPE+\"_labels/\")\n",
    "        count_files = len(files)\n",
    "        total_per = np.array([0] * 7)\n",
    "\n",
    "        for i in files:\n",
    "            img = io.imread(\"./data/dataset/OVERLAECOBO/WITHOUT BACKGROUND/OVERLAECOBO_\"+ZOOM[:2]+\"/LABEL/\"+TYPE+\"_labels/\"+i)\n",
    "            mask = hp.get_target_matrix(img)\n",
    "            aux_per = [0] * 7\n",
    "\n",
    "            for i in range(7):\n",
    "                per = mask == i\n",
    "                #print(sum(sum(per)))\n",
    "                aux_per[i] = 100*(sum(sum(per)))/(256*256*count_files)\n",
    "            total_per = total_per + np.array(aux_per)\n",
    "        \n",
    "        dict_per[\"ZOOM\"].append(ZOOM)\n",
    "        dict_per[\"TYPE\"].append(TYPE)\n",
    "        dict_per[\"PER_ESTRATO_1\"].append(total_per[1])\n",
    "        dict_per[\"PER_ESTRATO_2\"].append(total_per[2])\n",
    "        dict_per[\"PER_ESTRATO_3\"].append(total_per[3])\n",
    "        dict_per[\"PER_ESTRATO_4\"].append(total_per[4])\n",
    "        dict_per[\"PER_ESTRATO_5\"].append(total_per[5])\n",
    "        dict_per[\"PER_ESTRATO_6\"].append(total_per[6])\n",
    "        dict_per[\"PER_NO_DEFINIDO\"].append(total_per[0])"
   ]
  },
  {
   "cell_type": "code",
   "execution_count": null,
   "metadata": {},
   "outputs": [],
   "source": [
    "pd.DataFrame(data=dict_per).to_csv(\"./Resultados/Porcentaje_por_clase_OVERLAECOBO.csv\")"
   ]
  },
  {
   "cell_type": "code",
   "execution_count": 159,
   "metadata": {},
   "outputs": [
    {
     "data": {
      "text/html": [
       "<div>\n",
       "<style scoped>\n",
       "    .dataframe tbody tr th:only-of-type {\n",
       "        vertical-align: middle;\n",
       "    }\n",
       "\n",
       "    .dataframe tbody tr th {\n",
       "        vertical-align: top;\n",
       "    }\n",
       "\n",
       "    .dataframe thead th {\n",
       "        text-align: right;\n",
       "    }\n",
       "</style>\n",
       "<table border=\"1\" class=\"dataframe\">\n",
       "  <thead>\n",
       "    <tr style=\"text-align: right;\">\n",
       "      <th></th>\n",
       "      <th>ZOOM</th>\n",
       "      <th>TYPE</th>\n",
       "      <th>PER_ESTRATO_1</th>\n",
       "      <th>PER_ESTRATO_2</th>\n",
       "      <th>PER_ESTRATO_3</th>\n",
       "      <th>PER_ESTRATO_4</th>\n",
       "      <th>PER_ESTRATO_5</th>\n",
       "      <th>PER_ESTRATO_6</th>\n",
       "      <th>PER_NO_DEFINIDO</th>\n",
       "    </tr>\n",
       "  </thead>\n",
       "  <tbody>\n",
       "    <tr>\n",
       "      <th>1</th>\n",
       "      <td>13_SIMPLE</td>\n",
       "      <td>val</td>\n",
       "      <td>7.423401</td>\n",
       "      <td>21.501923</td>\n",
       "      <td>25.907898</td>\n",
       "      <td>2.604675</td>\n",
       "      <td>1.066589</td>\n",
       "      <td>0.000763</td>\n",
       "      <td>41.494751</td>\n",
       "    </tr>\n",
       "    <tr>\n",
       "      <th>3</th>\n",
       "      <td>13_COMPOUND</td>\n",
       "      <td>val</td>\n",
       "      <td>7.423401</td>\n",
       "      <td>21.501923</td>\n",
       "      <td>25.907898</td>\n",
       "      <td>2.604675</td>\n",
       "      <td>1.066589</td>\n",
       "      <td>0.000763</td>\n",
       "      <td>41.494751</td>\n",
       "    </tr>\n",
       "    <tr>\n",
       "      <th>5</th>\n",
       "      <td>14_SIMPLE</td>\n",
       "      <td>val</td>\n",
       "      <td>5.253728</td>\n",
       "      <td>10.547129</td>\n",
       "      <td>15.507762</td>\n",
       "      <td>6.889025</td>\n",
       "      <td>3.952662</td>\n",
       "      <td>3.091113</td>\n",
       "      <td>54.758581</td>\n",
       "    </tr>\n",
       "    <tr>\n",
       "      <th>7</th>\n",
       "      <td>14_COMPOUND</td>\n",
       "      <td>val</td>\n",
       "      <td>5.253728</td>\n",
       "      <td>10.547129</td>\n",
       "      <td>15.507762</td>\n",
       "      <td>6.889025</td>\n",
       "      <td>3.952662</td>\n",
       "      <td>3.091113</td>\n",
       "      <td>54.758581</td>\n",
       "    </tr>\n",
       "    <tr>\n",
       "      <th>9</th>\n",
       "      <td>15_SIMPLE</td>\n",
       "      <td>val</td>\n",
       "      <td>5.689714</td>\n",
       "      <td>11.387821</td>\n",
       "      <td>16.563992</td>\n",
       "      <td>6.037665</td>\n",
       "      <td>3.620639</td>\n",
       "      <td>3.814528</td>\n",
       "      <td>52.885640</td>\n",
       "    </tr>\n",
       "    <tr>\n",
       "      <th>11</th>\n",
       "      <td>15_COMPOUND</td>\n",
       "      <td>val</td>\n",
       "      <td>5.689714</td>\n",
       "      <td>11.387821</td>\n",
       "      <td>16.563992</td>\n",
       "      <td>6.037665</td>\n",
       "      <td>3.620639</td>\n",
       "      <td>3.814528</td>\n",
       "      <td>52.885640</td>\n",
       "    </tr>\n",
       "  </tbody>\n",
       "</table>\n",
       "</div>"
      ],
      "text/plain": [
       "           ZOOM TYPE  PER_ESTRATO_1  PER_ESTRATO_2  PER_ESTRATO_3  \\\n",
       "1     13_SIMPLE  val       7.423401      21.501923      25.907898   \n",
       "3   13_COMPOUND  val       7.423401      21.501923      25.907898   \n",
       "5     14_SIMPLE  val       5.253728      10.547129      15.507762   \n",
       "7   14_COMPOUND  val       5.253728      10.547129      15.507762   \n",
       "9     15_SIMPLE  val       5.689714      11.387821      16.563992   \n",
       "11  15_COMPOUND  val       5.689714      11.387821      16.563992   \n",
       "\n",
       "    PER_ESTRATO_4  PER_ESTRATO_5  PER_ESTRATO_6  PER_NO_DEFINIDO  \n",
       "1        2.604675       1.066589       0.000763        41.494751  \n",
       "3        2.604675       1.066589       0.000763        41.494751  \n",
       "5        6.889025       3.952662       3.091113        54.758581  \n",
       "7        6.889025       3.952662       3.091113        54.758581  \n",
       "9        6.037665       3.620639       3.814528        52.885640  \n",
       "11       6.037665       3.620639       3.814528        52.885640  "
      ]
     },
     "execution_count": 159,
     "metadata": {},
     "output_type": "execute_result"
    }
   ],
   "source": [
    "per_class_OVERLAECOBO = pd.read_csv(\"./Resultados/Porcentaje_por_clase_OVERLAECOBO.csv\")\n",
    "per_class_OVERLAECOBO[per_class_OVERLAECOBO[\"TYPE\"] == \"val\"]"
   ]
  },
  {
   "cell_type": "markdown",
   "metadata": {},
   "source": [
    "<h2 style=\"color:#BF360C\">PORCENTAJE DE CADA CLASE EN RESULTADOS</h2>"
   ]
  },
  {
   "cell_type": "code",
   "execution_count": 25,
   "metadata": {},
   "outputs": [],
   "source": [
    "ZOOMS = [\"13_SIMPLE\",\"13_COMPOUND\",\"14_SIMPLE\",\"14_COMPOUND\",\"15_SIMPLE\",\"15_COMPOUND\"]\n",
    "PRUEBAS = [1,2,3,4,5,6,7,8,9,10,11]\n",
    "\n",
    "dict_per = {\n",
    "    \"ZOOM\":[],\n",
    "    \"PRUEBA\":[],\n",
    "    \"PER_ESTRATO_1\":[],\n",
    "    \"PER_ESTRATO_2\":[],\n",
    "    \"PER_ESTRATO_3\":[],\n",
    "    \"PER_ESTRATO_4\":[],\n",
    "    \"PER_ESTRATO_5\":[],\n",
    "    \"PER_ESTRATO_6\":[],\n",
    "    \"PER_NO_DEFINIDO\":[],\n",
    "    }\n",
    "\n",
    "for ZOOM in ZOOMS:\n",
    "    for PRUEBA in PRUEBAS:\n",
    "        files = os.listdir(\"./Resultados/\"+ZOOM+\"/prueba_\"+str(PRUEBA)+\"/Val/\")\n",
    "        count_files = len(files)-2\n",
    "        total_per = np.array([0] * 7)\n",
    "        \n",
    "        for i in files:\n",
    "            if \"pred\" in i:\n",
    "                \n",
    "                img = io.imread(\"./Resultados/\"+ZOOM+\"/prueba_\"+str(PRUEBA)+\"/Val/\"+i)\n",
    "                mask = hp.get_target_matrix(img)\n",
    "                aux_per = [0] * 7\n",
    "\n",
    "                for i in range(7):\n",
    "                    per = mask == i        \n",
    "                    aux_per[i] = 100*(sum(sum(per)))/(256*256*count_files)\n",
    "            total_per = total_per + np.array(aux_per)\n",
    "        \n",
    "        dict_per[\"ZOOM\"].append(ZOOM)\n",
    "        dict_per[\"PRUEBA\"].append(PRUEBA)\n",
    "        dict_per[\"PER_ESTRATO_1\"].append(total_per[1])\n",
    "        dict_per[\"PER_ESTRATO_2\"].append(total_per[2])\n",
    "        dict_per[\"PER_ESTRATO_3\"].append(total_per[3])\n",
    "        dict_per[\"PER_ESTRATO_4\"].append(total_per[4])\n",
    "        dict_per[\"PER_ESTRATO_5\"].append(total_per[5])\n",
    "        dict_per[\"PER_ESTRATO_6\"].append(total_per[6])\n",
    "        dict_per[\"PER_NO_DEFINIDO\"].append(total_per[0])"
   ]
  },
  {
   "cell_type": "code",
   "execution_count": 26,
   "metadata": {},
   "outputs": [],
   "source": [
    "pd.DataFrame(data=dict_per).to_csv(\"./Resultados/Porcentaje_por_clase_Resultados.csv\")"
   ]
  },
  {
   "cell_type": "code",
   "execution_count": 70,
   "metadata": {},
   "outputs": [
    {
     "data": {
      "text/html": [
       "<div>\n",
       "<style scoped>\n",
       "    .dataframe tbody tr th:only-of-type {\n",
       "        vertical-align: middle;\n",
       "    }\n",
       "\n",
       "    .dataframe tbody tr th {\n",
       "        vertical-align: top;\n",
       "    }\n",
       "\n",
       "    .dataframe thead th {\n",
       "        text-align: right;\n",
       "    }\n",
       "</style>\n",
       "<table border=\"1\" class=\"dataframe\">\n",
       "  <thead>\n",
       "    <tr style=\"text-align: right;\">\n",
       "      <th></th>\n",
       "      <th>ZOOM</th>\n",
       "      <th>PRUEBA</th>\n",
       "      <th>PER_ESTRATO_1</th>\n",
       "      <th>PER_ESTRATO_2</th>\n",
       "      <th>PER_ESTRATO_3</th>\n",
       "      <th>PER_ESTRATO_4</th>\n",
       "      <th>PER_ESTRATO_5</th>\n",
       "      <th>PER_ESTRATO_6</th>\n",
       "      <th>PER_NO_DEFINIDO</th>\n",
       "    </tr>\n",
       "  </thead>\n",
       "  <tbody>\n",
       "    <tr>\n",
       "      <th>0</th>\n",
       "      <td>13_SIMPLE</td>\n",
       "      <td>1</td>\n",
       "      <td>0.395550</td>\n",
       "      <td>22.404463</td>\n",
       "      <td>40.409436</td>\n",
       "      <td>1.537713</td>\n",
       "      <td>0.118552</td>\n",
       "      <td>0.194592</td>\n",
       "      <td>60.495249</td>\n",
       "    </tr>\n",
       "    <tr>\n",
       "      <th>1</th>\n",
       "      <td>13_SIMPLE</td>\n",
       "      <td>2</td>\n",
       "      <td>0.820923</td>\n",
       "      <td>27.135086</td>\n",
       "      <td>46.691513</td>\n",
       "      <td>6.366730</td>\n",
       "      <td>0.168228</td>\n",
       "      <td>0.204468</td>\n",
       "      <td>68.613052</td>\n",
       "    </tr>\n",
       "    <tr>\n",
       "      <th>2</th>\n",
       "      <td>13_SIMPLE</td>\n",
       "      <td>3</td>\n",
       "      <td>1.410294</td>\n",
       "      <td>27.050400</td>\n",
       "      <td>43.389511</td>\n",
       "      <td>11.649704</td>\n",
       "      <td>0.045776</td>\n",
       "      <td>0.051117</td>\n",
       "      <td>66.403198</td>\n",
       "    </tr>\n",
       "    <tr>\n",
       "      <th>3</th>\n",
       "      <td>13_SIMPLE</td>\n",
       "      <td>4</td>\n",
       "      <td>0.976181</td>\n",
       "      <td>21.182632</td>\n",
       "      <td>44.807816</td>\n",
       "      <td>8.591080</td>\n",
       "      <td>0.066376</td>\n",
       "      <td>0.025940</td>\n",
       "      <td>74.349976</td>\n",
       "    </tr>\n",
       "    <tr>\n",
       "      <th>4</th>\n",
       "      <td>13_SIMPLE</td>\n",
       "      <td>5</td>\n",
       "      <td>3.249741</td>\n",
       "      <td>25.722122</td>\n",
       "      <td>37.399292</td>\n",
       "      <td>11.637497</td>\n",
       "      <td>0.192642</td>\n",
       "      <td>1.275253</td>\n",
       "      <td>70.523453</td>\n",
       "    </tr>\n",
       "  </tbody>\n",
       "</table>\n",
       "</div>"
      ],
      "text/plain": [
       "        ZOOM  PRUEBA  PER_ESTRATO_1  PER_ESTRATO_2  PER_ESTRATO_3  \\\n",
       "0  13_SIMPLE       1       0.395550      22.404463      40.409436   \n",
       "1  13_SIMPLE       2       0.820923      27.135086      46.691513   \n",
       "2  13_SIMPLE       3       1.410294      27.050400      43.389511   \n",
       "3  13_SIMPLE       4       0.976181      21.182632      44.807816   \n",
       "4  13_SIMPLE       5       3.249741      25.722122      37.399292   \n",
       "\n",
       "   PER_ESTRATO_4  PER_ESTRATO_5  PER_ESTRATO_6  PER_NO_DEFINIDO  \n",
       "0       1.537713       0.118552       0.194592        60.495249  \n",
       "1       6.366730       0.168228       0.204468        68.613052  \n",
       "2      11.649704       0.045776       0.051117        66.403198  \n",
       "3       8.591080       0.066376       0.025940        74.349976  \n",
       "4      11.637497       0.192642       1.275253        70.523453  "
      ]
     },
     "execution_count": 70,
     "metadata": {},
     "output_type": "execute_result"
    }
   ],
   "source": [
    "per_class_Test = pd.read_csv(\"./Resultados/Porcentaje_por_clase_Resultados.csv\")\n",
    "per_class_Test.head()"
   ]
  },
  {
   "cell_type": "markdown",
   "metadata": {},
   "source": [
    "<h2 style=\"color:#BF360C\">COMPARACION PORCENTAJES</h2>"
   ]
  },
  {
   "cell_type": "code",
   "execution_count": 69,
   "metadata": {},
   "outputs": [
    {
     "data": {
      "text/plain": [
       "(array([74.40798824766907, 2.8015531182211797, 7.876126937595719,\n",
       "        25.748211257006165, 66.88355170120907, 75.17823014356192,\n",
       "        6.146544024630971], dtype=object), 37.00602934712773)"
      ]
     },
     "execution_count": 69,
     "metadata": {},
     "output_type": "execute_result"
    }
   ],
   "source": [
    "real_data = np.array(per_class_OVERLAECOBO.loc[11].values[2:])\n",
    "exp_data = np.array(per_class_Test.loc[56].values[2:])\n",
    "\n",
    "error = 100*abs(real_data - exp_data)/ real_data\n",
    "error, np.mean(error)"
   ]
  },
  {
   "cell_type": "code",
   "execution_count": 68,
   "metadata": {},
   "outputs": [
    {
     "name": "stdout",
     "output_type": "stream",
     "text": [
      "13_SIMPLE prueba_1 3676.5766340098203\n",
      "13_SIMPLE prueba_2 3676.5766340098203\n",
      "13_SIMPLE prueba_3 3676.5766340098203\n",
      "13_SIMPLE prueba_4 3676.5766340098203\n",
      "13_SIMPLE prueba_5 3676.5766340098203\n",
      "13_SIMPLE prueba_6 3676.5766340098203\n",
      "13_SIMPLE prueba_7 3676.5766340098203\n",
      "13_SIMPLE prueba_8 3676.5766340098203\n",
      "13_SIMPLE prueba_9 3676.5766340098203\n",
      "13_SIMPLE prueba_10 3676.5766340098203\n",
      "13_SIMPLE prueba_11 3676.5766340098203\n",
      "13_COMPOUND prueba_1 3884.1966729289857\n",
      "13_COMPOUND prueba_2 1039.6114281770583\n",
      "13_COMPOUND prueba_3 552.0106272627017\n",
      "13_COMPOUND prueba_4 23952.699074646138\n",
      "13_COMPOUND prueba_5 1862.9762530034616\n",
      "13_COMPOUND prueba_6 16916.278530129675\n",
      "13_COMPOUND prueba_7 5343.358106300955\n",
      "13_COMPOUND prueba_8 408.31193515587705\n",
      "13_COMPOUND prueba_9 664.6029656774771\n",
      "13_COMPOUND prueba_10 847.9143415459782\n",
      "13_COMPOUND prueba_11 6749.254648786035\n",
      "14_SIMPLE prueba_1 99.56843910998006\n",
      "14_SIMPLE prueba_2 82.11080963079806\n",
      "14_SIMPLE prueba_3 69.12637583530298\n",
      "14_SIMPLE prueba_4 85.92582474735153\n",
      "14_SIMPLE prueba_5 98.71523997748373\n",
      "14_SIMPLE prueba_6 96.09827786563869\n",
      "14_SIMPLE prueba_7 91.50633089707071\n",
      "14_SIMPLE prueba_8 72.06710186295088\n",
      "14_SIMPLE prueba_9 96.4258273536324\n",
      "14_SIMPLE prueba_10 84.95990515848041\n",
      "14_SIMPLE prueba_11 77.88059951194575\n",
      "14_COMPOUND prueba_1 89.880175606219\n",
      "14_COMPOUND prueba_2 69.12637583530298\n",
      "14_COMPOUND prueba_3 88.98863928278956\n",
      "14_COMPOUND prueba_4 96.09827786563869\n",
      "14_COMPOUND prueba_5 76.94396262364519\n",
      "14_COMPOUND prueba_6 96.4258273536324\n",
      "14_COMPOUND prueba_7 83.37913022214195\n",
      "14_COMPOUND prueba_8 64.18766940972932\n",
      "14_COMPOUND prueba_9 43.91811550825451\n",
      "14_COMPOUND prueba_10 75.1880065002794\n",
      "14_COMPOUND prueba_11 57.10849515228285\n",
      "15_SIMPLE prueba_1 83.12737135623635\n",
      "15_SIMPLE prueba_2 83.59171396186058\n",
      "15_SIMPLE prueba_3 90.91966391736892\n",
      "15_SIMPLE prueba_4 70.53151267593321\n",
      "15_SIMPLE prueba_5 80.38736248676847\n",
      "15_SIMPLE prueba_6 60.228738666565974\n",
      "15_SIMPLE prueba_7 38.98916745289705\n",
      "15_SIMPLE prueba_8 56.675352544806415\n",
      "15_SIMPLE prueba_9 48.331202311728774\n",
      "15_SIMPLE prueba_10 76.58803420793389\n",
      "15_SIMPLE prueba_11 54.979217873389224\n",
      "15_COMPOUND prueba_1 85.42701037506446\n",
      "15_COMPOUND prueba_2 93.56318173863295\n",
      "15_COMPOUND prueba_3 77.42044482100479\n",
      "15_COMPOUND prueba_4 80.38736248676847\n",
      "15_COMPOUND prueba_5 40.57596677725238\n",
      "15_COMPOUND prueba_6 74.88114187896255\n",
      "15_COMPOUND prueba_7 43.480924540712195\n",
      "15_COMPOUND prueba_8 76.58803420793389\n",
      "15_COMPOUND prueba_9 33.23999752806709\n",
      "15_COMPOUND prueba_10 41.05129485660614\n",
      "15_COMPOUND prueba_11 50.89551831053313\n"
     ]
    }
   ],
   "source": [
    "per_val_OVER = per_class_OVERLAECOBO[per_class_OVERLAECOBO[\"TYPE\"] == \"val\"]\n",
    "PRUEBAS = [1,2,3,4,5,6,7,8,9,10,11]\n",
    "\n",
    "for j,i in enumerate(per_val_OVER.values):\n",
    "    real_data = i[2:]\n",
    "    for PRUEBA in PRUEBAS:\n",
    "        exp_data = np.array(per_class_Test.loc[(j)*PRUEBA].values[2:])\n",
    "        error = 100*abs(real_data - exp_data)/ real_data\n",
    "        print(i[0],\"prueba_\"+str(PRUEBA),np.mean(error))\n",
    "    "
   ]
  },
  {
   "cell_type": "markdown",
   "metadata": {},
   "source": [
    "Esta metrica no sirve de a mucho dado que en val cuando no hay pixeles de alguna clase y por alguna cuestion aparecen pixeles de dicha clase en la imagen pred el error se dispará un monton."
   ]
  },
  {
   "cell_type": "code",
   "execution_count": 92,
   "metadata": {},
   "outputs": [],
   "source": [
    "COMPUND_13_error = [3884.1966729289857, 1039.6114281770583, 552.0106272627017, 23952.699074646138,  1862.9762530034616,  16916.278530129675,5343.358106300955,408.31193515587705,664.6029656774771,847.9143415459782,6749.254648786035]\n",
    "COMPOUND_13_IOU = csv_test.loc[11:21][\"MEAN_IOU\"].values"
   ]
  },
  {
   "cell_type": "code",
   "execution_count": 93,
   "metadata": {},
   "outputs": [
    {
     "data": {
      "text/plain": [
       "[<matplotlib.lines.Line2D at 0x7f7601c85b00>]"
      ]
     },
     "execution_count": 93,
     "metadata": {},
     "output_type": "execute_result"
    },
    {
     "data": {
      "image/png": "[encoded data removed]",
      "text/plain": [
       "<Figure size 432x288 with 1 Axes>"
      ]
     },
     "metadata": {},
     "output_type": "display_data"
    }
   ],
   "source": [
    "plt.pyplot.plot(COMPOUND_13_IOU,COMPUND_13_error)"
   ]
  },
  {
   "cell_type": "markdown",
   "metadata": {},
   "source": [
    "<h2 style=\"color:#BF360C\">PRESICION MEDIA</h2>"
   ]
  },
  {
   "cell_type": "code",
   "execution_count": 97,
   "metadata": {},
   "outputs": [
    {
     "data": {
      "text/plain": [
       "(11    0.795886\n",
       " 12    0.775962\n",
       " 13    0.436790\n",
       " 14    0.575162\n",
       " 15    0.788619\n",
       " 16    0.743866\n",
       " 17    0.676365\n",
       " 18    0.458278\n",
       " 19    0.540872\n",
       " 20    0.705179\n",
       " 21    0.710345\n",
       " Name: PRECISION, dtype: float64, 0.6552112258681645)"
      ]
     },
     "execution_count": 97,
     "metadata": {},
     "output_type": "execute_result"
    }
   ],
   "source": [
    "csv_test.loc[11:21][\"PRECISION\"], np.mean(csv_test.loc[11:21][\"PRECISION\"].values)"
   ]
  },
  {
   "cell_type": "markdown",
   "metadata": {},
   "source": [
    "<h2 style=\"color:#BF360C\">IUO MEDIA</h2>"
   ]
  },
  {
   "cell_type": "code",
   "execution_count": 199,
   "metadata": {},
   "outputs": [
    {
     "data": {
      "text/html": [
       "<div>\n",
       "<style scoped>\n",
       "    .dataframe tbody tr th:only-of-type {\n",
       "        vertical-align: middle;\n",
       "    }\n",
       "\n",
       "    .dataframe tbody tr th {\n",
       "        vertical-align: top;\n",
       "    }\n",
       "\n",
       "    .dataframe thead th {\n",
       "        text-align: right;\n",
       "    }\n",
       "</style>\n",
       "<table border=\"1\" class=\"dataframe\">\n",
       "  <thead>\n",
       "    <tr style=\"text-align: right;\">\n",
       "      <th></th>\n",
       "      <th>PRUEBA</th>\n",
       "      <th>RED</th>\n",
       "      <th>EPOCH</th>\n",
       "      <th>BATCH_SIZE</th>\n",
       "    </tr>\n",
       "  </thead>\n",
       "  <tbody>\n",
       "    <tr>\n",
       "      <th>0</th>\n",
       "      <td>1</td>\n",
       "      <td>FC-DenseNet56</td>\n",
       "      <td>50</td>\n",
       "      <td>1</td>\n",
       "    </tr>\n",
       "    <tr>\n",
       "      <th>1</th>\n",
       "      <td>2</td>\n",
       "      <td>FC-DenseNet56</td>\n",
       "      <td>70</td>\n",
       "      <td>1</td>\n",
       "    </tr>\n",
       "    <tr>\n",
       "      <th>2</th>\n",
       "      <td>3</td>\n",
       "      <td>Encoder-Decoder</td>\n",
       "      <td>70</td>\n",
       "      <td>1</td>\n",
       "    </tr>\n",
       "    <tr>\n",
       "      <th>3</th>\n",
       "      <td>4</td>\n",
       "      <td>Encoder-Decoder</td>\n",
       "      <td>70</td>\n",
       "      <td>2</td>\n",
       "    </tr>\n",
       "    <tr>\n",
       "      <th>4</th>\n",
       "      <td>5</td>\n",
       "      <td>Encoder-Decoder-Skip</td>\n",
       "      <td>70</td>\n",
       "      <td>1</td>\n",
       "    </tr>\n",
       "    <tr>\n",
       "      <th>5</th>\n",
       "      <td>6</td>\n",
       "      <td>Encoder-Decoder-Skip</td>\n",
       "      <td>70</td>\n",
       "      <td>2</td>\n",
       "    </tr>\n",
       "    <tr>\n",
       "      <th>6</th>\n",
       "      <td>7</td>\n",
       "      <td>FRRN-A</td>\n",
       "      <td>70</td>\n",
       "      <td>1</td>\n",
       "    </tr>\n",
       "    <tr>\n",
       "      <th>7</th>\n",
       "      <td>8</td>\n",
       "      <td>MobileUNet</td>\n",
       "      <td>70</td>\n",
       "      <td>1</td>\n",
       "    </tr>\n",
       "    <tr>\n",
       "      <th>8</th>\n",
       "      <td>9</td>\n",
       "      <td>MobileUNet</td>\n",
       "      <td>70</td>\n",
       "      <td>2</td>\n",
       "    </tr>\n",
       "    <tr>\n",
       "      <th>9</th>\n",
       "      <td>10</td>\n",
       "      <td>MobileUNet-Skip</td>\n",
       "      <td>70</td>\n",
       "      <td>1</td>\n",
       "    </tr>\n",
       "    <tr>\n",
       "      <th>10</th>\n",
       "      <td>11</td>\n",
       "      <td>MobileUNet-Skip</td>\n",
       "      <td>70</td>\n",
       "      <td>2</td>\n",
       "    </tr>\n",
       "  </tbody>\n",
       "</table>\n",
       "</div>"
      ],
      "text/plain": [
       "    PRUEBA                   RED   EPOCH   BATCH_SIZE\n",
       "0        1         FC-DenseNet56      50            1\n",
       "1        2         FC-DenseNet56      70            1\n",
       "2        3       Encoder-Decoder      70            1\n",
       "3        4       Encoder-Decoder      70            2\n",
       "4        5  Encoder-Decoder-Skip      70            1\n",
       "5        6  Encoder-Decoder-Skip      70            2\n",
       "6        7                FRRN-A      70            1\n",
       "7        8            MobileUNet      70            1\n",
       "8        9            MobileUNet      70            2\n",
       "9       10       MobileUNet-Skip      70            1\n",
       "10      11       MobileUNet-Skip      70            2"
      ]
     },
     "execution_count": 199,
     "metadata": {},
     "output_type": "execute_result"
    }
   ],
   "source": [
    "pruebas"
   ]
  },
  {
   "cell_type": "code",
   "execution_count": 197,
   "metadata": {},
   "outputs": [
    {
     "data": {
      "text/plain": [
       "<matplotlib.axes._subplots.AxesSubplot at 0x7f4d8d1ab780>"
      ]
     },
     "execution_count": 197,
     "metadata": {},
     "output_type": "execute_result"
    },
    {
     "data": {
      "image/png": "[encoded data removed]",
      "text/plain": [
       "<Figure size 432x288 with 1 Axes>"
      ]
     },
     "metadata": {},
     "output_type": "display_data"
    }
   ],
   "source": [
    "csv_test.loc[:10][\"MEAN_IOU\"].plot.bar(title=\"13 SIMPLE\")"
   ]
  },
  {
   "cell_type": "code",
   "execution_count": 145,
   "metadata": {},
   "outputs": [
    {
     "data": {
      "text/plain": [
       "(0.19560460953989614, 0.07335997027976635)"
      ]
     },
     "execution_count": 145,
     "metadata": {},
     "output_type": "execute_result"
    }
   ],
   "source": [
    "np.mean(csv_test.loc[:10][\"MEAN_IOU\"].values), np.std(csv_test.loc[:10][\"MEAN_IOU\"].values)"
   ]
  },
  {
   "cell_type": "code",
   "execution_count": 153,
   "metadata": {},
   "outputs": [
    {
     "data": {
      "text/plain": [
       "('FC-DenseNet56', 1)"
      ]
     },
     "execution_count": 153,
     "metadata": {},
     "output_type": "execute_result"
    }
   ],
   "source": [
    "csv_test.loc[csv_test.loc[:10][\"MEAN_IOU\"].idxmax()][2], csv_test.loc[:10][\"MEAN_IOU\"].idxmax()"
   ]
  },
  {
   "cell_type": "code",
   "execution_count": 155,
   "metadata": {},
   "outputs": [
    {
     "data": {
      "text/plain": [
       "<matplotlib.axes._subplots.AxesSubplot at 0x7f4d8db176d8>"
      ]
     },
     "execution_count": 155,
     "metadata": {},
     "output_type": "execute_result"
    },
    {
     "data": {
      "image/png": "[encoded data removed]",
      "text/plain": [
       "<Figure size 432x288 with 1 Axes>"
      ]
     },
     "metadata": {},
     "output_type": "display_data"
    }
   ],
   "source": [
    "csv_test.loc[11:21][\"MEAN_IOU\"].plot.bar(title=\"13 COMPOUND\")"
   ]
  },
  {
   "cell_type": "code",
   "execution_count": 156,
   "metadata": {},
   "outputs": [
    {
     "data": {
      "text/plain": [
       "(0.19760699718190686, 0.06969990663570784)"
      ]
     },
     "execution_count": 156,
     "metadata": {},
     "output_type": "execute_result"
    }
   ],
   "source": [
    "np.mean(csv_test.loc[11:21][\"MEAN_IOU\"].values), np.std(csv_test.loc[11:21][\"MEAN_IOU\"].values)"
   ]
  },
  {
   "cell_type": "code",
   "execution_count": 157,
   "metadata": {},
   "outputs": [
    {
     "data": {
      "text/plain": [
       "('Encoder-Decoder-Skip', 15)"
      ]
     },
     "execution_count": 157,
     "metadata": {},
     "output_type": "execute_result"
    }
   ],
   "source": [
    "csv_test.loc[csv_test.loc[11:21][\"MEAN_IOU\"].idxmax()][2], csv_test.loc[11:21][\"MEAN_IOU\"].idxmax()"
   ]
  },
  {
   "cell_type": "code",
   "execution_count": 158,
   "metadata": {},
   "outputs": [
    {
     "data": {
      "text/plain": [
       "<matplotlib.axes._subplots.AxesSubplot at 0x7f4d8daef5f8>"
      ]
     },
     "execution_count": 158,
     "metadata": {},
     "output_type": "execute_result"
    },
    {
     "data": {
      "image/png": "[encoded data removed]",
      "text/plain": [
       "<Figure size 432x288 with 1 Axes>"
      ]
     },
     "metadata": {},
     "output_type": "display_data"
    }
   ],
   "source": [
    "csv_test.loc[22:32][\"MEAN_IOU\"].plot.bar(title=\"14 SIMPLE\")\n"
   ]
  },
  {
   "cell_type": "code",
   "execution_count": 159,
   "metadata": {},
   "outputs": [
    {
     "data": {
      "text/plain": [
       "(0.2508302695956907, 0.053349505393177496)"
      ]
     },
     "execution_count": 159,
     "metadata": {},
     "output_type": "execute_result"
    }
   ],
   "source": [
    "np.mean(csv_test.loc[22:32][\"MEAN_IOU\"].values), np.std(csv_test.loc[22:32][\"MEAN_IOU\"].values)"
   ]
  },
  {
   "cell_type": "code",
   "execution_count": 160,
   "metadata": {},
   "outputs": [
    {
     "data": {
      "text/plain": [
       "('FC-DenseNet56', 23)"
      ]
     },
     "execution_count": 160,
     "metadata": {},
     "output_type": "execute_result"
    }
   ],
   "source": [
    "csv_test.loc[csv_test.loc[22:32][\"MEAN_IOU\"].idxmax()][2], csv_test.loc[22:32][\"MEAN_IOU\"].idxmax()"
   ]
  },
  {
   "cell_type": "code",
   "execution_count": 161,
   "metadata": {},
   "outputs": [
    {
     "data": {
      "text/plain": [
       "0.25337890765926624"
      ]
     },
     "execution_count": 161,
     "metadata": {},
     "output_type": "execute_result"
    },
    {
     "data": {
      "image/png": "[encoded data removed]",
      "text/plain": [
       "<Figure size 432x288 with 1 Axes>"
      ]
     },
     "metadata": {},
     "output_type": "display_data"
    }
   ],
   "source": [
    "csv_test.loc[33:43][\"MEAN_IOU\"].plot.bar(title=\"14 COMPOUND\")\n"
   ]
  },
  {
   "cell_type": "code",
   "execution_count": 162,
   "metadata": {},
   "outputs": [
    {
     "data": {
      "text/plain": [
       "(0.25337890765926624, 0.052478920977406515)"
      ]
     },
     "execution_count": 162,
     "metadata": {},
     "output_type": "execute_result"
    }
   ],
   "source": [
    "np.mean(csv_test.loc[33:43][\"MEAN_IOU\"].values), np.std(csv_test.loc[33:43][\"MEAN_IOU\"].values)"
   ]
  },
  {
   "cell_type": "code",
   "execution_count": 165,
   "metadata": {},
   "outputs": [
    {
     "data": {
      "text/plain": [
       "('FC-DenseNet56', 34)"
      ]
     },
     "execution_count": 165,
     "metadata": {},
     "output_type": "execute_result"
    }
   ],
   "source": [
    "csv_test.loc[csv_test.loc[33:43][\"MEAN_IOU\"].idxmax()][2], csv_test.loc[33:43][\"MEAN_IOU\"].idxmax()"
   ]
  },
  {
   "cell_type": "code",
   "execution_count": 163,
   "metadata": {},
   "outputs": [
    {
     "data": {
      "text/plain": [
       "<matplotlib.axes._subplots.AxesSubplot at 0x7f4d8d9ced30>"
      ]
     },
     "execution_count": 163,
     "metadata": {},
     "output_type": "execute_result"
    },
    {
     "data": {
      "image/png": "[encoded data removed]",
      "text/plain": [
       "<Figure size 432x288 with 1 Axes>"
      ]
     },
     "metadata": {},
     "output_type": "display_data"
    }
   ],
   "source": [
    "csv_test.loc[44:54][\"MEAN_IOU\"].plot.bar(title=\"15 SIMPLE\")\n"
   ]
  },
  {
   "cell_type": "code",
   "execution_count": 164,
   "metadata": {},
   "outputs": [
    {
     "data": {
      "text/plain": [
       "(0.2962363915337449, 0.043074162639722004)"
      ]
     },
     "execution_count": 164,
     "metadata": {},
     "output_type": "execute_result"
    }
   ],
   "source": [
    "np.mean(csv_test.loc[44:54][\"MEAN_IOU\"].values), np.std(csv_test.loc[44:54][\"MEAN_IOU\"].values)"
   ]
  },
  {
   "cell_type": "code",
   "execution_count": 170,
   "metadata": {},
   "outputs": [
    {
     "data": {
      "text/plain": [
       "('FC-DenseNet56', 45)"
      ]
     },
     "execution_count": 170,
     "metadata": {},
     "output_type": "execute_result"
    }
   ],
   "source": [
    "csv_test.loc[csv_test.loc[44:54][\"MEAN_IOU\"].idxmax()][2], csv_test.loc[44:54][\"MEAN_IOU\"].idxmax()"
   ]
  },
  {
   "cell_type": "code",
   "execution_count": 166,
   "metadata": {},
   "outputs": [
    {
     "data": {
      "text/plain": [
       "<matplotlib.axes._subplots.AxesSubplot at 0x7f4d8d97acc0>"
      ]
     },
     "execution_count": 166,
     "metadata": {},
     "output_type": "execute_result"
    },
    {
     "data": {
      "image/png": "[encoded data removed]",
      "text/plain": [
       "<Figure size 432x288 with 1 Axes>"
      ]
     },
     "metadata": {},
     "output_type": "display_data"
    }
   ],
   "source": [
    "csv_test.loc[55:65][\"MEAN_IOU\"].plot.bar(title=\"15 COMPOUND\")"
   ]
  },
  {
   "cell_type": "code",
   "execution_count": 167,
   "metadata": {},
   "outputs": [
    {
     "data": {
      "text/plain": [
       "(0.29621029745204075, 0.0429958843647462)"
      ]
     },
     "execution_count": 167,
     "metadata": {},
     "output_type": "execute_result"
    }
   ],
   "source": [
    " np.mean(csv_test.loc[55:65][\"MEAN_IOU\"].values),  np.std(csv_test.loc[55:65][\"MEAN_IOU\"].values)"
   ]
  },
  {
   "cell_type": "code",
   "execution_count": 168,
   "metadata": {},
   "outputs": [
    {
     "data": {
      "text/plain": [
       "('FC-DenseNet56', 56)"
      ]
     },
     "execution_count": 168,
     "metadata": {},
     "output_type": "execute_result"
    }
   ],
   "source": [
    "csv_test.loc[csv_test.loc[55:65][\"MEAN_IOU\"].idxmax()][2], csv_test.loc[55:65][\"MEAN_IOU\"].idxmax()"
   ]
  },
  {
   "cell_type": "code",
   "execution_count": 169,
   "metadata": {},
   "outputs": [
    {
     "name": "stdout",
     "output_type": "stream",
     "text": [
      "Peor RED\n"
     ]
    },
    {
     "data": {
      "text/plain": [
       "('MobileUNet', 'MobileUNet')"
      ]
     },
     "execution_count": 169,
     "metadata": {},
     "output_type": "execute_result"
    }
   ],
   "source": [
    "print(\"Peor RED\")\n",
    "csv_test.loc[7][2], csv_test.loc[8][2]"
   ]
  },
  {
   "cell_type": "code",
   "execution_count": 181,
   "metadata": {},
   "outputs": [
    {
     "name": "stdout",
     "output_type": "stream",
     "text": [
      "[0.27895862748100736, 0.25744381136932665, 0.3023016352681203, 0.3162539702981586, 0.34508586015468234, 0.34783605595694456]\n"
     ]
    },
    {
     "data": {
      "text/plain": [
       "(-0.021514816111680712, 0.013952335030038288, 0.002750195802262212)"
      ]
     },
     "execution_count": 181,
     "metadata": {},
     "output_type": "execute_result"
    }
   ],
   "source": [
    "iuo_fc_den = [csv_test.loc[i][\"MEAN_IOU\"] for i in [1, 12, 23, 34,45, 56]]\n",
    "print(iuo_fc_den)\n",
    "iuo_fc_den[1] - iuo_fc_den[0], iuo_fc_den[3] - iuo_fc_den[2], iuo_fc_den[5] - iuo_fc_den[4]"
   ]
  },
  {
   "cell_type": "markdown",
   "metadata": {},
   "source": [
    "<h2 style=\"color:#BF360C\">IOU POR CLASE </h2>"
   ]
  },
  {
   "cell_type": "code",
   "execution_count": 146,
   "metadata": {},
   "outputs": [],
   "source": [
    "# FUNCION DEL FRAMEWORK\n",
    "def compute_mean_iou(pred, label):\n",
    "\n",
    "    unique_labels = np.unique(label)\n",
    "    num_unique_labels = len(unique_labels)\n",
    "    iou_per_clase = np.zeros(7)\n",
    "\n",
    " \n",
    "    \n",
    "    I = np.zeros(num_unique_labels)\n",
    "    U = np.zeros(num_unique_labels)\n",
    "\n",
    "  \n",
    "    for index, val in enumerate(unique_labels):\n",
    "        pred_i = pred == val\n",
    "        \n",
    "        label_i = label == val\n",
    "\n",
    "        I[index] = float(np.sum(np.logical_and(label_i, pred_i)))\n",
    "        U[index] = float(np.sum(np.logical_or(label_i, pred_i)))\n",
    "        iou_per_clase[int(val)] = I[index]/U[index]\n",
    "\n",
    "    mean_iou = np.mean(I / U)\n",
    "    return iou_per_clase\n"
   ]
  },
  {
   "cell_type": "code",
   "execution_count": 141,
   "metadata": {},
   "outputs": [
    {
     "name": "stdout",
     "output_type": "stream",
     "text": [
      "[0. 1. 2. 5.]\n"
     ]
    },
    {
     "data": {
      "text/plain": [
       "array([0.99986228, 0.14285714, 0.62983425, 0.        , 0.        ,\n",
       "       0.        , 0.        ])"
      ]
     },
     "execution_count": 141,
     "metadata": {},
     "output_type": "execute_result"
    }
   ],
   "source": [
    "pred_3d = io.imread(PATH_PRUEBAS+\"/15_COMPOUND/prueba_2/Val/60_pred.png\")\n",
    "gt_3d = io.imread(PATH_PRUEBAS+\"/15_COMPOUND/prueba_2/Val/60_gt.png\")\n",
    "pred_2d = hp.get_target_matrix(pred_3d)\n",
    "gt_2d = hp.get_target_matrix(gt_3d)\n",
    "\n",
    "compute_mean_iou(pred_2d, gt_2d)"
   ]
  },
  {
   "cell_type": "code",
   "execution_count": 157,
   "metadata": {},
   "outputs": [],
   "source": [
    "ZOOMS = [\"13_SIMPLE\",\"13_COMPOUND\",\"14_SIMPLE\",\"14_COMPOUND\",\"15_SIMPLE\",\"15_COMPOUND\"]\n",
    "PRUEBAS = [1,2,3,4,5,6,7,8,9,10,11]\n",
    "\n",
    "dict_per = {\n",
    "    \"ZOOM\":[],\n",
    "    \"PRUEBA\":[],\n",
    "    \"IOU_ESTRATO_1\":[],\n",
    "    \"IOU_ESTRATO_2\":[],\n",
    "    \"IOU_ESTRATO_3\":[],\n",
    "    \"IOU_ESTRATO_4\":[],\n",
    "    \"IOU_ESTRATO_5\":[],\n",
    "    \"IOU_ESTRATO_6\":[],\n",
    "    \"IOU_NO_DEFINIDO\":[],\n",
    "    }\n",
    "\n",
    "for ZOOM in ZOOMS:\n",
    "    for PRUEBA in PRUEBAS:\n",
    "        files = os.listdir(\"./Resultados/\"+ZOOM+\"/prueba_\"+str(PRUEBA)+\"/Val/\")\n",
    "        count_files = 0\n",
    "        total_iou = np.array([0] * 7)\n",
    "        \n",
    "        for file in files:\n",
    "            if \"pred\" in file:\n",
    "                pred_3d = io.imread(PATH_PRUEBAS+\"/\"+ZOOM+\"/prueba_\"+str(PRUEBA)+\"/Val/\"+file)\n",
    "                gt_3d = io.imread(PATH_PRUEBAS+\"/\"+ZOOM+\"/prueba_\"+str(PRUEBA)+\"/Val/\"+file.replace(\"pred\",\"gt\"))\n",
    "                \n",
    "                pred_2d = hp.get_target_matrix(pred_3d)\n",
    "                gt_2d = hp.get_target_matrix(gt_3d)\n",
    "                count_files = count_files + 1\n",
    "               \n",
    "                total_iou = total_iou + compute_mean_iou(pred_2d, gt_2d)\n",
    "        total_iou = total_iou/count_files\n",
    "        \n",
    "        dict_per[\"ZOOM\"].append(ZOOM)\n",
    "        dict_per[\"PRUEBA\"].append(PRUEBA)\n",
    "        dict_per[\"IOU_ESTRATO_1\"].append(total_iou[1])\n",
    "        dict_per[\"IOU_ESTRATO_2\"].append(total_iou[2])\n",
    "        dict_per[\"IOU_ESTRATO_3\"].append(total_iou[3])\n",
    "        dict_per[\"IOU_ESTRATO_4\"].append(total_iou[4])\n",
    "        dict_per[\"IOU_ESTRATO_5\"].append(total_iou[5])\n",
    "        dict_per[\"IOU_ESTRATO_6\"].append(total_iou[6])\n",
    "        dict_per[\"IOU_NO_DEFINIDO\"].append(total_iou[0])"
   ]
  },
  {
   "cell_type": "code",
   "execution_count": 158,
   "metadata": {},
   "outputs": [],
   "source": [
    "pd.DataFrame(data=dict_per).to_csv(\"./Resultados/IoU_per_class.csv\")"
   ]
  },
  {
   "cell_type": "code",
   "execution_count": 5,
   "metadata": {},
   "outputs": [
    {
     "data": {
      "text/html": [
       "<div>\n",
       "<style scoped>\n",
       "    .dataframe tbody tr th:only-of-type {\n",
       "        vertical-align: middle;\n",
       "    }\n",
       "\n",
       "    .dataframe tbody tr th {\n",
       "        vertical-align: top;\n",
       "    }\n",
       "\n",
       "    .dataframe thead th {\n",
       "        text-align: right;\n",
       "    }\n",
       "</style>\n",
       "<table border=\"1\" class=\"dataframe\">\n",
       "  <thead>\n",
       "    <tr style=\"text-align: right;\">\n",
       "      <th></th>\n",
       "      <th>Unnamed: 0</th>\n",
       "      <th>ZOOM</th>\n",
       "      <th>PRUEBA</th>\n",
       "      <th>IOU_ESTRATO_1</th>\n",
       "      <th>IOU_ESTRATO_2</th>\n",
       "      <th>IOU_ESTRATO_3</th>\n",
       "      <th>IOU_ESTRATO_4</th>\n",
       "      <th>IOU_ESTRATO_5</th>\n",
       "      <th>IOU_ESTRATO_6</th>\n",
       "      <th>IOU_NO_DEFINIDO</th>\n",
       "    </tr>\n",
       "  </thead>\n",
       "  <tbody>\n",
       "    <tr>\n",
       "      <th>0</th>\n",
       "      <td>0</td>\n",
       "      <td>13_SIMPLE</td>\n",
       "      <td>1</td>\n",
       "      <td>0.008803</td>\n",
       "      <td>0.260389</td>\n",
       "      <td>0.376734</td>\n",
       "      <td>0.013065</td>\n",
       "      <td>0.001750</td>\n",
       "      <td>0.0</td>\n",
       "      <td>0.873695</td>\n",
       "    </tr>\n",
       "    <tr>\n",
       "      <th>1</th>\n",
       "      <td>1</td>\n",
       "      <td>13_SIMPLE</td>\n",
       "      <td>2</td>\n",
       "      <td>0.022246</td>\n",
       "      <td>0.310374</td>\n",
       "      <td>0.469174</td>\n",
       "      <td>0.113397</td>\n",
       "      <td>0.008644</td>\n",
       "      <td>0.0</td>\n",
       "      <td>0.884053</td>\n",
       "    </tr>\n",
       "    <tr>\n",
       "      <th>2</th>\n",
       "      <td>2</td>\n",
       "      <td>13_SIMPLE</td>\n",
       "      <td>3</td>\n",
       "      <td>0.009702</td>\n",
       "      <td>0.146833</td>\n",
       "      <td>0.169166</td>\n",
       "      <td>0.024350</td>\n",
       "      <td>0.000000</td>\n",
       "      <td>0.0</td>\n",
       "      <td>0.398201</td>\n",
       "    </tr>\n",
       "    <tr>\n",
       "      <th>3</th>\n",
       "      <td>3</td>\n",
       "      <td>13_SIMPLE</td>\n",
       "      <td>4</td>\n",
       "      <td>0.009238</td>\n",
       "      <td>0.127104</td>\n",
       "      <td>0.224202</td>\n",
       "      <td>0.014557</td>\n",
       "      <td>0.000000</td>\n",
       "      <td>0.0</td>\n",
       "      <td>0.489658</td>\n",
       "    </tr>\n",
       "    <tr>\n",
       "      <th>4</th>\n",
       "      <td>4</td>\n",
       "      <td>13_SIMPLE</td>\n",
       "      <td>5</td>\n",
       "      <td>0.123270</td>\n",
       "      <td>0.291502</td>\n",
       "      <td>0.412733</td>\n",
       "      <td>0.083708</td>\n",
       "      <td>0.001064</td>\n",
       "      <td>0.0</td>\n",
       "      <td>0.875524</td>\n",
       "    </tr>\n",
       "  </tbody>\n",
       "</table>\n",
       "</div>"
      ],
      "text/plain": [
       "   Unnamed: 0       ZOOM  PRUEBA  IOU_ESTRATO_1  IOU_ESTRATO_2  IOU_ESTRATO_3  \\\n",
       "0           0  13_SIMPLE       1       0.008803       0.260389       0.376734   \n",
       "1           1  13_SIMPLE       2       0.022246       0.310374       0.469174   \n",
       "2           2  13_SIMPLE       3       0.009702       0.146833       0.169166   \n",
       "3           3  13_SIMPLE       4       0.009238       0.127104       0.224202   \n",
       "4           4  13_SIMPLE       5       0.123270       0.291502       0.412733   \n",
       "\n",
       "   IOU_ESTRATO_4  IOU_ESTRATO_5  IOU_ESTRATO_6  IOU_NO_DEFINIDO  \n",
       "0       0.013065       0.001750            0.0         0.873695  \n",
       "1       0.113397       0.008644            0.0         0.884053  \n",
       "2       0.024350       0.000000            0.0         0.398201  \n",
       "3       0.014557       0.000000            0.0         0.489658  \n",
       "4       0.083708       0.001064            0.0         0.875524  "
      ]
     },
     "execution_count": 5,
     "metadata": {},
     "output_type": "execute_result"
    }
   ],
   "source": [
    "iou_per_class = pd.read_csv(\"./Resultados/IoU_per_class.csv\")\n",
    "iou_per_class.head()"
   ]
  },
  {
   "cell_type": "code",
   "execution_count": 13,
   "metadata": {},
   "outputs": [
    {
     "data": {
      "text/plain": [
       "(0.17445176329946205, 16)"
      ]
     },
     "execution_count": 13,
     "metadata": {},
     "output_type": "execute_result"
    }
   ],
   "source": [
    "iou_per_class[\"IOU_ESTRATO_1\"].max(), iou_per_class[\"IOU_ESTRATO_1\"].idxmax()"
   ]
  },
  {
   "cell_type": "code",
   "execution_count": 14,
   "metadata": {},
   "outputs": [
    {
     "data": {
      "text/plain": [
       "(0.31037416164854065, 1)"
      ]
     },
     "execution_count": 14,
     "metadata": {},
     "output_type": "execute_result"
    }
   ],
   "source": [
    "iou_per_class[\"IOU_ESTRATO_2\"].max(), iou_per_class[\"IOU_ESTRATO_2\"].idxmax()"
   ]
  },
  {
   "cell_type": "code",
   "execution_count": 15,
   "metadata": {},
   "outputs": [
    {
     "data": {
      "text/plain": [
       "(0.4691740770368301, 1)"
      ]
     },
     "execution_count": 15,
     "metadata": {},
     "output_type": "execute_result"
    }
   ],
   "source": [
    "iou_per_class[\"IOU_ESTRATO_3\"].max(), iou_per_class[\"IOU_ESTRATO_3\"].idxmax()"
   ]
  },
  {
   "cell_type": "code",
   "execution_count": 16,
   "metadata": {},
   "outputs": [
    {
     "data": {
      "text/plain": [
       "(0.15774932614555254, 6)"
      ]
     },
     "execution_count": 16,
     "metadata": {},
     "output_type": "execute_result"
    }
   ],
   "source": [
    "iou_per_class[\"IOU_ESTRATO_4\"].max(), iou_per_class[\"IOU_ESTRATO_4\"].idxmax()"
   ]
  },
  {
   "cell_type": "code",
   "execution_count": 17,
   "metadata": {},
   "outputs": [
    {
     "data": {
      "text/plain": [
       "(0.05794396602327096, 34)"
      ]
     },
     "execution_count": 17,
     "metadata": {},
     "output_type": "execute_result"
    }
   ],
   "source": [
    "iou_per_class[\"IOU_ESTRATO_5\"].max(), iou_per_class[\"IOU_ESTRATO_5\"].idxmax()"
   ]
  },
  {
   "cell_type": "code",
   "execution_count": 18,
   "metadata": {},
   "outputs": [
    {
     "data": {
      "text/plain": [
       "(0.024046754996650144, 50)"
      ]
     },
     "execution_count": 18,
     "metadata": {},
     "output_type": "execute_result"
    }
   ],
   "source": [
    "iou_per_class[\"IOU_ESTRATO_6\"].max(), iou_per_class[\"IOU_ESTRATO_6\"].idxmax()"
   ]
  },
  {
   "cell_type": "code",
   "execution_count": 20,
   "metadata": {},
   "outputs": [
    {
     "data": {
      "text/plain": [
       "(0.9919641402471634, 44)"
      ]
     },
     "execution_count": 20,
     "metadata": {},
     "output_type": "execute_result"
    }
   ],
   "source": [
    "iou_per_class[\"IOU_NO_DEFINIDO\"].max(), iou_per_class[\"IOU_NO_DEFINIDO\"].idxmax()"
   ]
  },
  {
   "cell_type": "code",
   "execution_count": 36,
   "metadata": {},
   "outputs": [
    {
     "data": {
      "text/plain": [
       "(0.120013087176991, 7)"
      ]
     },
     "execution_count": 36,
     "metadata": {},
     "output_type": "execute_result"
    }
   ],
   "source": [
    "std = [iou_per_class.iloc[i][3:].std() for i in range(66)]\n",
    "min(std), std.index(min(std))"
   ]
  },
  {
   "cell_type": "code",
   "execution_count": 37,
   "metadata": {},
   "outputs": [
    {
     "data": {
      "text/plain": [
       "Unnamed: 0                   7\n",
       "ZOOM                 13_SIMPLE\n",
       "PRUEBA                       8\n",
       "IOU_ESTRATO_1         0.018496\n",
       "IOU_ESTRATO_2         0.116595\n",
       "IOU_ESTRATO_3        0.0470909\n",
       "IOU_ESTRATO_4      0.000433276\n",
       "IOU_ESTRATO_5                0\n",
       "IOU_ESTRATO_6                0\n",
       "IOU_NO_DEFINIDO       0.327858\n",
       "Name: 7, dtype: object"
      ]
     },
     "execution_count": 37,
     "metadata": {},
     "output_type": "execute_result"
    }
   ],
   "source": [
    "iou_per_class.iloc[7]"
   ]
  },
  {
   "cell_type": "code",
   "execution_count": 44,
   "metadata": {},
   "outputs": [
    {
     "data": {
      "text/plain": [
       "0.3455398859783537"
      ]
     },
     "execution_count": 44,
     "metadata": {},
     "output_type": "execute_result"
    }
   ],
   "source": [
    "std[56]"
   ]
  },
  {
   "cell_type": "markdown",
   "metadata": {},
   "source": [
    "<h2 style=\"color:#BF360C\">TIEMPO </h2>"
   ]
  },
  {
   "cell_type": "code",
   "execution_count": 132,
   "metadata": {},
   "outputs": [
    {
     "data": {
      "text/plain": [
       "('MobileUNet-Skip', 'FRRN-A')"
      ]
     },
     "execution_count": 132,
     "metadata": {},
     "output_type": "execute_result"
    }
   ],
   "source": [
    "times = []\n",
    "for i in csv_train[\"RUN_TIME\"]:\n",
    "    times.append(int(i.split(\"hours\")[0])*60*60 + int(i.split(\"hours\")[1].split(\"minutes\")[0])*60 + int(i.split(\"hours\")[1].split(\"minutes\")[1].split(\"seconds\")[0]))\n",
    "\n",
    "csv_test.iloc[np.array(times[0:11]).argmin()][2], csv_test.iloc[np.array(times[0:11]).argmax()][2]"
   ]
  },
  {
   "cell_type": "code",
   "execution_count": 133,
   "metadata": {},
   "outputs": [
    {
     "data": {
      "text/plain": [
       "('MobileUNet', 'Encoder-Decoder')"
      ]
     },
     "execution_count": 133,
     "metadata": {},
     "output_type": "execute_result"
    }
   ],
   "source": [
    "csv_test.iloc[np.array(times[12:22]).argmin()][2], csv_test.iloc[np.array(times[12:22]).argmax()][2]"
   ]
  },
  {
   "cell_type": "code",
   "execution_count": 134,
   "metadata": {},
   "outputs": [
    {
     "data": {
      "text/plain": [
       "('MobileUNet', 'Encoder-Decoder')"
      ]
     },
     "execution_count": 134,
     "metadata": {},
     "output_type": "execute_result"
    }
   ],
   "source": [
    "csv_test.iloc[np.array(times[23:33]).argmin()][2], csv_test.iloc[np.array(times[23:33]).argmax()][2]"
   ]
  },
  {
   "cell_type": "code",
   "execution_count": 135,
   "metadata": {},
   "outputs": [
    {
     "data": {
      "text/plain": [
       "('MobileUNet-Skip', 'FC-DenseNet56')"
      ]
     },
     "execution_count": 135,
     "metadata": {},
     "output_type": "execute_result"
    }
   ],
   "source": [
    "csv_test.iloc[np.array(times[34:44]).argmin()][2], csv_test.iloc[np.array(times[34:44]).argmax()][2]"
   ]
  },
  {
   "cell_type": "code",
   "execution_count": 136,
   "metadata": {},
   "outputs": [
    {
     "data": {
      "text/plain": [
       "('MobileUNet', 'Encoder-Decoder-Skip')"
      ]
     },
     "execution_count": 136,
     "metadata": {},
     "output_type": "execute_result"
    }
   ],
   "source": [
    "csv_test.iloc[np.array(times[45:55]).argmin()][2], csv_test.iloc[np.array(times[45:55]).argmax()][2]"
   ]
  },
  {
   "cell_type": "code",
   "execution_count": 137,
   "metadata": {},
   "outputs": [
    {
     "data": {
      "text/plain": [
       "('MobileUNet', 'Encoder-Decoder-Skip')"
      ]
     },
     "execution_count": 137,
     "metadata": {},
     "output_type": "execute_result"
    }
   ],
   "source": [
    "csv_test.iloc[np.array(times[56:66]).argmin()][2], csv_test.iloc[np.array(times[56:66]).argmax()][2]"
   ]
  }
 ],
 "metadata": {
  "kernelspec": {
   "display_name": "Python 3",
   "language": "python",
   "name": "python3"
  },
  "language_info": {
   "codemirror_mode": {
    "name": "ipython",
    "version": 3
   },
   "file_extension": ".py",
   "mimetype": "text/x-python",
   "name": "python",
   "nbconvert_exporter": "python",
   "pygments_lexer": "ipython3",
   "version": "3.6.5"
  }
 },
 "nbformat": 4,
 "nbformat_minor": 2
}
