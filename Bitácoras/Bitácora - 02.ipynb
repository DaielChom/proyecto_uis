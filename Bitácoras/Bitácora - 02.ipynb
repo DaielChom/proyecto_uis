{
 "cells": [
  {
   "cell_type": "markdown",
   "metadata": {},
   "source": [
    "# Bitácora - 02\n",
    "\n",
    "#### Reunión 04 - Sep - 2017: \n",
    "Bueno pues, cosas a decir primero que todo, raul es medio olvidadizo, toca el dia anterior a la reunion recordarle de la misma. pues hoy se le habia olvidado y por un asunto de la universidad llego un poco tarde. Ya entrando en materia le mostre las ideas a raul, pero no todas, por culpa de que mi computador se descargo no fui capas de revisar mi github donde estaban escritas las ideas que le pensaba mostrar, apenas le dije como 3 o 4, pero pues para mi eran as mas importantes, como las que mas me habia llamado la atencion que fueron lo de la pobreza, lo de analisis de cambios, medio mencione los de detectar cosas  especificas, y medio nombre de cosas furtivas, tambien le mensione cobre catastrofes ante y despues de las mismas. Pero en general se vio mas a gusto con el de detectar la pobreza ya que se le podrian poner cositas originales y es una buena combinacion entre machine learning e infomracion gubernamental, incluso con esta tarea se tiene ventaja de que se puede jugar con el dataset probando distintas combinaciones de datos, es decir se puede probar con y sin informacion de cajeros en la zona, y probar el score de ambas y decidir si esta informacion es o no relevante para la prediccion.\n",
    "\n",
    "Y pues la verdad a mi tambien me llamo la atencion esta tarea y pues me lancé de una y si rodes y escogi esa y raul pues listo de una tio sin tapujos jaajajaja. Y me asigno un par de tareas \n",
    "1. Revisar Keras\n",
    "2. Buscar los distintos factores que se podrian usar para la prediccion de la pobreza"
   ]
  }
 ],
 "metadata": {
  "kernelspec": {
   "display_name": "Python 3",
   "language": "python",
   "name": "python3"
  },
  "language_info": {
   "codemirror_mode": {
    "name": "ipython",
    "version": 3
   },
   "file_extension": ".py",
   "mimetype": "text/x-python",
   "name": "python",
   "nbconvert_exporter": "python",
   "pygments_lexer": "ipython3",
   "version": "3.6.1"
  }
 },
 "nbformat": 4,
 "nbformat_minor": 2
}
