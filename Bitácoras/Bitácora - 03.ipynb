{
 "cells": [
  {
   "cell_type": "markdown",
   "metadata": {},
   "source": [
    "# Bitácora - 03\n",
    "\n",
    "#### Reunión 11 - sep - 2017:\n",
    "\"Esto va a estar bien gonorrea\" por que erda~. las reuniones con raul han sido cortas y no han sido mas que como el mismo me dijo \"Rapidas y concisas\", incluso me dijo \"Yo no digo u obligo, yo pregunto\", lo que me hace interpretar y literlamente hablando que soy yo el que va a hacer eso, soy yo el que toma las desiciones, hombre, ponte pilas Daielchom que el solo te va a dar un par de consejos, sos voz el que lleva las riendas. Entonces, pues tenia que investigar varias cuestiones que puedan influenciar en la predicción y eso hice, la cuestion ahora es buscar que puedo contar con esa informacion, osea buscar en las paginas del gobierno a ver si se puede acceder a esa informacion para luego volvera a una representacion 2D, o de imagen, para que se le pueda montar a la imagen satelital y poder predecir el estrato. Hay un par de cuestiones y es que yo tampoco me he puesto a pensar puesto que no he pensado en las posibles inquitudes que surgan como que como le voy a hacer para la cuestion de los patrones, o la distancia o varias cuestiones, estoy siendo muy superficial con raul, tengo que ser mas conciso decirle todo exactamente lo que he investigado. Asi que para la otra semana debo hacer lo siguiente, tambien es que soy timido ala. Hacer lo siguiente\n",
    "1. Sacar la lista Oficial de los factores o indicadores de pobreza.\n",
    "2. Buscar en las bases de datos si se puede tener acceso a dicha información y descargarla.\n",
    "3. Mostrarle a raul exactamente la lista que se hizo con las cosas que se pretendian buscar, no solo dos o tres.\n",
    "4. mostrar e indicar los datos que se tienen.\n",
    "5. Pensar en una forma de representar esa informacion.\n",
    "6. Buscar como obtener imagenes satelitales, de google u otra de las fuentes. Definir la fuente.\n",
    "7. Investigar sobre Keras\n",
    "8. revisar google maps API\n",
    "9. Revisar Digitalglobe\n",
    "\n",
    "\n",
    "<center><h1> COMENTAR TODO AL PROFESOR</h1></center> \n",
    "\n",
    "Estan quedando dudas, estan quedando cuestiones, aun ni se como obtener imagenes satelitales. hay que pensar mejor y hablar mas, pero ahi voy."
   ]
  },
  {
   "cell_type": "markdown",
   "metadata": {},
   "source": [
    "encontre algo que podria servir o no, no se, hay que probar, pero la cuestion aca es que es algo curiso y es una API de arcGIS para [Python](https://developers.arcgis.com/python/), depronto de ahi pueda sacar datos, sobre todo mapas."
   ]
  },
  {
   "cell_type": "markdown",
   "metadata": {
    "collapsed": true
   },
   "source": [
    "### Desarrollo de tareas:\n",
    "1. La lista oficial por asi llamarla ya esta en la bitacora 02.\n",
    "2. Hay muchos lugares, demasiados, donde se pueden obtener datos, hay bases de datos, hay mapas, un montonero, y creo que mejor como que tenog que ser mas especifico, y buscar y de una vez obtener los mapas, me saldrian los hijos, bobos si me pongo cosa por cosa cuando ya tenog montonero encontrado, croe que lo mejor seria ya con la cantidad de informacion que tengo ver que factores cubro, y luego cuando termine buscar de los que faltaron por cubrir.\n",
    "\n",
    "\n",
    "## DUDAS:\n",
    "* Poner una capa de datos a nivel departamental o municipal con los datos de cada zona servira de algo?\n",
    "* Investigar keras, pues no se como vaya a funcionar, si se agrege las imagenes saterlitales, entrene con datos extra y despue sea capas de adivinar solo con las imagenes satelitales.\n",
    "* Preguntar sobre que ciudades, y que manera se va a trabajar, decir que quiero sogamoso aguazul, bucaramgna a ver que pasa.\n",
    "* ** IDEA **: mnadrar pqrs pidindo los datos.\n",
    "* con tantos datos las imagenes satelitales serviran de algo?\n",
    "* Como trabajar, no de todas las ciudades encontro la misma informacion, ejemplo no mas los mapas de bogota con los de bucaramanga.\n",
    "* \n"
   ]
  },
  {
   "cell_type": "markdown",
   "metadata": {
    "collapsed": true
   },
   "source": [
    "#### Reunion 18 - sep - 17:\n",
    "\"A reventar mi cabeza esta, mucha informacion trata de procesar\". Y esa es la cuestion, estoy que Boom!!. Lo bueno fue que senti que la reunion fue mas provechoza, duro una hora, a comparacion de las otras que eran de 5 min, practicamente. Tambien aproveche para hablar de la aux pero eso es arena de otro costal. En primer lugar se solucionaron varios o casi todas las dudas. Segundo se hablaron tantas cosas que no se por donde empezar. Comenzare respecto a las dudas y luego respecto a la investigacion de las posibles fuentes.\n",
    "\n",
    "##### Dudas:\n",
    "* Poner una capa de datos a nivel departamental o municipal con los datos de cada zona servira de algo? **RTA:** pues la cuestion no quedo muy clara. se trabajara por ahora con los datos que se tienen osea lode bogota, ya se iran solucionando esta duda mas adelante, aun no es momento para pensar en los datos extras del modelo, por ahora lo que expreso raul es enfocame en lo de los estratos. Por ahora con la lista de posibles factores y con las fuentes de informacion encontradas podría bastar.\n",
    "* Investigar keras, pues no se como vaya a funcionar, si se agrege las imagenes saterlitales, entrene con datos extra y despue sea capas de adivinar solo con las imagenes satelitales. **RTA:** Aun no he investigado keras y aun sigo sin comprender como sera la cosa, me toca hablar con el, puesto que la tarea que me dejo de hacer la caja negra donde me da un dato y le entrego el estrato, quede como perdido.\n",
    "* Investigar keras, pues no se como vaya a funcionar, si se agrege las imagenes saterlitales, entrene con datos extra y despue sea capas de adivinar solo con las imagenes satelitales. **RTA:** Eso depende de los datos, si hay datos de varias ciudades, genial si no pues no.\n",
    "* con tantos datos las imagenes satelitales serviran de algo? **RTA:** Habria que probar.\n",
    "* Como trabajar, no de todas las ciudades encontro la misma informacion, ejemplo no mas los mapas de bogota con los de bucaramanga. **RTA:** Sucede igualemente los datos diran en donde mas se puede trabjar\n",
    "\n",
    "Raul al ver la cantidad de datos y la cantidad de informacion con la que estaba trabajando, y ver que literalmente era mucho, dijo uqe me enfocara primeramente en los datos del target. Asi que mi nueva tarea es hacer una caja negra donde la entrada es una longitud y una latitud y la salida es el estrato. Tuve o tengo una duda respecto a eso y es que ya tengo que aplicar el uso de imagenes o que hps, pero creo que no, pensandolo bien el me dijo que me enfocara en tener el targer asi que obviamente sera como un tipo de base de datos ahi en local por asi decirlo y pues esa es mi nueva tarea. Asi que la lista de tareas queda de la siguiente manera.\n",
    "\n",
    "##### Desarrollo de tareas anteriores:\n",
    "\n",
    "1. ~~Sacar la lista Oficial de los factores o indicadores de pobreza.~~ ** LISTO: ** Se encuentra en la bitacora 02\n",
    "2. ~~Buscar en las bases de datos si se puede tener acceso a dicha información y descargarla.~~ **LISTO: **Se encuentra en el notebook `Posibles Fuentes de Datos`\n",
    "3. ~~Mostrarle a raul exactamente la lista que se hizo con las cosas que se pretendian buscar, no solo dos o tres.~~ ** LISTO: ** Pues le mostre la lista asi que almenos ya sabe que hay artas cosas que podria buscar.\n",
    "4. ~~mostrar e indicar los datos que se tienen.~~ ** LISTO: **\n",
    "5. ~~Pensar en una forma de representar esa informacion.~~ ** LISTO: ** Pues lo pense y raul tambien lo insinuo, como en imagenes de distintos colores, osea cuadritos de colores o cosas asi.\n",
    "6. ~~Buscar como obtener imagenes satelitales, de google u otra de las fuentes. Definir la fuente.~~ ** FALTA: ** dado que aun no he empezado con eso.\n",
    "7. ~~Investigar sobre Keras~~ ** FALTA: **\n",
    "\n",
    "\n",
    "\n",
    "##### TAREAS: \n",
    "1. Hacer la caja negra.\n",
    "2. Redactar lo del plan.\n",
    "2. Buscar como obtener imagenes satelitales, de google, digital, globe, geomatica u otra de las fuentes. Definir la fuente.\n",
    "3. Investigar sobre Keras\n",
    "\n",
    "\n"
   ]
  }
 ],
 "metadata": {
  "kernelspec": {
   "display_name": "Python 3",
   "language": "python",
   "name": "python3"
  },
  "language_info": {
   "codemirror_mode": {
    "name": "ipython",
    "version": 3
   },
   "file_extension": ".py",
   "mimetype": "text/x-python",
   "name": "python",
   "nbconvert_exporter": "python",
   "pygments_lexer": "ipython3",
   "version": "3.6.1"
  }
 },
 "nbformat": 4,
 "nbformat_minor": 2
}
