{
 "cells": [
  {
   "cell_type": "markdown",
   "metadata": {},
   "source": [
    "# Bitácora - 03\n",
    "\n",
    "#### Reunión 11 - sep - 2017:\n",
    "\"Esto va a estar bien gonorrea\" por que erda~. las reuniones con raul han sido cortas y no han sido mas que como el mismo me dijo \"Rapidas y concisas\", incluso me dijo \"Yo no digo u obligo, yo pregunto\", lo que me hace interpretar y literlamente hablando que soy yo el que va a hacer eso, soy yo el que toma las desiciones, hombre, ponte pilas Daielchom que el solo te va a dar un par de consejos, sos voz el que lleva las riendas. Entonces, pues tenia que investigar varias cuestiones que puedan influenciar en la predicción y eso hice, la cuestion ahora es buscar que puedo contar con esa informacion, osea buscar en las paginas del gobierno a ver si se puede acceder a esa informacion para luego volvera a una representacion 2D, o de imagen, para que se le pueda montar a la imagen satelital y poder predecir el estrato. Hay un par de cuestiones y es que yo tampoco me he puesto a pensar puesto que no he pensado en las posibles inquitudes que surgan como que como le voy a hacer para la cuestion de los patrones, o la distancia o varias cuestiones, estoy siendo muy superficial con raul, tengo que ser mas conciso decirle todo exactamente lo que he investigado. Asi que para la otra semana debo hacer lo siguiente, tambien es que soy timido ala. Hacer lo siguiente\n",
    "1. Sacar la lista Oficial de los factores o indicadores de pobreza.\n",
    "2. Buscar en las bases de datos si se puede tener acceso a dicha información y descargarla.\n",
    "3. Mostrarle a raul exactamente la lista que se hizo con las cosas que se pretendian buscar, no solo dos o tres.\n",
    "4. mostrar e indicar los datos que se tienen.\n",
    "5. Pensar en una forma de representar esa informacion.\n",
    "6. Buscar como obtener imagenes satelitales, de google u otra de las fuentes. Definir la fuente.\n",
    "7. Investigar sobre Keras\n",
    "\n",
    "<center><h1> COMENTAR TODO AL PROFESOR</h1></center> \n",
    "\n",
    "Estan quedando dudas, estan quedando cuestiones, aun ni se como obtener imagenes satelitales. hay que pensar mejor y hablar mas, pero ahi voy."
   ]
  },
  {
   "cell_type": "markdown",
   "metadata": {},
   "source": [
    ":tada: encontre algo que podria servir o no, no se, hay que probar, pero la cuestion aca es que es algo curiso y es una API de arcGIS para python, depronto de ahi pueda sacar datos, sobre todo mapas."
   ]
  },
  {
   "cell_type": "code",
   "execution_count": null,
   "metadata": {
    "collapsed": true
   },
   "outputs": [],
   "source": []
  }
 ],
 "metadata": {
  "kernelspec": {
   "display_name": "Python 3",
   "language": "python",
   "name": "python3"
  },
  "language_info": {
   "codemirror_mode": {
    "name": "ipython",
    "version": 3
   },
   "file_extension": ".py",
   "mimetype": "text/x-python",
   "name": "python",
   "nbconvert_exporter": "python",
   "pygments_lexer": "ipython3",
   "version": "3.6.1"
  }
 },
 "nbformat": 4,
 "nbformat_minor": 2
}
