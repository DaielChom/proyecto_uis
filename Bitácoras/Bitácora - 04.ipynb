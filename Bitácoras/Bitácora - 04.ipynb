{
 "cells": [
  {
   "cell_type": "markdown",
   "metadata": {},
   "source": [
    "# Bitácora - 04\n",
    "\n",
    "#### Reunión 25 - sep - 2017:\n",
    "\"Un profil pour deux\", es una pelicula que me vi con Jsn, no es la re que peliculaza pero pues agaunta. Pero eso es harina de otro costal la cuestion acá es que, MERDE!!! jajajja. voy algo atrasado con lo de la caja negra, por suerte soy muy pro y hable con raul respecto al titulo y esas cosas que redacte al final de la `Bitacora - 03`. Eso si, le hizo un monton de corecciones, entre ellas las ortograficas XD. Creo que le diré a Roco que me ayude con eso, osea que oso. Las correcciones que el profe hizo estan en el siguiente [archivo](https://docs.google.com/document/d/17FlKK5otBbOeD8oMR_yaM60CYS6f-MkYkHofHGQlgm8/edit). Creo que en este archivo terminaré de pulir y ahi si pondre en algun notebook o en el README del Proyecto. Lo otro es continuar con las tareas ya preinpuestas. Las cosas quedan asi:\n",
    "\n",
    "##### Tareas:\n",
    "1. Hacer la caja negra.\n",
    "2. Redactar lo del plan.\n",
    "3. Buscar como obtener imagenes satelitales, de google, digital, globe, geomatica u otra de las fuentes. Definir la fuente.\n",
    "4. Investigar sobre Keras\n",
    "\n",
    "##### Desarrollo:\n",
    "1. Ya se descartaron un par de fuentes de datos. Ya con la fuente seleccionada, y ya planeado el funcionamiento de la caja negra, queda empezar a programar. Todo sigue estando en el notebook [Target](http://localhost:8888/notebooks/proyecto_uis/Target.ipynb).\n",
    "2. Pues ya hay un par de correcciones por el profesor, [falta pulir.](https://docs.google.com/document/d/17FlKK5otBbOeD8oMR_yaM60CYS6f-MkYkHofHGQlgm8/edit). Cabe resaltar acá que se debe poner un par de referencias en la justificación para dar un poco mas de credibilidad.\n",
    "3. Aun nada.\n",
    "4. Aun nada.\n"
   ]
  },
  {
   "cell_type": "markdown",
   "metadata": {
    "collapsed": true
   },
   "source": [
    "Modifique un poco lo del plan, para pulir lo que me paso el profesor, y le pedi a `@Roco` que me ayudara con la ortografia, ella me dijo que habia modificado un par de cositas, pero que en general estaba bien. he [aqui](./files/[Roco] proyecto-grado-justicación-objetivos.docx) lo que ella me envio. <br/>\n",
    "**Nota: ** Se cambiara en el archivo de drive.\n"
   ]
  },
  {
   "cell_type": "code",
   "execution_count": null,
   "metadata": {
    "collapsed": true
   },
   "outputs": [],
   "source": []
  }
 ],
 "metadata": {
  "kernelspec": {
   "display_name": "Python 3",
   "language": "python",
   "name": "python3"
  },
  "language_info": {
   "codemirror_mode": {
    "name": "ipython",
    "version": 3
   },
   "file_extension": ".py",
   "mimetype": "text/x-python",
   "name": "python",
   "nbconvert_exporter": "python",
   "pygments_lexer": "ipython3",
   "version": "3.6.1"
  }
 },
 "nbformat": 4,
 "nbformat_minor": 2
}
