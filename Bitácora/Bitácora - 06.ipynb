{
 "cells": [
  {
   "cell_type": "markdown",
   "metadata": {},
   "source": [
    "# Bitacora - 06\n",
    "\n",
    "#### 16 - Feb - 18:\n",
    "\"Señoras y caballeros mi saludos mis repseto co el permiso de uds voy a cantar unos verbos.\" Las cosas Se tornaron algo extraño pero a la vez no creo que cambie nada. La reunion de raul nos dejo impactados, una gran noticia la verdad, raul va a renunciar, ya no hay muhco que hacer, teniamos dos opciones o seguir trabajando con el por skype o buscar a otro profesor para hacer proyecto de grado con él, sin dudarlo todos queremos seguir con raul y la verdad si quisiera trabajar con el, espero no surga nada raro y el man no nos deje botados, pero pues confiar en el por ahora a ver que tal, seguire el consejo de @Jez y hare una prueba por un tiempoa ver como me va, pero bueno en otras noticias, lo que me antañe y es que de las dudas a hablar con él de la bitacora anterior, me dijo que dejara el trabajo de secretaria, que perder el tiempo buscando un archivo lo pelaba, que usara los kml a los uqe tenia acceso y ahi se hace algo, es decir si encuentro un kml de las victimas o de seguridad usarlo, que si lo encuentro a nivel nacional pues no pasa nada usarlo a nivel nacional o departamental que no hay afan. y yo quede como :O ese homrbe siempre piensa en las ideas que uno no piensa jajajajajaja es un bueno cucho pa que. Entoncs eso hare, entre todas las paginas donde puedo obtener kml, osea si los puedo descargar vere cual escoger, eso si tengo que enviar un correo a fabio y raul para ver que hacer en la aux, que tambien me tienen sin trabajo en eso, osea estoy como que hheeee y ahora que?. Entoncs la cuestion queda asi.\n",
    "##### Tarea:\n",
    "* Seleccionar las paginas donde puedo descargar los kml facilmente.\n",
    "* Escoger el KML que mas me llame la atencion en trabajar."
   ]
  },
  {
   "cell_type": "markdown",
   "metadata": {
    "collapsed": true
   },
   "source": [
    "#### 19 - Feb - 18:\n",
    "\"Y me sigo molestando por ella, no se ya que sera, aunque creo que si es normal en mi, recuerdi lo de laura tambien fue bastante tiempo, aunq tmabien amistades com la de jez y erika y sacaron la rabia, la de pili me dolio reguero y aun hoy en dia de vez en cuando me achicopalo por eso\" No se si ya haya escrito pero la reunion salio mas X. no recordaba la vbitacora 6. La cuestion es que no hice nada el fin de semana y hoy empezare la seleccion de KML, sigo pensando si meterle mano al json, por ahora vere mejor los kmls."
   ]
  },
  {
   "cell_type": "code",
   "execution_count": null,
   "metadata": {
    "collapsed": true
   },
   "outputs": [],
   "source": [
    "mandar correo con las fechas,"
   ]
  },
  {
   "cell_type": "markdown",
   "metadata": {},
   "source": [
    "#### 20 - Feb - 18:\n",
    "Cambio nuevamente. O bueno, organizo ideas, por que estaba echo bolas, ya estaba dispuesto a cambiar de proyecto cuando no habia dado todo por luchar, me deje un poco influenciar y desde jeffer hasta jez, pasando con todos los uqe hable, tienen razon aun puedo ponerme hacer los mapas, seria algo complicado y canson pero lo puedo hacer, es trabajo de secretaria si, pero es por algo que realmente quiero hacer, incluso puedo buscar el mapa de estratos en pdf de otras ciudades hacer el mapa y con eso testiar, incluso jez me hizo pensar mientras estoy entranando o probando algo, puedo ir haciendo los otros mapas, incluso podria ser algo como de dia programacion y de noche adelanto mapas, sera engorrozo, pero dedicarme a hacer otra cosa desde casi 0 no quiero, no puedo quedarme sin haber luchado o estar inconforme por que no me dieron algo asi facilito, donde esta el daniel insistente y fastidioso, haceindo mapas hp, del afan y las ocsas borre el README pero no importa se puede volver a restaurar o algo asi, no hay afan, se pueden sacar los archivos de temp, o puede que no, y si hare eso, aprender react tendra que esperar un rato y me dedicare a hacer mapas en las noches, mañana tengo la sustentacion de wilson asi que tampoco es que vaya a aprovehar mucho el dia de mañana, y aun tengo que hablar con fabio y seguir pedaliando, reitero, gracias jeffer, gracias jez, gracias aron y angelica, el ceo y rueda, tellez y ahi a medio velandia."
   ]
  },
  {
   "cell_type": "markdown",
   "metadata": {
    "collapsed": true
   },
   "source": [
    "#### 22 - Feb - 18:\n",
    "Hoy me reuni de nuevo con raul y hable del proyecyo le dije que iba a ahcer el mapa y pues dijo que si que rela que lo hiciera y que despues lo publicara y que bueno que le hiciera quiero aprovechara poner esto \n",
    "![licencia](./img/mapas_bogota_licencia.png)\n",
    "![licencia](./img/mapas_bogota_licencia_02.png)"
   ]
  },
  {
   "cell_type": "markdown",
   "metadata": {},
   "source": [
    "Puedo modificar, obivamente debo publicarlo pero lo que estoy haceindo no es ilegal"
   ]
  },
  {
   "cell_type": "markdown",
   "metadata": {
    "collapsed": true
   },
   "source": [
    "### Reunion 2 - Mar - 18:\n",
    "Raulito estaba como rarito hoy, no se que pero lo note un tris que no era él mismo. Y respecto al tabjajo de grado voy bien, bastante bien, me adelante un poco, a lo que tenia pensado qeu estaba haciendo. Primero, antes de la reunion que acabo de tener con él tenia unas cuantas dudas.\n",
    "\n",
    "##### Dudas\n",
    "* moestratle el dataset sin etiquetar\n",
    "* ,mostrat pero dataset\n",
    "* como seria la etiquetacion\n",
    "* explicarle si seguir ocn ihistogramas o q\n",
    "* como seria la etiquetacion\n",
    "* mas mapas\n",
    "* como afectarian los colores?\n",
    "* mas ciudades?\n",
    "* mas zooms?\n",
    "\n",
    "Y varias de estas dudas eran por que estaba pensando en trabajar con clasificacion, pero por x motivo alparcer y ahora, y mejor para mi, voy a trabjar es con segmentacion, lo que me da a pensar sobre la calidad del mapa que tengo, pero es complicado por que para volverlo a hacer y esta vez de buena manera como que no, podria trabajar asi, ajj la madre, podria trabajar en las noches en la elaboracion de ese mapa y sus 40k casitas por que esa parte de segmentacion si requiere un mejor trabajo en el mapa, creo que trataré de ahcer eso en las noches voy a ver, mientras tambien debo descargar mas imagenes de zoom, y a la vez probar alguna red neuronal o algo sobre segmentacion, eso si me toca consultar a ver que encuentro, la cuestion es como que hacer un tutorial de segmentacion y luego hacer una codigo que comapre ambas imagenes la real con la que se predijo en la seccmentacion, tambien debo adelantar cositas de los mapas extras. y pues segun las fechas voy bien pues ya tengo el dataset, solo es hacer un tutorial de segmentacion con lo que tengo, aunque ueno aun me falta arreglar unas cosas del dataset, como borrar las imagenes que estan grises y eso entoncs las tareas quedan asi.\n",
    "\n",
    "###### Tarea.\n",
    "* Terminar de Arreglar Dataset.\n",
    "* **Hacer mapa de estratos de calidad** --> **DUDA PARA DESPUES** --> dado que ese kml lo hice pensando en clasificacion mas que en segementacion\n",
    "* Hacer tutorial de Segmentacion - Buscando si se pueden ingresar varios canales (mapas) y ver si requiere un tamaño de imagen especifico.\n",
    "* **Descargar mas zooms**\n",
    "* **Hacer mapas extra**\n",
    "* hacer algoritmo para comparar la imagen real y la prediccion\n",
    "* Decidir train y test, de una manera un tanto geografico, es decir que no sea muy aleatorio dado que si dosimagenes muy cercanas entre si quedan una en train y la otra en test, se podria estar sesgando, entoncs toca como que encontrar una manera de dividir las imagenes en test y train, aunque eso podria haberlo echo con las imagnes mas grandes que tenia."
   ]
  },
  {
   "cell_type": "code",
   "execution_count": null,
   "metadata": {
    "collapsed": true
   },
   "outputs": [],
   "source": []
  }
 ],
 "metadata": {
  "kernelspec": {
   "display_name": "Python 3",
   "language": "python",
   "name": "python3"
  },
  "language_info": {
   "codemirror_mode": {
    "name": "ipython",
    "version": 3
   },
   "file_extension": ".py",
   "mimetype": "text/x-python",
   "name": "python",
   "nbconvert_exporter": "python",
   "pygments_lexer": "ipython3",
   "version": "3.6.3"
  }
 },
 "nbformat": 4,
 "nbformat_minor": 2
}
