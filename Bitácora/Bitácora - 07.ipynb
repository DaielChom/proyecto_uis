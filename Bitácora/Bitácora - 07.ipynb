{
 "cells": [
  {
   "cell_type": "markdown",
   "metadata": {},
   "source": [
    "# Bitacora 07:\n",
    "\n",
    "####  25 - Abril - 2018:\n",
    "Nuevamente a sacar el dataset, por consejos de raul mejor sacar de SASplanet un poligono cuadrado y que luego si aplicar lo del poligoono de bogota es decir solamente eliminar las imagenes fuera de dicho poligono, lo que obviamente me pone a pensar como hacer eso, pero por ahora sacar las imagenes grandotas nuevamente, lo bueno es que de esta manera me queda facil mas adelante sacar la de otros mapas, lo que si es que el notebook dataset debe estar mejor expplicado el paso a paso, a y renombrarlo a get_dataset o algo asi, aun lo estoy pensando."
   ]
  },
  {
   "cell_type": "markdown",
   "metadata": {},
   "source": [
    "#### 12 - May - 18:\n",
    "Se han echo pruebas pero por problemas de anaconda se han suspendido, se instalo python y pip y las pruebas vovleran a realizar, puesto que PIL traia problemas en anaconda"
   ]
  },
  {
   "cell_type": "markdown",
   "metadata": {},
   "source": [
    "#### 15 - May - 18:\n",
    "Ya he realizado alrededor de 10 pruebas de distintos repositorios sobre CNNs pero niguna me funciono con mi propio dataset, dado que son repositorios muy ajustados al dataset, incluso los propios modelos estan ajustados al dataset. Estaba pensando en hacer ahora pruebas con los dataset que usan GPU antes de hacer los que sirven en linux, pues pa ponerme a instalar linux ahorita es mucho pereque. Pero primero si me gustaria hacer un Hola mundo con la GPU o algo asi por estilo para ver que o que, cuestion de tener una idea medio clara de como funciona la cosa.\n",
    "\n",
    "** PDTA:** Esta complicado instalar TF con GPU. "
   ]
  },
  {
   "cell_type": "markdown",
   "metadata": {},
   "source": [
    "* **COSAS A MENCIONAR**:\n",
    "    * si uso un modelo preentrenado tiene algo que ver el numero de clases? con las que se entreno dicho modelo preentrenado?\n",
    "    * CNN machine learning o Deep learning\n",
    "    * el Exe de lo de la auxiliatura\n",
    "    * que hacer dado que en los objetivos se habla de diseñar CNNs\n",
    "    * diseñarlas o cambiar los objetivos? o disañar una medio cula y luego poner una normal.\n",
    "    * si se continua por lo de usar las ya diseñadas la cosa ya no seria tan caja negra pues muchas estan sobre ajustadas.\n",
    "    * Que tan necesaria se hace que hayan todas las clases en test\n",
    "    * Como trabjar con imagenes de distintos tamaños\n",
    " "
   ]
  },
  {
   "cell_type": "markdown",
   "metadata": {},
   "source": [
    "#### 17 - May - 18:\n",
    "Si mal no recuerdo, ayer envie un correo a Raul, no me contesto, le escibi por wasa y me dijo que para el lunes o el domingo podriamos hecharle ojo y me parece bien, en estos dias me dedico a lo de kiwi que es pal viernes y pues el sabado será descansar."
   ]
  },
  {
   "cell_type": "markdown",
   "metadata": {},
   "source": [
    "#### 21 - May - 18:\n",
    "Hoy tuve una reunion por Hangout con el profe Raul, donde discutimos varias cositas entre las cuales una de las problematicas actuales de CAGE, la de los gatos, el unicamente me pregunta la cuestion de que habia pasado y pues le comente. Ya hablando de lo que nos compete que es el trabajo de grado, el articulo y fututo trabajo con el mencionamos lo sigueinte:\n",
    "1. Vio bien el camino por donde estaba yendo, que bien qeu haya podido hacer funcionar un framework que tales que igual si no podia diseñar aun tenia bastante camino que recorrer con esto de las pruebas, me recomendo tratar de instalar tensorflow en guane a ver como e iba a ir, lo que no se como hacer pues ni cuenta de guane tengo y, bueno ya con ayuda del CEO encontre donde, registro la cuenta acoso a Gilberto con correo en copia a Raul y sale empiezo a ver como se instala esa mondaquera a ver si soy capaz, si no pues ni modo.\n",
    "2. Respecto al articulo me lo menciono y yo le dije que si pero que ahorita estaba proyecto proyecto proyecto pero que si tenia plan de hacer articulo con el :D a lo que cual viene el 3°\n",
    "3. Le dije que no me le iba a escapar pues entre mis planes estaba mandarle mi hoja de vida cuando me graduara y no perderme.\n",
    "\n",
    "Bueno creare la cuenta, hare la vuelta de mi mama y visitare a san y ya juicio nuevamente en mi proyecto."
   ]
  },
  {
   "cell_type": "markdown",
   "metadata": {},
   "source": [
    "Ya envie los correos. queda no estoy seguro. Queda recordar que tambien hable con raul de lo de el .exe del registro de la aplicacion y me dijo que envez de subir el .exe mandara el rar u otra cosa que no me afanara por eso."
   ]
  },
  {
   "cell_type": "markdown",
   "metadata": {},
   "source": [
    "#### 22 - May - 2018:\n",
    "Hoy me regañaron (T.T), y con justa razon, entrando a la u de parte del profe fabio recibi un buen regaño diciendo que como era esa ortografia del pal culo que tenia, y me hizo corregir las solicitudes de cambio de objetivos, las corregi y ya me las acepto, solo queda ver que el consejo cuando se reuna me avale los cambios. mientras tanto y segun tengo entendido el profe gilberto esta en el proceso de la elaboracion de la cuenta de guane para mi y apenas salga me pongo a hacer arreglar tensorflow, lo cual tengo entendido es que tengo que recompilarlo para que sirva con cuda 7 no se como vergas hacer eso voy a sufrir con eso"
   ]
  },
  {
   "cell_type": "markdown",
   "metadata": {},
   "source": [
    "#### 29 - May - 2018:\n",
    "Acabo de llegar a bucaramanga estaba e aguazul he hice una parada por tunja para visitar al negro, entre tantas hice cosas de mi libro, e hice un par de pruebas sobre mi computador, hoy volvi a solicitar mi cuenta de guane dado que al parecer a fabio le tocaba crear un proyecto para yo pedir una cuenta sobre dicho proyecto por ahora hice pruebas y puedo entrenar con 4 canales asi que ya ocn eso me defiendo, ya seguir en pruebas mientras que sale lo de guane igual voy por buen camino"
   ]
  },
  {
   "cell_type": "markdown",
   "metadata": {},
   "source": [
    "#### 30 - May - 2018:\n",
    "Estuve adelantando una cosita y fue encontrar un mapa con informacion extr que me pueda servir he encontre el sigueinte sobre [seguridad de la mujer](http://metadatos.ideca.gov.co/geoportal/catalog/search/resource/details.page?uuid={818DBCDC-C208-4CEC-9953-506903412DCA}) y en el portal de mapas de bogota lo puedo encontrar con el nombre `Índice de Condiciones de Seguridad Nocturna por Localidad (%). Bogotá D.C. Año 2016`, ya lo pase por SAS y el KML de SAS esta en [Drive](https://drive.google.com/open?id=15VnvN6ZRTbsqqd9kl3ukNWBj3oqADsy0)"
   ]
  },
  {
   "cell_type": "code",
   "execution_count": null,
   "metadata": {},
   "outputs": [],
   "source": []
  }
 ],
 "metadata": {
  "kernelspec": {
   "display_name": "Python 3",
   "language": "python",
   "name": "python3"
  },
  "language_info": {
   "codemirror_mode": {
    "name": "ipython",
    "version": 3
   },
   "file_extension": ".py",
   "mimetype": "text/x-python",
   "name": "python",
   "nbconvert_exporter": "python",
   "pygments_lexer": "ipython3",
   "version": "3.6.5"
  }
 },
 "nbformat": 4,
 "nbformat_minor": 2
}
