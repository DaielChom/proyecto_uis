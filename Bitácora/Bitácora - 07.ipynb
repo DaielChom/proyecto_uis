{
 "cells": [
  {
   "cell_type": "markdown",
   "metadata": {},
   "source": [
    "# Bitacora 07:\n",
    "\n",
    "####  25 - Abril - 2018:\n",
    "Nuevamente a sacar el dataset, por consejos de raul mejor sacar de SASplanet un poligono cuadrado y que luego si aplicar lo del poligoono de bogota es decir solamente eliminar las imagenes fuera de dicho poligono, lo que obviamente me pone a pensar como hacer eso, pero por ahora sacar las imagenes grandotas nuevamente, lo bueno es que de esta manera me queda facil mas adelante sacar la de otros mapas, lo que si es que el notebook dataset debe estar mejor expplicado el paso a paso, a y renombrarlo a get_dataset o algo asi, aun lo estoy pensando."
   ]
  },
  {
   "cell_type": "markdown",
   "metadata": {},
   "source": [
    "#### 12 - May - 18:\n",
    "Se han echo pruebas pero por problemas de anaconda se han suspendido, se instalo python y pip y las pruebas vovleran a realizar, puesto que PIL traia problemas en anaconda"
   ]
  },
  {
   "cell_type": "markdown",
   "metadata": {},
   "source": [
    "#### 15 - May - 18:\n",
    "Ya he realizado alrededor de 10 pruebas de distintos repositorios sobre CNNs pero niguna me funciono con mi propio dataset, dado que son repositorios muy ajustados al dataset, incluso los propios modelos estan ajustados al dataset. Estaba pensando en hacer ahora pruebas con los dataset que usan GPU antes de hacer los que sirven en linux, pues pa ponerme a instalar linux ahorita es mucho pereque. Pero primero si me gustaria hacer un Hola mundo con la GPU o algo asi por estilo para ver que o que, cuestion de tener una idea medio clara de como funciona la cosa.\n",
    "\n",
    "** PDTA:** Esta complicado instalar TF con GPU. "
   ]
  },
  {
   "cell_type": "markdown",
   "metadata": {},
   "source": [
    "* **COSAS A MENCIONAR**:\n",
    "    * si uso un modelo preentrenado tiene algo que ver el numero de clases? con las que se entreno dicho modelo preentrenado?\n",
    "    * CNN machine learning o Deep learning\n",
    "    * el Exe de lo de la auxiliatura\n",
    "    * que hacer dado que en los objetivos se habla de diseñar CNNs\n",
    "    * diseñarlas o cambiar los objetivos? o disañar una medio cula y luego poner una normal.\n",
    "    * si se continua por lo de usar las ya diseñadas la cosa ya no seria tan caja negra pues muchas estan sobre ajustadas."
   ]
  },
  {
   "cell_type": "code",
   "execution_count": null,
   "metadata": {},
   "outputs": [],
   "source": []
  }
 ],
 "metadata": {
  "kernelspec": {
   "display_name": "Python 3",
   "language": "python",
   "name": "python3"
  },
  "language_info": {
   "codemirror_mode": {
    "name": "ipython",
    "version": 3
   },
   "file_extension": ".py",
   "mimetype": "text/x-python",
   "name": "python",
   "nbconvert_exporter": "python",
   "pygments_lexer": "ipython3",
   "version": "3.6.5"
  }
 },
 "nbformat": 4,
 "nbformat_minor": 2
}
