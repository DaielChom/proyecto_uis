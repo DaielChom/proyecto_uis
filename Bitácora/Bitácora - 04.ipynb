{
 "cells": [
  {
   "cell_type": "markdown",
   "metadata": {},
   "source": [
    "# Bitácora - 04\n",
    "\n",
    "#### Reunión 25 - sep - 2017:\n",
    "\"Un profil pour deux\", es una pelicula que me vi con Jsn, no es la re que peliculaza pero pues agaunta. Pero eso es harina de otro costal la cuestion acá es que, MERDE!!! jajajja. voy algo atrasado con lo de la caja negra, por suerte soy muy pro y hable con raul respecto al titulo y esas cosas que redacte al final de la `Bitacora - 03`. Eso si, le hizo un monton de corecciones, entre ellas las ortograficas XD. Creo que le diré a Roco que me ayude con eso, osea que oso. Las correcciones que el profe hizo estan en el siguiente [archivo](https://docs.google.com/document/d/17FlKK5otBbOeD8oMR_yaM60CYS6f-MkYkHofHGQlgm8/edit). Creo que en este archivo terminaré de pulir y ahi si pondre en algun notebook o en el README del Proyecto. Lo otro es continuar con las tareas ya preinpuestas. Las cosas quedan asi:\n",
    "\n",
    "##### Tareas:\n",
    "1. Hacer la caja negra.\n",
    "2. Redactar lo del plan.\n",
    "3. Buscar como obtener imagenes satelitales, de google, digital, globe, geomatica u otra de las fuentes. Definir la fuente.\n",
    "4. Investigar sobre Keras\n",
    "\n",
    "##### Desarrollo:\n",
    "1. Ya se descartaron un par de fuentes de datos. Ya con la fuente seleccionada, y ya planeado el funcionamiento de la caja negra, queda empezar a programar. Todo sigue estando en el notebook [Target](http://localhost:8888/notebooks/proyecto_uis/Target.ipynb).\n",
    "2. Pues ya hay un par de correcciones por el profesor, [falta pulir.](https://docs.google.com/document/d/17FlKK5otBbOeD8oMR_yaM60CYS6f-MkYkHofHGQlgm8/edit). Cabe resaltar acá que se debe poner un par de referencias en la justificación para dar un poco mas de credibilidad.\n",
    "3. Aun nada.\n",
    "4. Aun nada.\n"
   ]
  },
  {
   "cell_type": "markdown",
   "metadata": {
    "collapsed": true
   },
   "source": [
    "Modifique un poco lo del plan, para pulir lo que me paso el profesor, y le pedi a `@Roco` que me ayudara con la ortografia, ella me dijo que habia modificado un par de cositas, pero que en general estaba bien. he [aqui](./files/[Roco] proyecto-grado-justicación-objetivos.docx) lo que ella me envio. <br/>\n",
    "**Nota: ** Se cambiara en el archivo de drive.\n"
   ]
  },
  {
   "cell_type": "markdown",
   "metadata": {
    "collapsed": true
   },
   "source": [
    "#### Reunión 02 - oct - 2017:\n",
    "Siento como una calma, mis posibilidades decienden a numeros negativos, pero hace que me sienta bien, como que porfin podria darle vuelta de pagina a la cuestion. Pero es algo que siento en este momento pues acaba de pasar, vaya a saber mañana si estoy igual y si si le di vuelta de hoja. `Ojala si`. Ya respecto al trabajo de grado, hoy la reunion fue bastante productiva y eso que pense que seria corta. Se realizo una correccion a la caja negra, habria que analizar bien que tantas cosas son las que tengo qeu cambiar. Y todo se resume con.\n",
    "<div style=\"width:50%\">\n",
    "\n",
    "<img src=\"./img/caja_negra_upgrade.jpg\">\n",
    "</div>\n",
    "\n",
    "No se entiende un carajo, pero la cuestion es la sigueinte, primero, no tengo necesidad de \"arreglar\" todas las imagenes, dos la entrada y la salida de la caja negra cambian, la entrada es un punto central y un zoom. y la salida es un vector de tamaño 7 donde indica el porcentaje de exitencia de cada uno de los estratos en la zona dada, dicha zona se define por el punto centra y el zoom. he aqui mi mayor cuestion, hay que da alguna forma relacionar dicho zoom e imagen central con la imagen de las localidades. y eso en si es lo que me afana que no se como. Las 7 posiciones del vector de salida es por los 6 estratos y por una posicion de \"no determinado\". nota de la frase inicial, ya me estoy subiendo nuevamente las estadisticas, XD dios que no aprendo, ESE TAL PARO NO EXISTE. Continuo, tambien se hablo del titulo y la justificacion y eso. ya el titulo esta, hay que hacer unos pequeños cambios en la justificacion y subirlo, una vez subido debo enviarle un correo al profe raul para que lo avale, y tambien debo arreglar el README del proyecto. y talvez, organizar un poco la estructura del mismo, siento que esta un desorden.\n",
    "\n",
    "Entonces mi lista de tareas queda asi\n",
    "##### TAREAS:\n",
    "* Corregir justificacion y subir la propuesta.\n",
    "* Planear como diablos voy a hacer la caja negra.\n",
    "* Poner en el notebook del Target los cambios planteados y depronto empezar un nuevo notebook.\n",
    "* Arreglar el README\n",
    "* Ordenar el proyecto.\n",
    "* Hacer la caja negra, y meterle mano a la API de google, depronto inciando para demoestar por que la caja negra funciona con un centro y un zoom.\n",
    "\n",
    "##### DESARROLLO:\n",
    "* Al parecer no habia que corregir nada, error mio. Ya se subio a cormoran hace falta la aprobacion del profesor.\n",
    "* Aun no se XD\n",
    "* Tampoco lo he echo.\n",
    "* LISTO\n",
    "* LISTO -> muchas carpetas podrias decirse pero siento qeu se ve mejor asi, se siente mas ordenado.\n",
    "* Tampoco, aunuqe eso deberia ir con el item 3."
   ]
  },
  {
   "cell_type": "markdown",
   "metadata": {
    "collapsed": true
   },
   "source": [
    "\"Pacas me recomendo algo, ojala no se de cuenta\". Fecha 10 de octubre, el dia de ayer 9, por andar de vago, y por hacer mercado y otras cosas, no pude asistir a una reunion con raul ya que el tiempo no me dio para adelantar una u otra cosa me toca esta semana adelantar pues ya se planeo otra reuion con el para el viernes, asi que puro pedaleo intenso, tanto con el proyecto como con la Aux que eso es arena de otro costal. El caso es que en ese afan de aldenatar trabjo es que el PLAN que hay que subir ya esta en su primera version, la cual se la pace a @ROCO para que me haga el favor de ver la ortografia. Si ella lo alcanza a corregir le mostrare a raul para ver que dice, dejamndo lo de presupuesto para su consulta, pues no se que mas poner ahi. lo otro es que referente al proyecto como tal aun debo buscar la manera de correlacionar el zoom con las imagenes que tengo, pues ya hice una exploracion a google maps y no todos los zoom se noten que sirven, la otra es que debo pegar todos esos mapas para tener una sola imagen de bogota. Con todo esto las tareas quedan asi\n",
    "\n",
    "* Mostrar PLAN, Corregirlo y subirlo\n",
    "* Buscar como funciona el zoom, para poder aplicar dicho zoom a la imagen de bogota de los estratos.\n",
    "\n",
    "**PDTA: ** Esa @ROCO es una bruja chamanica ajjaja ya corrio, la magia de word, y de mi sexi redaccion jajaja el caso es que he aqui el [PLAN](https://docs.google.com/document/d/1zFLdFROACZjNCDuy77UDknsnYI2uBklSudlGUlneRek)\n",
    "\n",
    "Bueno fui interrumpido ahi,continuemos.\n",
    "\n",
    "#### TAREAS:\n",
    "\n",
    "* Mostra PLAN, Realizar corregiones, si se hacen, subirlo.\n",
    "* Buscar como funciona el zoom, para poder aplicar dicho zoom a la imagen de bogota de los estratos.\n",
    "* Unir las 12 imagenes en una unica imagen.\n",
    "* Realizar caja negra."
   ]
  },
  {
   "cell_type": "markdown",
   "metadata": {},
   "source": [
    "#### Reunión 13 - oct - 17:\n",
    "\"Hubo una gran guerra, un gordo pais ataco a una pequeña e inocente nacion, el gran pais no tenia mas que razones injustificables para ataque. La pequeña nacion supo esperar y escuchar, para luego perdonar. Ahora hay paz, pero el gran pais esta inseguro de que dicha paz restaure las lineas de comunicacion y mercado. Y de la pequeña nacion no se tiene información\". Me encanta el chisme, creo que ya lo he dicho en un par de ocasiones pero lo reitero. Y hoy fue una gran ocacion que no pude desaprovechar. El profe raul se dio cuenta de lo brutos que somos en BD y hoy  en la reunion lo recordo y aproveche para soltarle la bomba de Albarracin, tambien aproveche para nombrar otros, pero la cuestion no estaba para poderme regar y hablar como fue una vez con el churco. Ya hablando de temas serios, osea mi pinche proyecto, respecto a la reunioón de hoy apenas mostre lo que habia redactado del PLAN, y pues como me corrigio @Jefferson y @Wilson tengo que hacerle cambios a la metodologia, cronograma y debo hacer el presupuesto. Tambein raul me aconsejo  meterle un poco sobre redes neuronale y trata meinto de imagenes en el marco teorico como para dejarlo mas completo.\n",
    "\n",
    "Y bueno, listo, ya hice esas correcciones, y ya le pase a @Roco para que me ayude con eso de la ortografia, queda esperar a que ella lo revise, lo subo a drive, corrigo lo que  word dañe, y listo, quedaria pasarselo a raul para el ultimo visto bueno antes de subirlo."
   ]
  }
 ],
 "metadata": {
  "kernelspec": {
   "display_name": "Python 3",
   "language": "python",
   "name": "python3"
  },
  "language_info": {
   "codemirror_mode": {
    "name": "ipython",
    "version": 3
   },
   "file_extension": ".py",
   "mimetype": "text/x-python",
   "name": "python",
   "nbconvert_exporter": "python",
   "pygments_lexer": "ipython3",
   "version": "3.6.3"
  }
 },
 "nbformat": 4,
 "nbformat_minor": 2
}
