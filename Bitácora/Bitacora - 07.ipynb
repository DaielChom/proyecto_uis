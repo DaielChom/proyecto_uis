{
 "cells": [
  {
   "cell_type": "markdown",
   "metadata": {},
   "source": [
    "# Bitacora 07:\n",
    "\n",
    "####  25 - Abril - 2018:\n",
    "Nuevamente a sacar el dataset, por consejos de raul mejor sacar de SASplanet un poligono cuadrado y que luego si aplicar lo del poligoono de bogota es decir solamente eliminar las imagenes fuera de dicho poligono, lo que obviamente me pone a pensar como hacer eso, pero por ahora sacar las imagenes grandotas nuevamente, lo bueno es que de esta manera me queda facil mas adelante sacar la de otros mapas, lo que si es que el notebook dataset debe estar mejor expplicado el paso a paso, a y renombrarlo a get_dataset o algo asi, aun lo estoy pensando."
   ]
  },
  {
   "cell_type": "code",
   "execution_count": null,
   "metadata": {},
   "outputs": [],
   "source": []
  }
 ],
 "metadata": {
  "kernelspec": {
   "display_name": "Python 3",
   "language": "python",
   "name": "python3"
  },
  "language_info": {
   "codemirror_mode": {
    "name": "ipython",
    "version": 3
   },
   "file_extension": ".py",
   "mimetype": "text/x-python",
   "name": "python",
   "nbconvert_exporter": "python",
   "pygments_lexer": "ipython3",
   "version": "3.6.3"
  }
 },
 "nbformat": 4,
 "nbformat_minor": 2
}
