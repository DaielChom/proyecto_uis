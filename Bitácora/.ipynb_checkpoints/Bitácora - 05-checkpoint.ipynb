{
 "cells": [
  {
   "cell_type": "markdown",
   "metadata": {},
   "source": [
    "# Bitácora - 05\n",
    "\n",
    "#### 26 - oct - 17:\n",
    "\"Con ganas de comer, de comer carne llanera, ER\" Aqui igualmente voy re atrasado, incluso mas atrasado que co la aux, inclos estoy pensando en pausar el proyecto para terminar el del diplomado, pinche diplomado de mierda como lo odio. pero bueno no he definido si hacer eos o no, pero ya me va a tocar tomar una desicion, el diplomado debe acabar en diciembre y no tengo nada de nada. Respecto al trabajo de grado aun estoy buscando la forma de hacer la caja negra de una manera mas sencilla y cro haber encontrado, no se uan tengo que probar. No se si ya lo mencione pero fui al DANE, por fin, se que debi haber ido hace bastante tiempo pero pues hasta ahora lo hice XD. Raul me va a matar por eso. Pero bueno el caso es que descubri, y tambein gracias al trabajo de maestria de Daniel martinez, en telegram @Batmansapbe que el dane tiene archivos `shp`, me parece que sirven para usar con arguis o qguis y en el caso de R y python `Gdal` una libreria que me toma los shp, que son archivos con os poligonos sobre losmapas y los puede transformar en kml, el cual se peude subir a google maps. entoncs la cuestion es esta, esto peude servir para usar lo de los datos que se sacaron del DANE, y hay dos opciones, o pasarlos a kml y usando la API de google maps para obetner imagenes con un zoom, sin matarme en relacionar el zoom con una imagen. o poner estos datos en google maps, tomar pantallazos y seguir buscando la manera de asociar el zoom de google con el zoom de la imagen. la cuestion es probar que el zoom funcione con los mapas que importo. y esa sera lo que buscare."
   ]
  },
  {
   "cell_type": "markdown",
   "metadata": {},
   "source": [
    "#### 30 - oct - 17:\n",
    "\"@San es un pequeño cachorrito que queire que la consienten pero no se deja y se hace la pendeja, pero ahi es cuando llego yo y bujajjaajj\". Raul sobre todo, un toque mas que yo, estaba como la lecherita ajajjaja. vio un poco mas de lo que se podria sacar o a donde podria ir la vaina y penso de una en que lo podria pasar a congresos u otras cosas, incluso me hablo del emprendimiento que el tiene y que si la cosa va viento en popa me mete ahi y me contrata y etc etc. Pero bueno no me pongo a hacer cuentas alegres. Bueno cosas por hacer, revisar, ṕor que ahi dios lo que me pasa por no leer hasta a raul le da risa, pero bueno, buenas surgen de esas reuniones con él. al parecer la API de google static permite crear poligonos, pero ahora surge un problema que no habia pensado. la cuestion es que cuando mando el link de la imagen que quiero le ppuego mandar las posiciones para que me dibuje unos poligonos, es sencillo sacar las posiciones de los kml, habia visto por ahi un codiog que lo hacia. Pero acabo de pensar en algo a la API le mando un centro como le hago pa saber que puntos de todo el mapa mandarles y cuales no. la misma mierda me da, si le doy un zoom re alejado me toca andarle todos los puntos y si mando un zoom bastante cercano como le hago pa saber que pintos mandar y cuales no, me toca volver a hacer calculos de distacia y zoom y es  lo que quiero evitar asi que la misma. asi que mejor sigo con lo que estaba pensando una forma de tomar un pantallazo o renderizar el mapa en una imagen, por ahora lo mas que podria hacer es sacar una imagen o algo, o podria ponerme a pensar en el calculo, tampoco lo he pensado, pero creo que mejor lo de buscar la libreria en python o algo. o buscar si se peude hcaer algo con MyMaps. jmmm deberia hablar con raul o algo, no sigamos por el camino que estoy planeando a ver que pasa.\n",
    "Respecto a pausar el proyecto no le dije nada, me toca habalr con guztavo y pues en el proyecto pedalear de a poco."
   ]
  },
  {
   "cell_type": "markdown",
   "metadata": {},
   "source": [
    "Esta pinche pagina ya hace eso http://jsfiddle.net/j17mwmjm/251/ ver si tiene una API o algo asi, hay que explorar."
   ]
  },
  {
   "cell_type": "markdown",
   "metadata": {
    "collapsed": true
   },
   "source": [
    "#### 5 - nov - 17:\n",
    "\"Domingo y aqui estoy\". Estuve pensando y si mando todos los datos del kml al google static depronto funcione. no tengo que por que matarme de que si determinado zoom, determinados puntos, vale verga que los amnde todos y despues saque el zoom, lo que hay que probar es sacar la informacion del KML y lanzarsela al static me toca hacer pruebas a ver com sirve eso. dado el caso no funcione seguir probando con lo del pantallazo."
   ]
  },
  {
   "cell_type": "markdown",
   "metadata": {
    "collapsed": true
   },
   "source": [
    "#### 7 - Nov - 17:\n",
    "Acabo de salvar una relacion amorosa ajjajaj incluso intervine mas de lo debido pero bueno ojala sirva. Y como dije anteriormente, osea en la bitacora de la auxiliatura raul me va conociendo de apoco y mas en lo vago que soy XD. queria safarme de hacer conversiones entre zoom y mediciones como metros o algo por el estilo, pero me va a tocar pues la caja negra ya no sera tan negra, volvera a haber un cambio, esta vez en la entrada y un poco en las tripas, ahi dios, pero bueno los cambios han sido algo justificados y mas por orientar el trabajo a algo qeu se pueda vender o usar despues, y hacer un trabajo limpio, algo bien echo, me da flojera pero bueno toca pedalear, pues se pueden sacar buenas cosas de acá. La cuestion es que se habia realizado dos caminos, uno con el uso de la API de google para sacar la imagen y otro usando el API de js de google para sacar la imagen. Bueno los detalles de lo que se hablo los pondre en el notebook de la caja negra version 2 que ahora pasaria como a ser una version 3 o algo asi y de paso pienso en el nuevo esquema a trabajar por que me siento algo perdido, pero es por que no he pensado la cosa.\n",
    "##### Tareas:\n",
    "* Escribir los detalles de lo que se hablo respecto a la caja negra\n",
    "* hacer un esquema detallado de lo que se debe realizar ahora.\n",
    "* Comenzar con el desarrollo de lo que se defina.\n",
    "\n",
    "#### 15 - Dic - 17:\n"
   ]
  },
  {
   "cell_type": "markdown",
   "metadata": {
    "collapsed": true
   },
   "source": [
    "\"Un buen cumpleaños\". La verdad es que no tenia mucho de que ir a hablar con el profe raul, apenas habia visto un par de cositas tanto de la auxiliatura como del proyecto, queria mas bien hablar con el sobre que me iba a ir pronto para aguazul y que pues no tenia afan de devolverme, entoncs era mas como que eso y pues lo tomo bien, practicamente que mientras sea responable no pasa nada que el opina que conmigo a trabajado bien entoncs que rela. jajajaj lo chistozo es que como la mayoria quedaron sorprendidos cuando dije que era del llano XD y comento que tenia ganas de ir en la moto por alla y pues le dije que too bien que alla podia llegar que era bienvenido. Respecto al proyecto de grado han habido complicaciones, lo de google map api esta como complicado ir por ese lado, y pues le comente eso a raul y dijo que buscar alguna otra libreria o no se algo donde se peuda hacer eso, tenog que hacer una busqueda respecto a eso, mejor dicho la super busqueda. asi que como decirlo como que me toca volver a empezar, aunque no es como si llevara mucho. a bueno me falto mencionar que raul me propuso mandar u poster o no se que cosa para un congreso que va a haber en enero o buneo no se cuando va a ser la cuestion es que toca tener todo echo para el 20 de enero y yo quede como \n",
    ":O  la madre\n",
    "pues hare mi mayor esfuerzo para poder tener eso para esa fecha pero pues esperar a ver no hacer lo de la lecherita."
   ]
  },
  {
   "cell_type": "markdown",
   "metadata": {
    "collapsed": true
   },
   "source": [
    "#### 29 - Ene - 18:\n",
    "Por aqui me tienen de nuevo, pero aun no se si empezar con el proyecto de grado, aun tengo que temrinar lo del diplomado, pero estoy a las espera de gustavo, pero ahi podria uqedarme esperando toda la vida. Creo que iniciare el proyecto nuevamente, aunque no quiero empezar para dejar en pause otra vez, sera que espero ahorita en la mañana a ver si responde guz, no se. Creo que hare unas consultas sobre alguna libreria que pueda usar, por si deje algo que no vi. Creo que debi empezar  por buscar todos los lugares de donde puedo sacar imagenes satelitales XD. que idiota yo."
   ]
  },
  {
   "cell_type": "markdown",
   "metadata": {
    "collapsed": true
   },
   "source": [
    "#### 31 - Ene - 18:\n",
    "Sigo buscando librerias y esas cosas, y viendo por ahi podria sobre poner una foto en google maps, podria sobre poner las imagenes de bogota sobre google earth, no se para que ni nada pero una idea podria servir, lo otro es que podria crear el kml de bogota con esas imagenes, para luego extraerlas automanticamente por partes, es mas engorrrozo pero pues si no hay de otra\n",
    "\n",
    "#### 13 - Feb -  18:\n",
    "SASplanet y marble parece qe serviran pero creo que tengo mucha hambre los probare en mi casa por que este internet aca esta re paila paila"
   ]
  }
 ],
 "metadata": {
  "kernelspec": {
   "display_name": "Python 3",
   "language": "python",
   "name": "python3"
  },
  "language_info": {
   "codemirror_mode": {
    "name": "ipython",
    "version": 3
   },
   "file_extension": ".py",
   "mimetype": "text/x-python",
   "name": "python",
   "nbconvert_exporter": "python",
   "pygments_lexer": "ipython3",
   "version": "3.6.3"
  }
 },
 "nbformat": 4,
 "nbformat_minor": 2
}
