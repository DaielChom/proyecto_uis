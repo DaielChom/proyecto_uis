{
 "cells": [
  {
   "cell_type": "markdown",
   "metadata": {},
   "source": [
    "# Fuentes de Datos\n",
    "Paginas web, bases de datos, archivos de excel o demas lugares de donde se podrian tomar los datos para sacar el dataset.\n",
    "Se tiene en cuenta distintas ciudades, y los factores investigados que podrian predecir la pobreza."
   ]
  },
  {
   "cell_type": "markdown",
   "metadata": {},
   "source": [
    "Se Realiza Primera mente una busqueda en google de ciudad y aspecto, ejemplo, `Alfabetizacion en Bogota`, Las paginas relevantes se copian en la sigueinte lista.\n",
    "* [DANE](http://www.dane.gov.co/) -> Hacer la Super consulta ** POR HACER**\n",
    "* [Datos del DANE](http://formularios.dane.gov.co/Anda_4_1/index.php/home) -> Hacer la Super consulta ** POR HACER**\n",
    "* [Diapositivas](http://andi.com.co/Gerencia%20Arquitectura%20Social%20-%20Fundacion%20ANDI/Documents/Eventos/Memorias%20Market%20Place%202015/5.%20IPS%20Ciudades_ANDI_15%20Sept%202015_VF.pdf)\n",
    "* [Mapas de Alfabetizacion por departamento](http://ceelat.org/mapas/la-alfabetizacion-en-colombia-reto-o-realidad/)\n",
    "* [Mapas de Alfabetizacion por departamento](https://geoportal.dane.gov.co/atlasestadistico/pages/tome02/tm02itm34.html)\n",
    "* [Alfabetizacion por zonas en bogota](https://www.dane.gov.co/files/investigaciones/condiciones_vida/ecvb/13.xls) -> hay que buscar bine en el DANE, pues al parecer esta.\n",
    "* [Camara de Comercio](https://www.camaradirecta.com/temas/indicadoresantander/santanderencifras/default.htm) -> datos por departamento. \n",
    "* [Datos Bucarmanga](http://www.seb.gov.co/wp_educacion/wp-content/uploads/INFORME-DE-GESTION-1%C2%B0-TRIMESTRE-2016.pdf)\n",
    "* [Mapas](http://ceelat.org/mapas/category/mapas/)\n",
    "* [Parques Bogota](http://sispru.scrd.gov.co/siscred/sites/default/files/Boletin%20Parques%20Av5%20.pdf)\n",
    "* [COLOMBIA - Gran Encuesta Integrada de Hogares - GEIH - 2017](http://formularios.dane.gov.co/Anda_4_1/index.php/catalog/458/datafile/F16#page=F16&tab=data-dictionary) -> Buscar Bien en toda la DANE, Ingresos, fuerza de trabajo, cosas en el hogar, etc\n",
    "* [Trabajo](http://formularios.dane.gov.co/Anda_4_1/index.php/catalog/414/datafile/F31)\n",
    "* [COLOMBIA - Indice de Pobreza Multidimensional - IPM - 2012](http://formularios.dane.gov.co/Anda_4_1/index.php/catalog/257/study-description)\n",
    "* [COLOMBIA - Encuesta Nacional de Calidad de Vida - ECV 2016](https://formularios.dane.gov.co/Anda_4_1/index.php/catalog/456/study-description)\n",
    "* [Datos de Colegios y educacion en Bucaramanga](http://www.seb.gov.co/wp_educacion/wp-content/uploads/INFORME-DE-GESTION-1%C2%B0-TRIMESTRE-2016.pdf)\n",
    "\n",
    "### Entidades:\n",
    "* [Camara de Comercio Bucaramanga](https://www.camaradirecta.com/temas/indicadoresantander/santanderencifras/default.htm)\n",
    "* [Camara de Comercio Bogota]()\n",
    "* [BD CEDE](https://datoscede.uniandes.edu.co/microdatos-tipos.php)\n",
    "* Hay un banco de datos en Bucaramanga\n",
    "* Secretaria de hacienda.\n",
    "* Camara de comercio\n",
    "* Ministerios\n",
    "* Catastro\n",
    "* [ARGIS mapas](http://www.arcgis.com/home/search.html?start=1&sortOrder=desc&sortField=relevance)\n",
    "* Secretaria de planeacion\n",
    "* [DAtos Abiertos](https://www.datos.gov.co/browse)\n",
    "\n",
    "### Grandes Encuestas:\n",
    "* [COLOMBIA - Encuesta de Calidad de Vida de Bogotá - ECVB 2007](http://formularios.dane.gov.co/Anda_4_1/index.php/catalog/188)\n",
    "* [COLOMBIA - Encuesta de Carga Financiera y Educación Financiera de los Hogares - IEFIC-2010 - 2016](http://formularios.dane.gov.co/Anda_4_1/index.php/catalog/470/datafile/F15)\n",
    "* [COLOMBIA - Encuesta Anual de Servicios - EAS - 2011 - Microdato](http://formularios.dane.gov.co/Anda_4_1/index.php/catalog/261/datafile/F1)\n",
    "* [COLOMBIA - Encuesta de Consumo Cultural - ECC - 2016](http://formularios.dane.gov.co/Anda_4_1/index.php/catalog/447/datafile/F18)\n",
    "* [COLOMBIA - Encuesta de Convivencia y Seguridad Ciudadana - ECSC - 2016](http://formularios.dane.gov.co/Anda_4_1/index.php/catalog/451)\n",
    "* [COLOMBIA - Encuesta de Cultura Política - ECP - 2015](http://formularios.dane.gov.co/Anda_4_1/index.php/catalog/406)\n",
    "* [COLOMBIA - Encuesta de Gasto Interno en Turismo - EGIT - 2012 - 2013](http://formularios.dane.gov.co/Anda_4_1/index.php/catalog/253)\n",
    "* [COLOMBIA - Encuesta longitudinal de Protección Social - ELPS 2012](http://formularios.dane.gov.co/Anda_4_1/index.php/catalog/194)\n",
    "* [COLOMBIA - Encuesta Nacional de Calidad de Vida - ECV 2016](http://formularios.dane.gov.co/Anda_4_1/index.php/catalog/456)\n",
    "* [COLOMBIA - Encuesta Multipropósito - EM- 2014](http://formularios.dane.gov.co/Anda_4_1/index.php/catalog/365)\n",
    "* [COLOMBIA - Encuesta Nacional de Calidad de Vida - ECV 2016](http://formularios.dane.gov.co/Anda_4_1/index.php/catalog/456)\n",
    "* [COLOMBIA - Encuesta Nacional de Trabajo Infantil - ENTI 2011](http://formularios.dane.gov.co/Anda_4_1/index.php/catalog/372)\n",
    "* [COLOMBIA - Encuesta Nacional de Uso del Tiempo - ENUT- 2012 - 2013](http://formularios.dane.gov.co/Anda_4_1/index.php/catalog/214)\n",
    "* [COLOMBIA - Encuesta Sobre Ambiente y Desempeño Institucional Departamental- EDID - 2014 (ENTIDAD)](http://formularios.dane.gov.co/Anda_4_1/index.php/catalog/402)\n",
    "* [COLOMBIA - Encuesta Sobre Ambiente y Desempeño Institucional Departamental- EDID - 2016 (ENTIDAD)](http://formularios.dane.gov.co/Anda_4_1/index.php/catalog/443)\n",
    "* [COLOMBIA - Encuesta Sobre Ambiente y Desempeño Institucional Departamental- EDID - 2016 (REGION)](http://formularios.dane.gov.co/Anda_4_1/index.php/catalog/442)\n",
    "* [COLOMBIA - Estadísticas Vitales - EEVV - 2015](http://formularios.dane.gov.co/Anda_4_1/index.php/catalog/475)\n",
    "* [COLOMBIA - Gran Encuesta Integrada de Hogares - GEIH - 2016](http://formularios.dane.gov.co/Anda_4_1/index.php/catalog/427)\n",
    "* [COLOMBIA - Gran Encuesta Integrada de Hogares - GEIH - 2017](http://formularios.dane.gov.co/Anda_4_1/index.php/catalog/458)\n",
    "* [COLOMBIA - Gran Encuesta Integrada de Hogares Nuevos Departamentos - GEIH - ND- 2015](http://formularios.dane.gov.co/Anda_4_1/index.php/catalog/405)\n",
    "* [Colombia - Indice de Pobreza Multidimensional - IPM- 2016](http://formularios.dane.gov.co/Anda_4_1/index.php/catalog/455)\n",
    "* [COLOMBIA - Investigación de Educación Formal - 2016](http://formularios.dane.gov.co/Anda_4_1/index.php/catalog/476)\n",
    "* [COLOMBIA - Medición de Pobreza Monetaria y Desigualdad - 2016](http://formularios.dane.gov.co/Anda_4_1/index.php/catalog/454/data_dictionary)\n",
    "* [COLOMBIA - Módulo de Trabajo Infantil - MTI- GEIH - 2016](http://formularios.dane.gov.co/Anda_4_1/index.php/catalog/462)\n",
    "* [COLOMBIA - Módulo de Trabajo Infantil - MTI- GEIH - 2016](http://formularios.dane.gov.co/Anda_4_1/index.php/catalog/462)\n",
    "* [COLOMBIA - Módulo Tecnologías de Información y Comunicación - MTIC- GEIH- 2011](http://formularios.dane.gov.co/Anda_4_1/index.php/catalog/298)\n",
    "* [COLOMBIA - Censo General 2005](http://formularios.dane.gov.co/Anda_4_1/index.php/catalog/421/data_dictionary)\n",
    "* [COLOMBIA - Encuesta Continua de Hogares - ECH - 2006 (TRIMESTRES I Y II)](http://formularios.dane.gov.co/Anda_4_1/index.php/catalog/116)"
   ]
  },
  {
   "cell_type": "markdown",
   "metadata": {},
   "source": [
    "De las paginas anteriores se sacan los datos en las paginas para completar la sigueinte informacion."
   ]
  },
  {
   "cell_type": "code",
   "execution_count": 2,
   "metadata": {
    "collapsed": true
   },
   "outputs": [],
   "source": [
    "# uno de las posibles fuentes son los mapas de arcGIS, entoncs se importa su libreria\n",
    "import arcgis\n",
    "from arcgis.gis import GIS\n",
    "from IPython.display import display\n",
    "\n",
    "gis = GIS()"
   ]
  },
  {
   "cell_type": "markdown",
   "metadata": {},
   "source": [
    "## 1. Bogota"
   ]
  },
  {
   "cell_type": "markdown",
   "metadata": {},
   "source": [
    "### 1.1 Estrato:\n",
    "* [COLOMBIA - Encuesta Multipropósito - EM- 2014](http://formularios.dane.gov.co/Anda_4_1/index.php/catalog/365/vargrp/VG1#page=F1&tab=data-dictionary)\n",
    "* [Secretaria de Planeacion](http://www.sdp.gov.co/portal/page/portal/PortalSDP/InformacionTomaDecisiones/Estratificacion_Socioeconomica/Mapas)\n",
    "* [Encuesta de movilidad de Bogotá 2015 – Caracterización Encuesta – Origen/Destino](https://www.datos.gov.co/Transporte/Encuesta-de-movilidad-de-Bogot-2015-Caracterizaci-/nvjr-dwv4)\n",
    "* arcGIS"
   ]
  },
  {
   "cell_type": "code",
   "execution_count": 5,
   "metadata": {
    "collapsed": true,
    "scrolled": true
   },
   "outputs": [],
   "source": [
    "items = gis.content.search(\"estratificacion bogota\")"
   ]
  },
  {
   "cell_type": "code",
   "execution_count": 6,
   "metadata": {},
   "outputs": [
    {
     "data": {
      "text/html": [
       "<div class=\"item_container\" style=\"height: auto; overflow: hidden; border: 1px solid #cfcfcf; border-radius: 2px; background: #f6fafa; line-height: 1.21429em; padding: 10px;\">\n",
       "                    <div class=\"item_left\" style=\"width: 210px; float: left;\">\n",
       "                       <a href='http://www.arcgis.com/home/item.html?id=c27e2ebac3534d0880632934afb73b5a' target='_blank'>\n",
       "                        <img src='http://www.arcgis.com/sharing/rest//content/items/c27e2ebac3534d0880632934afb73b5a/info/thumbnail/ago_downloaded.png' class=\"itemThumbnail\">\n",
       "                       </a>\n",
       "                    </div>\n",
       "\n",
       "                    <div class=\"item_right\"     style=\"float: none; width: auto; overflow: hidden;\">\n",
       "                        <a href='http://www.arcgis.com/home/item.html?id=c27e2ebac3534d0880632934afb73b5a' target='_blank'><b>Estratificacion Bogota</b>\n",
       "                        </a>\n",
       "                        <br/><img src='http://www.arcgis.com/home/js/jsapi/esri/css/images/item_type_icons/features16.png' style=\"vertical-align:middle;\">Feature Collection by cristianquintero\n",
       "                        <br/>Last Modified: junio 02, 2015\n",
       "                        <br/>0 comments, 794 views\n",
       "                    </div>\n",
       "                </div>\n",
       "                "
      ],
      "text/plain": [
       "<Item title:\"Estratificacion Bogota\" type:Feature Collection owner:cristianquintero>"
      ]
     },
     "metadata": {},
     "output_type": "display_data"
    },
    {
     "data": {
      "text/html": [
       "<div class=\"item_container\" style=\"height: auto; overflow: hidden; border: 1px solid #cfcfcf; border-radius: 2px; background: #f6fafa; line-height: 1.21429em; padding: 10px;\">\n",
       "                    <div class=\"item_left\" style=\"width: 210px; float: left;\">\n",
       "                       <a href='http://www.arcgis.com/home/item.html?id=8ac1c0d2c59b4fe6980e4d06fb599f03' target='_blank'>\n",
       "                        <img src='http://www.arcgis.com/sharing/rest//content/items/8ac1c0d2c59b4fe6980e4d06fb599f03/info/thumbnail/ago_downloaded.png' class=\"itemThumbnail\">\n",
       "                       </a>\n",
       "                    </div>\n",
       "\n",
       "                    <div class=\"item_right\"     style=\"float: none; width: auto; overflow: hidden;\">\n",
       "                        <a href='http://www.arcgis.com/home/item.html?id=8ac1c0d2c59b4fe6980e4d06fb599f03' target='_blank'><b>ESTRATIFICACION SOCIAL BOGOTA DC</b>\n",
       "                        </a>\n",
       "                        <br/>(MAPA EN CONSTRUCCION)<img src='http://www.arcgis.com/home/js/jsapi/esri/css/images/item_type_icons/maps16.png' style=\"vertical-align:middle;\">Web Map by geoconcepto\n",
       "                        <br/>Last Modified: enero 04, 2016\n",
       "                        <br/>0 comments, 73 views\n",
       "                    </div>\n",
       "                </div>\n",
       "                "
      ],
      "text/plain": [
       "<Item title:\"ESTRATIFICACION SOCIAL BOGOTA DC\" type:Web Map owner:geoconcepto>"
      ]
     },
     "metadata": {},
     "output_type": "display_data"
    },
    {
     "data": {
      "text/html": [
       "<div class=\"item_container\" style=\"height: auto; overflow: hidden; border: 1px solid #cfcfcf; border-radius: 2px; background: #f6fafa; line-height: 1.21429em; padding: 10px;\">\n",
       "                    <div class=\"item_left\" style=\"width: 210px; float: left;\">\n",
       "                       <a href='http://www.arcgis.com/home/item.html?id=b11709a2bdc54518be28591299052b1a' target='_blank'>\n",
       "                        <img src='http://www.arcgis.com/sharing/rest//content/items/b11709a2bdc54518be28591299052b1a/info/thumbnail/ago_downloaded.png' class=\"itemThumbnail\">\n",
       "                       </a>\n",
       "                    </div>\n",
       "\n",
       "                    <div class=\"item_right\"     style=\"float: none; width: auto; overflow: hidden;\">\n",
       "                        <a href='http://www.arcgis.com/home/item.html?id=b11709a2bdc54518be28591299052b1a' target='_blank'><b>Estratificacion Bogota - Copiar</b>\n",
       "                        </a>\n",
       "                        <br/><img src='http://www.arcgis.com/home/js/jsapi/esri/css/images/item_type_icons/features16.png' style=\"vertical-align:middle;\">Feature Collection by Sergio1130\n",
       "                        <br/>Last Modified: marzo 02, 2017\n",
       "                        <br/>0 comments, 57 views\n",
       "                    </div>\n",
       "                </div>\n",
       "                "
      ],
      "text/plain": [
       "<Item title:\"Estratificacion Bogota - Copiar\" type:Feature Collection owner:Sergio1130>"
      ]
     },
     "metadata": {},
     "output_type": "display_data"
    }
   ],
   "source": [
    "for item in items:\n",
    "    display(item)"
   ]
  },
  {
   "cell_type": "markdown",
   "metadata": {},
   "source": [
    "### 1.2 Factor Uno - Educación:\n",
    "* [COLOMBIA - Indice de Pobreza Multidimensional - IPM - 2012](http://formularios.dane.gov.co/Anda_4_1/index.php/catalog/257/study-description) - Hay Columna con la pregunta `¿Sabe Leer?`\n",
    "* [Colombia - Indice de Pobreza Multidimensional - IPM- 2016](http://formularios.dane.gov.co/Anda_4_1/index.php/catalog/455/study-description)\n",
    "* [Excel del DANE](https://www.dane.gov.co/files/investigaciones/condiciones_vida/ecvb/13.xls)\n",
    "* [Mapa a Nivel Municipal](http://ceelat.org/mapas/la-alfabetizacion-en-colombia-reto-o-realidad/)\n",
    "* En las grandes encuestas hay varios datos que se pueden volver mapas.\n",
    "* [Puntos vive digital del pais](https://www.datos.gov.co/Ciencia-Tecnolog-a-e-Innovaci-n/Kioskos-Vive-Digital/jmmu-qmdh)"
   ]
  },
  {
   "cell_type": "code",
   "execution_count": 18,
   "metadata": {},
   "outputs": [
    {
     "data": {
      "text/html": [
       "<div class=\"item_container\" style=\"height: auto; overflow: hidden; border: 1px solid #cfcfcf; border-radius: 2px; background: #f6fafa; line-height: 1.21429em; padding: 10px;\">\n",
       "                    <div class=\"item_left\" style=\"width: 210px; float: left;\">\n",
       "                       <a href='http://www.arcgis.com/home/item.html?id=b49fbd8f78a14dcbafb252b4cd78a4f4' target='_blank'>\n",
       "                        <img src='http://www.arcgis.com/sharing/rest//content/items/b49fbd8f78a14dcbafb252b4cd78a4f4/info/thumbnail/ago_downloaded.png' class=\"itemThumbnail\">\n",
       "                       </a>\n",
       "                    </div>\n",
       "\n",
       "                    <div class=\"item_right\"     style=\"float: none; width: auto; overflow: hidden;\">\n",
       "                        <a href='http://www.arcgis.com/home/item.html?id=b49fbd8f78a14dcbafb252b4cd78a4f4' target='_blank'><b>Mapa_Colegios</b>\n",
       "                        </a>\n",
       "                        <br/>Mapa que muestra los colegios de Bogota<img src='http://www.arcgis.com/home/js/jsapi/esri/css/images/item_type_icons/maps16.png' style=\"vertical-align:middle;\">Web Map by acubillos\n",
       "                        <br/>Last Modified: diciembre 11, 2015\n",
       "                        <br/>0 comments, 501 views\n",
       "                    </div>\n",
       "                </div>\n",
       "                "
      ],
      "text/plain": [
       "<Item title:\"Mapa_Colegios\" type:Web Map owner:acubillos>"
      ]
     },
     "metadata": {},
     "output_type": "display_data"
    },
    {
     "data": {
      "text/html": [
       "<div class=\"item_container\" style=\"height: auto; overflow: hidden; border: 1px solid #cfcfcf; border-radius: 2px; background: #f6fafa; line-height: 1.21429em; padding: 10px;\">\n",
       "                    <div class=\"item_left\" style=\"width: 210px; float: left;\">\n",
       "                       <a href='http://www.arcgis.com/home/item.html?id=2d5f83ce539d47b9b777a98b27e6fec9' target='_blank'>\n",
       "                        <img src='http://www.arcgis.com/sharing/rest//content/items/2d5f83ce539d47b9b777a98b27e6fec9/info/thumbnail/ago_downloaded.png' class=\"itemThumbnail\">\n",
       "                       </a>\n",
       "                    </div>\n",
       "\n",
       "                    <div class=\"item_right\"     style=\"float: none; width: auto; overflow: hidden;\">\n",
       "                        <a href='http://www.arcgis.com/home/item.html?id=2d5f83ce539d47b9b777a98b27e6fec9' target='_blank'><b>Establecimientos Educativos</b>\n",
       "                        </a>\n",
       "                        <br/><img src='http://www.arcgis.com/home/js/jsapi/esri/css/images/item_type_icons/maps16.png' style=\"vertical-align:middle;\">Web Map by PublicadorSIG\n",
       "                        <br/>Last Modified: julio 28, 2016\n",
       "                        <br/>0 comments, 429 views\n",
       "                    </div>\n",
       "                </div>\n",
       "                "
      ],
      "text/plain": [
       "<Item title:\"Establecimientos Educativos\" type:Web Map owner:PublicadorSIG>"
      ]
     },
     "metadata": {},
     "output_type": "display_data"
    }
   ],
   "source": [
    "items = gis.content.search(\"educacion bogota\", max_items=2)\n",
    "\n",
    "for item in items:\n",
    "    display(item)"
   ]
  },
  {
   "cell_type": "code",
   "execution_count": 3,
   "metadata": {},
   "outputs": [
    {
     "data": {
      "text/html": [
       "<div class=\"item_container\" style=\"height: auto; overflow: hidden; border: 1px solid #cfcfcf; border-radius: 2px; background: #f6fafa; line-height: 1.21429em; padding: 10px;\">\n",
       "                    <div class=\"item_left\" style=\"width: 210px; float: left;\">\n",
       "                       <a href='http://www.arcgis.com/home/item.html?id=d5b244f63a314fff8e7f81e40f7bfcd6' target='_blank'>\n",
       "                        <img src='http://www.arcgis.com/sharing/rest//content/items/d5b244f63a314fff8e7f81e40f7bfcd6/info/thumbnail/Alfabetismo_poblaci_C3_B3n_de_6_a_C3_B1os_y_m_C3_A1s__28N_C3_BAmero_29.jpg' class=\"itemThumbnail\">\n",
       "                       </a>\n",
       "                    </div>\n",
       "\n",
       "                    <div class=\"item_right\"     style=\"float: none; width: auto; overflow: hidden;\">\n",
       "                        <a href='http://www.arcgis.com/home/item.html?id=d5b244f63a314fff8e7f81e40f7bfcd6' target='_blank'><b>Alfabetismo población de 6 años y más</b>\n",
       "                        </a>\n",
       "                        <br/>El alfabetismo es el conocimiento básico de lectura y escritura.De acuerdo con los resultados de la Encuesta Nacional de Calidad de vida (ECV), la tasa de analfabetismo en Colombia para las personas de 15 años y más fue de 5,2% para el 2014.<img src='http://www.arcgis.com/home/js/jsapi/esri/css/images/item_type_icons/featureshosted16.png' style=\"vertical-align:middle;\">Feature Layer Collection by CommunityMaps_EsriColombia\n",
       "                        <br/>Last Modified: mayo 19, 2017\n",
       "                        <br/>0 comments, 54 views\n",
       "                    </div>\n",
       "                </div>\n",
       "                "
      ],
      "text/plain": [
       "<Item title:\"Alfabetismo población de 6 años y más\" type:Feature Service owner:CommunityMaps_EsriColombia>"
      ]
     },
     "metadata": {},
     "output_type": "display_data"
    },
    {
     "data": {
      "text/html": [
       "<div class=\"item_container\" style=\"height: auto; overflow: hidden; border: 1px solid #cfcfcf; border-radius: 2px; background: #f6fafa; line-height: 1.21429em; padding: 10px;\">\n",
       "                    <div class=\"item_left\" style=\"width: 210px; float: left;\">\n",
       "                       <a href='http://www.arcgis.com/home/item.html?id=cafdedfbf77c46e88491f35ce1bd7700' target='_blank'>\n",
       "                        <img src='http://www.arcgis.com/sharing/rest//content/items/cafdedfbf77c46e88491f35ce1bd7700/info/thumbnail/Alfabetismo_de_poblaci_C3_B3n_con_limitaciones_permanentes_de_6_a_C3_B1os_y_m_C3_A1s__28_N_C3_BAmero_29.jpg' class=\"itemThumbnail\">\n",
       "                       </a>\n",
       "                    </div>\n",
       "\n",
       "                    <div class=\"item_right\"     style=\"float: none; width: auto; overflow: hidden;\">\n",
       "                        <a href='http://www.arcgis.com/home/item.html?id=cafdedfbf77c46e88491f35ce1bd7700' target='_blank'><b>Alfabetismo de población con limitaciones permanentes de 6 años y más</b>\n",
       "                        </a>\n",
       "                        <br/>El alfabetismoes el conocimiento básico de lectura y escritura.De acuerdo con los resultados de la Encuesta Nacional de Calidad de vida (ECV)<img src='http://www.arcgis.com/home/js/jsapi/esri/css/images/item_type_icons/featureshosted16.png' style=\"vertical-align:middle;\">Feature Layer Collection by CommunityMaps_EsriColombia\n",
       "                        <br/>Last Modified: mayo 19, 2017\n",
       "                        <br/>0 comments, 49 views\n",
       "                    </div>\n",
       "                </div>\n",
       "                "
      ],
      "text/plain": [
       "<Item title:\"Alfabetismo de población con limitaciones permanentes de 6 años y más\" type:Feature Service owner:CommunityMaps_EsriColombia>"
      ]
     },
     "metadata": {},
     "output_type": "display_data"
    }
   ],
   "source": [
    "items = gis.content.search(\"alfabetismo colombia\")\n",
    "\n",
    "for item in items:\n",
    "    display(item)"
   ]
  },
  {
   "cell_type": "markdown",
   "metadata": {},
   "source": [
    "### 1.3 Factor Dos:"
   ]
  },
  {
   "cell_type": "code",
   "execution_count": 12,
   "metadata": {},
   "outputs": [
    {
     "data": {
      "text/html": [
       "<div class=\"item_container\" style=\"height: auto; overflow: hidden; border: 1px solid #cfcfcf; border-radius: 2px; background: #f6fafa; line-height: 1.21429em; padding: 10px;\">\n",
       "                    <div class=\"item_left\" style=\"width: 210px; float: left;\">\n",
       "                       <a href='http://www.arcgis.com/home/item.html?id=1ab4d014f3914e3ea9cb375562a1f22f' target='_blank'>\n",
       "                        <img src='http://www.arcgis.com/sharing/rest//content/items/1ab4d014f3914e3ea9cb375562a1f22f/info/thumbnail/ago_downloaded.png' class=\"itemThumbnail\">\n",
       "                       </a>\n",
       "                    </div>\n",
       "\n",
       "                    <div class=\"item_right\"     style=\"float: none; width: auto; overflow: hidden;\">\n",
       "                        <a href='http://www.arcgis.com/home/item.html?id=1ab4d014f3914e3ea9cb375562a1f22f' target='_blank'><b>Encuesta Calidad de Vida Bogotá</b>\n",
       "                        </a>\n",
       "                        <br/>El mapa representa de forma estadistica algunos resultados de la Encuesta Calidad de Vida Bogotá 2007<img src='http://www.arcgis.com/home/js/jsapi/esri/css/images/item_type_icons/maps16.png' style=\"vertical-align:middle;\">Web Map by edwardyac\n",
       "                        <br/>Last Modified: abril 09, 2012\n",
       "                        <br/>0 comments, 456 views\n",
       "                    </div>\n",
       "                </div>\n",
       "                "
      ],
      "text/plain": [
       "<Item title:\"Encuesta Calidad de Vida Bogotá\" type:Web Map owner:edwardyac>"
      ]
     },
     "metadata": {},
     "output_type": "display_data"
    },
    {
     "data": {
      "text/html": [
       "<div class=\"item_container\" style=\"height: auto; overflow: hidden; border: 1px solid #cfcfcf; border-radius: 2px; background: #f6fafa; line-height: 1.21429em; padding: 10px;\">\n",
       "                    <div class=\"item_left\" style=\"width: 210px; float: left;\">\n",
       "                       <a href='http://www.arcgis.com/home/item.html?id=c433604080ad46fca090f8c6f2ae58f2' target='_blank'>\n",
       "                        <img src='http://www.arcgis.com/sharing/rest//content/items/c433604080ad46fca090f8c6f2ae58f2/info/thumbnail/encuesta_bogota.png' class=\"itemThumbnail\">\n",
       "                       </a>\n",
       "                    </div>\n",
       "\n",
       "                    <div class=\"item_right\"     style=\"float: none; width: auto; overflow: hidden;\">\n",
       "                        <a href='http://www.arcgis.com/home/item.html?id=c433604080ad46fca090f8c6f2ae58f2' target='_blank'><b>Encuesta Calidad de Vida Bogotá</b>\n",
       "                        </a>\n",
       "                        <br/>El mapa representa de forma estadistica algunos resultados de la Encuesta Calidad de Vida Bogotá 2007<img src='http://www.arcgis.com/home/js/jsapi/esri/css/images/item_type_icons/layers16.png' style=\"vertical-align:middle;\">Web Mapping Application by edwardyac\n",
       "                        <br/>Last Modified: abril 09, 2012\n",
       "                        <br/>0 comments, 367 views\n",
       "                    </div>\n",
       "                </div>\n",
       "                "
      ],
      "text/plain": [
       "<Item title:\"Encuesta Calidad de Vida Bogotá\" type:Web Mapping Application owner:edwardyac>"
      ]
     },
     "metadata": {},
     "output_type": "display_data"
    }
   ],
   "source": [
    "items = gis.content.search(\"pobreza bogota\")\n",
    "\n",
    "for item in items:\n",
    "    display(item)"
   ]
  },
  {
   "cell_type": "code",
   "execution_count": 15,
   "metadata": {},
   "outputs": [
    {
     "data": {
      "text/html": [
       "<div class=\"item_container\" style=\"height: auto; overflow: hidden; border: 1px solid #cfcfcf; border-radius: 2px; background: #f6fafa; line-height: 1.21429em; padding: 10px;\">\n",
       "                    <div class=\"item_left\" style=\"width: 210px; float: left;\">\n",
       "                       <a href='http://www.arcgis.com/home/item.html?id=56965413bcca40eb938a764c9c9c2981' target='_blank'>\n",
       "                        <img src='http://www.arcgis.com/sharing/rest//content/items/56965413bcca40eb938a764c9c9c2981/info/thumbnail/ago_downloaded.png' class=\"itemThumbnail\">\n",
       "                       </a>\n",
       "                    </div>\n",
       "\n",
       "                    <div class=\"item_right\"     style=\"float: none; width: auto; overflow: hidden;\">\n",
       "                        <a href='http://www.arcgis.com/home/item.html?id=56965413bcca40eb938a764c9c9c2981' target='_blank'><b>ACTIVIDADES DE VIGILANCIA EN SALUD PUBLICA COMUNITARIA ESE CHAPINERO BOGOTA DC</b>\n",
       "                        </a>\n",
       "                        <br/>(MAPA EN CONSTRUCCION) Contiene las actividades de vigilancia en salud ública realizadas con la comunidad de la localidad de Chapinero entre setp de 2013 y feb de 2014<img src='http://www.arcgis.com/home/js/jsapi/esri/css/images/item_type_icons/maps16.png' style=\"vertical-align:middle;\">Web Map by geoconcepto\n",
       "                        <br/>Last Modified: enero 28, 2016\n",
       "                        <br/>0 comments, 464 views\n",
       "                    </div>\n",
       "                </div>\n",
       "                "
      ],
      "text/plain": [
       "<Item title:\"ACTIVIDADES DE VIGILANCIA EN SALUD PUBLICA COMUNITARIA ESE CHAPINERO BOGOTA DC\" type:Web Map owner:geoconcepto>"
      ]
     },
     "metadata": {},
     "output_type": "display_data"
    },
    {
     "data": {
      "text/html": [
       "<div class=\"item_container\" style=\"height: auto; overflow: hidden; border: 1px solid #cfcfcf; border-radius: 2px; background: #f6fafa; line-height: 1.21429em; padding: 10px;\">\n",
       "                    <div class=\"item_left\" style=\"width: 210px; float: left;\">\n",
       "                       <a href='http://www.arcgis.com/home/item.html?id=3d20ad2afa044e8692729fcc80122894' target='_blank'>\n",
       "                        <img src='http://www.arcgis.com/sharing/rest//content/items/3d20ad2afa044e8692729fcc80122894/info/thumbnail/ago_downloaded.png' class=\"itemThumbnail\">\n",
       "                       </a>\n",
       "                    </div>\n",
       "\n",
       "                    <div class=\"item_right\"     style=\"float: none; width: auto; overflow: hidden;\">\n",
       "                        <a href='http://www.arcgis.com/home/item.html?id=3d20ad2afa044e8692729fcc80122894' target='_blank'><b>Localidades Bogota</b>\n",
       "                        </a>\n",
       "                        <br/>Distrito Capital Bogotá - Colombia<img src='http://www.arcgis.com/home/js/jsapi/esri/css/images/item_type_icons/maps16.png' style=\"vertical-align:middle;\">Web Map by girlesoft\n",
       "                        <br/>Last Modified: noviembre 13, 2016\n",
       "                        <br/>0 comments, 326 views\n",
       "                    </div>\n",
       "                </div>\n",
       "                "
      ],
      "text/plain": [
       "<Item title:\"Localidades Bogota\" type:Web Map owner:girlesoft>"
      ]
     },
     "metadata": {},
     "output_type": "display_data"
    },
    {
     "data": {
      "text/html": [
       "<div class=\"item_container\" style=\"height: auto; overflow: hidden; border: 1px solid #cfcfcf; border-radius: 2px; background: #f6fafa; line-height: 1.21429em; padding: 10px;\">\n",
       "                    <div class=\"item_left\" style=\"width: 210px; float: left;\">\n",
       "                       <a href='http://www.arcgis.com/home/item.html?id=8ac1c0d2c59b4fe6980e4d06fb599f03' target='_blank'>\n",
       "                        <img src='http://www.arcgis.com/sharing/rest//content/items/8ac1c0d2c59b4fe6980e4d06fb599f03/info/thumbnail/ago_downloaded.png' class=\"itemThumbnail\">\n",
       "                       </a>\n",
       "                    </div>\n",
       "\n",
       "                    <div class=\"item_right\"     style=\"float: none; width: auto; overflow: hidden;\">\n",
       "                        <a href='http://www.arcgis.com/home/item.html?id=8ac1c0d2c59b4fe6980e4d06fb599f03' target='_blank'><b>ESTRATIFICACION SOCIAL BOGOTA DC</b>\n",
       "                        </a>\n",
       "                        <br/>(MAPA EN CONSTRUCCION)<img src='http://www.arcgis.com/home/js/jsapi/esri/css/images/item_type_icons/maps16.png' style=\"vertical-align:middle;\">Web Map by geoconcepto\n",
       "                        <br/>Last Modified: enero 04, 2016\n",
       "                        <br/>0 comments, 73 views\n",
       "                    </div>\n",
       "                </div>\n",
       "                "
      ],
      "text/plain": [
       "<Item title:\"ESTRATIFICACION SOCIAL BOGOTA DC\" type:Web Map owner:geoconcepto>"
      ]
     },
     "metadata": {},
     "output_type": "display_data"
    },
    {
     "data": {
      "text/html": [
       "<div class=\"item_container\" style=\"height: auto; overflow: hidden; border: 1px solid #cfcfcf; border-radius: 2px; background: #f6fafa; line-height: 1.21429em; padding: 10px;\">\n",
       "                    <div class=\"item_left\" style=\"width: 210px; float: left;\">\n",
       "                       <a href='http://www.arcgis.com/home/item.html?id=ad4b78cbcb744e089d2eec06cbb63d46' target='_blank'>\n",
       "                        <img src='http://www.arcgis.com/sharing/rest//content/items/ad4b78cbcb744e089d2eec06cbb63d46/info/thumbnail/thumbnail.png' class=\"itemThumbnail\">\n",
       "                       </a>\n",
       "                    </div>\n",
       "\n",
       "                    <div class=\"item_right\"     style=\"float: none; width: auto; overflow: hidden;\">\n",
       "                        <a href='http://www.arcgis.com/home/item.html?id=ad4b78cbcb744e089d2eec06cbb63d46' target='_blank'><b>Ambulancias_BOG_04_09_2017</b>\n",
       "                        </a>\n",
       "                        <br/>Plan de Seguridad en Salud Visita Papa Bogotá<img src='http://www.arcgis.com/home/js/jsapi/esri/css/images/item_type_icons/featureshosted16.png' style=\"vertical-align:middle;\">Feature Layer Collection by visita.papal\n",
       "                        <br/>Last Modified: septiembre 05, 2017\n",
       "                        <br/>0 comments, 69 views\n",
       "                    </div>\n",
       "                </div>\n",
       "                "
      ],
      "text/plain": [
       "<Item title:\"Ambulancias_BOG_04_09_2017\" type:Feature Service owner:visita.papal>"
      ]
     },
     "metadata": {},
     "output_type": "display_data"
    },
    {
     "data": {
      "text/html": [
       "<div class=\"item_container\" style=\"height: auto; overflow: hidden; border: 1px solid #cfcfcf; border-radius: 2px; background: #f6fafa; line-height: 1.21429em; padding: 10px;\">\n",
       "                    <div class=\"item_left\" style=\"width: 210px; float: left;\">\n",
       "                       <a href='http://www.arcgis.com/home/item.html?id=481078f3eb524a9eaf1ad3f24e38d187' target='_blank'>\n",
       "                        <img src='http://www.arcgis.com/sharing/rest//content/items/481078f3eb524a9eaf1ad3f24e38d187/info/thumbnail/ago_downloaded.png' class=\"itemThumbnail\">\n",
       "                       </a>\n",
       "                    </div>\n",
       "\n",
       "                    <div class=\"item_right\"     style=\"float: none; width: auto; overflow: hidden;\">\n",
       "                        <a href='http://www.arcgis.com/home/item.html?id=481078f3eb524a9eaf1ad3f24e38d187' target='_blank'><b>ACTIVIDADES DE VIGILANCIA EN SALUD PUBLICA COMUNITARIA LOCALIDAD CHAPINERO BOGOTA DC-Copia-Copia</b>\n",
       "                        </a>\n",
       "                        <br/>(MAPA EN CONSTRUCCION) Contiene las actividades de vigilancia en salud ública realizadas con la comunidad de la localidad de Chapinero entre setp de 2013 y feb de 2014<img src='http://www.arcgis.com/home/js/jsapi/esri/css/images/item_type_icons/maps16.png' style=\"vertical-align:middle;\">Web Map by ALEX.MAURICIO\n",
       "                        <br/>Last Modified: febrero 18, 2014\n",
       "                        <br/>0 comments, 49 views\n",
       "                    </div>\n",
       "                </div>\n",
       "                "
      ],
      "text/plain": [
       "<Item title:\"ACTIVIDADES DE VIGILANCIA EN SALUD PUBLICA COMUNITARIA LOCALIDAD CHAPINERO BOGOTA DC-Copia-Copia\" type:Web Map owner:ALEX.MAURICIO>"
      ]
     },
     "metadata": {},
     "output_type": "display_data"
    },
    {
     "data": {
      "text/html": [
       "<div class=\"item_container\" style=\"height: auto; overflow: hidden; border: 1px solid #cfcfcf; border-radius: 2px; background: #f6fafa; line-height: 1.21429em; padding: 10px;\">\n",
       "                    <div class=\"item_left\" style=\"width: 210px; float: left;\">\n",
       "                       <a href='http://www.arcgis.com/home/item.html?id=52d4d7402ec64e029b46abf2594e3c3a' target='_blank'>\n",
       "                        <img src='http://www.arcgis.com/sharing/rest//content/items/52d4d7402ec64e029b46abf2594e3c3a/info/thumbnail/ago_downloaded.png' class=\"itemThumbnail\">\n",
       "                       </a>\n",
       "                    </div>\n",
       "\n",
       "                    <div class=\"item_right\"     style=\"float: none; width: auto; overflow: hidden;\">\n",
       "                        <a href='http://www.arcgis.com/home/item.html?id=52d4d7402ec64e029b46abf2594e3c3a' target='_blank'><b>Hospitales_Bogota</b>\n",
       "                        </a>\n",
       "                        <br/>An in-depth description of the item is not available.<img src='http://www.arcgis.com/home/js/jsapi/esri/css/images/item_type_icons/featureshosted16.png' style=\"vertical-align:middle;\">Feature Layer Collection by EsriBogota\n",
       "                        <br/>Last Modified: agosto 04, 2016\n",
       "                        <br/>0 comments, 47 views\n",
       "                    </div>\n",
       "                </div>\n",
       "                "
      ],
      "text/plain": [
       "<Item title:\"Hospitales_Bogota\" type:Feature Service owner:EsriBogota>"
      ]
     },
     "metadata": {},
     "output_type": "display_data"
    },
    {
     "data": {
      "text/html": [
       "<div class=\"item_container\" style=\"height: auto; overflow: hidden; border: 1px solid #cfcfcf; border-radius: 2px; background: #f6fafa; line-height: 1.21429em; padding: 10px;\">\n",
       "                    <div class=\"item_left\" style=\"width: 210px; float: left;\">\n",
       "                       <a href='http://www.arcgis.com/home/item.html?id=ee32b9b53180496cbf54894dda535190' target='_blank'>\n",
       "                        <img src='http://www.arcgis.com/sharing/rest//content/items/ee32b9b53180496cbf54894dda535190/info/thumbnail/ago_downloaded.png' class=\"itemThumbnail\">\n",
       "                       </a>\n",
       "                    </div>\n",
       "\n",
       "                    <div class=\"item_right\"     style=\"float: none; width: auto; overflow: hidden;\">\n",
       "                        <a href='http://www.arcgis.com/home/item.html?id=ee32b9b53180496cbf54894dda535190' target='_blank'><b>ACTIVIDADES DE VIGILANCIA EN SALUD PUBLICA COMUNITARIA LOCALIDAD CHAPINERO BOGOTA DC-Copia-Copia</b>\n",
       "                        </a>\n",
       "                        <br/>(MAPA EN CONSTRUCCION) Contiene las actividades de vigilancia en salud ública realizadas con la comunidad de la localidad de Chapinero entre setp de 2013 y feb de 2014<img src='http://www.arcgis.com/home/js/jsapi/esri/css/images/item_type_icons/maps16.png' style=\"vertical-align:middle;\">Web Map by vspchapinero\n",
       "                        <br/>Last Modified: marzo 01, 2014\n",
       "                        <br/>0 comments, 27 views\n",
       "                    </div>\n",
       "                </div>\n",
       "                "
      ],
      "text/plain": [
       "<Item title:\"ACTIVIDADES DE VIGILANCIA EN SALUD PUBLICA COMUNITARIA LOCALIDAD CHAPINERO BOGOTA DC-Copia-Copia\" type:Web Map owner:vspchapinero>"
      ]
     },
     "metadata": {},
     "output_type": "display_data"
    },
    {
     "data": {
      "text/html": [
       "<div class=\"item_container\" style=\"height: auto; overflow: hidden; border: 1px solid #cfcfcf; border-radius: 2px; background: #f6fafa; line-height: 1.21429em; padding: 10px;\">\n",
       "                    <div class=\"item_left\" style=\"width: 210px; float: left;\">\n",
       "                       <a href='http://www.arcgis.com/home/item.html?id=932bd2f8e2324b2e865922f1e139e911' target='_blank'>\n",
       "                        <img src='http://www.arcgis.com/sharing/rest//content/items/932bd2f8e2324b2e865922f1e139e911/info/thumbnail/ago_downloaded.png' class=\"itemThumbnail\">\n",
       "                       </a>\n",
       "                    </div>\n",
       "\n",
       "                    <div class=\"item_right\"     style=\"float: none; width: auto; overflow: hidden;\">\n",
       "                        <a href='http://www.arcgis.com/home/item.html?id=932bd2f8e2324b2e865922f1e139e911' target='_blank'><b>Salud al colegio</b>\n",
       "                        </a>\n",
       "                        <br/>Campaña salud al colegio en todas las localidades de Bogota<img src='http://www.arcgis.com/home/js/jsapi/esri/css/images/item_type_icons/maps16.png' style=\"vertical-align:middle;\">Web Map by Educacion\n",
       "                        <br/>Last Modified: abril 13, 2016\n",
       "                        <br/>0 comments, 26 views\n",
       "                    </div>\n",
       "                </div>\n",
       "                "
      ],
      "text/plain": [
       "<Item title:\"Salud al colegio\" type:Web Map owner:Educacion>"
      ]
     },
     "metadata": {},
     "output_type": "display_data"
    },
    {
     "data": {
      "text/html": [
       "<div class=\"item_container\" style=\"height: auto; overflow: hidden; border: 1px solid #cfcfcf; border-radius: 2px; background: #f6fafa; line-height: 1.21429em; padding: 10px;\">\n",
       "                    <div class=\"item_left\" style=\"width: 210px; float: left;\">\n",
       "                       <a href='http://www.arcgis.com/home/item.html?id=1de37096a15343d7b366e2c81ebd6351' target='_blank'>\n",
       "                        <img src='http://www.arcgis.com/sharing/rest//content/items/1de37096a15343d7b366e2c81ebd6351/info/thumbnail/ago_downloaded.png' class=\"itemThumbnail\">\n",
       "                       </a>\n",
       "                    </div>\n",
       "\n",
       "                    <div class=\"item_right\"     style=\"float: none; width: auto; overflow: hidden;\">\n",
       "                        <a href='http://www.arcgis.com/home/item.html?id=1de37096a15343d7b366e2c81ebd6351' target='_blank'><b>PARCIAL SIG</b>\n",
       "                        </a>\n",
       "                        <br/>RED CENTROS DE SALUD Y BANCOS DE SANGRE EN BOGOTA D.C. -COLOMBIA<img src='http://www.arcgis.com/home/js/jsapi/esri/css/images/item_type_icons/maps16.png' style=\"vertical-align:middle;\">Web Map by karelsanchez.3\n",
       "                        <br/>Last Modified: noviembre 02, 2016\n",
       "                        <br/>0 comments, 26 views\n",
       "                    </div>\n",
       "                </div>\n",
       "                "
      ],
      "text/plain": [
       "<Item title:\"PARCIAL SIG\" type:Web Map owner:karelsanchez.3>"
      ]
     },
     "metadata": {},
     "output_type": "display_data"
    },
    {
     "data": {
      "text/html": [
       "<div class=\"item_container\" style=\"height: auto; overflow: hidden; border: 1px solid #cfcfcf; border-radius: 2px; background: #f6fafa; line-height: 1.21429em; padding: 10px;\">\n",
       "                    <div class=\"item_left\" style=\"width: 210px; float: left;\">\n",
       "                       <a href='http://www.arcgis.com/home/item.html?id=02f8fad3221e4c778755c164b31123b4' target='_blank'>\n",
       "                        <img src='http://www.arcgis.com/sharing/rest//content/items/02f8fad3221e4c778755c164b31123b4/info/thumbnail/ago_downloaded.png' class=\"itemThumbnail\">\n",
       "                       </a>\n",
       "                    </div>\n",
       "\n",
       "                    <div class=\"item_right\"     style=\"float: none; width: auto; overflow: hidden;\">\n",
       "                        <a href='http://www.arcgis.com/home/item.html?id=02f8fad3221e4c778755c164b31123b4' target='_blank'><b>localidades bogota</b>\n",
       "                        </a>\n",
       "                        <br/>Este mapa muestra las 20 localidades del Distrito Capital de Bogotà- Colombia y algunas de sus caracterìsticas relevantes en asuntos de salud pública<img src='http://www.arcgis.com/home/js/jsapi/esri/css/images/item_type_icons/layers16.png' style=\"vertical-align:middle;\">Web Mapping Application by sancristobal\n",
       "                        <br/>Last Modified: febrero 13, 2013\n",
       "                        <br/>0 comments, 22 views\n",
       "                    </div>\n",
       "                </div>\n",
       "                "
      ],
      "text/plain": [
       "<Item title:\"localidades bogota\" type:Web Mapping Application owner:sancristobal>"
      ]
     },
     "metadata": {},
     "output_type": "display_data"
    }
   ],
   "source": [
    "items = gis.content.search(\"salud bogota\")\n",
    "\n",
    "for item in items:\n",
    "    display(item)"
   ]
  },
  {
   "cell_type": "code",
   "execution_count": null,
   "metadata": {
    "collapsed": true
   },
   "outputs": [],
   "source": []
  },
  {
   "cell_type": "markdown",
   "metadata": {},
   "source": [
    "## 2. Otras Ciudades"
   ]
  },
  {
   "cell_type": "code",
   "execution_count": null,
   "metadata": {
    "collapsed": true
   },
   "outputs": [],
   "source": []
  },
  {
   "cell_type": "code",
   "execution_count": null,
   "metadata": {
    "collapsed": true
   },
   "outputs": [],
   "source": []
  }
 ],
 "metadata": {
  "kernelspec": {
   "display_name": "Python 3",
   "language": "python",
   "name": "python3"
  },
  "language_info": {
   "codemirror_mode": {
    "name": "ipython",
    "version": 3
   },
   "file_extension": ".py",
   "mimetype": "text/x-python",
   "name": "python",
   "nbconvert_exporter": "python",
   "pygments_lexer": "ipython3",
   "version": "3.6.1"
  }
 },
 "nbformat": 4,
 "nbformat_minor": 2
}
