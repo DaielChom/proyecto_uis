{
 "cells": [
  {
   "cell_type": "markdown",
   "metadata": {},
   "source": [
    "# Bitácora - 08\n",
    "\n",
    "#### 19 - 06 - 18:\n",
    "Ya estoy en bogota, hace tiempo no escribia era por que andaba con las vueltas del trasteo el plan es iniciar hoy con las pruebas del proyecto, al parecer guane me sirvio el tensorflow, instale las opciones de cuda y cnn que traia anaconda y despues la de tensorflow y al parecer sirve la joda es que ahora no hay git y no se como instalar cosas, ya con conda pude instalar git, creo. bueno la cuestion es hacer las pruebas para ver como va eso. las pruebas las hare en mi computador que mierda guane me saco como 3mil veces y al final no pude configurarlo y no creo de a mucho que el profe raul me lo configure\n"
   ]
  },
  {
   "cell_type": "markdown",
   "metadata": {},
   "source": [
    "#### 29 - 06 - 18:\n",
    "Hoy tengo reunion con Raul a las 10am, ayer me la pase todo el dia arreglanod el pc pues windows se mefue al carajo :3, ya tengo linux nuevamente, ahor ano podre jugar (T-T) pero bueno eso o que el pc se este reiniciando cada 5 min y me la pela el dualbot me quedare solo en .\n",
    "¿Como me fue? bien y mal, bien dado que he dado buenas pruebas y buenos resultados y voy bien, mal dado que ahora debo modificar las imagnes satelitales y hacer pruebas nuevamnete, tambien debo modificar las imagnes target para ahcerlas mas limpias, lo bueno es que solo trabjare con zoom del 13 al 17 de resto que me la pelen. Aparte de eso me dijo que debia tomar unos resultados mas generales pues los que me da el framework son como por epoch. Entoncs Raul me pidio\n",
    "* Presicion por clase\n",
    "* IoU Por Clase\n",
    "* Distribucion por Clase, % de cada clase en el cada ZOOM e imagen\n",
    "* Presicion Media\n",
    "* IoU Media\n",
    "* Como el framework esta calculando esas medidas."
   ]
  },
  {
   "cell_type": "markdown",
   "metadata": {},
   "source": [
    "#### 30 - Jun - 2018\n",
    "Y como dije tengo que reconfigurar TF-GPU y en linux no lo habia echo asique no sabria como hasta que pum tuto muy pro aparece [TUTO INSTALL TF ON LINUX](http://www.python36.com/how-to-install-tensorflow-gpu-with-cuda-9-2-for-python-on-ubuntu/2/)."
   ]
  },
  {
   "cell_type": "markdown",
   "metadata": {},
   "source": [
    "#### 15 - Jul - 2018:\n",
    "Por fin despues de un pequeño error, termine de hacer las pruebas con el nuevo dataset de LABEL, tengo entoncs pruebas con imagenes satelitales sin fondo y con NEW LABEL, tengo que rebisar el dataset que este bien y subidito a MEGA."
   ]
  },
  {
   "cell_type": "markdown",
   "metadata": {},
   "source": [
    "#### 17 - Jul - 2018:\n",
    "Otra reunion con el profe Raúl, esta vez para discutir sobre los resultados que se obtuvieron en las pruebas, y debo volver a realizar la presentación de dichos resultados, muy malucas, ash la madre esmi bitacora (T.T) practicamente dijo que estaban una mierda y pues tiene razon , lo acepto las hice algo acelerado y pues tampoco sabia que más mostrar y como mostrarlo, lo otro es que no se dejo realizar la presentacion como tenia planeado y lo otro es que tampoco la planee bien, pero bueno gatgets del oficio. La critica fue constructiva y me dio varios consejos. El prinicpl mejorar aquello de la presentación.\n",
    "1. si decidi Iou mostrar solo IoU\n",
    "1. Usar ejemplor mas ilustrativos, aprovechar que estoy usando iamgenes, para eso las escogi, para poder demostrar\n",
    "1. HAcer la representacion de general a especifico\n",
    "1. La misma zona con distinta , mostrando el aumento o dsminusion de iou usar ejemplos ilstrativos.\n",
    "1. Tabla general en X las 11 pruebas y en cada prueba 6 barras de cada dataset\n",
    "1. luego hacer representaciones con la mejor REd\n",
    "1. con la mejor configuracion mostrar grafica en X cada estrato y en estos 6 barras con el iou de cada zoom\n",
    "1. Tablas resumen\n",
    "\n",
    "Otra cosa que me dijo es que pensara que ideara mis propios analizis no solamente lo que el me dijera, esto no es una realcion militar de mandar y hacer caso.\n",
    "\n",
    "**Pdta:** Entregar el libro el Jueves 26"
   ]
  },
  {
   "cell_type": "code",
   "execution_count": null,
   "metadata": {},
   "outputs": [],
   "source": []
  }
 ],
 "metadata": {
  "kernelspec": {
   "display_name": "Python 3",
   "language": "python",
   "name": "python3"
  },
  "language_info": {
   "codemirror_mode": {
    "name": "ipython",
    "version": 3
   },
   "file_extension": ".py",
   "mimetype": "text/x-python",
   "name": "python",
   "nbconvert_exporter": "python",
   "pygments_lexer": "ipython3",
   "version": "3.6.5"
  }
 },
 "nbformat": 4,
 "nbformat_minor": 2
}
