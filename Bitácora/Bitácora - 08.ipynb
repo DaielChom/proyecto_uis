{
 "cells": [
  {
   "cell_type": "markdown",
   "metadata": {},
   "source": [
    "# Bitácora - 08\n",
    "\n",
    "#### 19 - 06 - 18:\n",
    "Ya estoy en bogota, hace tiempo no escribia era por que andaba con las vueltas del trasteo el plan es iniciar hoy con las pruebas del proyecto, al parecer guane me sirvio el tensorflow, instale las opciones de cuda y cnn que traia anaconda y despues la de tensorflow y al parecer sirve la joda es que ahora no hay git y no se como instalar cosas, ya con conda pude instalar git, creo. bueno la cuestion es hacer las pruebas para ver como va eso. las pruebas las hare en mi computador que mierda guane me saco como 3mil veces y al final no pude configurarlo y no creo de a mucho que el profe raul me lo configure\n"
   ]
  },
  {
   "cell_type": "markdown",
   "metadata": {},
   "source": [
    "#### 29 - 06 - 18:\n",
    "Hoy tengo reunion con Raul a las 10am, ayer me la pase todo el dia arreglanod el pc pues windows se mefue al carajo :3, ya tengo linux nuevamente, ahor ano podre jugar (T-T) pero bueno eso o que el pc se este reiniciando cada 5 min y me la pela el dualbot me quedare solo en .\n",
    "¿Como me fue? bien y mal, bien dado que he dado buenas pruebas y buenos resultados y voy bien, mal dado que ahora debo modificar las imagnes satelitales y hacer pruebas nuevamnete, tambien debo modificar las imagnes target para ahcerlas mas limpias, lo bueno es que solo trabjare con zoom del 13 al 17 de resto que me la pelen. Aparte de eso me dijo que debia tomar unos resultados mas generales pues los que me da el framework son como por epoch. Entoncs Raul me pidio\n",
    "* Presicion por clase\n",
    "* IoU Por Clase\n",
    "* Distribucion por Clase, % de cada clase en el cada ZOOM e imagen\n",
    "* Presicion Media\n",
    "* IoU Media\n",
    "* Como el framework esta calculando esas medidas."
   ]
  },
  {
   "cell_type": "markdown",
   "metadata": {},
   "source": [
    "#### 30 - Jun - 2018\n",
    "Y como dije tengo que reconfigurar TF-GPU y en linux no lo habia echo asique no sabria como hasta que pum tuto muy pro aparece [TUTO INSTALL TF ON LINUX](http://www.python36.com/how-to-install-tensorflow-gpu-with-cuda-9-2-for-python-on-ubuntu/2/)."
   ]
  },
  {
   "cell_type": "markdown",
   "metadata": {},
   "source": [
    "#### 15 - Jul - 2018:\n",
    "Por fin despues de un pequeño error, termine de hacer las pruebas con el nuevo dataset de LABEL, tengo entoncs pruebas con imagenes satelitales sin fondo y con NEW LABEL, tengo que rebisar el dataset que este bien y subidito a MEGA."
   ]
  },
  {
   "cell_type": "markdown",
   "metadata": {},
   "source": [
    "#### 17 - Jul - 2018:\n",
    "Otra reunion con el profe Raúl, esta vez para discutir sobre los resultados que se obtuvieron en las pruebas, y debo volver a realizar la presentación de dichos resultados, muy malucas, ash la madre esmi bitacora (T.T) practicamente dijo que estaban una mierda y pues tiene razon , lo acepto las hice algo acelerado y pues tampoco sabia que más mostrar y como mostrarlo, lo otro es que no se dejo realizar la presentacion como tenia planeado y lo otro es que tampoco la planee bien, pero bueno gatgets del oficio. La critica fue constructiva y me dio varios consejos. El prinicpl mejorar aquello de la presentación.\n",
    "1. si decidi Iou mostrar solo IoU\n",
    "1. Usar ejemplor mas ilustrativos, aprovechar que estoy usando iamgenes, para eso las escogi, para poder demostrar\n",
    "1. HAcer la representacion de general a especifico\n",
    "1. La misma zona con distinta , mostrando el aumento o dsminusion de iou usar ejemplos ilstrativos.\n",
    "1. Tabla general en X las 11 pruebas y en cada prueba 6 barras de cada dataset\n",
    "1. luego hacer representaciones con la mejor REd\n",
    "1. con la mejor configuracion mostrar grafica en X cada estrato y en estos 6 barras con el iou de cada zoom\n",
    "1. Tablas resumen\n",
    "\n",
    "Otra cosa que me dijo es que pensara que ideara mis propios analizis no solamente lo que el me dijera, esto no es una realcion militar de mandar y hacer caso.\n",
    "\n",
    "**Pdta:** Entregar el libro el Jueves 26"
   ]
  },
  {
   "cell_type": "markdown",
   "metadata": {},
   "source": [
    "#### 30 Julio 2018:\n",
    "Ayer recibi las correcciones del libro que le habia enviado al profe Raul. en general dijo que estaba breve, me dijo sobreun par de temas quemetiera y otro par de correcciones a hacer, las haré y vere que tantas paginas quedan, pero la verdad no quieri empezar a hablar popo en el libro esperar a ver ocmo queda el libro con las correcciones ahi en adelante ya vere.\n",
    "* Ejemplo de la mejor y peor red en predecir la misma zon en varios zooms\n",
    "* en la sección 2 debes de añadir una subsección con una descripción explicando con detalle qué son las redes convolucionales.\n",
    "- en la sección 2 debes de añadir una subsección explicando qué es un problema de segmentación de imágenes. \n",
    "- debes de describir mejor las redes que usaste (capas, filtros, etc.), explicitando además que algunas son redes clásicas, otras autoencores, etc. debes de describir en la sección 2, qué son los autoencoders\n",
    "- debes de describir mejor los datasets en la tabla 1, proporción de pixeles de cada clase, etc. corregir \"cantida\" en tabla 1\n",
    "- incluye más ejemplos de imágenes, las etiquetas de segmentación y la predicción, incluyendo la misma zona geográfica a distintos niveles de resolución. usa al menos tres páginas para llenarlas de estos ejemplos.\n",
    "\n",
    "No se por donde empezar y tengo flojera emepzar\n",
    ":/"
   ]
  },
  {
   "cell_type": "markdown",
   "metadata": {},
   "source": [
    "#### 1 - Agosto 2018:\n",
    "Y pense que ya me habia librado de las correciones Fabio salvaje aparece y me pone más :'( ajjajajjaa pero estas si parececiera que el profe leyo todo le libro jajajaja y raul no me ha contestado sobre la segundo version del libro, hoy hago las que puso fabio y si no pues lo subo asi por que ya el viernes debo subir eso.\n",
    "\n",
    "Lo siento por lo tarde del mensaje. Envío las correciones con respecto al documento que enviaste hoy. \n",
    "1. En la table de figuras, las palabras que estan en mayusculas son necesarias??...sino mejor todo en minuscula\n",
    "2. En el resumen hay un error con : \"LABERL\", además se puede dar su significado en españil y ya esta, no?\n",
    "3. En el resumen podria ir una frase mas concreta con algun resultado, pro ejemeplo la precisión del método en algún experimento que se pueda resaltar.  \n",
    "4. Al final de la introducción podrias poner un parrafo con la contribucón del trabajo..ya hablaste de africa y medellin...entonces cual es el punto de tu trabajo...hacer un estudio con otros datos, otros modelos...cual es el punto diferenciador?\n",
    "5. Al igual que raul, opino que es necesario mayor descripción de las redes, sobre todo del modelo especifico que usaste...\n",
    "6. Te recomiendo hagas una mayor descripcioón en los captions de los resultados....que se observa, que significa cada cosa\n",
    "7. La segunda conclusión es necesaria, esto es mas una experiencia tuya, pero no tiene un aporte a la metodología especifica que usaste\n",
    "8. La primera ustificación deberia estar mas sustentada...debido a que los modelos reuqiren XXX \n",
    "\n",
    "\n",
    "Pdta: Tengo flojera de hacer mas correcciones ya quiero terminar con eso :'(\n",
    "\n",
    "\n"
   ]
  },
  {
   "cell_type": "markdown",
   "metadata": {},
   "source": [
    "Más de la mitad de esas correciones, para mi no vienen al caso, asi que no las puse, la 7 si la elaboré. de la 1 a la 4 no las hice, la 1 y la 2 nada que ver y las 3 y la 4 ya estan en el trabajo. la 6 no le veo la necesidad ya que la explicación la hago ahi debajo. pero bueno arregle la descripcion de la ultima imagen que puse la 5 no se si atrverme a meterle mas detalle por que la verdad ni yo msimo entiendo que es eso y como dijo el eso, hacer un trabajo qeu pueda defender si meto mas detalles que no logro entender no creo que sea buena idea. la 8 no se a que parte del libro se refiera."
   ]
  },
  {
   "cell_type": "code",
   "execution_count": null,
   "metadata": {},
   "outputs": [],
   "source": []
  }
 ],
 "metadata": {
  "kernelspec": {
   "display_name": "Python 3",
   "language": "python",
   "name": "python3"
  },
  "language_info": {
   "codemirror_mode": {
    "name": "ipython",
    "version": 3
   },
   "file_extension": ".py",
   "mimetype": "text/x-python",
   "name": "python",
   "nbconvert_exporter": "python",
   "pygments_lexer": "ipython3",
   "version": "3.6.5"
  }
 },
 "nbformat": 4,
 "nbformat_minor": 2
}
