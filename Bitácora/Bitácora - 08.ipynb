{
 "cells": [
  {
   "cell_type": "markdown",
   "metadata": {},
   "source": [
    "# Bitácora - 08\n",
    "\n",
    "#### 19 - 06 - 18:\n",
    "Ya estoy en bogota, hace tiempo no escribia era por que andaba con las vueltas del trasteo el plan es iniciar hoy con las pruebas del proyecto, al parecer guane me sirvio el tensorflow, instale las opciones de cuda y cnn que traia anaconda y despues la de tensorflow y al parecer sirve la joda es que ahora no hay git y no se como instalar cosas, ya con conda pude instalar git, creo. bueno la cuestion es hacer las pruebas para ver como va eso. las pruebas las hare en mi computador que mierda guane me saco como 3mil veces y al final no pude configurarlo y no creo de a mucho que el profe raul me lo configure\n"
   ]
  },
  {
   "cell_type": "markdown",
   "metadata": {},
   "source": [
    "#### 29 - 06 - 18:\n",
    "Hoy tengo reunion con Raul a las 10am, ayer me la pase todo el dia arreglanod el pc pues windows se mefue al carajo :3, ya tengo linux nuevamente, ahor ano podre jugar (T-T) pero bueno eso o que el pc se este reiniciando cada 5 min y me la pela el dualbot me quedare solo en .\n",
    "¿Como me fue? bien y mal, bien dado que he dado buenas pruebas y buenos resultados y voy bien, mal dado que ahora debo modificar las imagnes satelitales y hacer pruebas nuevamnete, tambien debo modificar las imagnes target para ahcerlas mas limpias, lo bueno es que solo trabjare con zoom del 13 al 17 de resto que me la pelen. Aparte de eso me dijo que debia tomar unos resultados mas generales pues los que me da el framework son como por epoch. Entoncs Raul me pidio\n",
    "* Presicion por clase\n",
    "* IoU Por Clase\n",
    "* Distribucion por Clase, % de cada clase en el cada ZOOM e imagen\n",
    "* Presicion Media\n",
    "* IoU Media\n",
    "* Como el framework esta calculando esas medidas."
   ]
  },
  {
   "cell_type": "markdown",
   "metadata": {},
   "source": [
    "#### 30 - Jun - 2018\n",
    "Y como dije tengo que reconfigurar TF-GPU y en linux no lo habia echo asique no sabria como hasta que pum tuto muy pro aparece [TUTO INSTALL TF ON LINUX](http://www.python36.com/how-to-install-tensorflow-gpu-with-cuda-9-2-for-python-on-ubuntu/2/)."
   ]
  },
  {
   "cell_type": "markdown",
   "metadata": {},
   "source": [
    "#### 15 - Jun - 2018:\n",
    "Por fin despues de un pequeño error, termine de hacer las pruebas con el nuevo dataset de LABEL, tengo entoncs pruebas con imagenes satelitales sin fondo y con NEW LABEL, tengo que rebisar el dataset que este bien y subidito a MEGA."
   ]
  },
  {
   "cell_type": "code",
   "execution_count": null,
   "metadata": {},
   "outputs": [],
   "source": []
  }
 ],
 "metadata": {
  "kernelspec": {
   "display_name": "Python 3",
   "language": "python",
   "name": "python3"
  },
  "language_info": {
   "codemirror_mode": {
    "name": "ipython",
    "version": 3
   },
   "file_extension": ".py",
   "mimetype": "text/x-python",
   "name": "python",
   "nbconvert_exporter": "python",
   "pygments_lexer": "ipython3",
   "version": "3.6.5"
  }
 },
 "nbformat": 4,
 "nbformat_minor": 2
}
