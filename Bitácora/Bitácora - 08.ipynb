{
 "cells": [
  {
   "cell_type": "markdown",
   "metadata": {},
   "source": [
    "# Bitácora - 08\n",
    "\n",
    "#### 19 - 06 - 18:\n",
    "Ya estoy en bogota, hace tiempo no escribia era por que andaba con las vueltas del trasteo el plan es iniciar hoy con las pruebas del proyecto, al parecer guane me sirvio el tensorflow, instale las opciones de cuda y cnn que traia anaconda y despues la de tensorflow y al parecer sirve la joda es que ahora no hay git y no se como instalar cosas, ya con conda pude instalar git, creo. bueno la cuestion es hacer las pruebas para ver como va eso. las pruebas las hare en mi computador que mierda guane me saco como 3mil veces y al final no pude configurarlo y no creo de a mucho que el profe raul me lo configure\n"
   ]
  },
  {
   "cell_type": "code",
   "execution_count": null,
   "metadata": {},
   "outputs": [],
   "source": []
  }
 ],
 "metadata": {
  "kernelspec": {
   "display_name": "Python 3",
   "language": "python",
   "name": "python3"
  },
  "language_info": {
   "codemirror_mode": {
    "name": "ipython",
    "version": 3
   },
   "file_extension": ".py",
   "mimetype": "text/x-python",
   "name": "python",
   "nbconvert_exporter": "python",
   "pygments_lexer": "ipython3",
   "version": "3.6.5"
  }
 },
 "nbformat": 4,
 "nbformat_minor": 2
}
