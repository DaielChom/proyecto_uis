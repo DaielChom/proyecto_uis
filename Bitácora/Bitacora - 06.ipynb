{
 "cells": [
  {
   "cell_type": "markdown",
   "metadata": {},
   "source": [
    "# Bitacora - 06\n",
    "\n",
    "#### 16 - Feb - 18:\n",
    "\"Señoras y caballeros mi saludos mis repseto co el permiso de uds voy a cantar unos verbos.\" Las cosas Se tornaron algo e"
   ]
  }
 ],
 "metadata": {
  "kernelspec": {
   "display_name": "Python 3",
   "language": "python",
   "name": "python3"
  },
  "language_info": {
   "codemirror_mode": {
    "name": "ipython",
    "version": 3
   },
   "file_extension": ".py",
   "mimetype": "text/x-python",
   "name": "python",
   "nbconvert_exporter": "python",
   "pygments_lexer": "ipython3",
   "version": "3.6.3"
  }
 },
 "nbformat": 4,
 "nbformat_minor": 2
}
