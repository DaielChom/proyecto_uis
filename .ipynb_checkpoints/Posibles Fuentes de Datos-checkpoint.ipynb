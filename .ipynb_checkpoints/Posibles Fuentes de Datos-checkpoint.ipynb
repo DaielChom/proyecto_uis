{
 "cells": [
  {
   "cell_type": "markdown",
   "metadata": {},
   "source": [
    "# Fuentes de Datos\n",
    "Paginas web, bases de datos, archivos de excel o demas lugares de donde se podrian tomar los datos para sacar el dataset.\n",
    "Se tiene en cuenta distintas ciudades, y los factores investigados que podrian predecir la pobreza."
   ]
  },
  {
   "cell_type": "markdown",
   "metadata": {},
   "source": [
    "Se Realiza Primera mente una busqueda en google de ciudad y aspecto, ejemplo, `Alfabetizacion en Bogota`, Las paginas relevantes se copian en la sigueinte lista.\n",
    "* [DANE](http://www.dane.gov.co/) -> Hacer la Super consulta ** POR HACER**\n",
    "* [Datos del DANE](http://formularios.dane.gov.co/Anda_4_1/index.php/home) -> Hacer la Super consulta ** POR HACER**\n",
    "* [Diapositivas](http://andi.com.co/Gerencia%20Arquitectura%20Social%20-%20Fundacion%20ANDI/Documents/Eventos/Memorias%20Market%20Place%202015/5.%20IPS%20Ciudades_ANDI_15%20Sept%202015_VF.pdf)\n",
    "* [Mapas de Alfabetizacion por departamento](http://ceelat.org/mapas/la-alfabetizacion-en-colombia-reto-o-realidad/)\n",
    "* [Mapas de Alfabetizacion por departamento](https://geoportal.dane.gov.co/atlasestadistico/pages/tome02/tm02itm34.html)\n",
    "* [Alfabetizacion por zonas en bogota](https://www.dane.gov.co/files/investigaciones/condiciones_vida/ecvb/13.xls) -> hay que buscar bine en el DANE, pues al parecer esta.\n",
    "* [Camara de Comercio](https://www.camaradirecta.com/temas/indicadoresantander/santanderencifras/default.htm) -> datos por departamento. \n",
    "* [Datos Bucarmanga](http://www.seb.gov.co/wp_educacion/wp-content/uploads/INFORME-DE-GESTION-1%C2%B0-TRIMESTRE-2016.pdf)\n",
    "* [Mapas](http://ceelat.org/mapas/category/mapas/)\n",
    "* [Parques Bogota](http://sispru.scrd.gov.co/siscred/sites/default/files/Boletin%20Parques%20Av5%20.pdf)\n",
    "* [COLOMBIA - Gran Encuesta Integrada de Hogares - GEIH - 2017](http://formularios.dane.gov.co/Anda_4_1/index.php/catalog/458/datafile/F16#page=F16&tab=data-dictionary) -> Buscar Bien en toda la DANE, Ingresos, fuerza de trabajo, cosas en el hogar, etc\n",
    "* [Trabajo](http://formularios.dane.gov.co/Anda_4_1/index.php/catalog/414/datafile/F31)\n",
    "* [COLOMBIA - Indice de Pobreza Multidimensional - IPM - 2012](http://formularios.dane.gov.co/Anda_4_1/index.php/catalog/257/study-description)\n",
    "* [COLOMBIA - Encuesta Nacional de Calidad de Vida - ECV 2016](https://formularios.dane.gov.co/Anda_4_1/index.php/catalog/456/study-description)\n",
    "* [Datos de Colegios y educacion en Bucaramanga](http://www.seb.gov.co/wp_educacion/wp-content/uploads/INFORME-DE-GESTION-1%C2%B0-TRIMESTRE-2016.pdf)\n",
    "\n",
    "### Entidades:\n",
    "* [Camara de Comercio Bucaramanga](https://www.camaradirecta.com/temas/indicadoresantander/santanderencifras/default.htm)\n",
    "* [Camara de Comercio Bogota]()\n",
    "* [BD CEDE](https://datoscede.uniandes.edu.co/microdatos-tipos.php)\n",
    "* Hay un banco de datos en Bucaramanga\n",
    "* Secretaria de hacienda.\n",
    "* Camara de comercio\n",
    "* Ministerios\n",
    "* Catastro\n",
    "* [ARGIS mapas](http://www.arcgis.com/home/search.html?start=1&sortOrder=desc&sortField=relevance)\n",
    "* Secretaria de planeacion\n",
    "* [DAtos Abiertos](https://www.datos.gov.co/browse)\n",
    "\n",
    "### Grandes Encuestas:\n",
    "* [COLOMBIA - Encuesta de Calidad de Vida de Bogotá - ECVB 2007](http://formularios.dane.gov.co/Anda_4_1/index.php/catalog/188)\n",
    "* [COLOMBIA - Encuesta de Carga Financiera y Educación Financiera de los Hogares - IEFIC-2010 - 2016](http://formularios.dane.gov.co/Anda_4_1/index.php/catalog/470/datafile/F15)\n",
    "* [COLOMBIA - Encuesta Anual de Servicios - EAS - 2011 - Microdato](http://formularios.dane.gov.co/Anda_4_1/index.php/catalog/261/datafile/F1)\n",
    "* [COLOMBIA - Encuesta de Consumo Cultural - ECC - 2016](http://formularios.dane.gov.co/Anda_4_1/index.php/catalog/447/datafile/F18)\n",
    "* [COLOMBIA - Encuesta de Convivencia y Seguridad Ciudadana - ECSC - 2016](http://formularios.dane.gov.co/Anda_4_1/index.php/catalog/451)\n",
    "* [COLOMBIA - Encuesta de Cultura Política - ECP - 2015](http://formularios.dane.gov.co/Anda_4_1/index.php/catalog/406)\n",
    "* [COLOMBIA - Encuesta de Gasto Interno en Turismo - EGIT - 2012 - 2013](http://formularios.dane.gov.co/Anda_4_1/index.php/catalog/253)\n",
    "* [COLOMBIA - Encuesta longitudinal de Protección Social - ELPS 2012](http://formularios.dane.gov.co/Anda_4_1/index.php/catalog/194)\n",
    "* [COLOMBIA - Encuesta Nacional de Calidad de Vida - ECV 2016](http://formularios.dane.gov.co/Anda_4_1/index.php/catalog/456)\n",
    "* ~~[COLOMBIA - Encuesta Multipropósito - EM- 2014](http://formularios.dane.gov.co/Anda_4_1/index.php/catalog/365)~~ La columna de estratos esta vacia\n",
    "* [COLOMBIA - Encuesta Nacional de Calidad de Vida - ECV 2016](http://formularios.dane.gov.co/Anda_4_1/index.php/catalog/456)\n",
    "* [COLOMBIA - Encuesta Nacional de Trabajo Infantil - ENTI 2011](http://formularios.dane.gov.co/Anda_4_1/index.php/catalog/372)\n",
    "* [COLOMBIA - Encuesta Nacional de Uso del Tiempo - ENUT- 2012 - 2013](http://formularios.dane.gov.co/Anda_4_1/index.php/catalog/214)\n",
    "* [COLOMBIA - Encuesta Sobre Ambiente y Desempeño Institucional Departamental- EDID - 2014 (ENTIDAD)](http://formularios.dane.gov.co/Anda_4_1/index.php/catalog/402)\n",
    "* [COLOMBIA - Encuesta Sobre Ambiente y Desempeño Institucional Departamental- EDID - 2016 (ENTIDAD)](http://formularios.dane.gov.co/Anda_4_1/index.php/catalog/443)\n",
    "* [COLOMBIA - Encuesta Sobre Ambiente y Desempeño Institucional Departamental- EDID - 2016 (REGION)](http://formularios.dane.gov.co/Anda_4_1/index.php/catalog/442)\n",
    "* [COLOMBIA - Estadísticas Vitales - EEVV - 2015](http://formularios.dane.gov.co/Anda_4_1/index.php/catalog/475)\n",
    "* [COLOMBIA - Gran Encuesta Integrada de Hogares - GEIH - 2016](http://formularios.dane.gov.co/Anda_4_1/index.php/catalog/427)\n",
    "* [COLOMBIA - Gran Encuesta Integrada de Hogares - GEIH - 2017](http://formularios.dane.gov.co/Anda_4_1/index.php/catalog/458)\n",
    "* [COLOMBIA - Gran Encuesta Integrada de Hogares Nuevos Departamentos - GEIH - ND- 2015](http://formularios.dane.gov.co/Anda_4_1/index.php/catalog/405)\n",
    "* [Colombia - Indice de Pobreza Multidimensional - IPM- 2016](http://formularios.dane.gov.co/Anda_4_1/index.php/catalog/455)\n",
    "* [COLOMBIA - Investigación de Educación Formal - 2016](http://formularios.dane.gov.co/Anda_4_1/index.php/catalog/476)\n",
    "* [COLOMBIA - Medición de Pobreza Monetaria y Desigualdad - 2016](http://formularios.dane.gov.co/Anda_4_1/index.php/catalog/454/data_dictionary)\n",
    "* [COLOMBIA - Módulo de Trabajo Infantil - MTI- GEIH - 2016](http://formularios.dane.gov.co/Anda_4_1/index.php/catalog/462)\n",
    "* [COLOMBIA - Módulo de Trabajo Infantil - MTI- GEIH - 2016](http://formularios.dane.gov.co/Anda_4_1/index.php/catalog/462)\n",
    "* [COLOMBIA - Módulo Tecnologías de Información y Comunicación - MTIC- GEIH- 2011](http://formularios.dane.gov.co/Anda_4_1/index.php/catalog/298)\n",
    "* [COLOMBIA - Censo General 2005](http://formularios.dane.gov.co/Anda_4_1/index.php/catalog/421/data_dictionary)\n",
    "* [COLOMBIA - Encuesta Continua de Hogares - ECH - 2006 (TRIMESTRES I Y II)](http://formularios.dane.gov.co/Anda_4_1/index.php/catalog/116)"
   ]
  },
  {
   "cell_type": "markdown",
   "metadata": {},
   "source": [
    "**Update 25 sep 2017:**\n",
    "De las encuestas queda complicado sacar datos ya que no hay forma de relacionar cada casilla con algun lugar en especifico, en la tabla cada hogar esta identificado, pero no se puede relacionar con la vida real, en parte es debido a que el DANE toma estos datos para hacer estadisticas, y por ley solo se pueden usar estos datos para sacar estadisticas, es ilegal usarlos para obtener informacion individual, o eso fue lo que entendi de este textote.\n",
    "\n",
    "**`Términos y condiciones`**\n",
    "\n",
    "`El representante de la Organización que recibe los datos acuerda en cumplir con las siguientes condiciones:`\n",
    "\n",
    "`El acceso a los datos restringidos está limitado al Investigador Responsable y a otros miembros de grupo de investigadores listados en esta solicitud. En el acta de entrega de información diligenciada en la sala de procesamiento especializado, se deberá identificar el investigador principal, el proyecto de investigación, la entidad o institución que respalda la investigación, el convenio (en caso de tramitarse entre entidades públicas) y los asistentes de investigación entre otros detalles.`\n",
    "\n",
    "\n",
    "`Las copias de los datos solicitados o cualquier dato creado sobre la base del dato original no deben ser distribuidos a ninguna otra persona fuera de la lista mencionada en este acuerdo de acceso a microdatos, y deberá respetar la confidencialidad establecida en la ley 1712 de 2014 y la ley 79 de 1993 de reserva estadística.`\n",
    "\n",
    "\n",
    "`Los datos solicitados serán procesados únicamente con fines estadísticos y con el propósito de la investigación mencionada, respetando los protocolos de confidencialidad elaborada por el DANE. El artículo 5 de la ley 78 de 1993 expresa que “Los datos suministrados al Departamento Administrativo Nacional de Estadística DANE, en el desarrollo de los censos y encuestas, no podrán darse a conocer al público ni a las entidades u organismos oficiales, ni a las autoridades públicas, sino únicamente en resúmenes numéricos, que no hagan posible deducir de ellos información alguna de carácter individual que pudiera utilizarse para fines comerciales, de tributación fiscal, de investigación judicial o cualquier otro diferente del propiamente estadístico.” de esta manera los investigadores están cobijados por la anterior normatividad y les está prohibido que sus investigaciones tengan como objetivo identificar a las fuentes para fines judiciales, fiscales u otro que no sea estadístico.`\n",
    "\n",
    "\n",
    "`El Investigador Responsable debe expresar si tiene la intención de armonizar los microdatos solicitados con cualquier otro conjunto de datos. Si se realizara cualquier unión con otros datos (matching), se debe enviar al DANE el conjunto de datos a ser armonizados, así como también las razones para hacerlo. Cualquier conjunto de datos creado como resultado de la unión de archivos será considerado restringido y debe cumplir con los términos de este Acuerdo de Acceso a Microdatos, además que cualquier intento de crear conjuntos de datos a través de la unión de archivos con el propósito de identificar fuentes y divulgar la información se considera una violación a la confidencialidad.`\n",
    "\n",
    "\n",
    "`El Investigador Responsable se compromete en no intentar individualizar los registros (casos) de los microdatos solicitados, para identificar a ninguna persona, familia, negocio, empresa u organización. Si tal revelación ocurriese involuntariamente, no debe usarse la identidad de ninguna persona u organización descubierta e inmediatamente debe reportarse al DANE un detalle completo de tal situación. La identificación no debe ser revelada a ninguna otra persona que no está incluída en este Acuerdo de Acceso a Microdatos.`\n",
    "\n",
    "\n",
    "`El Investigador Responsable debe implementar los mecanismos de seguridad para prevenir el acceso no autorizado a los microdatos solicitados. Y garantizar la destrucción de los microdatos una vez realizada la investigación.`\n",
    "\n",
    "\n",
    "`Cualquier libro o artículo presentado en conferencias o congresos, tesis, disertaciones, reportes u otras publicaciones que utilicen los datos obtenidos del DANE deben citar la fuente de dicha información de acuerdo con el requerimiento de cita de autor de la legislación que en materia de propiedad intelectual se encuentra vigente.`\n",
    "\n",
    "\n",
    "`Una copia electrónica de todos los reportes y publicaciones basados en los datos solicitados debe ser enviada al DANE`\n",
    "\n",
    "\n",
    "`El recolector original de los datos, el DANE, y las agencias o colaboradoras de la investigación estadística no son responsables por el uso de los datos o por las interpretaciones o inferencias basadas en tales usos.`\n",
    "\n",
    "\n",
    "`Este Acuerdo entrará en vigencia en la fecha en que se apruebe el acceso a los microdatos solicitados y permanece vigente hasta la fecha de finalización del proyecto o antes, dependiendo si el proyecto haya terminado antes del tiempo fijado. Sin embargo, esto no excluye al investigador de su responsabilidad de respetar la confidencialidad por el tiempo que establece la ley para la reserva de la información y el respeto al derecho a la intimidad de los usuarios.`\n",
    "\n",
    "\n",
    "`Si existiese algún cambio en el proyecto de investigación, de cualquier índole, con respecto al formulario de solicitud original, es responsabilidad del Investigador Responsable actualizar la información del Acuerdo de Acceso a Microdatos con relación a los cambios. Si los cambios afectan los objetivos y las variables solicitadas por el Investigador Responsable, deberá realizarse una nueva solicitud, implicando una terminación del acuerdo original.`\n",
    "\n",
    "`Las infracciones de este Acuerdo deben considerarse seriamente. El DANE tomará las acciones contra los responsables cuando estas sean voluntarias o accidentales. El incumplimiento de las condiciones de este acuerdo implicará la tomar acciones judiciales, penales o disciplinarias a que haya lugar por violación de la confidencialidad y la reserva así como por la violación de los derechos de autor.`\n",
    "\n",
    "`Usted expresa su acuerdo para cumplir con los términos y condiciones arriba indicados y dar su garantía de que el uso de los datos estadísticos obtenidos del DANE se ajustarán a las normas de amplia aceptación de la práctica y las restricciones legales que tienen por objeto proteger la confidencialidad de los encuestados, de acuerdo a la Ley 79 de 1993, la cual establece lo siguiente:`\n",
    "\n",
    "    ARTICULO 5o. Las personas naturales o jurídicas, de cualquier orden o naturaleza, domiciliadas o residentes en el territorio nacional, están obligadas a suministrar al Departamento Administrativo Nacional de Estadística D.A.N.E, los datos solicitados en el desarrollo de Censos y Encuestas.\n",
    "\n",
    "    Los datos suministrados al Departamento Administrativo Nacional de Estadística DANE, en el desarrollo de los censos y encuestas, no podrán darse a conocer al público ni a las entidades u organismos oficiales, ni a las autoridades públicas, sino únicamente en resúmenes numéricos, que no hagan posible deducir de ellos información alguna de carácter individual que pudiera utilizarse para fines comerciales, de tributación fiscal, de investigación judicial o cualquier otro diferente del propiamente estadístico.\n",
    "\n",
    "    ARTICULO 6o. El Departamento Administrativo Nacional de Estadística D.A.N.E., podrá imponer multas por una cuantía entre uno (1) y cincuenta (50) salarios mínimos mensuales, como sanción a las personas naturales o jurídicas de que trata el artículo 5o. de la presente ley y que incumplan lo dispuesto en ésta u obstaculicen la realización del Censo o de las Encuestas, previa investigación administrativa.\n",
    "\n"
   ]
  },
  {
   "cell_type": "markdown",
   "metadata": {},
   "source": [
    "De las paginas anteriores se sacan los datos en las paginas para completar la sigueinte informacion."
   ]
  },
  {
   "cell_type": "code",
   "execution_count": 2,
   "metadata": {
    "collapsed": true
   },
   "outputs": [],
   "source": [
    "# uno de las posibles fuentes son los mapas de arcGIS, entoncs se importa su libreria\n",
    "import arcgis\n",
    "from arcgis.gis import GIS\n",
    "from IPython.display import display\n",
    "\n",
    "gis = GIS()"
   ]
  },
  {
   "cell_type": "markdown",
   "metadata": {},
   "source": [
    "## 1. Bogota"
   ]
  },
  {
   "cell_type": "markdown",
   "metadata": {},
   "source": [
    "[Mapas Bogota](http://mapas.bogota.gov.co/), el estrato mejor los de arcGIS"
   ]
  },
  {
   "cell_type": "code",
   "execution_count": 23,
   "metadata": {},
   "outputs": [
    {
     "data": {
      "text/html": [
       "<div class=\"item_container\" style=\"height: auto; overflow: hidden; border: 1px solid #cfcfcf; border-radius: 2px; background: #f6fafa; line-height: 1.21429em; padding: 10px;\">\n",
       "                    <div class=\"item_left\" style=\"width: 210px; float: left;\">\n",
       "                       <a href='http://www.arcgis.com/home/item.html?id=8bf7167d20924cbf8e25e7b11c7c502c' target='_blank'>\n",
       "                        <img src='http://www.arcgis.com/sharing/rest//content/items/8bf7167d20924cbf8e25e7b11c7c502c/info/thumbnail/world_street_map.jpg' class=\"itemThumbnail\">\n",
       "                       </a>\n",
       "                    </div>\n",
       "\n",
       "                    <div class=\"item_right\"     style=\"float: none; width: auto; overflow: hidden;\">\n",
       "                        <a href='http://www.arcgis.com/home/item.html?id=8bf7167d20924cbf8e25e7b11c7c502c' target='_blank'><b>Streets</b>\n",
       "                        </a>\n",
       "                        <br/>Presents highway-level data for the world and street-level data for North America, Europe and more.<img src='http://www.arcgis.com/home/js/jsapi/esri/css/images/item_type_icons/maps16.png' style=\"vertical-align:middle;\">Web Map by esri\n",
       "                        <br/>Last Modified: diciembre 08, 2016\n",
       "                        <br/>0 comments, 2.847.968 views\n",
       "                    </div>\n",
       "                </div>\n",
       "                "
      ],
      "text/plain": [
       "<Item title:\"Streets\" type:Web Map owner:esri>"
      ]
     },
     "metadata": {},
     "output_type": "display_data"
    },
    {
     "data": {
      "text/html": [
       "<div class=\"item_container\" style=\"height: auto; overflow: hidden; border: 1px solid #cfcfcf; border-radius: 2px; background: #f6fafa; line-height: 1.21429em; padding: 10px;\">\n",
       "                    <div class=\"item_left\" style=\"width: 210px; float: left;\">\n",
       "                       <a href='http://www.arcgis.com/home/item.html?id=03bb253f6e9d4e719f769e53f649813b' target='_blank'>\n",
       "                        <img src='http://www.arcgis.com/sharing/rest//content/items/03bb253f6e9d4e719f769e53f649813b/info/thumbnail/ago_downloaded.png' class=\"itemThumbnail\">\n",
       "                       </a>\n",
       "                    </div>\n",
       "\n",
       "                    <div class=\"item_right\"     style=\"float: none; width: auto; overflow: hidden;\">\n",
       "                        <a href='http://www.arcgis.com/home/item.html?id=03bb253f6e9d4e719f769e53f649813b' target='_blank'><b>Streets</b>\n",
       "                        </a>\n",
       "                        <br/>Presents highway-level data for the world and street-level data for North America, Europe and more.<img src='http://www.arcgis.com/home/js/jsapi/esri/css/images/item_type_icons/maps16.png' style=\"vertical-align:middle;\">Web Map by esri_atlas\n",
       "                        <br/>Last Modified: agosto 29, 2017\n",
       "                        <br/>0 comments, 260.114 views\n",
       "                    </div>\n",
       "                </div>\n",
       "                "
      ],
      "text/plain": [
       "<Item title:\"Streets\" type:Web Map owner:esri_atlas>"
      ]
     },
     "metadata": {},
     "output_type": "display_data"
    }
   ],
   "source": [
    "items = gis.content.search(\"bogota\", max_items=2)\n",
    "\n",
    "for item in items:\n",
    "    display(item)"
   ]
  },
  {
   "cell_type": "markdown",
   "metadata": {},
   "source": [
    "### 1.1 Estrato:\n",
    "* [COLOMBIA - Encuesta Multipropósito - EM- 2014](http://formularios.dane.gov.co/Anda_4_1/index.php/catalog/365/vargrp/VG1#page=F1&tab=data-dictionary)\n",
    "* [Secretaria de Planeacion](http://www.sdp.gov.co/portal/page/portal/PortalSDP/InformacionTomaDecisiones/Estratificacion_Socioeconomica/Mapas)\n",
    "* [Encuesta de movilidad de Bogotá 2015 – Caracterización Encuesta – Origen/Destino](https://www.datos.gov.co/Transporte/Encuesta-de-movilidad-de-Bogot-2015-Caracterizaci-/nvjr-dwv4)\n",
    "* arcGIS"
   ]
  },
  {
   "cell_type": "code",
   "execution_count": 5,
   "metadata": {
    "collapsed": true,
    "scrolled": true
   },
   "outputs": [],
   "source": [
    "items = gis.content.search(\"estratificacion bogota\")"
   ]
  },
  {
   "cell_type": "code",
   "execution_count": 6,
   "metadata": {},
   "outputs": [
    {
     "data": {
      "text/html": [
       "<div class=\"item_container\" style=\"height: auto; overflow: hidden; border: 1px solid #cfcfcf; border-radius: 2px; background: #f6fafa; line-height: 1.21429em; padding: 10px;\">\n",
       "                    <div class=\"item_left\" style=\"width: 210px; float: left;\">\n",
       "                       <a href='http://www.arcgis.com/home/item.html?id=c27e2ebac3534d0880632934afb73b5a' target='_blank'>\n",
       "                        <img src='http://www.arcgis.com/sharing/rest//content/items/c27e2ebac3534d0880632934afb73b5a/info/thumbnail/ago_downloaded.png' class=\"itemThumbnail\">\n",
       "                       </a>\n",
       "                    </div>\n",
       "\n",
       "                    <div class=\"item_right\"     style=\"float: none; width: auto; overflow: hidden;\">\n",
       "                        <a href='http://www.arcgis.com/home/item.html?id=c27e2ebac3534d0880632934afb73b5a' target='_blank'><b>Estratificacion Bogota</b>\n",
       "                        </a>\n",
       "                        <br/><img src='http://www.arcgis.com/home/js/jsapi/esri/css/images/item_type_icons/features16.png' style=\"vertical-align:middle;\">Feature Collection by cristianquintero\n",
       "                        <br/>Last Modified: junio 02, 2015\n",
       "                        <br/>0 comments, 794 views\n",
       "                    </div>\n",
       "                </div>\n",
       "                "
      ],
      "text/plain": [
       "<Item title:\"Estratificacion Bogota\" type:Feature Collection owner:cristianquintero>"
      ]
     },
     "metadata": {},
     "output_type": "display_data"
    },
    {
     "data": {
      "text/html": [
       "<div class=\"item_container\" style=\"height: auto; overflow: hidden; border: 1px solid #cfcfcf; border-radius: 2px; background: #f6fafa; line-height: 1.21429em; padding: 10px;\">\n",
       "                    <div class=\"item_left\" style=\"width: 210px; float: left;\">\n",
       "                       <a href='http://www.arcgis.com/home/item.html?id=8ac1c0d2c59b4fe6980e4d06fb599f03' target='_blank'>\n",
       "                        <img src='http://www.arcgis.com/sharing/rest//content/items/8ac1c0d2c59b4fe6980e4d06fb599f03/info/thumbnail/ago_downloaded.png' class=\"itemThumbnail\">\n",
       "                       </a>\n",
       "                    </div>\n",
       "\n",
       "                    <div class=\"item_right\"     style=\"float: none; width: auto; overflow: hidden;\">\n",
       "                        <a href='http://www.arcgis.com/home/item.html?id=8ac1c0d2c59b4fe6980e4d06fb599f03' target='_blank'><b>ESTRATIFICACION SOCIAL BOGOTA DC</b>\n",
       "                        </a>\n",
       "                        <br/>(MAPA EN CONSTRUCCION)<img src='http://www.arcgis.com/home/js/jsapi/esri/css/images/item_type_icons/maps16.png' style=\"vertical-align:middle;\">Web Map by geoconcepto\n",
       "                        <br/>Last Modified: enero 04, 2016\n",
       "                        <br/>0 comments, 73 views\n",
       "                    </div>\n",
       "                </div>\n",
       "                "
      ],
      "text/plain": [
       "<Item title:\"ESTRATIFICACION SOCIAL BOGOTA DC\" type:Web Map owner:geoconcepto>"
      ]
     },
     "metadata": {},
     "output_type": "display_data"
    },
    {
     "data": {
      "text/html": [
       "<div class=\"item_container\" style=\"height: auto; overflow: hidden; border: 1px solid #cfcfcf; border-radius: 2px; background: #f6fafa; line-height: 1.21429em; padding: 10px;\">\n",
       "                    <div class=\"item_left\" style=\"width: 210px; float: left;\">\n",
       "                       <a href='http://www.arcgis.com/home/item.html?id=b11709a2bdc54518be28591299052b1a' target='_blank'>\n",
       "                        <img src='http://www.arcgis.com/sharing/rest//content/items/b11709a2bdc54518be28591299052b1a/info/thumbnail/ago_downloaded.png' class=\"itemThumbnail\">\n",
       "                       </a>\n",
       "                    </div>\n",
       "\n",
       "                    <div class=\"item_right\"     style=\"float: none; width: auto; overflow: hidden;\">\n",
       "                        <a href='http://www.arcgis.com/home/item.html?id=b11709a2bdc54518be28591299052b1a' target='_blank'><b>Estratificacion Bogota - Copiar</b>\n",
       "                        </a>\n",
       "                        <br/><img src='http://www.arcgis.com/home/js/jsapi/esri/css/images/item_type_icons/features16.png' style=\"vertical-align:middle;\">Feature Collection by Sergio1130\n",
       "                        <br/>Last Modified: marzo 02, 2017\n",
       "                        <br/>0 comments, 57 views\n",
       "                    </div>\n",
       "                </div>\n",
       "                "
      ],
      "text/plain": [
       "<Item title:\"Estratificacion Bogota - Copiar\" type:Feature Collection owner:Sergio1130>"
      ]
     },
     "metadata": {},
     "output_type": "display_data"
    }
   ],
   "source": [
    "for item in items:\n",
    "    display(item)"
   ]
  },
  {
   "cell_type": "markdown",
   "metadata": {},
   "source": [
    "### 1.2 Factor Uno - Educación:\n",
    "* [COLOMBIA - Indice de Pobreza Multidimensional - IPM - 2012](http://formularios.dane.gov.co/Anda_4_1/index.php/catalog/257/study-description) - Hay Columna con la pregunta `¿Sabe Leer?`\n",
    "* [Colombia - Indice de Pobreza Multidimensional - IPM- 2016](http://formularios.dane.gov.co/Anda_4_1/index.php/catalog/455/study-description)\n",
    "* [Excel del DANE](https://www.dane.gov.co/files/investigaciones/condiciones_vida/ecvb/13.xls)\n",
    "* [Mapa a Nivel Municipal](http://ceelat.org/mapas/la-alfabetizacion-en-colombia-reto-o-realidad/)\n",
    "* En las grandes encuestas hay varios datos que se pueden volver mapas.\n",
    "* [Puntos vive digital del pais](https://www.datos.gov.co/Ciencia-Tecnolog-a-e-Innovaci-n/Kioskos-Vive-Digital/jmmu-qmdh)"
   ]
  },
  {
   "cell_type": "code",
   "execution_count": 18,
   "metadata": {},
   "outputs": [
    {
     "data": {
      "text/html": [
       "<div class=\"item_container\" style=\"height: auto; overflow: hidden; border: 1px solid #cfcfcf; border-radius: 2px; background: #f6fafa; line-height: 1.21429em; padding: 10px;\">\n",
       "                    <div class=\"item_left\" style=\"width: 210px; float: left;\">\n",
       "                       <a href='http://www.arcgis.com/home/item.html?id=b49fbd8f78a14dcbafb252b4cd78a4f4' target='_blank'>\n",
       "                        <img src='http://www.arcgis.com/sharing/rest//content/items/b49fbd8f78a14dcbafb252b4cd78a4f4/info/thumbnail/ago_downloaded.png' class=\"itemThumbnail\">\n",
       "                       </a>\n",
       "                    </div>\n",
       "\n",
       "                    <div class=\"item_right\"     style=\"float: none; width: auto; overflow: hidden;\">\n",
       "                        <a href='http://www.arcgis.com/home/item.html?id=b49fbd8f78a14dcbafb252b4cd78a4f4' target='_blank'><b>Mapa_Colegios</b>\n",
       "                        </a>\n",
       "                        <br/>Mapa que muestra los colegios de Bogota<img src='http://www.arcgis.com/home/js/jsapi/esri/css/images/item_type_icons/maps16.png' style=\"vertical-align:middle;\">Web Map by acubillos\n",
       "                        <br/>Last Modified: diciembre 11, 2015\n",
       "                        <br/>0 comments, 501 views\n",
       "                    </div>\n",
       "                </div>\n",
       "                "
      ],
      "text/plain": [
       "<Item title:\"Mapa_Colegios\" type:Web Map owner:acubillos>"
      ]
     },
     "metadata": {},
     "output_type": "display_data"
    },
    {
     "data": {
      "text/html": [
       "<div class=\"item_container\" style=\"height: auto; overflow: hidden; border: 1px solid #cfcfcf; border-radius: 2px; background: #f6fafa; line-height: 1.21429em; padding: 10px;\">\n",
       "                    <div class=\"item_left\" style=\"width: 210px; float: left;\">\n",
       "                       <a href='http://www.arcgis.com/home/item.html?id=2d5f83ce539d47b9b777a98b27e6fec9' target='_blank'>\n",
       "                        <img src='http://www.arcgis.com/sharing/rest//content/items/2d5f83ce539d47b9b777a98b27e6fec9/info/thumbnail/ago_downloaded.png' class=\"itemThumbnail\">\n",
       "                       </a>\n",
       "                    </div>\n",
       "\n",
       "                    <div class=\"item_right\"     style=\"float: none; width: auto; overflow: hidden;\">\n",
       "                        <a href='http://www.arcgis.com/home/item.html?id=2d5f83ce539d47b9b777a98b27e6fec9' target='_blank'><b>Establecimientos Educativos</b>\n",
       "                        </a>\n",
       "                        <br/><img src='http://www.arcgis.com/home/js/jsapi/esri/css/images/item_type_icons/maps16.png' style=\"vertical-align:middle;\">Web Map by PublicadorSIG\n",
       "                        <br/>Last Modified: julio 28, 2016\n",
       "                        <br/>0 comments, 429 views\n",
       "                    </div>\n",
       "                </div>\n",
       "                "
      ],
      "text/plain": [
       "<Item title:\"Establecimientos Educativos\" type:Web Map owner:PublicadorSIG>"
      ]
     },
     "metadata": {},
     "output_type": "display_data"
    }
   ],
   "source": [
    "items = gis.content.search(\"educacion bogota\", max_items=2)\n",
    "\n",
    "for item in items:\n",
    "    display(item)"
   ]
  },
  {
   "cell_type": "markdown",
   "metadata": {},
   "source": [
    "### 1.3 Factor Dos - Salud:\n",
    "* De las encuestas se pueden sacar informacion\n",
    "* Hubicacion de lugares como hospitales, probar si esto se puede tomar de google.\n",
    "* [Registro de Prestadores de Instituciones de Salud](https://www.datos.gov.co/Salud-y-Protecci-n-Social/Registro-de-Prestadores-de-Instituciones-de-Salud/c36g-9fc2)\n",
    "* [Encuesta Nacional de Salud ](https://datoscede.uniandes.edu.co/microdatos-detalle.php/72/2/127/) -> Falta Acceder.\n",
    "* [ Encuesta Nacional de Situación Nutricional en Colombia - ENSIN ](https://datoscede.uniandes.edu.co/microdatos-detalle.php/108/encuesta-nacional-de-situacion-nutricional-en-colombia---ensin/)\n",
    "* [Encuesta Demografía y Salud (ENDS) ](https://datoscede.uniandes.edu.co/microdatos-detalle.php/272/encuesta-demografia-y-salud-(ends)/)\n",
    "* [Encuesta longitudinal de Protección Social - ELPS ](https://datoscede.uniandes.edu.co/microdatos-detalle.php/289/encuesta-longitudinal-de-proteccion-social---elps/)\n",
    "* [Mapa Interactivo](http://www.secretariadeambiente.gov.co/visorgeo) -> Mapa interctivo con mucha informaicon qeu se peude descargar, como focos de consumo, temperatura promedio, entre otras.\n",
    "* "
   ]
  },
  {
   "cell_type": "code",
   "execution_count": 24,
   "metadata": {},
   "outputs": [
    {
     "data": {
      "text/html": [
       "<div class=\"item_container\" style=\"height: auto; overflow: hidden; border: 1px solid #cfcfcf; border-radius: 2px; background: #f6fafa; line-height: 1.21429em; padding: 10px;\">\n",
       "                    <div class=\"item_left\" style=\"width: 210px; float: left;\">\n",
       "                       <a href='http://www.arcgis.com/home/item.html?id=56965413bcca40eb938a764c9c9c2981' target='_blank'>\n",
       "                        <img src='http://www.arcgis.com/sharing/rest//content/items/56965413bcca40eb938a764c9c9c2981/info/thumbnail/ago_downloaded.png' class=\"itemThumbnail\">\n",
       "                       </a>\n",
       "                    </div>\n",
       "\n",
       "                    <div class=\"item_right\"     style=\"float: none; width: auto; overflow: hidden;\">\n",
       "                        <a href='http://www.arcgis.com/home/item.html?id=56965413bcca40eb938a764c9c9c2981' target='_blank'><b>ACTIVIDADES DE VIGILANCIA EN SALUD PUBLICA COMUNITARIA ESE CHAPINERO BOGOTA DC</b>\n",
       "                        </a>\n",
       "                        <br/>(MAPA EN CONSTRUCCION) Contiene las actividades de vigilancia en salud ública realizadas con la comunidad de la localidad de Chapinero entre setp de 2013 y feb de 2014<img src='http://www.arcgis.com/home/js/jsapi/esri/css/images/item_type_icons/maps16.png' style=\"vertical-align:middle;\">Web Map by geoconcepto\n",
       "                        <br/>Last Modified: enero 28, 2016\n",
       "                        <br/>0 comments, 464 views\n",
       "                    </div>\n",
       "                </div>\n",
       "                "
      ],
      "text/plain": [
       "<Item title:\"ACTIVIDADES DE VIGILANCIA EN SALUD PUBLICA COMUNITARIA ESE CHAPINERO BOGOTA DC\" type:Web Map owner:geoconcepto>"
      ]
     },
     "metadata": {},
     "output_type": "display_data"
    },
    {
     "data": {
      "text/html": [
       "<div class=\"item_container\" style=\"height: auto; overflow: hidden; border: 1px solid #cfcfcf; border-radius: 2px; background: #f6fafa; line-height: 1.21429em; padding: 10px;\">\n",
       "                    <div class=\"item_left\" style=\"width: 210px; float: left;\">\n",
       "                       <a href='http://www.arcgis.com/home/item.html?id=3d20ad2afa044e8692729fcc80122894' target='_blank'>\n",
       "                        <img src='http://www.arcgis.com/sharing/rest//content/items/3d20ad2afa044e8692729fcc80122894/info/thumbnail/ago_downloaded.png' class=\"itemThumbnail\">\n",
       "                       </a>\n",
       "                    </div>\n",
       "\n",
       "                    <div class=\"item_right\"     style=\"float: none; width: auto; overflow: hidden;\">\n",
       "                        <a href='http://www.arcgis.com/home/item.html?id=3d20ad2afa044e8692729fcc80122894' target='_blank'><b>Localidades Bogota</b>\n",
       "                        </a>\n",
       "                        <br/>Distrito Capital Bogotá - Colombia<img src='http://www.arcgis.com/home/js/jsapi/esri/css/images/item_type_icons/maps16.png' style=\"vertical-align:middle;\">Web Map by girlesoft\n",
       "                        <br/>Last Modified: noviembre 13, 2016\n",
       "                        <br/>0 comments, 326 views\n",
       "                    </div>\n",
       "                </div>\n",
       "                "
      ],
      "text/plain": [
       "<Item title:\"Localidades Bogota\" type:Web Map owner:girlesoft>"
      ]
     },
     "metadata": {},
     "output_type": "display_data"
    }
   ],
   "source": [
    "items = gis.content.search(\"salud bogota\", max_items=2)\n",
    "\n",
    "for item in items:\n",
    "    display(item)"
   ]
  },
  {
   "cell_type": "code",
   "execution_count": 12,
   "metadata": {},
   "outputs": [
    {
     "data": {
      "text/html": [
       "<div class=\"item_container\" style=\"height: auto; overflow: hidden; border: 1px solid #cfcfcf; border-radius: 2px; background: #f6fafa; line-height: 1.21429em; padding: 10px;\">\n",
       "                    <div class=\"item_left\" style=\"width: 210px; float: left;\">\n",
       "                       <a href='http://www.arcgis.com/home/item.html?id=1ab4d014f3914e3ea9cb375562a1f22f' target='_blank'>\n",
       "                        <img src='http://www.arcgis.com/sharing/rest//content/items/1ab4d014f3914e3ea9cb375562a1f22f/info/thumbnail/ago_downloaded.png' class=\"itemThumbnail\">\n",
       "                       </a>\n",
       "                    </div>\n",
       "\n",
       "                    <div class=\"item_right\"     style=\"float: none; width: auto; overflow: hidden;\">\n",
       "                        <a href='http://www.arcgis.com/home/item.html?id=1ab4d014f3914e3ea9cb375562a1f22f' target='_blank'><b>Encuesta Calidad de Vida Bogotá</b>\n",
       "                        </a>\n",
       "                        <br/>El mapa representa de forma estadistica algunos resultados de la Encuesta Calidad de Vida Bogotá 2007<img src='http://www.arcgis.com/home/js/jsapi/esri/css/images/item_type_icons/maps16.png' style=\"vertical-align:middle;\">Web Map by edwardyac\n",
       "                        <br/>Last Modified: abril 09, 2012\n",
       "                        <br/>0 comments, 456 views\n",
       "                    </div>\n",
       "                </div>\n",
       "                "
      ],
      "text/plain": [
       "<Item title:\"Encuesta Calidad de Vida Bogotá\" type:Web Map owner:edwardyac>"
      ]
     },
     "metadata": {},
     "output_type": "display_data"
    },
    {
     "data": {
      "text/html": [
       "<div class=\"item_container\" style=\"height: auto; overflow: hidden; border: 1px solid #cfcfcf; border-radius: 2px; background: #f6fafa; line-height: 1.21429em; padding: 10px;\">\n",
       "                    <div class=\"item_left\" style=\"width: 210px; float: left;\">\n",
       "                       <a href='http://www.arcgis.com/home/item.html?id=c433604080ad46fca090f8c6f2ae58f2' target='_blank'>\n",
       "                        <img src='http://www.arcgis.com/sharing/rest//content/items/c433604080ad46fca090f8c6f2ae58f2/info/thumbnail/encuesta_bogota.png' class=\"itemThumbnail\">\n",
       "                       </a>\n",
       "                    </div>\n",
       "\n",
       "                    <div class=\"item_right\"     style=\"float: none; width: auto; overflow: hidden;\">\n",
       "                        <a href='http://www.arcgis.com/home/item.html?id=c433604080ad46fca090f8c6f2ae58f2' target='_blank'><b>Encuesta Calidad de Vida Bogotá</b>\n",
       "                        </a>\n",
       "                        <br/>El mapa representa de forma estadistica algunos resultados de la Encuesta Calidad de Vida Bogotá 2007<img src='http://www.arcgis.com/home/js/jsapi/esri/css/images/item_type_icons/layers16.png' style=\"vertical-align:middle;\">Web Mapping Application by edwardyac\n",
       "                        <br/>Last Modified: abril 09, 2012\n",
       "                        <br/>0 comments, 367 views\n",
       "                    </div>\n",
       "                </div>\n",
       "                "
      ],
      "text/plain": [
       "<Item title:\"Encuesta Calidad de Vida Bogotá\" type:Web Mapping Application owner:edwardyac>"
      ]
     },
     "metadata": {},
     "output_type": "display_data"
    }
   ],
   "source": [
    "items = gis.content.search(\"pobreza bogota\")\n",
    "\n",
    "for item in items:\n",
    "    display(item)"
   ]
  },
  {
   "cell_type": "code",
   "execution_count": 33,
   "metadata": {},
   "outputs": [
    {
     "data": {
      "text/html": [
       "<div class=\"item_container\" style=\"height: auto; overflow: hidden; border: 1px solid #cfcfcf; border-radius: 2px; background: #f6fafa; line-height: 1.21429em; padding: 10px;\">\n",
       "                    <div class=\"item_left\" style=\"width: 210px; float: left;\">\n",
       "                       <a href='http://www.arcgis.com/home/item.html?id=e36a8737e83c4fd5918d2ad9c57ef509' target='_blank'>\n",
       "                        <img src='http://www.arcgis.com/sharing/rest//content/items/e36a8737e83c4fd5918d2ad9c57ef509/info/thumbnail/ago_downloaded.png' class=\"itemThumbnail\">\n",
       "                       </a>\n",
       "                    </div>\n",
       "\n",
       "                    <div class=\"item_right\"     style=\"float: none; width: auto; overflow: hidden;\">\n",
       "                        <a href='http://www.arcgis.com/home/item.html?id=e36a8737e83c4fd5918d2ad9c57ef509' target='_blank'><b>MAPA C.A.</b>\n",
       "                        </a>\n",
       "                        <br/><img src='http://www.arcgis.com/home/js/jsapi/esri/css/images/item_type_icons/maps16.png' style=\"vertical-align:middle;\">Web Map by CheSergioCamargoVargas\n",
       "                        <br/>Last Modified: abril 20, 2016\n",
       "                        <br/>0 comments, 126 views\n",
       "                    </div>\n",
       "                </div>\n",
       "                "
      ],
      "text/plain": [
       "<Item title:\"MAPA C.A.\" type:Web Map owner:CheSergioCamargoVargas>"
      ]
     },
     "metadata": {},
     "output_type": "display_data"
    },
    {
     "data": {
      "text/html": [
       "<div class=\"item_container\" style=\"height: auto; overflow: hidden; border: 1px solid #cfcfcf; border-radius: 2px; background: #f6fafa; line-height: 1.21429em; padding: 10px;\">\n",
       "                    <div class=\"item_left\" style=\"width: 210px; float: left;\">\n",
       "                       <a href='http://www.arcgis.com/home/item.html?id=3fc0fd838e9b469d97a2a30fe1348847' target='_blank'>\n",
       "                        <img src='http://static.arcgis.com/images/desktopapp.png' class=\"itemThumbnail\">\n",
       "                       </a>\n",
       "                    </div>\n",
       "\n",
       "                    <div class=\"item_right\"     style=\"float: none; width: auto; overflow: hidden;\">\n",
       "                        <a href='http://www.arcgis.com/home/item.html?id=3fc0fd838e9b469d97a2a30fe1348847' target='_blank'><b>MAPA C.A.</b>\n",
       "                        </a>\n",
       "                        <br/><img src='http://www.arcgis.com/home/js/jsapi/esri/css/images/item_type_icons/layers16.png' style=\"vertical-align:middle;\">Web Mapping Application by CheSergioCamargoVargas\n",
       "                        <br/>Last Modified: abril 20, 2016\n",
       "                        <br/>0 comments, 57 views\n",
       "                    </div>\n",
       "                </div>\n",
       "                "
      ],
      "text/plain": [
       "<Item title:\"MAPA C.A.\" type:Web Mapping Application owner:CheSergioCamargoVargas>"
      ]
     },
     "metadata": {},
     "output_type": "display_data"
    }
   ],
   "source": [
    "items = gis.content.search(\"contaminacion bogota\", max_items=2)\n",
    "\n",
    "for item in items:\n",
    "    display(item)"
   ]
  },
  {
   "cell_type": "markdown",
   "metadata": {},
   "source": [
    "**PAUSA** -> Hay muchos datos en las encuestas que podrian llenar la mayoria de factores que hay, entonces ver que mas datos se pueden sacar y los que falten luego buscarlos."
   ]
  },
  {
   "cell_type": "markdown",
   "metadata": {},
   "source": [
    "## 2. Otras Ciudades"
   ]
  },
  {
   "cell_type": "code",
   "execution_count": 43,
   "metadata": {},
   "outputs": [
    {
     "data": {
      "text/html": [
       "<div class=\"item_container\" style=\"height: auto; overflow: hidden; border: 1px solid #cfcfcf; border-radius: 2px; background: #f6fafa; line-height: 1.21429em; padding: 10px;\">\n",
       "                    <div class=\"item_left\" style=\"width: 210px; float: left;\">\n",
       "                       <a href='http://www.arcgis.com/home/item.html?id=aaa7bf590a8e4dca8f2fe72406d25d39' target='_blank'>\n",
       "                        <img src='http://www.arcgis.com/sharing/rest//content/items/aaa7bf590a8e4dca8f2fe72406d25d39/info/thumbnail/ago_downloaded.png' class=\"itemThumbnail\">\n",
       "                       </a>\n",
       "                    </div>\n",
       "\n",
       "                    <div class=\"item_right\"     style=\"float: none; width: auto; overflow: hidden;\">\n",
       "                        <a href='http://www.arcgis.com/home/item.html?id=aaa7bf590a8e4dca8f2fe72406d25d39' target='_blank'><b>Sogamoso - Duitama - Tunja - Bogotá</b>\n",
       "                        </a>\n",
       "                        <br/>Ruta e indicaciones para Sogamoso - Duitama - Tunja - Bogotá<img src='http://www.arcgis.com/home/js/jsapi/esri/css/images/item_type_icons/features16.png' style=\"vertical-align:middle;\">Feature Collection by SIG.PUBLICA\n",
       "                        <br/>Last Modified: febrero 23, 2017\n",
       "                        <br/>0 comments, 2.781 views\n",
       "                    </div>\n",
       "                </div>\n",
       "                "
      ],
      "text/plain": [
       "<Item title:\"Sogamoso - Duitama - Tunja - Bogotá\" type:Feature Collection owner:SIG.PUBLICA>"
      ]
     },
     "metadata": {},
     "output_type": "display_data"
    },
    {
     "data": {
      "text/html": [
       "<div class=\"item_container\" style=\"height: auto; overflow: hidden; border: 1px solid #cfcfcf; border-radius: 2px; background: #f6fafa; line-height: 1.21429em; padding: 10px;\">\n",
       "                    <div class=\"item_left\" style=\"width: 210px; float: left;\">\n",
       "                       <a href='http://www.arcgis.com/home/item.html?id=fa19697f97024cc8bb659ac1663d2400' target='_blank'>\n",
       "                        <img src='http://www.arcgis.com/sharing/rest//content/items/fa19697f97024cc8bb659ac1663d2400/info/thumbnail/ago_downloaded.png' class=\"itemThumbnail\">\n",
       "                       </a>\n",
       "                    </div>\n",
       "\n",
       "                    <div class=\"item_right\"     style=\"float: none; width: auto; overflow: hidden;\">\n",
       "                        <a href='http://www.arcgis.com/home/item.html?id=fa19697f97024cc8bb659ac1663d2400' target='_blank'><b>Sogamoso - Duitama - Tunja - Bucaramanga</b>\n",
       "                        </a>\n",
       "                        <br/>Ruta e indicaciones para Sogamoso - Duitama - Tunja - Bucaramanga<img src='http://www.arcgis.com/home/js/jsapi/esri/css/images/item_type_icons/features16.png' style=\"vertical-align:middle;\">Feature Collection by SIG.PUBLICA\n",
       "                        <br/>Last Modified: febrero 23, 2017\n",
       "                        <br/>0 comments, 1.028 views\n",
       "                    </div>\n",
       "                </div>\n",
       "                "
      ],
      "text/plain": [
       "<Item title:\"Sogamoso - Duitama - Tunja - Bucaramanga\" type:Feature Collection owner:SIG.PUBLICA>"
      ]
     },
     "metadata": {},
     "output_type": "display_data"
    },
    {
     "data": {
      "text/html": [
       "<div class=\"item_container\" style=\"height: auto; overflow: hidden; border: 1px solid #cfcfcf; border-radius: 2px; background: #f6fafa; line-height: 1.21429em; padding: 10px;\">\n",
       "                    <div class=\"item_left\" style=\"width: 210px; float: left;\">\n",
       "                       <a href='http://www.arcgis.com/home/item.html?id=bab5663e2cca475980b421e8a1597bf7' target='_blank'>\n",
       "                        <img src='http://www.arcgis.com/sharing/rest//content/items/bab5663e2cca475980b421e8a1597bf7/info/thumbnail/ago_downloaded.png' class=\"itemThumbnail\">\n",
       "                       </a>\n",
       "                    </div>\n",
       "\n",
       "                    <div class=\"item_right\"     style=\"float: none; width: auto; overflow: hidden;\">\n",
       "                        <a href='http://www.arcgis.com/home/item.html?id=bab5663e2cca475980b421e8a1597bf7' target='_blank'><b>Ruta Alterna Sogamoso -Yopal</b>\n",
       "                        </a>\n",
       "                        <br/>Ruta e indicaciones para Ruta Alterna Sogamoso -Yopal<img src='http://www.arcgis.com/home/js/jsapi/esri/css/images/item_type_icons/features16.png' style=\"vertical-align:middle;\">Feature Collection by SIG.PUBLICA\n",
       "                        <br/>Last Modified: febrero 23, 2017\n",
       "                        <br/>0 comments, 659 views\n",
       "                    </div>\n",
       "                </div>\n",
       "                "
      ],
      "text/plain": [
       "<Item title:\"Ruta Alterna Sogamoso -Yopal\" type:Feature Collection owner:SIG.PUBLICA>"
      ]
     },
     "metadata": {},
     "output_type": "display_data"
    },
    {
     "data": {
      "text/html": [
       "<div class=\"item_container\" style=\"height: auto; overflow: hidden; border: 1px solid #cfcfcf; border-radius: 2px; background: #f6fafa; line-height: 1.21429em; padding: 10px;\">\n",
       "                    <div class=\"item_left\" style=\"width: 210px; float: left;\">\n",
       "                       <a href='http://www.arcgis.com/home/item.html?id=305fe4010ffa45b0bfe21813f79cde81' target='_blank'>\n",
       "                        <img src='http://www.arcgis.com/sharing/rest//content/items/305fe4010ffa45b0bfe21813f79cde81/info/thumbnail/ago_downloaded.png' class=\"itemThumbnail\">\n",
       "                       </a>\n",
       "                    </div>\n",
       "\n",
       "                    <div class=\"item_right\"     style=\"float: none; width: auto; overflow: hidden;\">\n",
       "                        <a href='http://www.arcgis.com/home/item.html?id=305fe4010ffa45b0bfe21813f79cde81' target='_blank'><b>Ruta Hundimiento Sogamoso - Yopal</b>\n",
       "                        </a>\n",
       "                        <br/>Ruta e indicaciones para Ruta Hundimiento Sogamoso - Yopal<img src='http://www.arcgis.com/home/js/jsapi/esri/css/images/item_type_icons/features16.png' style=\"vertical-align:middle;\">Feature Collection by SIG.PUBLICA\n",
       "                        <br/>Last Modified: febrero 23, 2017\n",
       "                        <br/>0 comments, 639 views\n",
       "                    </div>\n",
       "                </div>\n",
       "                "
      ],
      "text/plain": [
       "<Item title:\"Ruta Hundimiento Sogamoso - Yopal\" type:Feature Collection owner:SIG.PUBLICA>"
      ]
     },
     "metadata": {},
     "output_type": "display_data"
    },
    {
     "data": {
      "text/html": [
       "<div class=\"item_container\" style=\"height: auto; overflow: hidden; border: 1px solid #cfcfcf; border-radius: 2px; background: #f6fafa; line-height: 1.21429em; padding: 10px;\">\n",
       "                    <div class=\"item_left\" style=\"width: 210px; float: left;\">\n",
       "                       <a href='http://www.arcgis.com/home/item.html?id=375f5cc6678c461aab09a1828ce0a720' target='_blank'>\n",
       "                        <img src='http://www.arcgis.com/sharing/rest//content/items/375f5cc6678c461aab09a1828ce0a720/info/thumbnail/ago_downloaded.png' class=\"itemThumbnail\">\n",
       "                       </a>\n",
       "                    </div>\n",
       "\n",
       "                    <div class=\"item_right\"     style=\"float: none; width: auto; overflow: hidden;\">\n",
       "                        <a href='http://www.arcgis.com/home/item.html?id=375f5cc6678c461aab09a1828ce0a720' target='_blank'><b>Tunja - Sogamoso</b>\n",
       "                        </a>\n",
       "                        <br/>Ruta e indicaciones para Tunja - Sogamoso<img src='http://www.arcgis.com/home/js/jsapi/esri/css/images/item_type_icons/features16.png' style=\"vertical-align:middle;\">Feature Collection by SIG.PUBLICA\n",
       "                        <br/>Last Modified: febrero 23, 2017\n",
       "                        <br/>0 comments, 572 views\n",
       "                    </div>\n",
       "                </div>\n",
       "                "
      ],
      "text/plain": [
       "<Item title:\"Tunja - Sogamoso\" type:Feature Collection owner:SIG.PUBLICA>"
      ]
     },
     "metadata": {},
     "output_type": "display_data"
    },
    {
     "data": {
      "text/html": [
       "<div class=\"item_container\" style=\"height: auto; overflow: hidden; border: 1px solid #cfcfcf; border-radius: 2px; background: #f6fafa; line-height: 1.21429em; padding: 10px;\">\n",
       "                    <div class=\"item_left\" style=\"width: 210px; float: left;\">\n",
       "                       <a href='http://www.arcgis.com/home/item.html?id=8a3546ab0fc14be6beaa9b05a64d2f90' target='_blank'>\n",
       "                        <img src='http://www.arcgis.com/sharing/rest//content/items/8a3546ab0fc14be6beaa9b05a64d2f90/info/thumbnail/ago_downloaded.png' class=\"itemThumbnail\">\n",
       "                       </a>\n",
       "                    </div>\n",
       "\n",
       "                    <div class=\"item_right\"     style=\"float: none; width: auto; overflow: hidden;\">\n",
       "                        <a href='http://www.arcgis.com/home/item.html?id=8a3546ab0fc14be6beaa9b05a64d2f90' target='_blank'><b>Plan de ordenamiento de la cuenca hidrográfica del río Sogamoso</b>\n",
       "                        </a>\n",
       "                        <br/><img src='http://www.arcgis.com/home/js/jsapi/esri/css/images/item_type_icons/layers16.png' style=\"vertical-align:middle;\">Web Mapping Application by ctorion\n",
       "                        <br/>Last Modified: septiembre 15, 2015\n",
       "                        <br/>0 comments, 271 views\n",
       "                    </div>\n",
       "                </div>\n",
       "                "
      ],
      "text/plain": [
       "<Item title:\"Plan de ordenamiento de la cuenca hidrográfica del río Sogamoso\" type:Web Mapping Application owner:ctorion>"
      ]
     },
     "metadata": {},
     "output_type": "display_data"
    },
    {
     "data": {
      "text/html": [
       "<div class=\"item_container\" style=\"height: auto; overflow: hidden; border: 1px solid #cfcfcf; border-radius: 2px; background: #f6fafa; line-height: 1.21429em; padding: 10px;\">\n",
       "                    <div class=\"item_left\" style=\"width: 210px; float: left;\">\n",
       "                       <a href='http://www.arcgis.com/home/item.html?id=5139b7fccca347599094cc549d31f8ab' target='_blank'>\n",
       "                        <img src='http://www.arcgis.com/sharing/rest//content/items/5139b7fccca347599094cc549d31f8ab/info/thumbnail/ago_downloaded.png' class=\"itemThumbnail\">\n",
       "                       </a>\n",
       "                    </div>\n",
       "\n",
       "                    <div class=\"item_right\"     style=\"float: none; width: auto; overflow: hidden;\">\n",
       "                        <a href='http://www.arcgis.com/home/item.html?id=5139b7fccca347599094cc549d31f8ab' target='_blank'><b>Sogamoso - Yopal</b>\n",
       "                        </a>\n",
       "                        <br/>Ruta e indicaciones para Sogamoso - Yopal<img src='http://www.arcgis.com/home/js/jsapi/esri/css/images/item_type_icons/features16.png' style=\"vertical-align:middle;\">Feature Collection by SIG.PUBLICA\n",
       "                        <br/>Last Modified: febrero 23, 2017\n",
       "                        <br/>0 comments, 222 views\n",
       "                    </div>\n",
       "                </div>\n",
       "                "
      ],
      "text/plain": [
       "<Item title:\"Sogamoso - Yopal\" type:Feature Collection owner:SIG.PUBLICA>"
      ]
     },
     "metadata": {},
     "output_type": "display_data"
    },
    {
     "data": {
      "text/html": [
       "<div class=\"item_container\" style=\"height: auto; overflow: hidden; border: 1px solid #cfcfcf; border-radius: 2px; background: #f6fafa; line-height: 1.21429em; padding: 10px;\">\n",
       "                    <div class=\"item_left\" style=\"width: 210px; float: left;\">\n",
       "                       <a href='http://www.arcgis.com/home/item.html?id=a7489755cf004e758eea4dfabf9d6ecb' target='_blank'>\n",
       "                        <img src='http://static.arcgis.com/images/desktopapp.png' class=\"itemThumbnail\">\n",
       "                       </a>\n",
       "                    </div>\n",
       "\n",
       "                    <div class=\"item_right\"     style=\"float: none; width: auto; overflow: hidden;\">\n",
       "                        <a href='http://www.arcgis.com/home/item.html?id=a7489755cf004e758eea4dfabf9d6ecb' target='_blank'><b>POMCA SOGAMOSO</b>\n",
       "                        </a>\n",
       "                        <br/><img src='http://www.arcgis.com/home/js/jsapi/esri/css/images/item_type_icons/layers16.png' style=\"vertical-align:middle;\">Web Mapping Application by ctorion\n",
       "                        <br/>Last Modified: septiembre 15, 2015\n",
       "                        <br/>0 comments, 216 views\n",
       "                    </div>\n",
       "                </div>\n",
       "                "
      ],
      "text/plain": [
       "<Item title:\"POMCA SOGAMOSO\" type:Web Mapping Application owner:ctorion>"
      ]
     },
     "metadata": {},
     "output_type": "display_data"
    },
    {
     "data": {
      "text/html": [
       "<div class=\"item_container\" style=\"height: auto; overflow: hidden; border: 1px solid #cfcfcf; border-radius: 2px; background: #f6fafa; line-height: 1.21429em; padding: 10px;\">\n",
       "                    <div class=\"item_left\" style=\"width: 210px; float: left;\">\n",
       "                       <a href='http://www.arcgis.com/home/item.html?id=ade3969b5ab6477bbd419eaa0981f52c' target='_blank'>\n",
       "                        <img src='http://www.arcgis.com/sharing/rest//content/items/ade3969b5ab6477bbd419eaa0981f52c/info/thumbnail/ago_downloaded.png' class=\"itemThumbnail\">\n",
       "                       </a>\n",
       "                    </div>\n",
       "\n",
       "                    <div class=\"item_right\"     style=\"float: none; width: auto; overflow: hidden;\">\n",
       "                        <a href='http://www.arcgis.com/home/item.html?id=ade3969b5ab6477bbd419eaa0981f52c' target='_blank'><b>Mapa Sogamoso</b>\n",
       "                        </a>\n",
       "                        <br/><img src='http://www.arcgis.com/home/js/jsapi/esri/css/images/item_type_icons/maps16.png' style=\"vertical-align:middle;\">Web Map by u1101101\n",
       "                        <br/>Last Modified: abril 08, 2013\n",
       "                        <br/>0 comments, 163 views\n",
       "                    </div>\n",
       "                </div>\n",
       "                "
      ],
      "text/plain": [
       "<Item title:\"Mapa Sogamoso\" type:Web Map owner:u1101101>"
      ]
     },
     "metadata": {},
     "output_type": "display_data"
    },
    {
     "data": {
      "text/html": [
       "<div class=\"item_container\" style=\"height: auto; overflow: hidden; border: 1px solid #cfcfcf; border-radius: 2px; background: #f6fafa; line-height: 1.21429em; padding: 10px;\">\n",
       "                    <div class=\"item_left\" style=\"width: 210px; float: left;\">\n",
       "                       <a href='http://www.arcgis.com/home/item.html?id=8cb639b298084997af5e9b801bbc9fca' target='_blank'>\n",
       "                        <img src='http://www.arcgis.com/sharing/rest//content/items/8cb639b298084997af5e9b801bbc9fca/info/thumbnail/ago_downloaded.png' class=\"itemThumbnail\">\n",
       "                       </a>\n",
       "                    </div>\n",
       "\n",
       "                    <div class=\"item_right\"     style=\"float: none; width: auto; overflow: hidden;\">\n",
       "                        <a href='http://www.arcgis.com/home/item.html?id=8cb639b298084997af5e9b801bbc9fca' target='_blank'><b>UB_Tutazá</b>\n",
       "                        </a>\n",
       "                        <br/>Info.<img src='http://www.arcgis.com/home/js/jsapi/esri/css/images/item_type_icons/maps16.png' style=\"vertical-align:middle;\">Web Map by UB_christian\n",
       "                        <br/>Last Modified: agosto 16, 2012\n",
       "                        <br/>0 comments, 124 views\n",
       "                    </div>\n",
       "                </div>\n",
       "                "
      ],
      "text/plain": [
       "<Item title:\"UB_Tutazá\" type:Web Map owner:UB_christian>"
      ]
     },
     "metadata": {},
     "output_type": "display_data"
    }
   ],
   "source": [
    "items = gis.content.search(\"sogamoso\")\n",
    "\n",
    "for item in items:\n",
    "    display(item)"
   ]
  },
  {
   "cell_type": "code",
   "execution_count": null,
   "metadata": {
    "collapsed": true
   },
   "outputs": [],
   "source": []
  }
 ],
 "metadata": {
  "kernelspec": {
   "display_name": "Python 3",
   "language": "python",
   "name": "python3"
  },
  "language_info": {
   "codemirror_mode": {
    "name": "ipython",
    "version": 3
   },
   "file_extension": ".py",
   "mimetype": "text/x-python",
   "name": "python",
   "nbconvert_exporter": "python",
   "pygments_lexer": "ipython3",
   "version": "3.6.1"
  }
 },
 "nbformat": 4,
 "nbformat_minor": 2
}
