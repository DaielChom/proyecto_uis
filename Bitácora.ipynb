{
 "cells": [
  {
   "cell_type": "markdown",
   "metadata": {},
   "source": [
    "# Bitácora\n",
    "En este notebook se llevará un control de las reuniones, tareas, y desiciones tomadas para el proyecto de grado\n",
    "\n",
    "#### Reunión 25-08-2017:\n",
    "Se planea realizar el proyecto de grado con el profesor raul ramos pollan, por ende se habla con él y se le solicita una reunión, para hablar de la metodologia de trabajo, tarea a hacer y dataset a manejar. para dicha reunion se lleva una lista de datset de kaggle que podrian parecer interesantes, de dicha lista, la cual contenia en su mayoria tareas con imagenes de distitno tipo. De la conversacion con el profesor y buscando un proyecto que se pueda \"vender\" se limita el proyecto a imagenes satelitales, la tarea aun falta por definir pero se define una frontera de trabajo. La idea seria trabjar en ciudades aprovechando el bum de las \"smart citys\" o hacer alguna tarea de deteccion de cambios en dichas imagenes satelitales, pues el profe en algun momento reailzo una visita a un empresa de vigilancia de una frontera, en donde manualmente detectaban cambios o comporamientos extraños en la misma.\n",
    "\n",
    "Por ende mi primera tarea es encontrar un dataset intersante o una tarea teniendo en cuenta las condiciones anteriores, si no se encuentra un dataset, pero si una tarea, las imagens podrian ser tomadas de google.\n",
    "\n",
    "Entonces, se comienza con varias busquedas de google haciendo combinaciónes de las palabras `machine learning`, `task`, `satellite images`, `smart citys`, `greenpeace`, obviamente combinaciones logicas, y lo de greenpeace es por una idea de [Yurs](https://github.com/Yursksf1) cuando le comenté del proyecto de grado.\n",
    "\n",
    "Bueno he aqui una \"pequeña\" lista de paginas donde puedo encontrar datasets o tareas. A esta lista hay que hacerle despues un filtrado, pues seria muy paila llegarle a raul con un monton de paginas sin ninguna justifiacion y que el elija.\n",
    "\n",
    "\n",
    "Paginas|Ideas Tomadas|Paginas|Ideas Tomadas | Paginas | Ideas Tomadas |\n",
    "-|-\n",
    "[Consulta 01](http://www.digitalglobe.com/)|Gran pagina para obtener los datasets <br/>Detectar construcciones ilegales <br/> Identificar Construciones <br/> identificar areas urbanas <br/> identificar zonas forestales <br/> identificar arboles <br/> identificar crecimiento o disminucion de las areas urbanas y forestales <br/> medir crecimiento poblacional <br/> deteccion de carreteras para hacer guias <br/>la creacion de mapas <br/> tareas en ayuda al plan de ordenamiento terriotorrial <br/>  crear modelos de densidad de poblacion <br/> detectar accidentes <br/> deteccion de cambios en infrastructura <br/> carretera <br/> trafico <br/> identificiar carreteras dañadas <br/> identificar desastres naturales o los daños realizados antes y depsues de una guerra o una catastrofe <br/> medir la riqueza en una zona <br/> identifcar cosas <br/> vehiculos, aviones, edificiaciones <br/> identificar cosas especificas <br/> identificar incendios <br/> mineria ilegal <br/> enbarcaciones <br/> identificar ejercitos <br/> detectar casadores furtivos | [Consulta 02](https://www.ngs.noaa.gov/RSD/shoredata/NGS_Shoreline_Products.htm) | Nada | [Consulta 03](https://archive.ics.uci.edu/ml/datasets/Statlog+(Landsat+Satellite)| Clasificar tipo de tierra <br/> casificar cultivos |\n",
    "[Consulta 04](https://storms.ngs.noaa.gov/) | Detectar desastres naturales <br/> predecirlos <br/> detectar cambios| [Consulta 05](https://coast.noaa.gov/dataviewer/#/lidar/search/where:projectid=25/details/6246)|Fuente de Imagenes | [Consulta 06](http://mundogeo.com/blog/2000/01/01/imagenes-satelitales-de-alta-resolucion/) |Degradacion de los suelos <br/> estado de las cocechas <br/> volumen de la cocecha <br/> medir desperdicioes <br/> medir zonas acuiferas <br/> fertiliozantes<br/> hervisidas  <br/> estado de conservacion de edificaciones <br/>  uso de la tierra <br/> distribucion y extension de los campos verdes <br/> gestion de flotas <br/> logistica de distribucion <br/> planemiato, desarrollo y monitoreo de recuross naturales <br/> seguimientos de fenomenos de erocion, deforestacion, lluvia acidaderrames de crudo <br/> y medir los daños a largo plazo <br/> Inundaciones <br/> incendios terremotos <br/> tomrmentas <br/> medir la contaminacion <br/> manejo de bosques\n",
    "[Consulta 07](http://www.intelligence-airbusds.com/satellite-image-gallery/) |Detetar edifiaciones especificas, estadios, hospitales, etc <br/> identifica aviones no necesarimente en aeropuertos <br/> | [Consulta 08](http://www.dgi.inpe.br/CDSR/)|Sacar Datos| [Consulta 09](https://platform.digitalglobe.com/gbdx/data-sets/)|Deteccion de cambios| \n",
    "[Consulta 10](https://earthexplorer.usgs.gov/) |Fuente| [Consulta 11](https://www.kaggle.com/c/draper-satellite-image-chronology) |Dataset de deteccion de cambios| [Consulta 12](https://sourceforge.net/projects/oirds/)|Dataset Overhead Imagery |\n",
    "[Consulta 13](http://mapir.isa.uma.es/varevalo/drafts/ambrosio2003cis.pdf) |Deteccion de Cambios| [Consulta 14](http://mapir.isa.uma.es/varevalo/drafts/ambrosio2006dsi.pdf) |Deteccion de sombras| [Consulta 15](http://www.aet.org.es/congresos/xiii/cal138.pdf) |Deteccion de cambios en zonas urbanas| \n",
    "[Consulta 16](http://repositorio.upct.es/bitstream/handle/10317/178/pfc2452.pdf?sequence=1) | Deteccion de areas urbanas | [Consulta 17](http://www.aet.org.es/congresos/xiii/cal138.pdf) |Nada| [Consulta 18](https://upcommons.upc.edu/bitstream/handle/2099/3148/12-ruiz.pdf) |deteccion de cambios y tipo de cambios nuevas zonas urbanas, descenso de zonas verdes, etc|\n",
    "[Consulta 19](http://www.esa.int/SPECIALS/Eduspace_ES/SEMGV7E3GXF_0.html) |Encuentro de rutas obtimas para navios| [Consulta 20](https://learn.arcgis.com/es/arcgis-imagery-book/chapter4/) | deteccion de manadas y su migracion | [Consulta 21](http://www.iirsa.org/admin_iirsa_web/Uploads/Documents/grd_lima16_anexo19_Estrada_Evaluaci%C3%B3nDa%C3%B1osPorSismos.pdf) |Deteccion de daños viales y estructurales\n",
    "[Consulta 22](http://www.scielo.org.ar/scielo.php?script=sci_arttext&pid=S1852-42652014000200002) | Analizis de densidades urbanas | [Consulta 23](http://www.celfosc.org/biblio/general/zamorano-sanchez-ocana-castano2013.pdf) | Detectar La contaminacion Luminica | [Consulta 24](http://www2.famaf.unc.edu.ar/institucional/biblioteca/trabajos/638/17035.pdf) | Nada \n",
    "[Consulta 25](http://eprints.ucm.es/31423/1/TFM_Juan_Diaz_Cervignon.pdf) | Deteccion de indices de vegetavcion, tipos de cultivos, uso de tierras | [Consulta 26](https://chapingo.mx/revistas/revistas/articulos/doc/r.rchscfa.2010.04.020.pdf) | Detectar cambios en el uso del suelo urbano | [Consulta 27](http://www.tomnod.com/) | Detectar ganado |\n",
    "[Consulta 28](https://devblogs.nvidia.com/parallelforall/exploring-spacenet-dataset-using-digits/) | Detectar Construcciones | [Consulta 29](https://www.kaggle.com/c/noaa-right-whale-recognition)| Detectar ballenas, cazadores furtivos, cosas greenpeace | [Consulta 30](https://www.kaggle.com/c/dstl-satellite-imagery-feature-detection/data)| Detectar y clasificar los varios objetos |\n",
    "[Consulta 31](http://explore.digitalglobe.com/spacenet) | Nada | [Consulta 32](https://www.kaggle.com/c/draper-satellite-image-chronology) | Ya esta por ahi | [Consulta 33](https://repositorio.espe.edu.ec/bitstream/21000/5114/2/T-ESPE-033066-A.pdf) |Deteccion de uso de la tierra|\n",
    "[Consulta 34](https://www.esa.int/SPECIALS/Eduspace_Global_ES/SEMU8YFWNZF_0.html) |Detectar el tipo de terreno| [Consulta 35](http://revistas.udistrital.edu.co/ojs/index.php/colfor/article/view/3306/4808) |Cambios en alguna cuidad colombiana| [Consulta 36](https://www.skywatch.co/) | Datasets|\n",
    "[Consulta 37](http://amsantac.co/blog/es/2016/12/11/skywatch-r-es.html) |Como usar Skywatch| [Consulta 38](https://datos.minem.gob.ar/dataset/deteccion-satelital-de-venteos) |tambein cosas como casadores de ballenas o cosas asi| [Consulta 39](https://aws.amazon.com/es/public-datasets/) |Dataset|\n",
    "[Consulta 40](https://theoutline.com/post/131/on-camera-forever) |nada| [Consulta 41](https://www.descarteslabs.com/) |DataSet| [Consulta 42](https://github.com/nealjean/predicting-poverty) |Deteccion o medicion de pobreza|\n",
    "[Consulta 43](http://sustain.stanford.edu/predicting-poverty/) |Deteccion de la pobreza mediante la cantidad de luz usada| [Consulta 44](https://www.techemergence.com/ai-applications-for-satellite-imagery-and-data/) |Nada| [Consulta 45](https://medium.com/planet-stories/quantifying-ports-with-planet-labs-data-13bc5782d867) |Detectar navios|\n",
    "[Consulta 46](http://www.harrisgeospatial.com/Marketplace/LandingPages/SatelliteImagery.aspx?utm_source=google&utm_medium=ppc&utm_campaign=satellitegeneraluscanada) |Nada| [Consulta 47](https://www.gislounge.com/using-machine-learning-satellite-imagery-estimate-corn-crop-production/) |cantidad de arroz o ganado en colombia, estimar un cultivo a nivel nacional o regional| [Consulta 48](http://blogs.worldbank.org/jobs/can-new-developments-machine-learning-and-satellite-imagery-be-used-estimate-jobs) |medir la pobrza dependiendo de las construcciones, edificios, autos y otras actividades economicas, tipos de tejado, |\n",
    "[Consulta 49](https://www.theverge.com/2016/8/4/12369494/descartes-artificial-intelligence-crop-predictions-usda) | Rendimiento de los cultivos| [Consulta 50](https://qz.com/762502/satellite-images-predict-poverty-machine-learning-artificial-intelligence/ ) |usar mapas de luces| [Consulta 51](https://spectrum.ieee.org/tech-talk/aerospace/satellites/fighting-poverty-with-satellite-data-and-machine-learning-wizardry) |Luces|\n",
    "[Consulta 52](http://scioteca.caf.com/bitstream/handle/123456789/975/Duque%2C%20Patino%20%26%20Betancourt%20%282016%29.pdf?sequence=1&isAllowed=y) |Acentamientos urbanos informales| [Consulta 53](http://imco.org.mx/wp-content/uploads/2017/01/2017-MAGDA-Presentacion.pdf) |luces y pobreza| [Consulta 54](https://www.forbes.com/sites/truebridge/2016/05/06/how-imaging-technologies-are-changing-the-world-part-1/#56688cac3476) |trafico, en parqueaderos|\n",
    "[Consulta 55](https://www.google.com/url?sa=t&rct=j&q=&esrc=s&source=web&cd=17&cad=rja&uact=8&ved=0ahUKEwjy98HD9YfWAhVCLyYKHamHDTEQFghyMBA&url=http%3A%2F%2Fwww.mdpi.com%2F2072-4292%2F8%2F10%2F792%2Fpdf&usg=AFQjCNG_siXhtGxZ4ShThKDNGZq3AAjupw ) |Indicios de terremotos o tsunamis| [Consulta 56](http://fortune.com/2016/03/30/facebook-ai-satellite-imagery/ ) |detectar varios tipos de vehiculos.| [Consulta 57](http://giswin.geo.tsukuba.ac.jp/sis/tutorial/Machine_learning%20_in_geoscience.pdf) |Nada|\n",
    "[Consulta 58](http://news.stanford.edu/2016/08/18/combining-satellite-data-machine-learning-to-map-poverty/) |pobreza| [Consulta 59](https://www.researchgate.net/publication/282914394_Road_Damage_Detection_From_High_Resolution_Satellite_Images_Based_on_Machine_Learning ) |daños a carreteras| [Consulta 60](https://medium.com/@xander80/identifying-buildings-in-satellite-images-with-machine-learning-and-quilt-5a5579670885) |construciones, construccionees arqueolgicas|\n",
    "[Consulta 61](http://www.krisweb.com/biblio/gen_usfs_cdf_levienet_al_changescene.pdf) |cambios|[Consulta 62](http://www.acgeospatial.co.uk/blog/machine-learning-landsat-sentinel-data/ ) |Nada| [Consulta 63](https://platform.digitalglobe.com/decreasing-costs-pipeline-monitoring-geospatial-big-data/) |Carreteras|\n",
    "[Consulta 64](https://www.hindawi.com/journals/mpe/2015/482923/) |Emergencias| [Consulta 65](https://geographicdatascience.com/2017/05/10/plos-one-paper-using-satellite-images-and-machine-learning-to-predict-deprivation/ ) |cosas en los refugios naturales| [Consulta 66](https://www.scirp.org/Journal/PaperInformation.aspx?PaperID=52284) |Cambios en la vegetacion|\n",
    "[Consulta 67](https://www.kaggle.com/c/planet-understanding-the-amazon-from-space) |Dataset del Amazonas| [Consulta 68](https://medium.com/the-mission/smart-cities-and-image-recognition-c717bf683fd5 ) |Nada| [Consulta 69](https://www.fastcompany.com/1686865/after-greenpeace-action-burger-king-stops-greasing-palms-sinar-mas) |cantidad de arboles talados para hacer una construccion|\n",
    "[Consulta 70](https://blog.deepsense.ai/deep-learning-for-satellite-imagery-via-image-segmentation/ ) |datectar objetos| [Consulta 71](https://arxiv.org/pdf/1704.02965.pdf ) |patrones urbanos| [Consulta 72](https://platform.digitalglobe.com/gbdx-poolnet-identifying-pools-satellite-imagery/ ) |Detectar casas con piscina| \n",
    "[Consulta 73](https://platform.digitalglobe.com/blog/) |nada| [Consulta 74](https://platform.digitalglobe.com/gbdx/ ) |nada| [Consulta 75](https://platform.digitalglobe.com/maps-api/) |nada|\n",
    "[Consulta 76](https://software.intel.com/en-us/blogs/2017/08/19/disaster-relief-using-satellite-imagery-and-machine-learning) |Desastres| [Consulta 77](https://github.com/treigerm/WaterNet) |Dtectar zonas con agua, iinclsuo medir que tanto han desendido los cuepos acuferos en colombia.| [Consulta 78](http://www.futurity.org/machine-learning-poverty-1111072/ ) |Pobreza|\n",
    "[Consulta 79](http://skylabanalytics.com/ ) |detectar grupos terroristas o armas| [Consulta 80](https://www.cs.toronto.edu/~vmnih/docs/road_detection.pdf) |Carreteras| [Consulta 81](https://www.gislounge.com/using-machine-learning-map-poverty-satellite-imagery/ ) |Pobreza|\n",
    "[Consulta 82](https://motherboard.vice.com/en_us/article/bmvawm/techie-artists-used-machine-learning-to-turn-hand-drawn-sketches-into-city-maps ) |Apartir de arte hacen mapas| [Consulta 83](http://deepcore.io/2017/06/06/Metis_Project.html) |Tipos de barrios| [Consulta 84](https://arxiv.org/abs/1702.07985 ) | diastribucion poblacional|\n",
    "[Consulta 85](https://www.ncbi.nlm.nih.gov/pmc/articles/PMC5492153/) |Clasificacion de cultivos|[Consulta 86](https://github.com/agarwalt/satimage ) |Pobreza| [Consulta 87](https://learn.arcgis.com/es/projects/assess-burn-scars-with-satellite-imagery/) |Guella de Incendios|\n",
    "[Consulta 88](http://edition.cnn.com/2017/08/31/us/harvey-satellite-images-texas-before-after/index.html) |antes y despues de un deastre| [Consulta 89](https://woodshole.er.usgs.gov/project-pages/glacier_studies/ ) |la disminucino de los glaciares|\n",
    "\n",
    "**Idea sueltas:** \n",
    "* Podria ser una tarea para medir el descenso de los polos, el aumento de la marea, el desenso de las zonas con bosqes, etc.\n",
    "* detectar algun obejto especifico. invernaderos por ejemplo. \n",
    "* teledeteccion arqueologica.\n",
    "* cuestiones de agricultura, como semdradios, uso de algun elemento en especial, etc. como la lixiviacion por nitratos.\n",
    "* encontrar cosas raras en parques naturales\n",
    "* cultivos ilicitos\n",
    "* detectar acentamientos indigenas\n",
    "* mineria\n",
    "* migracion\n",
    "* incendios\n",
    "* detectar cambio y tratar de predecir que tipo de cambio es entre los cuales crecciimiento poblacional, desastres, maritimos tambien, etc.\n",
    "\n"
   ]
  },
  {
   "cell_type": "markdown",
   "metadata": {
    "collapsed": true
   },
   "source": [
    "**Ideas Concretas:**\n",
    "* Medir, calcular o estimar el nivel de pobreza de una zona mediante el analisis de distintos factores en el entorno de dicha zona, como por ejemplo la cantidad de luz artificial en mapas nocturnos, el material de los tejados, el tipo de construccion de las viviendas y contrucciones aledañas como parques o edificios, piscinas, entre otros.\n",
    "* Detectar y clasificar distintos objetos en paisajes rurales o de ciudad, como construcciones, medios de transporte, areas urbanas, zonas verdes, zonas forestales, carreteras o algun tipo de edificacion especifica.\n",
    "* Detectar y clasificar cambios en los paisajes ya sean rurales o de ciudad, cambios en el crecimiento o disminucion del nivcel de poblacion o de las zonas forestales, cambios debido a desatres naturales, o actividades furtivas. Cambios debido a la erocion o deterioro de zonas y edificacion como carreteras, edificios y demas.\n",
    "* Estudio del trafico\n",
    "* Deteccion y clasificacion de cultivos, tipos de cultivos y uso de tierras.\n",
    "* Detectar y clasificar los cambios de cuerpos de agua de alguna zona en especifico.\n",
    "* Estudio de cultivos, estado de las cocechas, volumnes de produccion, etc.\n",
    "* Detectar, clasificar o predecir las concecuencias de actividades furtivas, accidente o desastrez que atenten contra el medio ambiente.\n",
    "* Deteccion de sombras.\n",
    "* Deteccion y clasificacion de actividades de ganaderia (piscincultura, porcineria, etc).\n",
    "* Medir los niveles de contaminacion luminica.\n",
    "* Deteccion de patrones urbanos\n",
    "* Cambios en los polos, aumento de la marea.\n",
    "* Estudio de la mineria, ilisita, legal, a cielo abierto, etc.\n",
    "\n",
    "Con esto queda una lista de posibles tareas a realizar, queda esperar a la reunion con raul para ver que dice."
   ]
  }
 ],
 "metadata": {
  "kernelspec": {
   "display_name": "Python 3",
   "language": "python",
   "name": "python3"
  },
  "language_info": {
   "codemirror_mode": {
    "name": "ipython",
    "version": 3
   },
   "file_extension": ".py",
   "mimetype": "text/x-python",
   "name": "python",
   "nbconvert_exporter": "python",
   "pygments_lexer": "ipython3",
   "version": "3.6.1"
  }
 },
 "nbformat": 4,
 "nbformat_minor": 2
}
